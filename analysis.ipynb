{
 "cells": [
  {
   "cell_type": "markdown",
   "metadata": {},
   "source": [
    "# Outages\n",
    "**Name(s)**: Bill Wang, Ethan Cao\n",
    "\n",
    "**Website Link**: https://billwang04.github.io/us_state_power_outage/"
   ]
  },
  {
   "cell_type": "markdown",
   "metadata": {},
   "source": [
    "## Code"
   ]
  },
  {
   "cell_type": "markdown",
   "metadata": {},
   "source": [
    "### Question\n",
    "1. Out of Nerc Regions/ **States** , what are the most likely to have the worst outages, what are the causes.\n",
    "2. UniVariant: \n",
    "3. BiVariant: "
   ]
  },
  {
   "cell_type": "code",
   "execution_count": 1,
   "metadata": {
    "ExecuteTime": {
     "end_time": "2019-10-31T23:36:28.652554Z",
     "start_time": "2019-10-31T23:36:27.180520Z"
    }
   },
   "outputs": [],
   "source": [
    "import pandas as pd\n",
    "import numpy as np\n",
    "import os\n",
    "\n",
    "\n",
    "import plotly.express as px\n",
    "pd.options.plotting.backend = 'plotly'"
   ]
  },
  {
   "cell_type": "markdown",
   "metadata": {},
   "source": [
    "First we load in the data from the excel file and combine the time and date columns"
   ]
  },
  {
   "cell_type": "markdown",
   "metadata": {},
   "source": [
    "### Cleaning and EDA"
   ]
  },
  {
   "cell_type": "code",
   "execution_count": 2,
   "metadata": {},
   "outputs": [],
   "source": [
    "def combine_times(date_col_name, time_col_name, new_col_name, df):\n",
    "    df = df.copy()\n",
    "    df[new_col_name] = df[date_col_name] + pd.to_timedelta(df[time_col_name].astype(str))\n",
    "    return df"
   ]
  },
  {
   "cell_type": "code",
   "execution_count": 3,
   "metadata": {},
   "outputs": [],
   "source": [
    "data = pd.read_excel(\"outage.xlsx\", skiprows=[0,1,2,3,4,6], index_col=1).iloc[:,1:]\n",
    "data = combine_times(\"OUTAGE.START.DATE\", 'OUTAGE.START.TIME', 'OUTAGE.START.DATETIME', data)\n",
    "data = combine_times(\"OUTAGE.RESTORATION.DATE\", \"OUTAGE.RESTORATION.TIME\", \"OUTAGE.RESTORATION.DATETIME\", data)"
   ]
  },
  {
   "cell_type": "code",
   "execution_count": 4,
   "metadata": {},
   "outputs": [
    {
     "data": {
      "text/plain": [
       "Index(['YEAR', 'MONTH', 'U.S._STATE', 'POSTAL.CODE', 'NERC.REGION',\n",
       "       'CLIMATE.REGION', 'ANOMALY.LEVEL', 'CLIMATE.CATEGORY',\n",
       "       'OUTAGE.START.DATE', 'OUTAGE.START.TIME', 'OUTAGE.RESTORATION.DATE',\n",
       "       'OUTAGE.RESTORATION.TIME', 'CAUSE.CATEGORY', 'CAUSE.CATEGORY.DETAIL',\n",
       "       'HURRICANE.NAMES', 'OUTAGE.DURATION', 'DEMAND.LOSS.MW',\n",
       "       'CUSTOMERS.AFFECTED', 'RES.PRICE', 'COM.PRICE', 'IND.PRICE',\n",
       "       'TOTAL.PRICE', 'RES.SALES', 'COM.SALES', 'IND.SALES', 'TOTAL.SALES',\n",
       "       'RES.PERCEN', 'COM.PERCEN', 'IND.PERCEN', 'RES.CUSTOMERS',\n",
       "       'COM.CUSTOMERS', 'IND.CUSTOMERS', 'TOTAL.CUSTOMERS', 'RES.CUST.PCT',\n",
       "       'COM.CUST.PCT', 'IND.CUST.PCT', 'PC.REALGSP.STATE', 'PC.REALGSP.USA',\n",
       "       'PC.REALGSP.REL', 'PC.REALGSP.CHANGE', 'UTIL.REALGSP', 'TOTAL.REALGSP',\n",
       "       'UTIL.CONTRI', 'PI.UTIL.OFUSA', 'POPULATION', 'POPPCT_URBAN',\n",
       "       'POPPCT_UC', 'POPDEN_URBAN', 'POPDEN_UC', 'POPDEN_RURAL',\n",
       "       'AREAPCT_URBAN', 'AREAPCT_UC', 'PCT_LAND', 'PCT_WATER_TOT',\n",
       "       'PCT_WATER_INLAND', 'OUTAGE.START.DATETIME',\n",
       "       'OUTAGE.RESTORATION.DATETIME'],\n",
       "      dtype='object')"
      ]
     },
     "execution_count": 4,
     "metadata": {},
     "output_type": "execute_result"
    }
   ],
   "source": [
    "data.columns"
   ]
  },
  {
   "cell_type": "code",
   "execution_count": 5,
   "metadata": {},
   "outputs": [],
   "source": [
    "# data = data[['U.S._STATE',\"YEAR\",'CLIMATE.REGION', 'OUTAGE.START.DATETIME', 'OUTAGE.RESTORATION.DATETIME','CAUSE.CATEGORY', 'CAUSE.CATEGORY.DETAIL', 'CUSTOMERS.AFFECTED', 'OUTAGE.DURATION','DEMAND.LOSS.MW']]"
   ]
  },
  {
   "cell_type": "markdown",
   "metadata": {},
   "source": [
    "### UNIVARIANT GRAPH"
   ]
  },
  {
   "cell_type": "code",
   "execution_count": 6,
   "metadata": {},
   "outputs": [
    {
     "data": {
      "application/vnd.plotly.v1+json": {
       "config": {
        "plotlyServerURL": "https://plot.ly"
       },
       "data": [
        {
         "alignmentgroup": "True",
         "bingroup": "x",
         "hovertemplate": "variable=OUTAGE.DURATION<br>value=%{x}<br>count=%{y}<extra></extra>",
         "legendgroup": "OUTAGE.DURATION",
         "marker": {
          "color": "#636efa",
          "pattern": {
           "shape": ""
          }
         },
         "name": "OUTAGE.DURATION",
         "offsetgroup": "OUTAGE.DURATION",
         "orientation": "v",
         "showlegend": true,
         "type": "histogram",
         "x": [
          3060,
          1,
          3000,
          2550,
          1740,
          1860,
          2970,
          3960,
          155,
          3621,
          7740,
          8880,
          0,
          1322,
          60,
          19,
          0,
          21,
          196,
          840,
          935,
          1260,
          null,
          619,
          150,
          762,
          0,
          660,
          1,
          2700,
          1,
          4921,
          95,
          251,
          4125,
          2550,
          null,
          1200,
          310,
          2818,
          5054,
          136,
          528,
          150,
          46,
          1,
          1920,
          null,
          32,
          null,
          135,
          3000,
          32,
          108653,
          8468,
          960,
          44,
          1605,
          4410,
          388,
          480,
          1219,
          90,
          18660,
          538,
          104,
          60,
          1272,
          60,
          1,
          1000,
          17339,
          9576,
          3090,
          6510,
          5820,
          1078,
          1513,
          4830,
          3051,
          4200,
          2085,
          5730,
          4290,
          2670,
          3540,
          3637,
          1710,
          4320,
          3915,
          3120,
          4590,
          7530,
          5034,
          8160,
          3300,
          4320,
          1770,
          9857,
          4080,
          5670,
          5700,
          1995,
          300,
          5115,
          2670,
          7650,
          4338,
          761,
          5760,
          2820,
          4110,
          3360,
          3015,
          232,
          11525,
          6420,
          46080,
          5700,
          5610,
          78377,
          270,
          4050,
          5865,
          1,
          2325,
          4170,
          4485,
          2694,
          168,
          5580,
          705,
          11850,
          3494,
          4560,
          2760,
          5760,
          8922,
          6030,
          7800,
          4242,
          3120,
          5700,
          900,
          1046,
          7620,
          3630,
          1260,
          5840,
          5790,
          2820,
          600,
          4259,
          2939,
          7080,
          3600,
          1588,
          4260,
          2700,
          200,
          8430,
          85,
          9150,
          1019,
          420,
          1140,
          7440,
          4458,
          373,
          1203,
          868,
          1455,
          206,
          1195,
          1559,
          900,
          2690,
          5115,
          5,
          189,
          2142,
          360,
          null,
          225,
          2340,
          480,
          9486,
          480,
          3000,
          300,
          3020,
          766,
          null,
          1335,
          197,
          245,
          3255,
          12180,
          1077,
          600,
          186,
          690,
          27698,
          402,
          2420,
          327,
          1,
          1860,
          220,
          455,
          318,
          757,
          847,
          410,
          215,
          5,
          570,
          12124,
          2655,
          20160,
          1440,
          600,
          39,
          181,
          1185,
          1500,
          0,
          271,
          1860,
          1200,
          2159,
          6300,
          null,
          1620,
          224,
          70,
          1697,
          95,
          2220,
          null,
          7809,
          1200,
          121,
          63,
          5595,
          1,
          557,
          240,
          3360,
          685,
          2280,
          210,
          167,
          1920,
          3569,
          3300,
          10,
          1560,
          840,
          240,
          990,
          6000,
          17865,
          1282,
          1080,
          7540,
          1320,
          1110,
          27698,
          130,
          3040,
          394,
          10140,
          20160,
          21540,
          45,
          1,
          1200,
          550,
          900,
          885,
          940,
          null,
          3050,
          1830,
          6000,
          1500,
          150,
          1955,
          2220,
          330,
          74,
          420,
          1440,
          255,
          1060,
          12240,
          5250,
          4320,
          120,
          233,
          null,
          65,
          2120,
          96,
          3,
          4320,
          65,
          2146,
          96,
          4032,
          2580,
          6,
          569,
          0,
          15950,
          200,
          1980,
          4045,
          2730,
          3314,
          7319,
          1,
          47,
          1440,
          276,
          0,
          0,
          3646,
          1130,
          2880,
          513,
          35,
          23773,
          10,
          3872,
          23187,
          12240,
          390,
          null,
          3264,
          1230,
          803,
          77,
          30,
          300,
          1,
          5,
          1450,
          2680,
          null,
          7609,
          150,
          3000,
          420,
          479,
          1680,
          2700,
          149,
          1110,
          2790,
          659,
          1320,
          1830,
          3000,
          null,
          870,
          810,
          1336,
          1695,
          360,
          360,
          120,
          3000,
          1290,
          1530,
          2370,
          1200,
          1200,
          90,
          120,
          1200,
          2761,
          720,
          1120,
          2100,
          960,
          450,
          1440,
          1020,
          0,
          2010,
          120,
          9230,
          1240,
          465,
          0,
          2460,
          1183,
          8880,
          394,
          219,
          487,
          19,
          28,
          0,
          1,
          5340,
          8940,
          467,
          0,
          1920,
          0,
          25,
          420,
          2040,
          0,
          1,
          1423,
          60,
          1620,
          3300,
          385,
          663,
          123,
          1276,
          1919,
          null,
          440,
          6690,
          null,
          0,
          null,
          717,
          1204,
          292,
          313,
          1,
          5,
          6276,
          0,
          74,
          0,
          null,
          248,
          1,
          2700,
          25,
          126,
          1,
          255,
          1207,
          0,
          0,
          245,
          476,
          null,
          null,
          null,
          1,
          2639,
          502,
          548,
          369,
          6480,
          15,
          5,
          null,
          1,
          0,
          432,
          21,
          1697,
          0,
          2615,
          9630,
          3507,
          2820,
          314,
          5855,
          0,
          0,
          1,
          22769,
          70,
          4285,
          355,
          0,
          2520,
          0,
          180,
          554,
          50,
          70,
          180,
          3842,
          35,
          1,
          189,
          49320,
          4200,
          353,
          1,
          87,
          66,
          null,
          1,
          227,
          null,
          1440,
          1,
          2700,
          null,
          49320,
          2,
          215,
          451,
          418,
          100,
          2021,
          1671,
          3938,
          4470,
          2279,
          4440,
          2760,
          0,
          1,
          0,
          1,
          1840,
          428,
          331,
          1980,
          1,
          1,
          1950,
          3037,
          1,
          1,
          1196,
          5628,
          1440,
          7700,
          2,
          12890,
          4232,
          95,
          2610,
          4320,
          17,
          113,
          0,
          2507,
          0,
          1,
          4920,
          1,
          4080,
          0,
          960,
          185,
          1320,
          1673,
          2855,
          3060,
          565,
          1,
          1,
          7298,
          5790,
          3040,
          11700,
          7987,
          304,
          4517,
          0,
          3058,
          13381,
          2865,
          152,
          380,
          9450,
          7803,
          5579,
          8979,
          4800,
          3060,
          4792,
          3894,
          1757,
          2880,
          2985,
          164,
          3232,
          2319,
          4338,
          2880,
          1714,
          90,
          59,
          4139,
          10530,
          6938,
          930,
          278,
          299,
          5320,
          2880,
          1,
          4260,
          6713,
          5160,
          1440,
          78,
          7523,
          2668,
          1,
          376,
          1324,
          6940,
          2684,
          54,
          100,
          720,
          2880,
          3189,
          2790,
          13679,
          2843,
          13488,
          1642,
          7709,
          7080,
          1440,
          1,
          1680,
          1579,
          652,
          108,
          300,
          1020,
          3570,
          6492,
          23700,
          10499,
          15180,
          0,
          120,
          1,
          1,
          1,
          1,
          1,
          1,
          60,
          113,
          204,
          31,
          57,
          13,
          2,
          11,
          283,
          0,
          1,
          871,
          1631,
          56,
          15,
          15,
          20,
          60,
          1,
          95,
          300,
          1,
          3186,
          575,
          2275,
          15,
          1,
          44,
          21,
          1,
          114,
          1,
          60,
          4920,
          null,
          4920,
          420,
          0,
          7,
          21,
          340,
          4200,
          805,
          5040,
          7430,
          5490,
          165,
          3630,
          11640,
          1590,
          3137,
          1440,
          7920,
          360,
          0,
          1440,
          1372,
          6480,
          2190,
          285,
          75,
          1843,
          1,
          11531,
          1420,
          0,
          930,
          11420,
          0,
          352,
          0,
          960,
          1733,
          3690,
          10619,
          634,
          11280,
          1440,
          180,
          1574,
          45,
          563,
          388,
          373,
          4510,
          290,
          1950,
          270,
          1355,
          1318,
          2490,
          1265,
          195,
          3120,
          3388,
          1025,
          990,
          240,
          1485,
          129,
          0,
          1528,
          1890,
          2551,
          985,
          405,
          1698,
          167,
          1460,
          182,
          4113,
          null,
          885,
          15,
          42,
          1050,
          1,
          132,
          4140,
          2880,
          null,
          11430,
          3599,
          0,
          2941,
          null,
          6090,
          1365,
          375,
          2520,
          10080,
          76,
          0,
          3720,
          333,
          0,
          353,
          11337,
          0,
          0,
          7020,
          11058,
          null,
          9360,
          3300,
          3339,
          2880,
          11580,
          9600,
          13201,
          9719,
          488,
          2415,
          180,
          4177,
          7440,
          3480,
          6600,
          300,
          1526,
          60,
          210,
          2,
          1350,
          73,
          1,
          200,
          0,
          null,
          4380,
          0,
          120,
          2680,
          840,
          989,
          4313,
          214,
          4,
          164,
          91,
          1050,
          838,
          60,
          1,
          1,
          9886,
          2425,
          390,
          14500,
          6660,
          159,
          54,
          30,
          8077,
          855,
          65,
          810,
          4150,
          4740,
          25,
          0,
          null,
          2070,
          870,
          12652,
          2880,
          120,
          1199,
          null,
          1470,
          4140,
          15420,
          50,
          0,
          1,
          1,
          0,
          0,
          0,
          457,
          1,
          1,
          0,
          30,
          1,
          1,
          65,
          1,
          0,
          0,
          0,
          1,
          null,
          1,
          0,
          1,
          1,
          110,
          39,
          1,
          1,
          1,
          1,
          1,
          1,
          507,
          213,
          4254,
          1,
          1,
          53,
          0,
          0,
          251,
          347,
          1637,
          21360,
          2161,
          2880,
          1044,
          8670,
          56,
          93,
          13,
          2089,
          20280,
          14639,
          2880,
          681,
          494,
          1,
          5355,
          0,
          3943,
          3300,
          191,
          0,
          73,
          4680,
          17310,
          10080,
          10726,
          1,
          5,
          2515,
          25920,
          2730,
          9480,
          5400,
          30,
          3584,
          3600,
          5850,
          4710,
          1,
          1732,
          0,
          23040,
          1800,
          6074,
          null,
          49,
          2299,
          5760,
          420,
          7320,
          2880,
          448,
          2520,
          18717,
          5513,
          21,
          2100,
          3120,
          8221,
          3240,
          2880,
          255,
          2355,
          161,
          50,
          258,
          13140,
          8640,
          18240,
          15492,
          8268,
          0,
          300,
          14400,
          7962,
          2400,
          11296,
          48,
          60480,
          28170,
          300,
          8054,
          2775,
          2775,
          2160,
          2100,
          2775,
          3180,
          2775,
          1440,
          430,
          2129,
          1755,
          null,
          692,
          732,
          7,
          510,
          420,
          13215,
          557,
          300,
          17812,
          20416,
          6240,
          467,
          3067,
          3060,
          355,
          430,
          300,
          227,
          52,
          null,
          2880,
          18804,
          1867,
          1690,
          295,
          17,
          240,
          17520,
          8189,
          182,
          5820,
          83,
          230,
          2009,
          720,
          155,
          4320,
          4320,
          480,
          1005,
          221,
          372,
          13430,
          4320,
          91,
          1419,
          3600,
          10080,
          5071,
          152,
          6840,
          221,
          24780,
          38,
          61,
          7560,
          90,
          10380,
          396,
          2040,
          12060,
          1080,
          1680,
          13920,
          14101,
          1099,
          2460,
          540,
          52,
          816,
          420,
          155,
          437,
          247,
          540,
          1135,
          437,
          180,
          171,
          656,
          84,
          202,
          255,
          1054,
          1,
          1254,
          1456,
          177,
          106,
          32,
          2464,
          55,
          144,
          70,
          64,
          8873,
          945,
          null,
          523,
          56,
          3,
          8472,
          155,
          33,
          749,
          159,
          null,
          270,
          2790,
          224,
          1470,
          334,
          2050,
          370,
          26,
          797,
          12,
          195,
          1,
          230,
          125,
          15,
          316,
          365,
          1560,
          4740,
          294,
          455,
          2878,
          336,
          295,
          480,
          25,
          null,
          223,
          2645,
          2016,
          7371,
          360,
          3408,
          3698,
          4890,
          1,
          871,
          2759,
          250,
          3301,
          249,
          164,
          435,
          420,
          854,
          5160,
          133,
          15180,
          2055,
          451,
          140,
          199,
          721,
          179,
          1524,
          78,
          268,
          39,
          1,
          14190,
          47,
          161,
          900,
          6070,
          697,
          234,
          14,
          5910,
          null,
          34390,
          40,
          166,
          182,
          829,
          15,
          64,
          13,
          245,
          1080,
          null,
          390,
          47,
          269,
          null,
          400,
          660,
          213,
          null,
          761,
          8100,
          180,
          124,
          4320,
          2820,
          3100,
          49427,
          989,
          125,
          44,
          26,
          245,
          null,
          98,
          1,
          0,
          135,
          50,
          1008,
          53,
          554,
          1260,
          2895,
          89,
          98,
          865,
          128,
          230,
          252,
          130,
          5,
          157,
          6914,
          11,
          13,
          2880,
          270,
          962,
          47,
          null,
          20,
          108,
          9855,
          75,
          17,
          21,
          1950,
          11867,
          141,
          959,
          1035,
          617,
          1230,
          572,
          324,
          1835,
          6780,
          900,
          null,
          37,
          72,
          1,
          251,
          620,
          89,
          909,
          236,
          326,
          300,
          751,
          122,
          214,
          193,
          8,
          5227,
          null,
          1414,
          448,
          4605,
          4080,
          null,
          1914,
          759,
          1,
          10274,
          3,
          2700,
          105,
          240,
          210,
          1,
          1201,
          30,
          2806,
          1226,
          300,
          206,
          270,
          2880,
          513,
          8160,
          3314,
          414,
          126,
          60,
          285,
          110,
          62,
          2363,
          424,
          180,
          0,
          448,
          2,
          624,
          2435,
          131,
          null,
          208,
          103,
          1355,
          1523,
          90,
          1205,
          385,
          144,
          235,
          241,
          6787,
          1337,
          1673,
          3366,
          2640,
          1826,
          570,
          1565,
          2691,
          1072,
          115,
          816,
          168,
          30,
          160,
          485,
          1508,
          1301,
          159,
          60,
          4,
          9600,
          106,
          0,
          0,
          1,
          32,
          61,
          314,
          30,
          0,
          92,
          390,
          161,
          60,
          76,
          1,
          1,
          160,
          20,
          1,
          1,
          70,
          50,
          15,
          810,
          1380,
          1800,
          1560,
          2054,
          1452,
          1865,
          1999,
          120,
          1950,
          360,
          1087,
          1200,
          4122,
          360,
          645,
          108,
          0,
          1,
          1440,
          4560,
          1,
          1,
          110,
          210,
          120,
          0,
          4260,
          76,
          210,
          3305,
          5880,
          145,
          60,
          2640,
          1042,
          110,
          11880,
          2245,
          984,
          7200,
          1381,
          148,
          13972,
          null,
          796,
          300,
          null,
          2612,
          3000,
          431,
          5310,
          1732,
          0,
          6685,
          3300,
          280,
          117,
          2895,
          480,
          31,
          1,
          0,
          0,
          103,
          4745,
          307,
          1656,
          3525,
          374,
          1068,
          1569,
          114,
          115,
          15,
          2891,
          1,
          1676,
          0,
          0,
          3604,
          195,
          1,
          0,
          2108,
          198,
          3667,
          1037,
          673,
          null,
          2652,
          300,
          881,
          618,
          1187,
          950,
          2535,
          27,
          108,
          73,
          200,
          5,
          75,
          0,
          77,
          660,
          0,
          92,
          30,
          33,
          1895,
          274,
          1,
          1534,
          1,
          60,
          108,
          2,
          175,
          null,
          2040,
          2710,
          284,
          105,
          4019,
          1,
          391,
          439,
          5,
          201,
          2140,
          103,
          null,
          187,
          1406,
          348,
          13650,
          90,
          913,
          null,
          14040,
          1367,
          174,
          543,
          237,
          1906,
          224,
          0,
          95,
          360,
          1548,
          870,
          0,
          null,
          220,
          720,
          null,
          59,
          181,
          null
         ],
         "xaxis": "x",
         "yaxis": "y"
        }
       ],
       "layout": {
        "barmode": "relative",
        "legend": {
         "title": {
          "text": "variable"
         },
         "tracegroupgap": 0
        },
        "margin": {
         "t": 60
        },
        "showlegend": false,
        "template": {
         "data": {
          "bar": [
           {
            "error_x": {
             "color": "#2a3f5f"
            },
            "error_y": {
             "color": "#2a3f5f"
            },
            "marker": {
             "line": {
              "color": "#E5ECF6",
              "width": 0.5
             },
             "pattern": {
              "fillmode": "overlay",
              "size": 10,
              "solidity": 0.2
             }
            },
            "type": "bar"
           }
          ],
          "barpolar": [
           {
            "marker": {
             "line": {
              "color": "#E5ECF6",
              "width": 0.5
             },
             "pattern": {
              "fillmode": "overlay",
              "size": 10,
              "solidity": 0.2
             }
            },
            "type": "barpolar"
           }
          ],
          "carpet": [
           {
            "aaxis": {
             "endlinecolor": "#2a3f5f",
             "gridcolor": "white",
             "linecolor": "white",
             "minorgridcolor": "white",
             "startlinecolor": "#2a3f5f"
            },
            "baxis": {
             "endlinecolor": "#2a3f5f",
             "gridcolor": "white",
             "linecolor": "white",
             "minorgridcolor": "white",
             "startlinecolor": "#2a3f5f"
            },
            "type": "carpet"
           }
          ],
          "choropleth": [
           {
            "colorbar": {
             "outlinewidth": 0,
             "ticks": ""
            },
            "type": "choropleth"
           }
          ],
          "contour": [
           {
            "colorbar": {
             "outlinewidth": 0,
             "ticks": ""
            },
            "colorscale": [
             [
              0,
              "#0d0887"
             ],
             [
              0.1111111111111111,
              "#46039f"
             ],
             [
              0.2222222222222222,
              "#7201a8"
             ],
             [
              0.3333333333333333,
              "#9c179e"
             ],
             [
              0.4444444444444444,
              "#bd3786"
             ],
             [
              0.5555555555555556,
              "#d8576b"
             ],
             [
              0.6666666666666666,
              "#ed7953"
             ],
             [
              0.7777777777777778,
              "#fb9f3a"
             ],
             [
              0.8888888888888888,
              "#fdca26"
             ],
             [
              1,
              "#f0f921"
             ]
            ],
            "type": "contour"
           }
          ],
          "contourcarpet": [
           {
            "colorbar": {
             "outlinewidth": 0,
             "ticks": ""
            },
            "type": "contourcarpet"
           }
          ],
          "heatmap": [
           {
            "colorbar": {
             "outlinewidth": 0,
             "ticks": ""
            },
            "colorscale": [
             [
              0,
              "#0d0887"
             ],
             [
              0.1111111111111111,
              "#46039f"
             ],
             [
              0.2222222222222222,
              "#7201a8"
             ],
             [
              0.3333333333333333,
              "#9c179e"
             ],
             [
              0.4444444444444444,
              "#bd3786"
             ],
             [
              0.5555555555555556,
              "#d8576b"
             ],
             [
              0.6666666666666666,
              "#ed7953"
             ],
             [
              0.7777777777777778,
              "#fb9f3a"
             ],
             [
              0.8888888888888888,
              "#fdca26"
             ],
             [
              1,
              "#f0f921"
             ]
            ],
            "type": "heatmap"
           }
          ],
          "heatmapgl": [
           {
            "colorbar": {
             "outlinewidth": 0,
             "ticks": ""
            },
            "colorscale": [
             [
              0,
              "#0d0887"
             ],
             [
              0.1111111111111111,
              "#46039f"
             ],
             [
              0.2222222222222222,
              "#7201a8"
             ],
             [
              0.3333333333333333,
              "#9c179e"
             ],
             [
              0.4444444444444444,
              "#bd3786"
             ],
             [
              0.5555555555555556,
              "#d8576b"
             ],
             [
              0.6666666666666666,
              "#ed7953"
             ],
             [
              0.7777777777777778,
              "#fb9f3a"
             ],
             [
              0.8888888888888888,
              "#fdca26"
             ],
             [
              1,
              "#f0f921"
             ]
            ],
            "type": "heatmapgl"
           }
          ],
          "histogram": [
           {
            "marker": {
             "pattern": {
              "fillmode": "overlay",
              "size": 10,
              "solidity": 0.2
             }
            },
            "type": "histogram"
           }
          ],
          "histogram2d": [
           {
            "colorbar": {
             "outlinewidth": 0,
             "ticks": ""
            },
            "colorscale": [
             [
              0,
              "#0d0887"
             ],
             [
              0.1111111111111111,
              "#46039f"
             ],
             [
              0.2222222222222222,
              "#7201a8"
             ],
             [
              0.3333333333333333,
              "#9c179e"
             ],
             [
              0.4444444444444444,
              "#bd3786"
             ],
             [
              0.5555555555555556,
              "#d8576b"
             ],
             [
              0.6666666666666666,
              "#ed7953"
             ],
             [
              0.7777777777777778,
              "#fb9f3a"
             ],
             [
              0.8888888888888888,
              "#fdca26"
             ],
             [
              1,
              "#f0f921"
             ]
            ],
            "type": "histogram2d"
           }
          ],
          "histogram2dcontour": [
           {
            "colorbar": {
             "outlinewidth": 0,
             "ticks": ""
            },
            "colorscale": [
             [
              0,
              "#0d0887"
             ],
             [
              0.1111111111111111,
              "#46039f"
             ],
             [
              0.2222222222222222,
              "#7201a8"
             ],
             [
              0.3333333333333333,
              "#9c179e"
             ],
             [
              0.4444444444444444,
              "#bd3786"
             ],
             [
              0.5555555555555556,
              "#d8576b"
             ],
             [
              0.6666666666666666,
              "#ed7953"
             ],
             [
              0.7777777777777778,
              "#fb9f3a"
             ],
             [
              0.8888888888888888,
              "#fdca26"
             ],
             [
              1,
              "#f0f921"
             ]
            ],
            "type": "histogram2dcontour"
           }
          ],
          "mesh3d": [
           {
            "colorbar": {
             "outlinewidth": 0,
             "ticks": ""
            },
            "type": "mesh3d"
           }
          ],
          "parcoords": [
           {
            "line": {
             "colorbar": {
              "outlinewidth": 0,
              "ticks": ""
             }
            },
            "type": "parcoords"
           }
          ],
          "pie": [
           {
            "automargin": true,
            "type": "pie"
           }
          ],
          "scatter": [
           {
            "fillpattern": {
             "fillmode": "overlay",
             "size": 10,
             "solidity": 0.2
            },
            "type": "scatter"
           }
          ],
          "scatter3d": [
           {
            "line": {
             "colorbar": {
              "outlinewidth": 0,
              "ticks": ""
             }
            },
            "marker": {
             "colorbar": {
              "outlinewidth": 0,
              "ticks": ""
             }
            },
            "type": "scatter3d"
           }
          ],
          "scattercarpet": [
           {
            "marker": {
             "colorbar": {
              "outlinewidth": 0,
              "ticks": ""
             }
            },
            "type": "scattercarpet"
           }
          ],
          "scattergeo": [
           {
            "marker": {
             "colorbar": {
              "outlinewidth": 0,
              "ticks": ""
             }
            },
            "type": "scattergeo"
           }
          ],
          "scattergl": [
           {
            "marker": {
             "colorbar": {
              "outlinewidth": 0,
              "ticks": ""
             }
            },
            "type": "scattergl"
           }
          ],
          "scattermapbox": [
           {
            "marker": {
             "colorbar": {
              "outlinewidth": 0,
              "ticks": ""
             }
            },
            "type": "scattermapbox"
           }
          ],
          "scatterpolar": [
           {
            "marker": {
             "colorbar": {
              "outlinewidth": 0,
              "ticks": ""
             }
            },
            "type": "scatterpolar"
           }
          ],
          "scatterpolargl": [
           {
            "marker": {
             "colorbar": {
              "outlinewidth": 0,
              "ticks": ""
             }
            },
            "type": "scatterpolargl"
           }
          ],
          "scatterternary": [
           {
            "marker": {
             "colorbar": {
              "outlinewidth": 0,
              "ticks": ""
             }
            },
            "type": "scatterternary"
           }
          ],
          "surface": [
           {
            "colorbar": {
             "outlinewidth": 0,
             "ticks": ""
            },
            "colorscale": [
             [
              0,
              "#0d0887"
             ],
             [
              0.1111111111111111,
              "#46039f"
             ],
             [
              0.2222222222222222,
              "#7201a8"
             ],
             [
              0.3333333333333333,
              "#9c179e"
             ],
             [
              0.4444444444444444,
              "#bd3786"
             ],
             [
              0.5555555555555556,
              "#d8576b"
             ],
             [
              0.6666666666666666,
              "#ed7953"
             ],
             [
              0.7777777777777778,
              "#fb9f3a"
             ],
             [
              0.8888888888888888,
              "#fdca26"
             ],
             [
              1,
              "#f0f921"
             ]
            ],
            "type": "surface"
           }
          ],
          "table": [
           {
            "cells": {
             "fill": {
              "color": "#EBF0F8"
             },
             "line": {
              "color": "white"
             }
            },
            "header": {
             "fill": {
              "color": "#C8D4E3"
             },
             "line": {
              "color": "white"
             }
            },
            "type": "table"
           }
          ]
         },
         "layout": {
          "annotationdefaults": {
           "arrowcolor": "#2a3f5f",
           "arrowhead": 0,
           "arrowwidth": 1
          },
          "autotypenumbers": "strict",
          "coloraxis": {
           "colorbar": {
            "outlinewidth": 0,
            "ticks": ""
           }
          },
          "colorscale": {
           "diverging": [
            [
             0,
             "#8e0152"
            ],
            [
             0.1,
             "#c51b7d"
            ],
            [
             0.2,
             "#de77ae"
            ],
            [
             0.3,
             "#f1b6da"
            ],
            [
             0.4,
             "#fde0ef"
            ],
            [
             0.5,
             "#f7f7f7"
            ],
            [
             0.6,
             "#e6f5d0"
            ],
            [
             0.7,
             "#b8e186"
            ],
            [
             0.8,
             "#7fbc41"
            ],
            [
             0.9,
             "#4d9221"
            ],
            [
             1,
             "#276419"
            ]
           ],
           "sequential": [
            [
             0,
             "#0d0887"
            ],
            [
             0.1111111111111111,
             "#46039f"
            ],
            [
             0.2222222222222222,
             "#7201a8"
            ],
            [
             0.3333333333333333,
             "#9c179e"
            ],
            [
             0.4444444444444444,
             "#bd3786"
            ],
            [
             0.5555555555555556,
             "#d8576b"
            ],
            [
             0.6666666666666666,
             "#ed7953"
            ],
            [
             0.7777777777777778,
             "#fb9f3a"
            ],
            [
             0.8888888888888888,
             "#fdca26"
            ],
            [
             1,
             "#f0f921"
            ]
           ],
           "sequentialminus": [
            [
             0,
             "#0d0887"
            ],
            [
             0.1111111111111111,
             "#46039f"
            ],
            [
             0.2222222222222222,
             "#7201a8"
            ],
            [
             0.3333333333333333,
             "#9c179e"
            ],
            [
             0.4444444444444444,
             "#bd3786"
            ],
            [
             0.5555555555555556,
             "#d8576b"
            ],
            [
             0.6666666666666666,
             "#ed7953"
            ],
            [
             0.7777777777777778,
             "#fb9f3a"
            ],
            [
             0.8888888888888888,
             "#fdca26"
            ],
            [
             1,
             "#f0f921"
            ]
           ]
          },
          "colorway": [
           "#636efa",
           "#EF553B",
           "#00cc96",
           "#ab63fa",
           "#FFA15A",
           "#19d3f3",
           "#FF6692",
           "#B6E880",
           "#FF97FF",
           "#FECB52"
          ],
          "font": {
           "color": "#2a3f5f"
          },
          "geo": {
           "bgcolor": "white",
           "lakecolor": "white",
           "landcolor": "#E5ECF6",
           "showlakes": true,
           "showland": true,
           "subunitcolor": "white"
          },
          "hoverlabel": {
           "align": "left"
          },
          "hovermode": "closest",
          "mapbox": {
           "style": "light"
          },
          "paper_bgcolor": "white",
          "plot_bgcolor": "#E5ECF6",
          "polar": {
           "angularaxis": {
            "gridcolor": "white",
            "linecolor": "white",
            "ticks": ""
           },
           "bgcolor": "#E5ECF6",
           "radialaxis": {
            "gridcolor": "white",
            "linecolor": "white",
            "ticks": ""
           }
          },
          "scene": {
           "xaxis": {
            "backgroundcolor": "#E5ECF6",
            "gridcolor": "white",
            "gridwidth": 2,
            "linecolor": "white",
            "showbackground": true,
            "ticks": "",
            "zerolinecolor": "white"
           },
           "yaxis": {
            "backgroundcolor": "#E5ECF6",
            "gridcolor": "white",
            "gridwidth": 2,
            "linecolor": "white",
            "showbackground": true,
            "ticks": "",
            "zerolinecolor": "white"
           },
           "zaxis": {
            "backgroundcolor": "#E5ECF6",
            "gridcolor": "white",
            "gridwidth": 2,
            "linecolor": "white",
            "showbackground": true,
            "ticks": "",
            "zerolinecolor": "white"
           }
          },
          "shapedefaults": {
           "line": {
            "color": "#2a3f5f"
           }
          },
          "ternary": {
           "aaxis": {
            "gridcolor": "white",
            "linecolor": "white",
            "ticks": ""
           },
           "baxis": {
            "gridcolor": "white",
            "linecolor": "white",
            "ticks": ""
           },
           "bgcolor": "#E5ECF6",
           "caxis": {
            "gridcolor": "white",
            "linecolor": "white",
            "ticks": ""
           }
          },
          "title": {
           "x": 0.05
          },
          "xaxis": {
           "automargin": true,
           "gridcolor": "white",
           "linecolor": "white",
           "ticks": "",
           "title": {
            "standoff": 15
           },
           "zerolinecolor": "white",
           "zerolinewidth": 2
          },
          "yaxis": {
           "automargin": true,
           "gridcolor": "white",
           "linecolor": "white",
           "ticks": "",
           "title": {
            "standoff": 15
           },
           "zerolinecolor": "white",
           "zerolinewidth": 2
          }
         }
        },
        "title": {
         "text": "Count of Duration of Outage"
        },
        "xaxis": {
         "anchor": "y",
         "domain": [
          0,
          1
         ],
         "title": {
          "text": "OUTAGE.DURATION in Minutes"
         }
        },
        "yaxis": {
         "anchor": "x",
         "domain": [
          0,
          1
         ],
         "title": {
          "text": "count"
         }
        }
       }
      }
     },
     "metadata": {},
     "output_type": "display_data"
    }
   ],
   "source": [
    "univariant_plot = px.histogram(data['OUTAGE.DURATION'])\n",
    "univariant_plot.update_layout(xaxis_title = 'OUTAGE.DURATION in Minutes', showlegend = False, title = 'Count of Duration of Outage')"
   ]
  },
  {
   "cell_type": "code",
   "execution_count": 7,
   "metadata": {},
   "outputs": [],
   "source": [
    "# univariant_plot.write_html('../uni-plot.html', include_plotlyjs='cdn')"
   ]
  },
  {
   "cell_type": "markdown",
   "metadata": {},
   "source": [
    "### Bivariant"
   ]
  },
  {
   "cell_type": "code",
   "execution_count": 47,
   "metadata": {},
   "outputs": [],
   "source": [
    "bivariant = data.plot(kind = 'bar', x = 'U.S._STATE', y = 'OUTAGE.DURATION')"
   ]
  },
  {
   "cell_type": "code",
   "execution_count": 48,
   "metadata": {},
   "outputs": [],
   "source": [
    "bivariant = data.groupby('U.S._STATE')['OUTAGE.DURATION'].sum().sort_values().reset_index().plot(kind = 'bar', x ='U.S._STATE' , y= 'OUTAGE.DURATION', title = 'Total Outage Duration per State')"
   ]
  },
  {
   "cell_type": "code",
   "execution_count": 49,
   "metadata": {},
   "outputs": [
    {
     "data": {
      "application/vnd.plotly.v1+json": {
       "config": {
        "plotlyServerURL": "https://plot.ly"
       },
       "data": [
        {
         "alignmentgroup": "True",
         "hovertemplate": "U.S._STATE=%{x}<br>OUTAGE.DURATION=%{y}<extra></extra>",
         "legendgroup": "",
         "marker": {
          "color": "#636efa",
          "pattern": {
           "shape": ""
          }
         },
         "name": "",
         "offsetgroup": "",
         "orientation": "v",
         "showlegend": false,
         "textposition": "auto",
         "type": "bar",
         "x": [
          "Alaska",
          "Montana",
          "Wyoming",
          "South Dakota",
          "Vermont",
          "Mississippi",
          "North Dakota",
          "New Mexico",
          "Idaho",
          "Nevada",
          "New Hampshire",
          "Hawaii",
          "Alabama",
          "Delaware",
          "Nebraska",
          "Utah",
          "Colorado",
          "Massachusetts",
          "Oregon",
          "Maine",
          "Georgia",
          "Connecticut",
          "South Carolina",
          "West Virginia",
          "Kansas",
          "Tennessee",
          "Virginia",
          "Arkansas",
          "Iowa",
          "Minnesota",
          "District of Columbia",
          "Missouri",
          "North Carolina",
          "Kentucky",
          "Oklahoma",
          "Illinois",
          "Arizona",
          "Ohio",
          "Maryland",
          "Washington",
          "New Jersey",
          "Indiana",
          "Wisconsin",
          "Louisiana",
          "Florida",
          "Pennsylvania",
          "California",
          "Texas",
          "New York",
          "Michigan"
         ],
         "xaxis": "x",
         "y": [
          0,
          162,
          200,
          240,
          319,
          336,
          720,
          1123,
          3317,
          3873,
          3915,
          4227,
          5764,
          5797,
          9823,
          10259,
          12615,
          16995,
          19167,
          19747,
          22872,
          23019,
          25080,
          27916,
          30634,
          32301,
          37843,
          37859,
          38350,
          40919,
          43036,
          50611,
          56834,
          66221,
          66420,
          70508,
          113823,
          120450,
          134159,
          134225,
          142429,
          147909,
          150178,
          155213,
          184260,
          217267,
          329935,
          329988,
          422447,
          503783
         ],
         "yaxis": "y"
        }
       ],
       "layout": {
        "barmode": "relative",
        "legend": {
         "tracegroupgap": 0
        },
        "template": {
         "data": {
          "bar": [
           {
            "error_x": {
             "color": "#2a3f5f"
            },
            "error_y": {
             "color": "#2a3f5f"
            },
            "marker": {
             "line": {
              "color": "#E5ECF6",
              "width": 0.5
             },
             "pattern": {
              "fillmode": "overlay",
              "size": 10,
              "solidity": 0.2
             }
            },
            "type": "bar"
           }
          ],
          "barpolar": [
           {
            "marker": {
             "line": {
              "color": "#E5ECF6",
              "width": 0.5
             },
             "pattern": {
              "fillmode": "overlay",
              "size": 10,
              "solidity": 0.2
             }
            },
            "type": "barpolar"
           }
          ],
          "carpet": [
           {
            "aaxis": {
             "endlinecolor": "#2a3f5f",
             "gridcolor": "white",
             "linecolor": "white",
             "minorgridcolor": "white",
             "startlinecolor": "#2a3f5f"
            },
            "baxis": {
             "endlinecolor": "#2a3f5f",
             "gridcolor": "white",
             "linecolor": "white",
             "minorgridcolor": "white",
             "startlinecolor": "#2a3f5f"
            },
            "type": "carpet"
           }
          ],
          "choropleth": [
           {
            "colorbar": {
             "outlinewidth": 0,
             "ticks": ""
            },
            "type": "choropleth"
           }
          ],
          "contour": [
           {
            "colorbar": {
             "outlinewidth": 0,
             "ticks": ""
            },
            "colorscale": [
             [
              0,
              "#0d0887"
             ],
             [
              0.1111111111111111,
              "#46039f"
             ],
             [
              0.2222222222222222,
              "#7201a8"
             ],
             [
              0.3333333333333333,
              "#9c179e"
             ],
             [
              0.4444444444444444,
              "#bd3786"
             ],
             [
              0.5555555555555556,
              "#d8576b"
             ],
             [
              0.6666666666666666,
              "#ed7953"
             ],
             [
              0.7777777777777778,
              "#fb9f3a"
             ],
             [
              0.8888888888888888,
              "#fdca26"
             ],
             [
              1,
              "#f0f921"
             ]
            ],
            "type": "contour"
           }
          ],
          "contourcarpet": [
           {
            "colorbar": {
             "outlinewidth": 0,
             "ticks": ""
            },
            "type": "contourcarpet"
           }
          ],
          "heatmap": [
           {
            "colorbar": {
             "outlinewidth": 0,
             "ticks": ""
            },
            "colorscale": [
             [
              0,
              "#0d0887"
             ],
             [
              0.1111111111111111,
              "#46039f"
             ],
             [
              0.2222222222222222,
              "#7201a8"
             ],
             [
              0.3333333333333333,
              "#9c179e"
             ],
             [
              0.4444444444444444,
              "#bd3786"
             ],
             [
              0.5555555555555556,
              "#d8576b"
             ],
             [
              0.6666666666666666,
              "#ed7953"
             ],
             [
              0.7777777777777778,
              "#fb9f3a"
             ],
             [
              0.8888888888888888,
              "#fdca26"
             ],
             [
              1,
              "#f0f921"
             ]
            ],
            "type": "heatmap"
           }
          ],
          "heatmapgl": [
           {
            "colorbar": {
             "outlinewidth": 0,
             "ticks": ""
            },
            "colorscale": [
             [
              0,
              "#0d0887"
             ],
             [
              0.1111111111111111,
              "#46039f"
             ],
             [
              0.2222222222222222,
              "#7201a8"
             ],
             [
              0.3333333333333333,
              "#9c179e"
             ],
             [
              0.4444444444444444,
              "#bd3786"
             ],
             [
              0.5555555555555556,
              "#d8576b"
             ],
             [
              0.6666666666666666,
              "#ed7953"
             ],
             [
              0.7777777777777778,
              "#fb9f3a"
             ],
             [
              0.8888888888888888,
              "#fdca26"
             ],
             [
              1,
              "#f0f921"
             ]
            ],
            "type": "heatmapgl"
           }
          ],
          "histogram": [
           {
            "marker": {
             "pattern": {
              "fillmode": "overlay",
              "size": 10,
              "solidity": 0.2
             }
            },
            "type": "histogram"
           }
          ],
          "histogram2d": [
           {
            "colorbar": {
             "outlinewidth": 0,
             "ticks": ""
            },
            "colorscale": [
             [
              0,
              "#0d0887"
             ],
             [
              0.1111111111111111,
              "#46039f"
             ],
             [
              0.2222222222222222,
              "#7201a8"
             ],
             [
              0.3333333333333333,
              "#9c179e"
             ],
             [
              0.4444444444444444,
              "#bd3786"
             ],
             [
              0.5555555555555556,
              "#d8576b"
             ],
             [
              0.6666666666666666,
              "#ed7953"
             ],
             [
              0.7777777777777778,
              "#fb9f3a"
             ],
             [
              0.8888888888888888,
              "#fdca26"
             ],
             [
              1,
              "#f0f921"
             ]
            ],
            "type": "histogram2d"
           }
          ],
          "histogram2dcontour": [
           {
            "colorbar": {
             "outlinewidth": 0,
             "ticks": ""
            },
            "colorscale": [
             [
              0,
              "#0d0887"
             ],
             [
              0.1111111111111111,
              "#46039f"
             ],
             [
              0.2222222222222222,
              "#7201a8"
             ],
             [
              0.3333333333333333,
              "#9c179e"
             ],
             [
              0.4444444444444444,
              "#bd3786"
             ],
             [
              0.5555555555555556,
              "#d8576b"
             ],
             [
              0.6666666666666666,
              "#ed7953"
             ],
             [
              0.7777777777777778,
              "#fb9f3a"
             ],
             [
              0.8888888888888888,
              "#fdca26"
             ],
             [
              1,
              "#f0f921"
             ]
            ],
            "type": "histogram2dcontour"
           }
          ],
          "mesh3d": [
           {
            "colorbar": {
             "outlinewidth": 0,
             "ticks": ""
            },
            "type": "mesh3d"
           }
          ],
          "parcoords": [
           {
            "line": {
             "colorbar": {
              "outlinewidth": 0,
              "ticks": ""
             }
            },
            "type": "parcoords"
           }
          ],
          "pie": [
           {
            "automargin": true,
            "type": "pie"
           }
          ],
          "scatter": [
           {
            "fillpattern": {
             "fillmode": "overlay",
             "size": 10,
             "solidity": 0.2
            },
            "type": "scatter"
           }
          ],
          "scatter3d": [
           {
            "line": {
             "colorbar": {
              "outlinewidth": 0,
              "ticks": ""
             }
            },
            "marker": {
             "colorbar": {
              "outlinewidth": 0,
              "ticks": ""
             }
            },
            "type": "scatter3d"
           }
          ],
          "scattercarpet": [
           {
            "marker": {
             "colorbar": {
              "outlinewidth": 0,
              "ticks": ""
             }
            },
            "type": "scattercarpet"
           }
          ],
          "scattergeo": [
           {
            "marker": {
             "colorbar": {
              "outlinewidth": 0,
              "ticks": ""
             }
            },
            "type": "scattergeo"
           }
          ],
          "scattergl": [
           {
            "marker": {
             "colorbar": {
              "outlinewidth": 0,
              "ticks": ""
             }
            },
            "type": "scattergl"
           }
          ],
          "scattermapbox": [
           {
            "marker": {
             "colorbar": {
              "outlinewidth": 0,
              "ticks": ""
             }
            },
            "type": "scattermapbox"
           }
          ],
          "scatterpolar": [
           {
            "marker": {
             "colorbar": {
              "outlinewidth": 0,
              "ticks": ""
             }
            },
            "type": "scatterpolar"
           }
          ],
          "scatterpolargl": [
           {
            "marker": {
             "colorbar": {
              "outlinewidth": 0,
              "ticks": ""
             }
            },
            "type": "scatterpolargl"
           }
          ],
          "scatterternary": [
           {
            "marker": {
             "colorbar": {
              "outlinewidth": 0,
              "ticks": ""
             }
            },
            "type": "scatterternary"
           }
          ],
          "surface": [
           {
            "colorbar": {
             "outlinewidth": 0,
             "ticks": ""
            },
            "colorscale": [
             [
              0,
              "#0d0887"
             ],
             [
              0.1111111111111111,
              "#46039f"
             ],
             [
              0.2222222222222222,
              "#7201a8"
             ],
             [
              0.3333333333333333,
              "#9c179e"
             ],
             [
              0.4444444444444444,
              "#bd3786"
             ],
             [
              0.5555555555555556,
              "#d8576b"
             ],
             [
              0.6666666666666666,
              "#ed7953"
             ],
             [
              0.7777777777777778,
              "#fb9f3a"
             ],
             [
              0.8888888888888888,
              "#fdca26"
             ],
             [
              1,
              "#f0f921"
             ]
            ],
            "type": "surface"
           }
          ],
          "table": [
           {
            "cells": {
             "fill": {
              "color": "#EBF0F8"
             },
             "line": {
              "color": "white"
             }
            },
            "header": {
             "fill": {
              "color": "#C8D4E3"
             },
             "line": {
              "color": "white"
             }
            },
            "type": "table"
           }
          ]
         },
         "layout": {
          "annotationdefaults": {
           "arrowcolor": "#2a3f5f",
           "arrowhead": 0,
           "arrowwidth": 1
          },
          "autotypenumbers": "strict",
          "coloraxis": {
           "colorbar": {
            "outlinewidth": 0,
            "ticks": ""
           }
          },
          "colorscale": {
           "diverging": [
            [
             0,
             "#8e0152"
            ],
            [
             0.1,
             "#c51b7d"
            ],
            [
             0.2,
             "#de77ae"
            ],
            [
             0.3,
             "#f1b6da"
            ],
            [
             0.4,
             "#fde0ef"
            ],
            [
             0.5,
             "#f7f7f7"
            ],
            [
             0.6,
             "#e6f5d0"
            ],
            [
             0.7,
             "#b8e186"
            ],
            [
             0.8,
             "#7fbc41"
            ],
            [
             0.9,
             "#4d9221"
            ],
            [
             1,
             "#276419"
            ]
           ],
           "sequential": [
            [
             0,
             "#0d0887"
            ],
            [
             0.1111111111111111,
             "#46039f"
            ],
            [
             0.2222222222222222,
             "#7201a8"
            ],
            [
             0.3333333333333333,
             "#9c179e"
            ],
            [
             0.4444444444444444,
             "#bd3786"
            ],
            [
             0.5555555555555556,
             "#d8576b"
            ],
            [
             0.6666666666666666,
             "#ed7953"
            ],
            [
             0.7777777777777778,
             "#fb9f3a"
            ],
            [
             0.8888888888888888,
             "#fdca26"
            ],
            [
             1,
             "#f0f921"
            ]
           ],
           "sequentialminus": [
            [
             0,
             "#0d0887"
            ],
            [
             0.1111111111111111,
             "#46039f"
            ],
            [
             0.2222222222222222,
             "#7201a8"
            ],
            [
             0.3333333333333333,
             "#9c179e"
            ],
            [
             0.4444444444444444,
             "#bd3786"
            ],
            [
             0.5555555555555556,
             "#d8576b"
            ],
            [
             0.6666666666666666,
             "#ed7953"
            ],
            [
             0.7777777777777778,
             "#fb9f3a"
            ],
            [
             0.8888888888888888,
             "#fdca26"
            ],
            [
             1,
             "#f0f921"
            ]
           ]
          },
          "colorway": [
           "#636efa",
           "#EF553B",
           "#00cc96",
           "#ab63fa",
           "#FFA15A",
           "#19d3f3",
           "#FF6692",
           "#B6E880",
           "#FF97FF",
           "#FECB52"
          ],
          "font": {
           "color": "#2a3f5f"
          },
          "geo": {
           "bgcolor": "white",
           "lakecolor": "white",
           "landcolor": "#E5ECF6",
           "showlakes": true,
           "showland": true,
           "subunitcolor": "white"
          },
          "hoverlabel": {
           "align": "left"
          },
          "hovermode": "closest",
          "mapbox": {
           "style": "light"
          },
          "paper_bgcolor": "white",
          "plot_bgcolor": "#E5ECF6",
          "polar": {
           "angularaxis": {
            "gridcolor": "white",
            "linecolor": "white",
            "ticks": ""
           },
           "bgcolor": "#E5ECF6",
           "radialaxis": {
            "gridcolor": "white",
            "linecolor": "white",
            "ticks": ""
           }
          },
          "scene": {
           "xaxis": {
            "backgroundcolor": "#E5ECF6",
            "gridcolor": "white",
            "gridwidth": 2,
            "linecolor": "white",
            "showbackground": true,
            "ticks": "",
            "zerolinecolor": "white"
           },
           "yaxis": {
            "backgroundcolor": "#E5ECF6",
            "gridcolor": "white",
            "gridwidth": 2,
            "linecolor": "white",
            "showbackground": true,
            "ticks": "",
            "zerolinecolor": "white"
           },
           "zaxis": {
            "backgroundcolor": "#E5ECF6",
            "gridcolor": "white",
            "gridwidth": 2,
            "linecolor": "white",
            "showbackground": true,
            "ticks": "",
            "zerolinecolor": "white"
           }
          },
          "shapedefaults": {
           "line": {
            "color": "#2a3f5f"
           }
          },
          "ternary": {
           "aaxis": {
            "gridcolor": "white",
            "linecolor": "white",
            "ticks": ""
           },
           "baxis": {
            "gridcolor": "white",
            "linecolor": "white",
            "ticks": ""
           },
           "bgcolor": "#E5ECF6",
           "caxis": {
            "gridcolor": "white",
            "linecolor": "white",
            "ticks": ""
           }
          },
          "title": {
           "x": 0.05
          },
          "xaxis": {
           "automargin": true,
           "gridcolor": "white",
           "linecolor": "white",
           "ticks": "",
           "title": {
            "standoff": 15
           },
           "zerolinecolor": "white",
           "zerolinewidth": 2
          },
          "yaxis": {
           "automargin": true,
           "gridcolor": "white",
           "linecolor": "white",
           "ticks": "",
           "title": {
            "standoff": 15
           },
           "zerolinecolor": "white",
           "zerolinewidth": 2
          }
         }
        },
        "title": {
         "text": "Total Outage Duration per State"
        },
        "xaxis": {
         "anchor": "y",
         "domain": [
          0,
          1
         ],
         "dtick": 1,
         "title": {
          "text": "U.S._STATE"
         }
        },
        "yaxis": {
         "anchor": "x",
         "domain": [
          0,
          1
         ],
         "title": {
          "text": "OUTAGE.DURATION"
         }
        }
       }
      }
     },
     "metadata": {},
     "output_type": "display_data"
    }
   ],
   "source": [
    "bivariant.update_xaxes(dtick=1)"
   ]
  },
  {
   "cell_type": "code",
   "execution_count": 50,
   "metadata": {},
   "outputs": [
    {
     "ename": "FileNotFoundError",
     "evalue": "[Errno 2] No such file or directory: '../static/bi-plot.html'",
     "output_type": "error",
     "traceback": [
      "\u001b[0;31m---------------------------------------------------------------------------\u001b[0m",
      "\u001b[0;31mFileNotFoundError\u001b[0m                         Traceback (most recent call last)",
      "\u001b[1;32m/Users/billwang/Documents/Fall_2023/DSC80/US_State_Power_Outage/analysis.ipynb Cell 18\u001b[0m line \u001b[0;36m1\n\u001b[0;32m----> <a href='vscode-notebook-cell:/Users/billwang/Documents/Fall_2023/DSC80/US_State_Power_Outage/analysis.ipynb#X16sZmlsZQ%3D%3D?line=0'>1</a>\u001b[0m bivariant\u001b[39m.\u001b[39;49mwrite_html(\u001b[39m'\u001b[39;49m\u001b[39m../static/bi-plot.html\u001b[39;49m\u001b[39m'\u001b[39;49m, include_plotlyjs\u001b[39m=\u001b[39;49m\u001b[39m'\u001b[39;49m\u001b[39mcdn\u001b[39;49m\u001b[39m'\u001b[39;49m)\n",
      "File \u001b[0;32m~/anaconda3/envs/dsc80/lib/python3.8/site-packages/plotly/basedatatypes.py:3708\u001b[0m, in \u001b[0;36mBaseFigure.write_html\u001b[0;34m(self, *args, **kwargs)\u001b[0m\n\u001b[1;32m   3593\u001b[0m \u001b[39m\u001b[39m\u001b[39m\"\"\"\u001b[39;00m\n\u001b[1;32m   3594\u001b[0m \u001b[39mWrite a figure to an HTML file representation\u001b[39;00m\n\u001b[1;32m   3595\u001b[0m \n\u001b[0;32m   (...)\u001b[0m\n\u001b[1;32m   3704\u001b[0m \u001b[39m    Representation of figure as an HTML div string\u001b[39;00m\n\u001b[1;32m   3705\u001b[0m \u001b[39m\"\"\"\u001b[39;00m\n\u001b[1;32m   3706\u001b[0m \u001b[39mimport\u001b[39;00m \u001b[39mplotly\u001b[39;00m\u001b[39m.\u001b[39;00m\u001b[39mio\u001b[39;00m \u001b[39mas\u001b[39;00m \u001b[39mpio\u001b[39;00m\n\u001b[0;32m-> 3708\u001b[0m \u001b[39mreturn\u001b[39;00m pio\u001b[39m.\u001b[39;49mwrite_html(\u001b[39mself\u001b[39;49m, \u001b[39m*\u001b[39;49margs, \u001b[39m*\u001b[39;49m\u001b[39m*\u001b[39;49mkwargs)\n",
      "File \u001b[0;32m~/anaconda3/envs/dsc80/lib/python3.8/site-packages/plotly/io/_html.py:536\u001b[0m, in \u001b[0;36mwrite_html\u001b[0;34m(fig, file, config, auto_play, include_plotlyjs, include_mathjax, post_script, full_html, animation_opts, validate, default_width, default_height, auto_open, div_id)\u001b[0m\n\u001b[1;32m    534\u001b[0m \u001b[39m# Write HTML string\u001b[39;00m\n\u001b[1;32m    535\u001b[0m \u001b[39mif\u001b[39;00m path \u001b[39mis\u001b[39;00m \u001b[39mnot\u001b[39;00m \u001b[39mNone\u001b[39;00m:\n\u001b[0;32m--> 536\u001b[0m     path\u001b[39m.\u001b[39;49mwrite_text(html_str)\n\u001b[1;32m    537\u001b[0m \u001b[39melse\u001b[39;00m:\n\u001b[1;32m    538\u001b[0m     file\u001b[39m.\u001b[39mwrite(html_str)\n",
      "File \u001b[0;32m~/anaconda3/envs/dsc80/lib/python3.8/pathlib.py:1255\u001b[0m, in \u001b[0;36mPath.write_text\u001b[0;34m(self, data, encoding, errors)\u001b[0m\n\u001b[1;32m   1252\u001b[0m \u001b[39mif\u001b[39;00m \u001b[39mnot\u001b[39;00m \u001b[39misinstance\u001b[39m(data, \u001b[39mstr\u001b[39m):\n\u001b[1;32m   1253\u001b[0m     \u001b[39mraise\u001b[39;00m \u001b[39mTypeError\u001b[39;00m(\u001b[39m'\u001b[39m\u001b[39mdata must be str, not \u001b[39m\u001b[39m%s\u001b[39;00m\u001b[39m'\u001b[39m \u001b[39m%\u001b[39m\n\u001b[1;32m   1254\u001b[0m                     data\u001b[39m.\u001b[39m\u001b[39m__class__\u001b[39m\u001b[39m.\u001b[39m\u001b[39m__name__\u001b[39m)\n\u001b[0;32m-> 1255\u001b[0m \u001b[39mwith\u001b[39;00m \u001b[39mself\u001b[39;49m\u001b[39m.\u001b[39;49mopen(mode\u001b[39m=\u001b[39;49m\u001b[39m'\u001b[39;49m\u001b[39mw\u001b[39;49m\u001b[39m'\u001b[39;49m, encoding\u001b[39m=\u001b[39;49mencoding, errors\u001b[39m=\u001b[39;49merrors) \u001b[39mas\u001b[39;00m f:\n\u001b[1;32m   1256\u001b[0m     \u001b[39mreturn\u001b[39;00m f\u001b[39m.\u001b[39mwrite(data)\n",
      "File \u001b[0;32m~/anaconda3/envs/dsc80/lib/python3.8/pathlib.py:1222\u001b[0m, in \u001b[0;36mPath.open\u001b[0;34m(self, mode, buffering, encoding, errors, newline)\u001b[0m\n\u001b[1;32m   1220\u001b[0m \u001b[39mif\u001b[39;00m \u001b[39mself\u001b[39m\u001b[39m.\u001b[39m_closed:\n\u001b[1;32m   1221\u001b[0m     \u001b[39mself\u001b[39m\u001b[39m.\u001b[39m_raise_closed()\n\u001b[0;32m-> 1222\u001b[0m \u001b[39mreturn\u001b[39;00m io\u001b[39m.\u001b[39;49mopen(\u001b[39mself\u001b[39;49m, mode, buffering, encoding, errors, newline,\n\u001b[1;32m   1223\u001b[0m                opener\u001b[39m=\u001b[39;49m\u001b[39mself\u001b[39;49m\u001b[39m.\u001b[39;49m_opener)\n",
      "File \u001b[0;32m~/anaconda3/envs/dsc80/lib/python3.8/pathlib.py:1078\u001b[0m, in \u001b[0;36mPath._opener\u001b[0;34m(self, name, flags, mode)\u001b[0m\n\u001b[1;32m   1076\u001b[0m \u001b[39mdef\u001b[39;00m \u001b[39m_opener\u001b[39m(\u001b[39mself\u001b[39m, name, flags, mode\u001b[39m=\u001b[39m\u001b[39m0o666\u001b[39m):\n\u001b[1;32m   1077\u001b[0m     \u001b[39m# A stub for the opener argument to built-in open()\u001b[39;00m\n\u001b[0;32m-> 1078\u001b[0m     \u001b[39mreturn\u001b[39;00m \u001b[39mself\u001b[39;49m\u001b[39m.\u001b[39;49m_accessor\u001b[39m.\u001b[39;49mopen(\u001b[39mself\u001b[39;49m, flags, mode)\n",
      "\u001b[0;31mFileNotFoundError\u001b[0m: [Errno 2] No such file or directory: '../static/bi-plot.html'"
     ]
    }
   ],
   "source": [
    "bivariant.write_html('../static/bi-plot.html', include_plotlyjs='cdn')"
   ]
  },
  {
   "cell_type": "markdown",
   "metadata": {},
   "source": [
    "### Interesting AGG"
   ]
  },
  {
   "cell_type": "code",
   "execution_count": 12,
   "metadata": {},
   "outputs": [
    {
     "data": {
      "text/plain": [
       "U.S._STATE\n",
       "Alaska                    1\n",
       "South Dakota              2\n",
       "North Dakota              2\n",
       "Montana                   3\n",
       "Mississippi               4\n",
       "West Virginia             4\n",
       "Nebraska                  4\n",
       "Hawaii                    5\n",
       "Alabama                   6\n",
       "Wyoming                   6\n",
       "Nevada                    7\n",
       "South Carolina            8\n",
       "New Mexico                8\n",
       "Iowa                      8\n",
       "Vermont                   9\n",
       "Idaho                     9\n",
       "Kansas                    9\n",
       "District of Columbia     10\n",
       "Kentucky                 13\n",
       "New Hampshire            14\n",
       "Minnesota                15\n",
       "Colorado                 15\n",
       "Missouri                 17\n",
       "Georgia                  17\n",
       "Massachusetts            18\n",
       "Connecticut              18\n",
       "Maine                    19\n",
       "Wisconsin                20\n",
       "Oklahoma                 24\n",
       "Arkansas                 25\n",
       "Oregon                   26\n",
       "Arizona                  28\n",
       "Tennessee                34\n",
       "New Jersey               35\n",
       "Virginia                 37\n",
       "Louisiana                40\n",
       "North Carolina           40\n",
       "Delaware                 41\n",
       "Utah                     41\n",
       "Ohio                     43\n",
       "Indiana                  43\n",
       "Florida                  45\n",
       "Illinois                 46\n",
       "Pennsylvania             57\n",
       "Maryland                 58\n",
       "New York                 71\n",
       "Michigan                 95\n",
       "Washington               97\n",
       "Texas                   127\n",
       "California              210\n",
       "Name: YEAR, dtype: int64"
      ]
     },
     "execution_count": 12,
     "metadata": {},
     "output_type": "execute_result"
    }
   ],
   "source": [
    "data.groupby('U.S._STATE')['YEAR'].count().sort_values()"
   ]
  },
  {
   "cell_type": "markdown",
   "metadata": {},
   "source": [
    "### Assessment of Missingness"
   ]
  },
  {
   "cell_type": "markdown",
   "metadata": {},
   "source": [
    "## NMAR"
   ]
  },
  {
   "cell_type": "markdown",
   "metadata": {},
   "source": [
    "**CAUSE CATEGORY**:\n",
    "All the NAN values in CAUSE.CATEGORY.DETAIL could be NMAR because the type of disaster may affect whether or not the data could be collected. For instance, a severe weather event like heavy rain and hail could occur at the same time and obscure the real cause of the damage. Because of this uncertaintity, this data may not have been collected for certain types of causes which may have coincided. This would cause the missingness of the data to be dependent on what kind of event was occuring and thus it would depend on itself making it NMAR.\n",
    "\n",
    "If we would want to collect data that would make this column MAR, what we could do is audit precise conditions of weather, and if there are a lot of weather observations, this could mean that the data collecters couldn't categorize what caused the outage. "
   ]
  },
  {
   "cell_type": "markdown",
   "metadata": {},
   "source": [
    "## MAR"
   ]
  },
  {
   "cell_type": "markdown",
   "metadata": {},
   "source": [
    "### US STATE WITH CUSTOMERS\n",
    "**NULL HYPOTHESIS**: There is no significant difference between "
   ]
  },
  {
   "cell_type": "code",
   "execution_count": 13,
   "metadata": {},
   "outputs": [
    {
     "data": {
      "application/vnd.plotly.v1+json": {
       "config": {
        "plotlyServerURL": "https://plot.ly"
       },
       "data": [
        {
         "alignmentgroup": "True",
         "hovertemplate": "variable=ISNA<br>U.S._STATE=%{x}<br>value=%{y}<extra></extra>",
         "legendgroup": "ISNA",
         "marker": {
          "color": "#636efa",
          "pattern": {
           "shape": ""
          }
         },
         "name": "ISNA",
         "offsetgroup": "ISNA",
         "orientation": "v",
         "showlegend": true,
         "textposition": "auto",
         "type": "bar",
         "x": [
          "Alabama",
          "Arizona",
          "Arkansas",
          "California",
          "Colorado",
          "Connecticut",
          "Delaware",
          "District of Columbia",
          "Florida",
          "Georgia",
          "Idaho",
          "Illinois",
          "Indiana",
          "Iowa",
          "Kansas",
          "Kentucky",
          "Louisiana",
          "Maine",
          "Maryland",
          "Massachusetts",
          "Michigan",
          "Minnesota",
          "Mississippi",
          "Missouri",
          "Nebraska",
          "Nevada",
          "New Hampshire",
          "New Jersey",
          "New Mexico",
          "New York",
          "North Carolina",
          "North Dakota",
          "Ohio",
          "Oklahoma",
          "Oregon",
          "Pennsylvania",
          "Tennessee",
          "Texas",
          "Utah",
          "Vermont",
          "Virginia",
          "Washington",
          "West Virginia",
          "Wisconsin",
          "Wyoming"
         ],
         "xaxis": "x",
         "y": [
          1,
          19,
          12,
          83,
          4,
          5,
          17,
          1,
          1,
          1,
          3,
          2,
          9,
          4,
          2,
          3,
          20,
          2,
          13,
          3,
          5,
          1,
          2,
          4,
          1,
          2,
          3,
          4,
          5,
          26,
          4,
          1,
          7,
          5,
          14,
          6,
          17,
          33,
          19,
          4,
          3,
          53,
          1,
          10,
          3
         ],
         "yaxis": "y"
        },
        {
         "alignmentgroup": "True",
         "hovertemplate": "variable=NotNA<br>U.S._STATE=%{x}<br>value=%{y}<extra></extra>",
         "legendgroup": "NotNA",
         "marker": {
          "color": "#EF553B",
          "pattern": {
           "shape": ""
          }
         },
         "name": "NotNA",
         "offsetgroup": "NotNA",
         "orientation": "v",
         "showlegend": true,
         "textposition": "auto",
         "type": "bar",
         "x": [
          "Alabama",
          "Arizona",
          "Arkansas",
          "California",
          "Colorado",
          "Connecticut",
          "Delaware",
          "District of Columbia",
          "Florida",
          "Georgia",
          "Idaho",
          "Illinois",
          "Indiana",
          "Iowa",
          "Kansas",
          "Kentucky",
          "Louisiana",
          "Maine",
          "Maryland",
          "Massachusetts",
          "Michigan",
          "Minnesota",
          "Mississippi",
          "Missouri",
          "Nebraska",
          "Nevada",
          "New Hampshire",
          "New Jersey",
          "New Mexico",
          "New York",
          "North Carolina",
          "North Dakota",
          "Ohio",
          "Oklahoma",
          "Oregon",
          "Pennsylvania",
          "Tennessee",
          "Texas",
          "Utah",
          "Vermont",
          "Virginia",
          "Washington",
          "West Virginia",
          "Wisconsin",
          "Wyoming"
         ],
         "xaxis": "x",
         "y": [
          5,
          9,
          13,
          127,
          11,
          13,
          24,
          9,
          44,
          16,
          6,
          44,
          34,
          4,
          7,
          10,
          20,
          17,
          45,
          15,
          90,
          14,
          2,
          13,
          3,
          5,
          11,
          31,
          3,
          45,
          36,
          1,
          36,
          19,
          12,
          51,
          17,
          94,
          22,
          5,
          34,
          44,
          3,
          10,
          3
         ],
         "yaxis": "y"
        }
       ],
       "layout": {
        "barmode": "group",
        "legend": {
         "title": {
          "text": "variable"
         },
         "tracegroupgap": 0
        },
        "template": {
         "data": {
          "bar": [
           {
            "error_x": {
             "color": "#2a3f5f"
            },
            "error_y": {
             "color": "#2a3f5f"
            },
            "marker": {
             "line": {
              "color": "#E5ECF6",
              "width": 0.5
             },
             "pattern": {
              "fillmode": "overlay",
              "size": 10,
              "solidity": 0.2
             }
            },
            "type": "bar"
           }
          ],
          "barpolar": [
           {
            "marker": {
             "line": {
              "color": "#E5ECF6",
              "width": 0.5
             },
             "pattern": {
              "fillmode": "overlay",
              "size": 10,
              "solidity": 0.2
             }
            },
            "type": "barpolar"
           }
          ],
          "carpet": [
           {
            "aaxis": {
             "endlinecolor": "#2a3f5f",
             "gridcolor": "white",
             "linecolor": "white",
             "minorgridcolor": "white",
             "startlinecolor": "#2a3f5f"
            },
            "baxis": {
             "endlinecolor": "#2a3f5f",
             "gridcolor": "white",
             "linecolor": "white",
             "minorgridcolor": "white",
             "startlinecolor": "#2a3f5f"
            },
            "type": "carpet"
           }
          ],
          "choropleth": [
           {
            "colorbar": {
             "outlinewidth": 0,
             "ticks": ""
            },
            "type": "choropleth"
           }
          ],
          "contour": [
           {
            "colorbar": {
             "outlinewidth": 0,
             "ticks": ""
            },
            "colorscale": [
             [
              0,
              "#0d0887"
             ],
             [
              0.1111111111111111,
              "#46039f"
             ],
             [
              0.2222222222222222,
              "#7201a8"
             ],
             [
              0.3333333333333333,
              "#9c179e"
             ],
             [
              0.4444444444444444,
              "#bd3786"
             ],
             [
              0.5555555555555556,
              "#d8576b"
             ],
             [
              0.6666666666666666,
              "#ed7953"
             ],
             [
              0.7777777777777778,
              "#fb9f3a"
             ],
             [
              0.8888888888888888,
              "#fdca26"
             ],
             [
              1,
              "#f0f921"
             ]
            ],
            "type": "contour"
           }
          ],
          "contourcarpet": [
           {
            "colorbar": {
             "outlinewidth": 0,
             "ticks": ""
            },
            "type": "contourcarpet"
           }
          ],
          "heatmap": [
           {
            "colorbar": {
             "outlinewidth": 0,
             "ticks": ""
            },
            "colorscale": [
             [
              0,
              "#0d0887"
             ],
             [
              0.1111111111111111,
              "#46039f"
             ],
             [
              0.2222222222222222,
              "#7201a8"
             ],
             [
              0.3333333333333333,
              "#9c179e"
             ],
             [
              0.4444444444444444,
              "#bd3786"
             ],
             [
              0.5555555555555556,
              "#d8576b"
             ],
             [
              0.6666666666666666,
              "#ed7953"
             ],
             [
              0.7777777777777778,
              "#fb9f3a"
             ],
             [
              0.8888888888888888,
              "#fdca26"
             ],
             [
              1,
              "#f0f921"
             ]
            ],
            "type": "heatmap"
           }
          ],
          "heatmapgl": [
           {
            "colorbar": {
             "outlinewidth": 0,
             "ticks": ""
            },
            "colorscale": [
             [
              0,
              "#0d0887"
             ],
             [
              0.1111111111111111,
              "#46039f"
             ],
             [
              0.2222222222222222,
              "#7201a8"
             ],
             [
              0.3333333333333333,
              "#9c179e"
             ],
             [
              0.4444444444444444,
              "#bd3786"
             ],
             [
              0.5555555555555556,
              "#d8576b"
             ],
             [
              0.6666666666666666,
              "#ed7953"
             ],
             [
              0.7777777777777778,
              "#fb9f3a"
             ],
             [
              0.8888888888888888,
              "#fdca26"
             ],
             [
              1,
              "#f0f921"
             ]
            ],
            "type": "heatmapgl"
           }
          ],
          "histogram": [
           {
            "marker": {
             "pattern": {
              "fillmode": "overlay",
              "size": 10,
              "solidity": 0.2
             }
            },
            "type": "histogram"
           }
          ],
          "histogram2d": [
           {
            "colorbar": {
             "outlinewidth": 0,
             "ticks": ""
            },
            "colorscale": [
             [
              0,
              "#0d0887"
             ],
             [
              0.1111111111111111,
              "#46039f"
             ],
             [
              0.2222222222222222,
              "#7201a8"
             ],
             [
              0.3333333333333333,
              "#9c179e"
             ],
             [
              0.4444444444444444,
              "#bd3786"
             ],
             [
              0.5555555555555556,
              "#d8576b"
             ],
             [
              0.6666666666666666,
              "#ed7953"
             ],
             [
              0.7777777777777778,
              "#fb9f3a"
             ],
             [
              0.8888888888888888,
              "#fdca26"
             ],
             [
              1,
              "#f0f921"
             ]
            ],
            "type": "histogram2d"
           }
          ],
          "histogram2dcontour": [
           {
            "colorbar": {
             "outlinewidth": 0,
             "ticks": ""
            },
            "colorscale": [
             [
              0,
              "#0d0887"
             ],
             [
              0.1111111111111111,
              "#46039f"
             ],
             [
              0.2222222222222222,
              "#7201a8"
             ],
             [
              0.3333333333333333,
              "#9c179e"
             ],
             [
              0.4444444444444444,
              "#bd3786"
             ],
             [
              0.5555555555555556,
              "#d8576b"
             ],
             [
              0.6666666666666666,
              "#ed7953"
             ],
             [
              0.7777777777777778,
              "#fb9f3a"
             ],
             [
              0.8888888888888888,
              "#fdca26"
             ],
             [
              1,
              "#f0f921"
             ]
            ],
            "type": "histogram2dcontour"
           }
          ],
          "mesh3d": [
           {
            "colorbar": {
             "outlinewidth": 0,
             "ticks": ""
            },
            "type": "mesh3d"
           }
          ],
          "parcoords": [
           {
            "line": {
             "colorbar": {
              "outlinewidth": 0,
              "ticks": ""
             }
            },
            "type": "parcoords"
           }
          ],
          "pie": [
           {
            "automargin": true,
            "type": "pie"
           }
          ],
          "scatter": [
           {
            "fillpattern": {
             "fillmode": "overlay",
             "size": 10,
             "solidity": 0.2
            },
            "type": "scatter"
           }
          ],
          "scatter3d": [
           {
            "line": {
             "colorbar": {
              "outlinewidth": 0,
              "ticks": ""
             }
            },
            "marker": {
             "colorbar": {
              "outlinewidth": 0,
              "ticks": ""
             }
            },
            "type": "scatter3d"
           }
          ],
          "scattercarpet": [
           {
            "marker": {
             "colorbar": {
              "outlinewidth": 0,
              "ticks": ""
             }
            },
            "type": "scattercarpet"
           }
          ],
          "scattergeo": [
           {
            "marker": {
             "colorbar": {
              "outlinewidth": 0,
              "ticks": ""
             }
            },
            "type": "scattergeo"
           }
          ],
          "scattergl": [
           {
            "marker": {
             "colorbar": {
              "outlinewidth": 0,
              "ticks": ""
             }
            },
            "type": "scattergl"
           }
          ],
          "scattermapbox": [
           {
            "marker": {
             "colorbar": {
              "outlinewidth": 0,
              "ticks": ""
             }
            },
            "type": "scattermapbox"
           }
          ],
          "scatterpolar": [
           {
            "marker": {
             "colorbar": {
              "outlinewidth": 0,
              "ticks": ""
             }
            },
            "type": "scatterpolar"
           }
          ],
          "scatterpolargl": [
           {
            "marker": {
             "colorbar": {
              "outlinewidth": 0,
              "ticks": ""
             }
            },
            "type": "scatterpolargl"
           }
          ],
          "scatterternary": [
           {
            "marker": {
             "colorbar": {
              "outlinewidth": 0,
              "ticks": ""
             }
            },
            "type": "scatterternary"
           }
          ],
          "surface": [
           {
            "colorbar": {
             "outlinewidth": 0,
             "ticks": ""
            },
            "colorscale": [
             [
              0,
              "#0d0887"
             ],
             [
              0.1111111111111111,
              "#46039f"
             ],
             [
              0.2222222222222222,
              "#7201a8"
             ],
             [
              0.3333333333333333,
              "#9c179e"
             ],
             [
              0.4444444444444444,
              "#bd3786"
             ],
             [
              0.5555555555555556,
              "#d8576b"
             ],
             [
              0.6666666666666666,
              "#ed7953"
             ],
             [
              0.7777777777777778,
              "#fb9f3a"
             ],
             [
              0.8888888888888888,
              "#fdca26"
             ],
             [
              1,
              "#f0f921"
             ]
            ],
            "type": "surface"
           }
          ],
          "table": [
           {
            "cells": {
             "fill": {
              "color": "#EBF0F8"
             },
             "line": {
              "color": "white"
             }
            },
            "header": {
             "fill": {
              "color": "#C8D4E3"
             },
             "line": {
              "color": "white"
             }
            },
            "type": "table"
           }
          ]
         },
         "layout": {
          "annotationdefaults": {
           "arrowcolor": "#2a3f5f",
           "arrowhead": 0,
           "arrowwidth": 1
          },
          "autotypenumbers": "strict",
          "coloraxis": {
           "colorbar": {
            "outlinewidth": 0,
            "ticks": ""
           }
          },
          "colorscale": {
           "diverging": [
            [
             0,
             "#8e0152"
            ],
            [
             0.1,
             "#c51b7d"
            ],
            [
             0.2,
             "#de77ae"
            ],
            [
             0.3,
             "#f1b6da"
            ],
            [
             0.4,
             "#fde0ef"
            ],
            [
             0.5,
             "#f7f7f7"
            ],
            [
             0.6,
             "#e6f5d0"
            ],
            [
             0.7,
             "#b8e186"
            ],
            [
             0.8,
             "#7fbc41"
            ],
            [
             0.9,
             "#4d9221"
            ],
            [
             1,
             "#276419"
            ]
           ],
           "sequential": [
            [
             0,
             "#0d0887"
            ],
            [
             0.1111111111111111,
             "#46039f"
            ],
            [
             0.2222222222222222,
             "#7201a8"
            ],
            [
             0.3333333333333333,
             "#9c179e"
            ],
            [
             0.4444444444444444,
             "#bd3786"
            ],
            [
             0.5555555555555556,
             "#d8576b"
            ],
            [
             0.6666666666666666,
             "#ed7953"
            ],
            [
             0.7777777777777778,
             "#fb9f3a"
            ],
            [
             0.8888888888888888,
             "#fdca26"
            ],
            [
             1,
             "#f0f921"
            ]
           ],
           "sequentialminus": [
            [
             0,
             "#0d0887"
            ],
            [
             0.1111111111111111,
             "#46039f"
            ],
            [
             0.2222222222222222,
             "#7201a8"
            ],
            [
             0.3333333333333333,
             "#9c179e"
            ],
            [
             0.4444444444444444,
             "#bd3786"
            ],
            [
             0.5555555555555556,
             "#d8576b"
            ],
            [
             0.6666666666666666,
             "#ed7953"
            ],
            [
             0.7777777777777778,
             "#fb9f3a"
            ],
            [
             0.8888888888888888,
             "#fdca26"
            ],
            [
             1,
             "#f0f921"
            ]
           ]
          },
          "colorway": [
           "#636efa",
           "#EF553B",
           "#00cc96",
           "#ab63fa",
           "#FFA15A",
           "#19d3f3",
           "#FF6692",
           "#B6E880",
           "#FF97FF",
           "#FECB52"
          ],
          "font": {
           "color": "#2a3f5f"
          },
          "geo": {
           "bgcolor": "white",
           "lakecolor": "white",
           "landcolor": "#E5ECF6",
           "showlakes": true,
           "showland": true,
           "subunitcolor": "white"
          },
          "hoverlabel": {
           "align": "left"
          },
          "hovermode": "closest",
          "mapbox": {
           "style": "light"
          },
          "paper_bgcolor": "white",
          "plot_bgcolor": "#E5ECF6",
          "polar": {
           "angularaxis": {
            "gridcolor": "white",
            "linecolor": "white",
            "ticks": ""
           },
           "bgcolor": "#E5ECF6",
           "radialaxis": {
            "gridcolor": "white",
            "linecolor": "white",
            "ticks": ""
           }
          },
          "scene": {
           "xaxis": {
            "backgroundcolor": "#E5ECF6",
            "gridcolor": "white",
            "gridwidth": 2,
            "linecolor": "white",
            "showbackground": true,
            "ticks": "",
            "zerolinecolor": "white"
           },
           "yaxis": {
            "backgroundcolor": "#E5ECF6",
            "gridcolor": "white",
            "gridwidth": 2,
            "linecolor": "white",
            "showbackground": true,
            "ticks": "",
            "zerolinecolor": "white"
           },
           "zaxis": {
            "backgroundcolor": "#E5ECF6",
            "gridcolor": "white",
            "gridwidth": 2,
            "linecolor": "white",
            "showbackground": true,
            "ticks": "",
            "zerolinecolor": "white"
           }
          },
          "shapedefaults": {
           "line": {
            "color": "#2a3f5f"
           }
          },
          "ternary": {
           "aaxis": {
            "gridcolor": "white",
            "linecolor": "white",
            "ticks": ""
           },
           "baxis": {
            "gridcolor": "white",
            "linecolor": "white",
            "ticks": ""
           },
           "bgcolor": "#E5ECF6",
           "caxis": {
            "gridcolor": "white",
            "linecolor": "white",
            "ticks": ""
           }
          },
          "title": {
           "x": 0.05
          },
          "xaxis": {
           "automargin": true,
           "gridcolor": "white",
           "linecolor": "white",
           "ticks": "",
           "title": {
            "standoff": 15
           },
           "zerolinecolor": "white",
           "zerolinewidth": 2
          },
          "yaxis": {
           "automargin": true,
           "gridcolor": "white",
           "linecolor": "white",
           "ticks": "",
           "title": {
            "standoff": 15
           },
           "zerolinecolor": "white",
           "zerolinewidth": 2
          }
         }
        },
        "title": {
         "text": "Distribution of NAN and Non_NAN values for each state"
        },
        "xaxis": {
         "anchor": "y",
         "domain": [
          0,
          1
         ],
         "tickangle": -45,
         "title": {
          "text": "U.S._STATE"
         }
        },
        "yaxis": {
         "anchor": "x",
         "domain": [
          0,
          1
         ],
         "title": {
          "text": "value"
         }
        }
       }
      }
     },
     "metadata": {},
     "output_type": "display_data"
    }
   ],
   "source": [
    "#Found distribution of NotNA for each state\n",
    "distr_nan = data[['U.S._STATE', 'CUSTOMERS.AFFECTED']].assign(NotNA = data[['U.S._STATE', 'CUSTOMERS.AFFECTED']]['CUSTOMERS.AFFECTED'].isna()== False)\n",
    "dist_notNA = distr_nan[distr_nan['NotNA']][['U.S._STATE','NotNA']]\n",
    "dist_notNA = dist_notNA.groupby('U.S._STATE').count()\n",
    "\n",
    "#Found distribution of NA for each state\n",
    "distr_nan = data[['U.S._STATE', 'CUSTOMERS.AFFECTED']].assign(NotNA = data[['U.S._STATE', 'CUSTOMERS.AFFECTED']]['CUSTOMERS.AFFECTED'].isna()== False)\n",
    "dist_NA = distr_nan[distr_nan['NotNA'] == False][['U.S._STATE','NotNA']].rename(columns = {'NotNA' : 'ISNA'})\n",
    "dist_NA = dist_NA.groupby('U.S._STATE').count()\n",
    "plot_df = dist_NA.merge(dist_notNA, left_index=True, right_index=True)\n",
    "#plot\n",
    "plot_dist_na =  px.bar(plot_df.reset_index(), x='U.S._STATE', y=['ISNA', 'NotNA'], title='Distribution of NAN and Non_NAN values for each state')\n",
    "plot_dist_na.update_layout(barmode='group', xaxis_tickangle=-45)\n",
    "plot_dist_na"
   ]
  },
  {
   "cell_type": "code",
   "execution_count": 14,
   "metadata": {},
   "outputs": [],
   "source": [
    "#FIND TVD\n",
    "def find_tvd(df, depends_on, col_analyze):\n",
    "    df = df.copy()\n",
    "    df_needed = df.loc[:,[depends_on, col_analyze]]\n",
    "    df_needed['ISNA'] = df_needed.loc[:,col_analyze].isna()\n",
    "    df_needed[col_analyze] = df_needed.loc[:,col_analyze].fillna(0)\n",
    "    find_prop = df_needed.pivot_table(index = depends_on, columns = 'ISNA', aggfunc = 'count', fill_value=0).loc[:,col_analyze]\n",
    "    total_not_missing = find_prop[False].sum()\n",
    "    total_missing = find_prop[True].sum()\n",
    "    find_prop[False] = find_prop[False] / total_not_missing\n",
    "    find_prop[True] = find_prop[True] / total_missing\n",
    "    return find_prop.diff(axis=1)[True].abs().sum()"
   ]
  },
  {
   "cell_type": "code",
   "execution_count": 15,
   "metadata": {},
   "outputs": [],
   "source": [
    "#MAR PERMUTATION TEST\n",
    "def mar_permutation(df, depends_on, col_analyze, N = 1000):\n",
    "    observed = find_tvd(df, depends_on, col_analyze)\n",
    "    arr = []\n",
    "    for _ in range(N):\n",
    "        shuffled = df.assign(**{col_analyze: np.random.permutation(df[col_analyze])}) \n",
    "        arr.append(find_tvd(shuffled, depends_on, col_analyze))\n",
    "    plot = px.histogram(np.array(arr))\n",
    "    plot.add_vline(x=observed, line_color= \"green\", annotation_text=\"obs\")\n",
    "    plot.update_layout(xaxis_title = \"TVD of Missing and Non-Missing Values\", yaxis_title = \"Frequency\", title_text = \"Simulated Null Values\",showlegend=False)\n",
    "\n",
    "\n",
    "    return plot, np.array([np.array(arr) > observed]).mean()\n"
   ]
  },
  {
   "cell_type": "code",
   "execution_count": 16,
   "metadata": {},
   "outputs": [
    {
     "name": "stdout",
     "output_type": "stream",
     "text": [
      "0.374\n"
     ]
    },
    {
     "data": {
      "application/vnd.plotly.v1+json": {
       "config": {
        "plotlyServerURL": "https://plot.ly"
       },
       "data": [
        {
         "alignmentgroup": "True",
         "bingroup": "x",
         "hovertemplate": "variable=0<br>value=%{x}<br>count=%{y}<extra></extra>",
         "legendgroup": "0",
         "marker": {
          "color": "#636efa",
          "pattern": {
           "shape": ""
          }
         },
         "name": "0",
         "offsetgroup": "0",
         "orientation": "v",
         "showlegend": true,
         "type": "histogram",
         "x": [
          0.04773774612484291,
          0.08607038123167154,
          0.043745831183377604,
          0.04589788444354956,
          0.07752006091489494,
          0.11715542521994135,
          0.0532677000418936,
          0.07892120464642144,
          0.06173020527859241,
          0.04687892752408879,
          0.11801424382069542,
          0.054126518642647725,
          0.028571428571428636,
          0.03764054098093536,
          0.03481555350638188,
          0.024696271470465048,
          0.06337073574817384,
          0.05675536781940557,
          0.049027380997327785,
          0.035923340143643234,
          0.03617511520737321,
          0.027203636621919103,
          0.04558022622538743,
          0.05603249910050126,
          0.10136154168412234,
          0.036512452839648546,
          0.027712609970674484,
          0.05221560804943437,
          0.03531629660661928,
          0.0013889934817715166,
          0.04049015500628411,
          0.018076408378325082,
          0.0711353162966066,
          0.05038375887324886,
          0.05147224941637166,
          0.05881048606404432,
          0.0756039193044992,
          0.07415299382058385,
          0.09666055844231905,
          0.04558022622538743,
          0.05503816698211353,
          0.08342002899604326,
          0.05860459645541119,
          0.09385693335505949,
          0.04283499892880993,
          0.1034716469613676,
          0.07474210651658916,
          0.047737746124842884,
          0.08233040541392048,
          0.0605152911604524,
          0.07752006091489491,
          0.05199939754499586,
          0.051561984265259514,
          0.07968160871386676,
          0.058810486064044265,
          0.14535482089514776,
          0.08873654186252641,
          0.04509208357389702,
          0.05061040406322434,
          0.045190375319102666,
          0.09707731870104916,
          0.03617511520737329,
          0.10112458267439825,
          0.05147224941637177,
          0.03726869622488754,
          0.1381873401534527,
          0.02002513615416837,
          0.09281524926686222,
          0.09160033514872229,
          0.06337073574817384,
          0.050610404063224285,
          0.021226365557249882,
          0.07113531629660655,
          0.09067988941886179,
          0.09245915374947627,
          0.07239401194102182,
          0.0144604187296056,
          0.04134897360703807,
          0.06604524507750312,
          0.020228461638497036,
          0.08213040687650236,
          0.0055299539170506895,
          0.07782300580122917,
          0.12993297025555087,
          0.06845954472323387,
          0.06519065190651904,
          0.019571420203997936,
          0.06726015919564307,
          0.048952660242982865,
          0.06241266494297598,
          0.08089652283200668,
          0.08433114943394329,
          0.015049531425610913,
          0.018076408378325137,
          0.06475972922994533,
          0.0541265186426477,
          0.10545550780708501,
          0.07329283619606197,
          0.03994685451423266,
          0.007433603074122053,
          0.05664013405948887,
          0.030511835730602233,
          0.05326770004189357,
          0.03871191773142221,
          0.1070738258402992,
          0.09474441683192339,
          0.12026508020182244,
          0.041705069124423955,
          0.0756039193044992,
          0.06690406367825724,
          0.04366612550707494,
          0.027712609970674484,
          0.02339757017176372,
          0.036512452839648546,
          0.04509208357389696,
          0.02318012225132962,
          0.05881048606404429,
          0.09245915374947636,
          0.042884061785805366,
          0.03966998853662007,
          0.025951586046472658,
          0.016808513305172884,
          0.04581817876724695,
          0.04170506912442398,
          0.048952660242982865,
          0.027712609970674484,
          0.01818242672222642,
          0.09028039259984444,
          0.06241266494297598,
          0.01371840249014733,
          0.03966998853662007,
          0.08828229639118268,
          0.1521659094141962,
          0.075870194657876,
          0.0544826141600335,
          0.05906168135270298,
          0.047737746124842995,
          0.008546292417260126,
          0.08852783615868981,
          0.11715542521994132,
          0.041348973607038125,
          0.0897916379422001,
          0.11411755328743961,
          0.04605015437909482,
          0.022538751571009596,
          0.016149979053204866,
          0.045190375319102666,
          0.0876779540690519,
          0.07613106743312328,
          0.09160033514872232,
          0.026573914212381256,
          0.011918726434855531,
          0.12051498256962712,
          0.09160033514872232,
          0.050083255934600224,
          0.03726869622488754,
          0.0874119566904526,
          0.0629381190299399,
          0.05014326046556511,
          0.12899231033126662,
          0.03328982269414532,
          0.019571420203997936,
          0.08390022675736963,
          0.04327216741555173,
          0.032858900017571635,
          0.02002513615416837,
          0.09171606321079631,
          0.0567553678194056,
          0.06423258110132127,
          0.04558022622538743,
          0.07560391930449914,
          0.04690757615639479,
          0.033289822694145266,
          0.04170506912442398,
          0.09385693335505943,
          0.03747381650607465,
          0.1012429890467621,
          0.07140789589599675,
          0.011758684772440298,
          0.10450613938912767,
          0.0396699885366201,
          0.03642886248020402,
          0.059650794048708294,
          0.058692743007924486,
          0.07752006091489488,
          0.017751504045652622,
          0.031081313825072482,
          0.08858399664851285,
          0.06690406367825719,
          0.10987217726542409,
          0.009405111018014223,
          0.02779274931792447,
          0.11073465658028153,
          0.08089652283200668,
          0.015049531425610913,
          0.1088937419986444,
          0.02508974069332534,
          0.0718048992450166,
          0.08251123327559806,
          0.05881048606404429,
          0.005140328442589853,
          0.08251123327559806,
          0.09811349249298384,
          0.02002513615416837,
          0.08607038123167152,
          0.01579388353581901,
          0.08828229639118262,
          0.028927524088814383,
          0.08251123327559812,
          0.08767795406905188,
          0.07565327191801224,
          0.060871386677838285,
          0.023769234947334933,
          0.08420275446037165,
          0.04685091135167385,
          0.15522492824105985,
          0.055627279678118785,
          0.10775031420192707,
          0.05006355478926244,
          0.02670559659698718,
          0.04685091135167385,
          0.06925584263582485,
          0.03923906586004636,
          0.056463421777074946,
          0.08513722983333541,
          0.03498800687241915,
          0.08198408514697392,
          0.0756532719180123,
          0.02978634268956845,
          0.01576959752660123,
          0.017751504045652622,
          0.10347474798323672,
          0.02318012225132962,
          0.032616632521498934,
          0.01614997905320492,
          0.01830749895266029,
          0.04693405823548413,
          0.03668461091313471,
          0.08003770423125256,
          0.04134897360703807,
          0.04834288146272056,
          0.11238264749752438,
          0.0907113152764181,
          0.051561984265259514,
          0.15698391012062182,
          0.08052460276674064,
          0.06284358761954964,
          0.04924113537741598,
          0.027712609970674457,
          0.014495557948579846,
          0.04605015437909479,
          0.033289822694145293,
          0.04519037531910264,
          0.03108504398826975,
          0.056466788782582183,
          0.04509208357389696,
          0.0052815498139501815,
          0.06173020527859238,
          0.07560391930449917,
          0.11062366561796252,
          0.09920402178466692,
          0.08198408514697389,
          0.0052815498139501815,
          0.01371840249014733,
          0.018076408378325137,
          0.05503816698211347,
          0.0013889934817715166,
          0.07580645161290323,
          0.07364893171344788,
          0.007164226434618642,
          0.027792749317924498,
          0.09474441683192342,
          0.11875425644368112,
          0.1138849143593477,
          0.016808513305172884,
          0.07752408881441136,
          0.030950972619002648,
          0.09884792626728106,
          0.01371840249014733,
          0.02339757017176375,
          0.07580645161290323,
          0.13753665689149552,
          0.04386258902387938,
          0.08521156263091745,
          0.09920402178466695,
          0.05835777126099706,
          0.0681189777963972,
          0.06922375346202439,
          0.05881048606404435,
          0.04773774612484291,
          0.048666558035956736,
          0.09920402178466697,
          0.03496020108923337,
          0.02142114037176776,
          0.1290644651119865,
          0.09474441683192339,
          0.06879283078545065,
          0.027203636621919103,
          0.04366612550707499,
          0.030871266942700037,
          0.08607038123167154,
          0.0522156080494344,
          0.03747381650607465,
          0.03416435826408126,
          0.03357524556807598,
          0.10049022696626383,
          0.10136154168412229,
          0.1511730205278592,
          0.11789888301490012,
          0.11970863631208176,
          0.0805246027667407,
          0.026478734175096885,
          0.03747381650607465,
          0.03923906586004633,
          0.11090835105735869,
          0.054126518642647725,
          0.06173020527859241,
          0.06173020527859238,
          0.014946911824546744,
          0.058379563387470634,
          0.027203636621919214,
          0.07580645161290323,
          0.09884792626728112,
          0.06604524507750312,
          0.10451092177517135,
          0.09071131527641804,
          0.030140843893491726,
          0.13598734688383363,
          0.031081313825072482,
          0.0681189777963972,
          0.08342002899604337,
          0.08858399664851285,
          0.08422914224983513,
          0.08513722983333546,
          0.05965079404870832,
          0.041705069124423955,
          0.04895266024298284,
          0.05646342177707489,
          0.09613341031369499,
          0.07243401759530793,
          0.07882279011311272,
          0.018156114054627803,
          0.11527807372682722,
          0.05243032022156957,
          0.11162547130289063,
          0.06726015919564307,
          0.035014806838067014,
          0.0532677000418936,
          0.05006355478926239,
          0.12052785923753664,
          0.028927524088814383,
          0.050083255934600196,
          0.03919145370758273,
          0.1158010559697433,
          0.029786342689568507,
          0.1162319786463171,
          0.06602240299486509,
          0.038171540256611236,
          0.06690406367825724,
          0.04866655803595679,
          0.05448261416003353,
          0.03298005066098733,
          0.0422949490898,
          0.06173020527859238,
          0.06173020527859241,
          0.05229531372573701,
          0.08689621171289744,
          0.075870194657876,
          0.04366612550707499,
          0.02978634268956848,
          0.04687892752408876,
          0.03108504398826975,
          0.023769234947335044,
          0.08642647674905735,
          0.046050154379094765,
          0.04687892752408876,
          0.10253485583451358,
          0.0884481304823872,
          0.06423258110132116,
          0.043745831183377604,
          0.09367406786761628,
          0.07968160871386676,
          0.0756532719180123,
          0.07699291278627074,
          0.04687892752408879,
          0.028815461710818946,
          0.03966998853662004,
          0.018156114054627748,
          0.01576959752660123,
          0.0544826141600335,
          0.024696271470465048,
          0.026413908671973158,
          0.07474210651658916,
          0.014149325166721044,
          0.06690406367825716,
          0.08205070120019975,
          0.06173020527859238,
          0.11300167381920234,
          0.10069365999782445,
          0.10764041832894955,
          0.13538218871787128,
          0.017008797653958962,
          0.08433114943394329,
          0.10750474851687289,
          0.07180489924501648,
          0.08454811713733013,
          0.0907113152764181,
          0.11837033933808125,
          0.12170005382558008,
          0.06922375346202439,
          0.050383758873248835,
          0.08873654186252641,
          0.08521156263091745,
          0.06282989030430225,
          0.034164358264081235,
          0.0787656208871787,
          0.036823596715574114,
          0.08748532440890269,
          0.07113531629660655,
          0.09431349415534976,
          0.04389358672228447,
          0.08111371546274596,
          0.12993297025555084,
          0.0884481304823872,
          0.12571497808584328,
          0.008549482542359294,
          0.027203636621919214,
          0.0388187663729459,
          0.11875425644368112,
          0.0684595447232339,
          0.038979734043219055,
          0.07795098359146854,
          0.13177244582043343,
          0.09729133502964363,
          0.08607038123167154,
          0.04366612550707499,
          0.10344755159565308,
          0.04631846346038948,
          0.05664013405948887,
          0.05965647255969833,
          0.08975324447122018,
          0.06879283078545073,
          0.06811897779639714,
          0.07252377536423393,
          0.02763250200585582,
          0.056032499100501176,
          0.05469790340806463,
          0.15216590941419617,
          0.13219396166576475,
          0.030942758407175863,
          0.07486568117183987,
          0.11153578149318005,
          0.08101452740826515,
          0.03285890001757158,
          0.06925584263582485,
          0.041705069124423955,
          0.0741529938205838,
          0.0605152911604524,
          0.07222960694575312,
          0.1354618943941739,
          0.08836425098944864,
          0.02318012225132965,
          0.03357524556807598,
          0.023769234947334933,
          0.05326770004189357,
          0.033023320202871964,
          0.011802260879751614,
          0.08728529534981147,
          0.07140789589599678,
          0.011758684772440298,
          0.03261663252149896,
          0.0751729966279254,
          0.1517393185551117,
          0.07882279011311269,
          0.02857142857142861,
          0.037850072378274896,
          0.12354419773774611,
          0.04423023822074962,
          0.0541265186426477,
          0.0647465437788019,
          0.05038375887324886,
          0.04895266024298281,
          0.039946854514232716,
          0.030871266942699982,
          0.16335551906677862,
          0.05025136154168405,
          0.0526900724065463,
          0.0567553678194056,
          0.02122636555724991,
          0.033289822694145293,
          0.06743218602788081,
          0.1089064647806704,
          0.01579388353581901,
          0.0872852953498115,
          0.08219522413070801,
          0.05534143276078757,
          0.04965233325802637,
          0.011026017055021459,
          0.07517299662792545,
          0.12621432336772342,
          0.11162547130289069,
          0.06063096931941936,
          0.009363461077995239,
          0.08251123327559806,
          0.011918726434855531,
          0.048666558035956764,
          0.035923340143643234,
          0.13753665689149555,
          0.026413908671973213,
          0.07239401194102182,
          0.023437663868577985,
          0.12218122181221816,
          0.06063096931941936,
          0.0440121499270921,
          0.0915088387794922,
          0.050251361541684164,
          0.08433114943394326,
          0.0628584133536374,
          0.055424810279515235,
          0.08428246013667429,
          0.01579388353581901,
          0.10135663044250298,
          0.03726869622488754,
          0.028927524088814383,
          0.030871266942700037,
          0.11076665270213651,
          0.02978634268956848,
          0.04256388772517805,
          0.08521156263091748,
          0.04809384164222874,
          0.06811897779639717,
          0.11411755328743961,
          0.0692558426358248,
          0.0055299539170506895,
          0.04690757615639479,
          0.02978634268956848,
          0.036232522432952885,
          0.04401214992709207,
          0.05966318424888578,
          0.13653682163215755,
          0.0915088387794922,
          0.014946911824546799,
          0.06302890657729368,
          0.05785241525884641,
          0.0013889934817715166,
          0.0687928307854507,
          0.0961632468883569,
          0.07587019465787598,
          0.04256388772517802,
          0.056463421777074946,
          0.0013889934817715166,
          0.03726869622488754,
          0.04953201742192567,
          0.035316296606619224,
          0.009726157145658693,
          0.045190375319102666,
          0.0787656208871787,
          0.07580645161290317,
          0.01830749895266018,
          0.06543329029885975,
          0.11284038542103053,
          0.05881048606404435,
          0.016808513305172884,
          0.12047145728097336,
          0.08607038123167152,
          0.014149325166721127,
          0.00867792247945412,
          0.06087138667783831,
          0.07699291278627074,
          0.06182223956170277,
          0.04809384164222871,
          0.022182656053623795,
          0.04605015437909479,
          0.007769159324246322,
          0.1106236656179625,
          0.15247172182656055,
          0.14813280785869085,
          0.06778138487442706,
          0.0788815935947037,
          0.03881876637294587,
          0.018076408378325082,
          0.0711398950724201,
          0.09484555976457465,
          0.1192291579388354,
          0.02670559659698718,
          0.0916453520151212,
          0.08420275446037162,
          0.011026017055021459,
          0.05982984440652084,
          0.03328982269414532,
          0.040535967210238,
          0.019703939534475606,
          0.0544826141600335,
          0.03285890001757166,
          0.0778053251781842,
          0.15756179304566398,
          0.08433114943394329,
          0.050610404063224285,
          0.06949858571171913,
          0.05199939754499583,
          0.06284358761954967,
          0.0544826141600335,
          0.0898845462169797,
          0.0884481304823872,
          0.1268327061755119,
          0.06241266494297598,
          0.10253485583451358,
          0.06199888862427563,
          0.05965647255969833,
          0.10304072428479394,
          0.10660015124737307,
          0.03310302587917463,
          0.027741770388921727,
          0.11238264749752438,
          0.05982984440652081,
          0.06509017229011191,
          0.09326782065905412,
          0.029134136492125484,
          0.07148760157229936,
          0.024131669888127427,
          0.03496020108923334,
          0.06474654377880185,
          0.04139414332102517,
          0.10135663044250301,
          0.10645161290322575,
          0.09030163385002093,
          0.10135663044250301,
          0.04579232355819929,
          0.09884792626728106,
          0.11091227583773366,
          0.023397570171763693,
          0.07141686935262317,
          0.06821966884389016,
          0.08728529534981144,
          0.05881048606404429,
          0.09150883877949223,
          0.02022846163849701,
          0.03994685451423266,
          0.06501073290401724,
          0.05972891679985909,
          0.08032244920248857,
          0.02318012225132965,
          0.06811897779639717,
          0.025951586046472658,
          0.06501046661380927,
          0.05503816698211356,
          0.0897532444712203,
          0.023616589582992037,
          0.07113989507242013,
          0.028927524088814383,
          0.046907576156394765,
          0.06302890657729363,
          0.10523669878508587,
          0.10897385078214003,
          0.0532791851025515,
          0.17586929199832424,
          0.07882279011311272,
          0.06811897779639717,
          0.0694176790950985,
          0.021323837452869726,
          0.05646098407144995,
          0.08433114943394332,
          0.09788044772564905,
          0.04197977994100047,
          0.041705069124423955,
          0.07391631275388252,
          0.13494155349716763,
          0.04589788444354956,
          0.06475972922994533,
          0.037473816506074537,
          0.0741529938205838,
          0.03938618710959324,
          0.10772012400525216,
          0.02002513615416837,
          0.0711398950724201,
          0.1268430662271301,
          0.06699407084113942,
          0.06312697676556231,
          0.07817650819117336,
          0.0745077503142019,
          0.02508974069332534,
          0.0746170981260777,
          0.07148760157229936,
          0.0839002267573696,
          0.17335567658148304,
          0.08728529534981144,
          0.12512586538983814,
          0.07788503085448684,
          0.12218122181221816,
          0.03737748421742196,
          0.03966998853662004,
          0.04687892752408876,
          0.03357524556807587,
          0.041705069124423955,
          0.0815531624704002,
          0.08454811713733013,
          0.03617511520737324,
          0.011371338203177928,
          0.07752408881441136,
          0.01989042947805872,
          0.10437788018433178,
          0.03617511520737329,
          0.12026508020182242,
          0.0368920015730769,
          0.03126893203477851,
          0.008546292417260126,
          0.05534143276078754,
          0.11922915793883535,
          0.04519037531910264,
          0.06975090159064856,
          0.033023320202871936,
          0.12026508020182244,
          0.10517267997145993,
          0.013910738032612224,
          0.08979163794220008,
          0.04015513528065692,
          0.06925584263582485,
          0.048666558035956736,
          0.09160033514872226,
          0.027792749317924526,
          0.10006284038542104,
          0.05333148751767158,
          0.08391286133221618,
          0.07243401759530796,
          0.056463421777074946,
          0.06509017229011194,
          0.08513722983333544,
          0.05006355478926244,
          0.014820229108643834,
          0.056990569905699034,
          0.06604524507750312,
          0.18137977677239947,
          0.05061040406322434,
          0.12277777081427071,
          0.03410138248847927,
          0.0544826141600335,
          0.06026795959326223,
          0.05646342177707486,
          0.04773774612484291,
          0.04327216741555168,
          0.017008797653958962,
          0.09150883877949217,
          0.10347164696136754,
          0.039500455161362025,
          0.04283499892880993,
          0.12512586538983814,
          0.0524303202215696,
          0.041541664754259106,
          0.11388491435934764,
          0.026625890920684486,
          0.09798910766652696,
          0.03642886248020402,
          0.09669040636782575,
          0.0567553678194056,
          0.05699056990569898,
          0.07782300580122914,
          0.11580105596974333,
          0.023769234947334933,
          0.04687892752408876,
          0.05420641621823705,
          0.05503816698211353,
          0.01371840249014733,
          0.023397570171763693,
          0.04386258902387938,
          0.02339757017176375,
          0.02955173119748647,
          0.03881876637294593,
          0.1488533192949031,
          0.031085043988269806,
          0.028571428571428553,
          0.1034716469613676,
          0.11837033933808128,
          0.02456259256470117,
          0.054126518642647725,
          0.03498800687241915,
          0.028815461710818946,
          0.055627279678118785,
          0.08089652283200671,
          0.09484555976457462,
          0.018525714142464983,
          0.011371338203177928,
          0.1060110385513677,
          0.09245915374947636,
          0.04710364136308065,
          0.04049015500628411,
          0.043703090092125474,
          0.04386258902387938,
          0.08191919486946253,
          0.05785241525884641,
          0.022089350462941693,
          0.06845954472323387,
          0.02978634268956848,
          0.060871386677838285,
          0.05327918510255153,
          0.10750474851687289,
          0.07450775031420187,
          0.027552421630820306,
          0.05835777126099706,
          0.04581817876724695,
          0.04561923170252108,
          0.017751504045652622,
          0.03617511520737332,
          0.028571428571428636,
          0.03357524556807592,
          0.10425205667180576,
          0.040490155006284084,
          0.04687892752408876,
          0.09669040636782575,
          0.04558022622538749,
          0.08889139911807284,
          0.1610516115229237,
          0.09326782065905412,
          0.058810486064044265,
          0.05906168135270304,
          0.059656472559698304,
          0.04925567073196205,
          0.0966605584423191,
          0.04509208357389696,
          0.03410138248847927,
          0.03950045516136205,
          0.12691663175534135,
          0.02892752408881441,
          0.037473816506074537,
          0.09408409051765784,
          0.04589788444354953,
          0.024696271470465048,
          0.07067681110372978,
          0.05906168135270298,
          0.08988454621697972,
          0.10450613938912767,
          0.06173020527859241,
          0.06778138487442706,
          0.027325346614618384,
          0.07157081774899385,
          0.03923906586004633,
          0.05010368726086217,
          0.061409775928270266,
          0.09704141514704712,
          0.1375366568914956,
          0.130791788856305,
          0.04579232355819929,
          0.12898475943568377,
          0.026413908671973158,
          0.03871191773142221,
          0.060612552666843095,
          0.06173020527859241,
          0.10132269472306471,
          0.06821966884389016,
          0.06811897779639717,
          0.054126518642647725,
          0.08852783615868975,
          0.0440121499270921,
          0.05861303733162182,
          0.03413919967110918,
          0.052295313725737036,
          0.018182426722226447,
          0.0373484019011901,
          0.06821966884389022,
          0.11441206248797187,
          0.0368920015730769,
          0.0672601591956431,
          0.03785007237827484,
          0.12803423952606868,
          0.09281524926686216,
          0.1588198525864492,
          0.10795495120834434,
          0.03496020108923337,
          0.03726869622488754,
          0.09798910766652705,
          0.058692743007924486,
          0.03302332020287191,
          0.16395056556346874,
          0.016261084716428703,
          0.07415299382058385,
          0.0756532719180123,
          0.12266703582979899,
          0.10366294397580039,
          0.07882279011311272,
          0.024562592564701224,
          0.0672601591956431,
          0.0624126649429759,
          0.06751017630527659,
          0.05646098407144989,
          0.05965647255969833,
          0.031081313825072537,
          0.10251357615616974,
          0.030871266942700037,
          0.0694176790950985,
          0.02508974069332534,
          0.07795098359146857,
          0.07795098359146857,
          0.08975324447122018,
          0.08191919486946253,
          0.04534283556493912,
          0.06612634608204648,
          0.048952660242982865,
          0.023437663868577985,
          0.1002068152548275,
          0.10645161290322577,
          0.13013068518355161,
          0.03014084389349178,
          0.056540689747752504,
          0.04589788444354953,
          0.031085043988269806,
          0.03146990653580006,
          0.0693355483121274,
          0.0054220950372769194,
          0.10136154168412234,
          0.05699056990569898,
          0.0541265186426477,
          0.09707731870104919,
          0.014705015122029291,
          0.049652333258026426,
          0.17376676441099606,
          0.043740585739142024,
          0.07067681110372975,
          0.10304072428479388,
          0.04386258902387938,
          0.11345399168277404,
          0.026075548480632454,
          0.024562592564701224,
          0.06519065190651904,
          0.05965079404870832,
          0.027712609970674484,
          0.05412651864264767,
          0.0069607216421620766,
          0.0961632468883569,
          0.05562727967811884,
          0.03919145370758273,
          0.055341432760787596,
          0.038979734043219,
          0.013910738032612224,
          0.08052460276674064,
          0.0053612554902528475,
          0.08521156263091745,
          0.012329409008375758,
          0.04386258902387938,
          0.06285841335363734,
          0.04581817876724692,
          0.01700879765395888,
          0.07882279011311263,
          0.14817704728224618,
          0.004231252618349335,
          0.03617511520737329,
          0.04053662895329668,
          0.08224180360403274,
          0.032802681189777916,
          0.05221560804943437,
          0.009405111018014223,
          0.02892752408881441,
          0.02489732308862172,
          0.01830749895266029,
          0.049027380997327785,
          0.12009780399978298,
          0.05534143276078757,
          0.1173184122863396,
          0.030950972619002703,
          0.06778138487442709,
          0.1266452460442971,
          0.06337073574817378,
          0.016089258667378814,
          0.02647873417509683,
          0.05646342177707492,
          0.1016517308030224,
          0.05243032022156954,
          0.0628435876195497,
          0.1216540736835939,
          0.07061274694379596,
          0.03966998853662007,
          0.02339757017176372,
          0.04693405823548413,
          0.07788503085448684,
          0.07752006091489491,
          0.05008325593460025,
          0.05243032022156954,
          0.07573297759431485,
          0.07140789589599678,
          0.0864264767490574,
          0.058379563387470634,
          0.05534143276078754,
          0.013332330588318814,
          0.08198408514697392,
          0.051561984265259514,
          0.04386258902387938,
          0.09091972608348681,
          0.08852783615868981,
          0.05965647255969836,
          0.103395042306934,
          0.07565327191801224,
          0.09245915374947639,
          0.0787656208871787,
          0.07329283619606203,
          0.1523295020117571,
          0.04256388772517805,
          0.020832027675762366,
          0.04925567073196205,
          0.04053596721023803,
          0.08391286133221612,
          0.058692743007924486,
          0.010620025136154176
         ],
         "xaxis": "x",
         "yaxis": "y"
        }
       ],
       "layout": {
        "annotations": [
         {
          "showarrow": false,
          "text": "obs",
          "x": 0.07061274694379596,
          "xanchor": "left",
          "xref": "x",
          "y": 1,
          "yanchor": "top",
          "yref": "y domain"
         }
        ],
        "barmode": "relative",
        "legend": {
         "title": {
          "text": "variable"
         },
         "tracegroupgap": 0
        },
        "margin": {
         "t": 60
        },
        "shapes": [
         {
          "line": {
           "color": "green"
          },
          "type": "line",
          "x0": 0.07061274694379596,
          "x1": 0.07061274694379596,
          "xref": "x",
          "y0": 0,
          "y1": 1,
          "yref": "y domain"
         }
        ],
        "showlegend": false,
        "template": {
         "data": {
          "bar": [
           {
            "error_x": {
             "color": "#2a3f5f"
            },
            "error_y": {
             "color": "#2a3f5f"
            },
            "marker": {
             "line": {
              "color": "#E5ECF6",
              "width": 0.5
             },
             "pattern": {
              "fillmode": "overlay",
              "size": 10,
              "solidity": 0.2
             }
            },
            "type": "bar"
           }
          ],
          "barpolar": [
           {
            "marker": {
             "line": {
              "color": "#E5ECF6",
              "width": 0.5
             },
             "pattern": {
              "fillmode": "overlay",
              "size": 10,
              "solidity": 0.2
             }
            },
            "type": "barpolar"
           }
          ],
          "carpet": [
           {
            "aaxis": {
             "endlinecolor": "#2a3f5f",
             "gridcolor": "white",
             "linecolor": "white",
             "minorgridcolor": "white",
             "startlinecolor": "#2a3f5f"
            },
            "baxis": {
             "endlinecolor": "#2a3f5f",
             "gridcolor": "white",
             "linecolor": "white",
             "minorgridcolor": "white",
             "startlinecolor": "#2a3f5f"
            },
            "type": "carpet"
           }
          ],
          "choropleth": [
           {
            "colorbar": {
             "outlinewidth": 0,
             "ticks": ""
            },
            "type": "choropleth"
           }
          ],
          "contour": [
           {
            "colorbar": {
             "outlinewidth": 0,
             "ticks": ""
            },
            "colorscale": [
             [
              0,
              "#0d0887"
             ],
             [
              0.1111111111111111,
              "#46039f"
             ],
             [
              0.2222222222222222,
              "#7201a8"
             ],
             [
              0.3333333333333333,
              "#9c179e"
             ],
             [
              0.4444444444444444,
              "#bd3786"
             ],
             [
              0.5555555555555556,
              "#d8576b"
             ],
             [
              0.6666666666666666,
              "#ed7953"
             ],
             [
              0.7777777777777778,
              "#fb9f3a"
             ],
             [
              0.8888888888888888,
              "#fdca26"
             ],
             [
              1,
              "#f0f921"
             ]
            ],
            "type": "contour"
           }
          ],
          "contourcarpet": [
           {
            "colorbar": {
             "outlinewidth": 0,
             "ticks": ""
            },
            "type": "contourcarpet"
           }
          ],
          "heatmap": [
           {
            "colorbar": {
             "outlinewidth": 0,
             "ticks": ""
            },
            "colorscale": [
             [
              0,
              "#0d0887"
             ],
             [
              0.1111111111111111,
              "#46039f"
             ],
             [
              0.2222222222222222,
              "#7201a8"
             ],
             [
              0.3333333333333333,
              "#9c179e"
             ],
             [
              0.4444444444444444,
              "#bd3786"
             ],
             [
              0.5555555555555556,
              "#d8576b"
             ],
             [
              0.6666666666666666,
              "#ed7953"
             ],
             [
              0.7777777777777778,
              "#fb9f3a"
             ],
             [
              0.8888888888888888,
              "#fdca26"
             ],
             [
              1,
              "#f0f921"
             ]
            ],
            "type": "heatmap"
           }
          ],
          "heatmapgl": [
           {
            "colorbar": {
             "outlinewidth": 0,
             "ticks": ""
            },
            "colorscale": [
             [
              0,
              "#0d0887"
             ],
             [
              0.1111111111111111,
              "#46039f"
             ],
             [
              0.2222222222222222,
              "#7201a8"
             ],
             [
              0.3333333333333333,
              "#9c179e"
             ],
             [
              0.4444444444444444,
              "#bd3786"
             ],
             [
              0.5555555555555556,
              "#d8576b"
             ],
             [
              0.6666666666666666,
              "#ed7953"
             ],
             [
              0.7777777777777778,
              "#fb9f3a"
             ],
             [
              0.8888888888888888,
              "#fdca26"
             ],
             [
              1,
              "#f0f921"
             ]
            ],
            "type": "heatmapgl"
           }
          ],
          "histogram": [
           {
            "marker": {
             "pattern": {
              "fillmode": "overlay",
              "size": 10,
              "solidity": 0.2
             }
            },
            "type": "histogram"
           }
          ],
          "histogram2d": [
           {
            "colorbar": {
             "outlinewidth": 0,
             "ticks": ""
            },
            "colorscale": [
             [
              0,
              "#0d0887"
             ],
             [
              0.1111111111111111,
              "#46039f"
             ],
             [
              0.2222222222222222,
              "#7201a8"
             ],
             [
              0.3333333333333333,
              "#9c179e"
             ],
             [
              0.4444444444444444,
              "#bd3786"
             ],
             [
              0.5555555555555556,
              "#d8576b"
             ],
             [
              0.6666666666666666,
              "#ed7953"
             ],
             [
              0.7777777777777778,
              "#fb9f3a"
             ],
             [
              0.8888888888888888,
              "#fdca26"
             ],
             [
              1,
              "#f0f921"
             ]
            ],
            "type": "histogram2d"
           }
          ],
          "histogram2dcontour": [
           {
            "colorbar": {
             "outlinewidth": 0,
             "ticks": ""
            },
            "colorscale": [
             [
              0,
              "#0d0887"
             ],
             [
              0.1111111111111111,
              "#46039f"
             ],
             [
              0.2222222222222222,
              "#7201a8"
             ],
             [
              0.3333333333333333,
              "#9c179e"
             ],
             [
              0.4444444444444444,
              "#bd3786"
             ],
             [
              0.5555555555555556,
              "#d8576b"
             ],
             [
              0.6666666666666666,
              "#ed7953"
             ],
             [
              0.7777777777777778,
              "#fb9f3a"
             ],
             [
              0.8888888888888888,
              "#fdca26"
             ],
             [
              1,
              "#f0f921"
             ]
            ],
            "type": "histogram2dcontour"
           }
          ],
          "mesh3d": [
           {
            "colorbar": {
             "outlinewidth": 0,
             "ticks": ""
            },
            "type": "mesh3d"
           }
          ],
          "parcoords": [
           {
            "line": {
             "colorbar": {
              "outlinewidth": 0,
              "ticks": ""
             }
            },
            "type": "parcoords"
           }
          ],
          "pie": [
           {
            "automargin": true,
            "type": "pie"
           }
          ],
          "scatter": [
           {
            "fillpattern": {
             "fillmode": "overlay",
             "size": 10,
             "solidity": 0.2
            },
            "type": "scatter"
           }
          ],
          "scatter3d": [
           {
            "line": {
             "colorbar": {
              "outlinewidth": 0,
              "ticks": ""
             }
            },
            "marker": {
             "colorbar": {
              "outlinewidth": 0,
              "ticks": ""
             }
            },
            "type": "scatter3d"
           }
          ],
          "scattercarpet": [
           {
            "marker": {
             "colorbar": {
              "outlinewidth": 0,
              "ticks": ""
             }
            },
            "type": "scattercarpet"
           }
          ],
          "scattergeo": [
           {
            "marker": {
             "colorbar": {
              "outlinewidth": 0,
              "ticks": ""
             }
            },
            "type": "scattergeo"
           }
          ],
          "scattergl": [
           {
            "marker": {
             "colorbar": {
              "outlinewidth": 0,
              "ticks": ""
             }
            },
            "type": "scattergl"
           }
          ],
          "scattermapbox": [
           {
            "marker": {
             "colorbar": {
              "outlinewidth": 0,
              "ticks": ""
             }
            },
            "type": "scattermapbox"
           }
          ],
          "scatterpolar": [
           {
            "marker": {
             "colorbar": {
              "outlinewidth": 0,
              "ticks": ""
             }
            },
            "type": "scatterpolar"
           }
          ],
          "scatterpolargl": [
           {
            "marker": {
             "colorbar": {
              "outlinewidth": 0,
              "ticks": ""
             }
            },
            "type": "scatterpolargl"
           }
          ],
          "scatterternary": [
           {
            "marker": {
             "colorbar": {
              "outlinewidth": 0,
              "ticks": ""
             }
            },
            "type": "scatterternary"
           }
          ],
          "surface": [
           {
            "colorbar": {
             "outlinewidth": 0,
             "ticks": ""
            },
            "colorscale": [
             [
              0,
              "#0d0887"
             ],
             [
              0.1111111111111111,
              "#46039f"
             ],
             [
              0.2222222222222222,
              "#7201a8"
             ],
             [
              0.3333333333333333,
              "#9c179e"
             ],
             [
              0.4444444444444444,
              "#bd3786"
             ],
             [
              0.5555555555555556,
              "#d8576b"
             ],
             [
              0.6666666666666666,
              "#ed7953"
             ],
             [
              0.7777777777777778,
              "#fb9f3a"
             ],
             [
              0.8888888888888888,
              "#fdca26"
             ],
             [
              1,
              "#f0f921"
             ]
            ],
            "type": "surface"
           }
          ],
          "table": [
           {
            "cells": {
             "fill": {
              "color": "#EBF0F8"
             },
             "line": {
              "color": "white"
             }
            },
            "header": {
             "fill": {
              "color": "#C8D4E3"
             },
             "line": {
              "color": "white"
             }
            },
            "type": "table"
           }
          ]
         },
         "layout": {
          "annotationdefaults": {
           "arrowcolor": "#2a3f5f",
           "arrowhead": 0,
           "arrowwidth": 1
          },
          "autotypenumbers": "strict",
          "coloraxis": {
           "colorbar": {
            "outlinewidth": 0,
            "ticks": ""
           }
          },
          "colorscale": {
           "diverging": [
            [
             0,
             "#8e0152"
            ],
            [
             0.1,
             "#c51b7d"
            ],
            [
             0.2,
             "#de77ae"
            ],
            [
             0.3,
             "#f1b6da"
            ],
            [
             0.4,
             "#fde0ef"
            ],
            [
             0.5,
             "#f7f7f7"
            ],
            [
             0.6,
             "#e6f5d0"
            ],
            [
             0.7,
             "#b8e186"
            ],
            [
             0.8,
             "#7fbc41"
            ],
            [
             0.9,
             "#4d9221"
            ],
            [
             1,
             "#276419"
            ]
           ],
           "sequential": [
            [
             0,
             "#0d0887"
            ],
            [
             0.1111111111111111,
             "#46039f"
            ],
            [
             0.2222222222222222,
             "#7201a8"
            ],
            [
             0.3333333333333333,
             "#9c179e"
            ],
            [
             0.4444444444444444,
             "#bd3786"
            ],
            [
             0.5555555555555556,
             "#d8576b"
            ],
            [
             0.6666666666666666,
             "#ed7953"
            ],
            [
             0.7777777777777778,
             "#fb9f3a"
            ],
            [
             0.8888888888888888,
             "#fdca26"
            ],
            [
             1,
             "#f0f921"
            ]
           ],
           "sequentialminus": [
            [
             0,
             "#0d0887"
            ],
            [
             0.1111111111111111,
             "#46039f"
            ],
            [
             0.2222222222222222,
             "#7201a8"
            ],
            [
             0.3333333333333333,
             "#9c179e"
            ],
            [
             0.4444444444444444,
             "#bd3786"
            ],
            [
             0.5555555555555556,
             "#d8576b"
            ],
            [
             0.6666666666666666,
             "#ed7953"
            ],
            [
             0.7777777777777778,
             "#fb9f3a"
            ],
            [
             0.8888888888888888,
             "#fdca26"
            ],
            [
             1,
             "#f0f921"
            ]
           ]
          },
          "colorway": [
           "#636efa",
           "#EF553B",
           "#00cc96",
           "#ab63fa",
           "#FFA15A",
           "#19d3f3",
           "#FF6692",
           "#B6E880",
           "#FF97FF",
           "#FECB52"
          ],
          "font": {
           "color": "#2a3f5f"
          },
          "geo": {
           "bgcolor": "white",
           "lakecolor": "white",
           "landcolor": "#E5ECF6",
           "showlakes": true,
           "showland": true,
           "subunitcolor": "white"
          },
          "hoverlabel": {
           "align": "left"
          },
          "hovermode": "closest",
          "mapbox": {
           "style": "light"
          },
          "paper_bgcolor": "white",
          "plot_bgcolor": "#E5ECF6",
          "polar": {
           "angularaxis": {
            "gridcolor": "white",
            "linecolor": "white",
            "ticks": ""
           },
           "bgcolor": "#E5ECF6",
           "radialaxis": {
            "gridcolor": "white",
            "linecolor": "white",
            "ticks": ""
           }
          },
          "scene": {
           "xaxis": {
            "backgroundcolor": "#E5ECF6",
            "gridcolor": "white",
            "gridwidth": 2,
            "linecolor": "white",
            "showbackground": true,
            "ticks": "",
            "zerolinecolor": "white"
           },
           "yaxis": {
            "backgroundcolor": "#E5ECF6",
            "gridcolor": "white",
            "gridwidth": 2,
            "linecolor": "white",
            "showbackground": true,
            "ticks": "",
            "zerolinecolor": "white"
           },
           "zaxis": {
            "backgroundcolor": "#E5ECF6",
            "gridcolor": "white",
            "gridwidth": 2,
            "linecolor": "white",
            "showbackground": true,
            "ticks": "",
            "zerolinecolor": "white"
           }
          },
          "shapedefaults": {
           "line": {
            "color": "#2a3f5f"
           }
          },
          "ternary": {
           "aaxis": {
            "gridcolor": "white",
            "linecolor": "white",
            "ticks": ""
           },
           "baxis": {
            "gridcolor": "white",
            "linecolor": "white",
            "ticks": ""
           },
           "bgcolor": "#E5ECF6",
           "caxis": {
            "gridcolor": "white",
            "linecolor": "white",
            "ticks": ""
           }
          },
          "title": {
           "x": 0.05
          },
          "xaxis": {
           "automargin": true,
           "gridcolor": "white",
           "linecolor": "white",
           "ticks": "",
           "title": {
            "standoff": 15
           },
           "zerolinecolor": "white",
           "zerolinewidth": 2
          },
          "yaxis": {
           "automargin": true,
           "gridcolor": "white",
           "linecolor": "white",
           "ticks": "",
           "title": {
            "standoff": 15
           },
           "zerolinecolor": "white",
           "zerolinewidth": 2
          }
         }
        },
        "title": {
         "text": "Simulated Null Values"
        },
        "xaxis": {
         "anchor": "y",
         "domain": [
          0,
          1
         ],
         "title": {
          "text": "TVD of Missing and Non-Missing Values"
         }
        },
        "yaxis": {
         "anchor": "x",
         "domain": [
          0,
          1
         ],
         "title": {
          "text": "Frequency"
         }
        }
       }
      }
     },
     "metadata": {},
     "output_type": "display_data"
    }
   ],
   "source": [
    "graph, p_value = mar_permutation(data, 'CLIMATE.CATEGORY', 'CUSTOMERS.AFFECTED')\n",
    "# graph.write_html('../03-topic/mar-hist.html', include_plotlyjs='cdn')\n",
    "print(p_value)\n",
    "graph"
   ]
  },
  {
   "cell_type": "code",
   "execution_count": 17,
   "metadata": {},
   "outputs": [
    {
     "name": "stdout",
     "output_type": "stream",
     "text": [
      "0.0\n"
     ]
    },
    {
     "data": {
      "application/vnd.plotly.v1+json": {
       "config": {
        "plotlyServerURL": "https://plot.ly"
       },
       "data": [
        {
         "alignmentgroup": "True",
         "bingroup": "x",
         "hovertemplate": "variable=0<br>value=%{x}<br>count=%{y}<extra></extra>",
         "legendgroup": "0",
         "marker": {
          "color": "#636efa",
          "pattern": {
           "shape": ""
          }
         },
         "name": "0",
         "offsetgroup": "0",
         "orientation": "v",
         "showlegend": true,
         "type": "histogram",
         "x": [
          0.29679317543703565,
          0.24356472927481776,
          0.31140068651163944,
          0.3071011952916641,
          0.32053762261722735,
          0.28963839168406397,
          0.31585742572618575,
          0.2783248122852065,
          0.2900273735653707,
          0.2889349138136156,
          0.24087082284151265,
          0.29613107861779014,
          0.33613000271045884,
          0.2913722577294631,
          0.3133124910772109,
          0.29979743975436207,
          0.2246453126648776,
          0.221711396134596,
          0.19809523021313313,
          0.3369286569986737,
          0.2893445862205238,
          0.2610854663541018,
          0.2868575850432329,
          0.29003564977561125,
          0.22196382054693337,
          0.24693728494784956,
          0.26950237216876016,
          0.2390293660629861,
          0.29416134058053484,
          0.24625449760300264,
          0.225290857063642,
          0.28001315917428254,
          0.3164326223379052,
          0.31561327752408896,
          0.23178354399736817,
          0.27473707514591994,
          0.2807538799908134,
          0.284312650394258,
          0.29764148698669385,
          0.28275258476391074,
          0.2096984769704105,
          0.28573615855563583,
          0.22701644689880057,
          0.2756060772211797,
          0.30981165414545025,
          0.23224287366571977,
          0.2610564996182598,
          0.27801445440118516,
          0.24999948273685996,
          0.265658072512016,
          0.3108047993743185,
          0.2462834643388446,
          0.3058225208094961,
          0.27403359727547155,
          0.2316469865283988,
          0.3010636999211691,
          0.2623724170465102,
          0.33922116723531126,
          0.23523472366768539,
          0.23749826716848088,
          0.2438750871588391,
          0.2021422970207712,
          0.21848367414077424,
          0.23251598860365852,
          0.2779358304038998,
          0.2803938648453487,
          0.2513360906907118,
          0.36147175846708035,
          0.22457910298295308,
          0.24327092381127763,
          0.25848259823344294,
          0.2763757647735525,
          0.25366584387343194,
          0.26171859643750534,
          0.2714514196804141,
          0.2345643506381993,
          0.3217169825765084,
          0.2685257793603731,
          0.2933047528206359,
          0.26912166649769403,
          0.2600054209177075,
          0.25833776455423296,
          0.2941116833190914,
          0.2929033566239683,
          0.33140014855797384,
          0.2523002691837381,
          0.23136559538021945,
          0.27329287645894074,
          0.2579074016217234,
          0.2175277718579885,
          0.2852975194128856,
          0.2804600745272732,
          0.29197642107702465,
          0.27088449927893515,
          0.28217738815219123,
          0.24905185666431484,
          0.27708751885424143,
          0.26702364720170985,
          0.2531485807333964,
          0.2853554528845697,
          0.26920856670522,
          0.2656787630376175,
          0.20266783637104735,
          0.28776383006457507,
          0.2223941834794429,
          0.2700361877292769,
          0.29107017605568236,
          0.28879835634464623,
          0.268000240010097,
          0.27155901041354147,
          0.30663358941307184,
          0.29041635544667743,
          0.263766958472046,
          0.27520468102451207,
          0.2561611212609634,
          0.24548481005062972,
          0.23599613500981761,
          0.2656497963017755,
          0.2899197828322433,
          0.2538686110243259,
          0.27134382894728676,
          0.30264445607711776,
          0.30567768713028615,
          0.36305251462302895,
          0.34198955956078153,
          0.25361618661198854,
          0.2414087765071496,
          0.2933626862923199,
          0.31058134169782314,
          0.2552548762396211,
          0.28264499403078336,
          0.3177692302917572,
          0.2736363391839243,
          0.30629012668808825,
          0.3043990126481183,
          0.2889142232880142,
          0.3150877381738128,
          0.2502146642031147,
          0.3076474251675415,
          0.2717245346183529,
          0.3139952784220578,
          0.2262757260822697,
          0.2678429920155262,
          0.2955558820060707,
          0.3331547051289744,
          0.26866233682934243,
          0.24961050085555325,
          0.3392004767097098,
          0.2715962533596241,
          0.2706900083382819,
          0.2520271542457993,
          0.2804807650528746,
          0.20390512980201236,
          0.30605839280135233,
          0.24411923536093588,
          0.2628896801865458,
          0.2684388791528471,
          0.2640607639355862,
          0.2764626649810785,
          0.2897832253632739,
          0.25946746725207065,
          0.2783165360749659,
          0.2492008284486451,
          0.2982580646496163,
          0.2703299931928171,
          0.2387479749148068,
          0.2763261075121092,
          0.28045179831703265,
          0.32324808147101364,
          0.25874743696114116,
          0.3372307386724545,
          0.29419030731637674,
          0.22242315021528497,
          0.2447730559699408,
          0.2822849788853186,
          0.31848926058268656,
          0.3048004088447859,
          0.268087140217623,
          0.29788563518879074,
          0.3059011448067815,
          0.2719479922948483,
          0.33955221564493404,
          0.23298359448225064,
          0.2740046305396296,
          0.3602717079821979,
          0.26816576421490834,
          0.3142187360985531,
          0.2812918336564504,
          0.29063153691293214,
          0.2562976787299328,
          0.24168189144508836,
          0.27405428780107305,
          0.30398934024121016,
          0.2915667486701165,
          0.20780736293044055,
          0.24322126654983417,
          0.24033700728099594,
          0.2749812233480168,
          0.26425525487623963,
          0.2395838721491042,
          0.26171032022726476,
          0.24110669483336888,
          0.28469335606532414,
          0.3081522739922163,
          0.2657284202990609,
          0.32841657476624886,
          0.23913695679611352,
          0.2523002691837381,
          0.2903004885033095,
          0.24783525375895124,
          0.325130919300743,
          0.25101331849132963,
          0.2805883557860021,
          0.22510464233322916,
          0.25232923591958006,
          0.3129317854061447,
          0.23043865983327574,
          0.2911860429990503,
          0.31482289944611463,
          0.2567073511368409,
          0.29695042343160644,
          0.3054128484025879,
          0.33011319786556537,
          0.2630841711271992,
          0.2748446658790474,
          0.2501360402058294,
          0.29044532218251945,
          0.23703893750012933,
          0.2315890530567148,
          0.29399581637572336,
          0.2683023216838778,
          0.2779937638755838,
          0.22386734890226415,
          0.3110489475764153,
          0.3027023895488017,
          0.28600099728333395,
          0.3549294142719107,
          0.2684678458886891,
          0.25153058163136516,
          0.24231502152849188,
          0.24827389290170143,
          0.28710173324532967,
          0.30124991465158185,
          0.2475124815595691,
          0.23344292415060225,
          0.3294014437848765,
          0.2623641408362697,
          0.26042336953485634,
          0.2674829768700614,
          0.2762764502506657,
          0.29284542315228435,
          0.24830285963754345,
          0.2970083569032904,
          0.2951751763350044,
          0.2716666011466689,
          0.2648594182238011,
          0.2752460620757149,
          0.24077564642374608,
          0.2384914123973491,
          0.3039520972951276,
          0.2924067840095341,
          0.3008981757163577,
          0.3020899499909997,
          0.28396091145903385,
          0.25440656468996287,
          0.28839696014797866,
          0.28466438932948207,
          0.30828055525094505,
          0.3258219828558305,
          0.2736156486583229,
          0.29900706167638774,
          0.32992698313515256,
          0.2849168137418195,
          0.2792517478321501,
          0.2905736034412483,
          0.30467212758605716,
          0.27288320405203254,
          0.21595943001740073,
          0.24368059621818572,
          0.26586497776803025,
          0.24608069718795073,
          0.3450890002958745,
          0.30837986977383186,
          0.2303807263615918,
          0.24360197222090033,
          0.3076763919033836,
          0.26974652037085695,
          0.274054287801073,
          0.32723721480696777,
          0.2991146524095152,
          0.3196106870702836,
          0.34538280575941466,
          0.2736446153941648,
          0.26110615687970323,
          0.25076917028923285,
          0.3030334379584244,
          0.23534231440081269,
          0.3022637504060516,
          0.2958496874696108,
          0.231911825256097,
          0.31063099895926666,
          0.27357840571224035,
          0.33495891896141844,
          0.25667838440099894,
          0.2856492583481098,
          0.33739626287726593,
          0.24576620119880904,
          0.27282527058034856,
          0.2764336982452365,
          0.2849375042674209,
          0.27700061864671555,
          0.30316171921715324,
          0.2837871110439819,
          0.31490152344340006,
          0.30937301500270015,
          0.27049551739762845,
          0.286145830962544,
          0.33824457442692424,
          0.22798062539182679,
          0.2996608822853927,
          0.22130172372768786,
          0.23407605423400568,
          0.23353810056836877,
          0.25218440224037014,
          0.30775501590066895,
          0.2162118544297381,
          0.23465125084572525,
          0.2930481903031783,
          0.22556397200158074,
          0.28058835578600205,
          0.2362113164760724,
          0.2820201401576205,
          0.275742634690149,
          0.2641766308789542,
          0.26858371283205706,
          0.2477649059719064,
          0.21183373921247725,
          0.2366209888829806,
          0.2634069433265813,
          0.2971738811081018,
          0.266282926385179,
          0.29826634085985687,
          0.29848979853635216,
          0.3340237072042341,
          0.26723882866796467,
          0.3005878178323364,
          0.23883487512233278,
          0.28850455088110605,
          0.2668291562610566,
          0.3087481611295372,
          0.26140823855348394,
          0.3343547556138568,
          0.2556935153823713,
          0.3207321135578807,
          0.2893445862205238,
          0.36186074034838706,
          0.2778199634605318,
          0.2522133689762121,
          0.2719107493487657,
          0.2257667391524747,
          0.25501072803752434,
          0.22606054461601488,
          0.2392735142650829,
          0.28713069998117163,
          0.27714545232592547,
          0.3125510797350785,
          0.27052448413347047,
          0.26723882866796467,
          0.2341836449671331,
          0.26464423675754634,
          0.28242153635428807,
          0.30595080206822495,
          0.27621024056874116,
          0.2624220743079536,
          0.252983056528585,
          0.26031577880172896,
          0.2870231092480442,
          0.316138816874365,
          0.2712652049500014,
          0.3237943113468912,
          0.26375868226180554,
          0.2655628960942495,
          0.28608789749085994,
          0.23760585790160826,
          0.3046141941143731,
          0.274170154744441,
          0.2327601368057553,
          0.2476986962899818,
          0.2587267464355397,
          0.23040969309743375,
          0.32108385249310495,
          0.2243349547808563,
          0.29370201091218323,
          0.2690430425004086,
          0.2626951892458924,
          0.2822270454136347,
          0.2511498759602991,
          0.2593598765189432,
          0.2763757647735526,
          0.27416187853420043,
          0.3451676242931599,
          0.2952538003322899,
          0.26089925162368904,
          0.29093361858671296,
          0.2292096426125513,
          0.3245060654275801,
          0.2627531227175764,
          0.247131775888503,
          0.24907254718991628,
          0.260257845330045,
          0.2885459319323089,
          0.2891583714901109,
          0.254162416487866,
          0.2610275328824178,
          0.2784034362824918,
          0.28078284672665543,
          0.2946289464591269,
          0.2730901093080468,
          0.3021768501985256,
          0.3296538681972139,
          0.2391948902677975,
          0.2937516681736267,
          0.28332778137563036,
          0.2646649272831478,
          0.23229253092716318,
          0.2731687333053322,
          0.29181089687221323,
          0.3025078986081483,
          0.317971997442651,
          0.2942192740522187,
          0.2703879266645011,
          0.2395259386774202,
          0.2601502545969176,
          0.28672930378450406,
          0.20772873893315513,
          0.2576342866837847,
          0.2756143534314202,
          0.2993091433501685,
          0.2656208295659335,
          0.2803938648453487,
          0.22647021702292305,
          0.30433280296619375,
          0.3690279384167196,
          0.28043110779143127,
          0.33830250789860816,
          0.35523149594569153,
          0.26324141912176996,
          0.25533350023690654,
          0.32839588424064736,
          0.2778282396707724,
          0.24745454808788508,
          0.28042283158119063,
          0.29823737412401485,
          0.3146490990310627,
          0.3405370846635617,
          0.25237889318102347,
          0.29667730849366764,
          0.28832247425581353,
          0.300596094042577,
          0.33293124745247904,
          0.2571956475410345,
          0.2692292572308215,
          0.2646359605473058,
          0.2644125028708104,
          0.27435636947485387,
          0.24192603964718518,
          0.3309615094152237,
          0.27582953489767503,
          0.2399273348740878,
          0.3155636202626455,
          0.2635145340597087,
          0.24173982491677232,
          0.22918067587670926,
          0.2924729936914588,
          0.26351453405970876,
          0.2734211577176695,
          0.25062433661002287,
          0.24313436634230823,
          0.2727176798472211,
          0.2727673371086646,
          0.28152356754318625,
          0.28732519092182496,
          0.2849457804776615,
          0.23780862505250225,
          0.2913515672038617,
          0.3150960143840534,
          0.2365920221471386,
          0.25988541586921937,
          0.23087729897602585,
          0.2785399937514613,
          0.2503015644106407,
          0.23368707235269898,
          0.3046141941143731,
          0.2732349429872567,
          0.25557764843900327,
          0.27340046719206806,
          0.23922385700363946,
          0.3028596375433726,
          0.3513996106043082,
          0.2702017119340883,
          0.27435636947485376,
          0.301601653586806,
          0.25476657983542755,
          0.2257501867319935,
          0.3031617192171533,
          0.2730197615210019,
          0.34699252865120533,
          0.27731097653073683,
          0.34866846122492046,
          0.2608330419417645,
          0.2716169438852255,
          0.2562976787299328,
          0.23170492000008278,
          0.3094392246846247,
          0.3261240645296113,
          0.18740650468743858,
          0.24759938176709503,
          0.3173678340950895,
          0.33247191778412744,
          0.29728147184122916,
          0.26887751829559725,
          0.23418364496713312,
          0.3419605928249395,
          0.30513145725440866,
          0.2623144835748263,
          0.2844285173376259,
          0.2943765220467896,
          0.2634855673238668,
          0.22097895152830568,
          0.26022887859420296,
          0.2029906085704295,
          0.3357492970393927,
          0.2535003196686206,
          0.3109910141047313,
          0.23960456267470562,
          0.3248867710986462,
          0.3720322027340461,
          0.26805817348178096,
          0.26792161601281156,
          0.2865637795796927,
          0.24595241592922182,
          0.31241452226610916,
          0.2888273230804882,
          0.2285185790574638,
          0.2196257911539727,
          0.27270940363698054,
          0.23911626627051208,
          0.31359388222539025,
          0.24986292526789064,
          0.2888562898163302,
          0.24401164462780844,
          0.27687233738798667,
          0.25109194248861505,
          0.23257392207534247,
          0.2734501244535115,
          0.23036003583599035,
          0.28070422272937007,
          0.28828109320461065,
          0.2987049800026069,
          0.236728579616108,
          0.22478187013384704,
          0.25695149933893774,
          0.29129363373217765,
          0.2993381100860105,
          0.22602330166993234,
          0.3402143124641795,
          0.25722461427687643,
          0.24701590894513495,
          0.26332831932929596,
          0.2577336012066715,
          0.2921916025432794,
          0.2077287389331551,
          0.24357300548505834,
          0.31802165470409444,
          0.24810836869688999,
          0.27787789693221576,
          0.3014857866434381,
          0.28393194472319183,
          0.2281958068580816,
          0.24286125140436945,
          0.259546091249356,
          0.3059301115426235,
          0.272308007440313,
          0.28125045260524756,
          0.22551431474013733,
          0.2534010051457337,
          0.2525154506499928,
          0.2535003196686205,
          0.28450714133491134,
          0.23513954724991876,
          0.2661256783906082,
          0.29224953601496345,
          0.3260371643220853,
          0.22756267677467812,
          0.24948221959682443,
          0.27944623877280356,
          0.3522479221539665,
          0.2547583036251871,
          0.27553572943413485,
          0.2800504021203651,
          0.2873748481832684,
          0.29036669818523403,
          0.31323386707992534,
          0.26754091034174543,
          0.21161855774622243,
          0.22001477303527936,
          0.2626951892458924,
          0.22888687041316916,
          0.3182368361703493,
          0.25903710431956106,
          0.2694320243817154,
          0.2541831070134674,
          0.2805966319962426,
          0.29426893131366216,
          0.24868356530860952,
          0.2939668496398814,
          0.23703066128988878,
          0.2498132680064472,
          0.284225750186732,
          0.31147931050892486,
          0.25680666565972776,
          0.2664401743797498,
          0.29107017605568236,
          0.2501153496802279,
          0.24904358045407432,
          0.20288301783730212,
          0.2877348633287332,
          0.24934566212785503,
          0.2597985156616933,
          0.2606385510011111,
          0.30638944121097506,
          0.3063977174212157,
          0.25429069774659485,
          0.23232977387324566,
          0.28365055357501245,
          0.28214842141634927,
          0.2609985661465759,
          0.2881155689997993,
          0.2454641195250283,
          0.2611144330899438,
          0.22942482407880604,
          0.3043907364378777,
          0.2401507925505832,
          0.2889349138136157,
          0.22045341217802955,
          0.3361879361821428,
          0.25954609124935596,
          0.27524606207571495,
          0.3087191943936952,
          0.2894894198997337,
          0.29051566996956424,
          0.28121320965916496,
          0.23922385700363946,
          0.2710996807451899,
          0.24713177588850294,
          0.2792517478321501,
          0.2527389083264882,
          0.23013657815949498,
          0.2988705042074184,
          0.3054128484025879,
          0.2616027294941373,
          0.30653427489018503,
          0.2533347954638092,
          0.25946746725207065,
          0.2944344555184736,
          0.271215547688558,
          0.2087136079517828,
          0.3220769977219732,
          0.3472739197993847,
          0.2954772580087852,
          0.28931561948468176,
          0.21595943001740073,
          0.2801290261176505,
          0.22389631563810616,
          0.3316236062344692,
          0.29583727315424996,
          0.28751968186247834,
          0.3275972299524325,
          0.2981794406523309,
          0.2651118426361385,
          0.3252385100338704,
          0.23259461260094394,
          0.30688601382540925,
          0.1973545093966022,
          0.3527734615042426,
          0.2420336303803125,
          0.3025285891337498,
          0.25172507257201854,
          0.27462948441279256,
          0.2782668788135225,
          0.2918026206619727,
          0.24712349967826236,
          0.26830232168387774,
          0.2399273348740878,
          0.2894107959024483,
          0.2569018420774943,
          0.27621024056874116,
          0.29260955116042814,
          0.3364031176483976,
          0.3481429218746444,
          0.24947394338658382,
          0.3335271345898,
          0.30679911361788315,
          0.27943796256256304,
          0.26611740218036756,
          0.22956965775801602,
          0.30132853864886733,
          0.2855996010866664,
          0.2461179401340332,
          0.19885664155526545,
          0.28409746892800314,
          0.30390244003368416,
          0.26915890944377663,
          0.23760585790160826,
          0.22197623486229423,
          0.28026558358661985,
          0.35370039705118633,
          0.30143612938199466,
          0.3370072809959591,
          0.2681367974790664,
          0.3302497553345348,
          0.22934620008152068,
          0.27289561836739334,
          0.21311241369464512,
          0.2617103202272647,
          0.3838506309575782,
          0.35216102194644056,
          0.28344364831899826,
          0.26138754802788255,
          0.3033272434219646,
          0.27580056816183307,
          0.2393811049982103,
          0.29930086713992793,
          0.23437813590778644,
          0.2620620591624889,
          0.20591624889047055,
          0.31123516230682813,
          0.22061893638284097,
          0.22718197110361193,
          0.2724445649092824,
          0.2480587114354466,
          0.2423439882643339,
          0.28266568455638474,
          0.27063207486659785,
          0.3306387372158415,
          0.23153111958503084,
          0.23443606937947042,
          0.3223128697138293,
          0.2696761725838121,
          0.28578581581707924,
          0.2891500952798704,
          0.243349547808563,
          0.25749772921481523,
          0.29923051935288314,
          0.33298090471392244,
          0.25005741620854394,
          0.2801579928534925,
          0.25621905473264744,
          0.22961931501945942,
          0.2975049295177246,
          0.3346071800261942,
          0.2686126795678991,
          0.35315416717530873,
          0.2639324826768575,
          0.2731190760438888,
          0.2532272047306818,
          0.25314858073339636,
          0.2051838042841802,
          0.2560742210534374,
          0.2218479536035654,
          0.2559666303203101,
          0.2713148622114448,
          0.3179057877607265,
          0.3012995719130253,
          0.22165346266291203,
          0.23615338300438848,
          0.27547779596245087,
          0.2685175031501325,
          0.25232923591958006,
          0.27394669706794567,
          0.27709579506448206,
          0.24723109041138974,
          0.28307535696329295,
          0.2498629252678906,
          0.2701644689880057,
          0.22830339759120902,
          0.2917033061390859,
          0.24296884213749684,
          0.27158797714938354,
          0.28029455032246187,
          0.2649090754852446,
          0.24036597401683799,
          0.3054914723998734,
          0.30045126036336706,
          0.2856782250839518,
          0.29900706167638774,
          0.2829967329660076,
          0.30523904798753604,
          0.2441482020967779,
          0.24669313674575277,
          0.307303962442558,
          0.35462733259813,
          0.27605299257417043,
          0.2447233987084974,
          0.25779981088859605,
          0.2431922998139922,
          0.2929612900956523,
          0.285434076881855,
          0.2980511593936021,
          0.26505390916445454,
          0.27091346601477717,
          0.27687233738798667,
          0.2600716305996322,
          0.27969038697490034,
          0.22951172428633207,
          0.2969214566957644,
          0.24745454808788508,
          0.29837393159298425,
          0.26154479602245334,
          0.26807886400738234,
          0.2756722869031042,
          0.28573615855563583,
          0.2607254512086371,
          0.2291806758767093,
          0.303579667834302,
          0.27339219098182754,
          0.24515376164100694,
          0.2607337274188777,
          0.2605599270038257,
          0.32088936155245157,
          0.30411762149993893,
          0.27914415709902274,
          0.2853471766743291,
          0.2686830273549439,
          0.31574983499305836,
          0.3482008553463284,
          0.3165981465427166,
          0.26745401013421943,
          0.32584267338143197,
          0.3022347836702095,
          0.23634787394504186,
          0.2613503050818,
          0.2151980186752684,
          0.29023014071626463,
          0.2567859751341263,
          0.2585612222307283,
          0.2974469960460405,
          0.20704595158830819,
          0.29445514604407497,
          0.2392817904753235,
          0.2910205187942389,
          0.26557117230449007,
          0.31196760691311837,
          0.2554700577058759,
          0.2691009759720926,
          0.22628400229251028,
          0.30278101354608705,
          0.20330096645445084,
          0.31670573727584406,
          0.2909625853225549,
          0.2660677449189242,
          0.24687935147616558,
          0.3268275424000597,
          0.21350967178619243,
          0.27841171249273244,
          0.2004746406572966,
          0.23138628590582083,
          0.25598732084591147,
          0.24132187629962365,
          0.26705261393755186,
          0.30102645697508656,
          0.3018251112633014,
          0.2827732752895122,
          0.21951820042084527,
          0.27082656580725123,
          0.25495279456584036,
          0.26874096082662785,
          0.29492275192266704,
          0.26746228634446,
          0.2486256318369256,
          0.21792916805465612,
          0.20819634481174723,
          0.25643423619890215,
          0.3011919811798979,
          0.29084671837918696,
          0.33985429731871475,
          0.26513253316173996,
          0.2823222218314012,
          0.3067411801461993,
          0.31935826265794626,
          0.19959736237179634,
          0.27418256905980176,
          0.2886907656115188,
          0.26746228634446,
          0.269833420578383,
          0.24258813646643065,
          0.27613161657145574,
          0.272903894577634,
          0.24859666510108364,
          0.2281958068580816,
          0.25266028432920284,
          0.2684678458886891,
          0.26876992756246987,
          0.27273837037282256,
          0.24031631675539455,
          0.31071789916679254,
          0.264304912137683,
          0.22910205187942392,
          0.35241344635877786,
          0.22953241481193348,
          0.2918605541336567,
          0.25725358101271845,
          0.24081288936982867,
          0.30475075158334247,
          0.25161748183889115,
          0.26647741732583236,
          0.30211891672684166,
          0.272903894577634,
          0.25796533509340736,
          0.3435992824525721,
          0.3749081857926438,
          0.28014971664325194,
          0.26362212479283603,
          0.2020843635490872,
          0.2447813321801814,
          0.26605946870868363,
          0.21506146120629901,
          0.27755512473283367,
          0.2805966319962426,
          0.31429736009583853,
          0.2819911734217785,
          0.25779981088859605,
          0.28663412736673755,
          0.24135911924570622,
          0.23840451218982314,
          0.3243984746944527,
          0.2766571559217319,
          0.24822423564025803,
          0.31465737524130327,
          0.30040160310192365,
          0.2609985661465758,
          0.3039520972951276,
          0.26069648447279503,
          0.18123658995309458,
          0.2590495186349219,
          0.2393811049982103,
          0.2395549054132622,
          0.26713123793483723,
          0.301191981179898,
          0.23569405333603693,
          0.2694030576458734,
          0.27380186338873563,
          0.24204190659055314,
          0.2466848605355122,
          0.23579336785892374,
          0.23273117006991328,
          0.26399041614854146,
          0.26334900985489734,
          0.2858727160246051,
          0.29140122446530514,
          0.25743979574313125,
          0.30467212758605705,
          0.253012023264427,
          0.3249736713061723,
          0.2991436191453572,
          0.22641228355123907,
          0.2527389083264882,
          0.2835429628418851,
          0.3044486699095617,
          0.26360143426723476,
          0.2643131883479236,
          0.216720841359533,
          0.23670788909050652,
          0.271128647481032,
          0.29347855323568783,
          0.2631627951244846,
          0.280646289257686,
          0.3069356710868526,
          0.25943850051622863,
          0.2639242064666169,
          0.31802165470409444,
          0.29914361914535714,
          0.28271534181782815,
          0.33030768880621875,
          0.2687492370368685,
          0.25172507257201854,
          0.24127221903818025,
          0.2678429920155262,
          0.24184741564989978,
          0.29555588200607064,
          0.29246471748121816,
          0.2625379412513216,
          0.2660594687086836,
          0.3118103589185476,
          0.24649864580509934,
          0.22107826605119252,
          0.26001369712794814,
          0.2814656340715023,
          0.3096544061508794,
          0.2391452330063541
         ],
         "xaxis": "x",
         "yaxis": "y"
        }
       ],
       "layout": {
        "annotations": [
         {
          "showarrow": false,
          "text": "obs",
          "x": 0.7583739729740354,
          "xanchor": "left",
          "xref": "x",
          "y": 1,
          "yanchor": "top",
          "yref": "y domain"
         }
        ],
        "barmode": "relative",
        "legend": {
         "title": {
          "text": "variable"
         },
         "tracegroupgap": 0
        },
        "margin": {
         "t": 60
        },
        "shapes": [
         {
          "line": {
           "color": "green"
          },
          "type": "line",
          "x0": 0.7583739729740354,
          "x1": 0.7583739729740354,
          "xref": "x",
          "y0": 0,
          "y1": 1,
          "yref": "y domain"
         }
        ],
        "showlegend": false,
        "template": {
         "data": {
          "bar": [
           {
            "error_x": {
             "color": "#2a3f5f"
            },
            "error_y": {
             "color": "#2a3f5f"
            },
            "marker": {
             "line": {
              "color": "#E5ECF6",
              "width": 0.5
             },
             "pattern": {
              "fillmode": "overlay",
              "size": 10,
              "solidity": 0.2
             }
            },
            "type": "bar"
           }
          ],
          "barpolar": [
           {
            "marker": {
             "line": {
              "color": "#E5ECF6",
              "width": 0.5
             },
             "pattern": {
              "fillmode": "overlay",
              "size": 10,
              "solidity": 0.2
             }
            },
            "type": "barpolar"
           }
          ],
          "carpet": [
           {
            "aaxis": {
             "endlinecolor": "#2a3f5f",
             "gridcolor": "white",
             "linecolor": "white",
             "minorgridcolor": "white",
             "startlinecolor": "#2a3f5f"
            },
            "baxis": {
             "endlinecolor": "#2a3f5f",
             "gridcolor": "white",
             "linecolor": "white",
             "minorgridcolor": "white",
             "startlinecolor": "#2a3f5f"
            },
            "type": "carpet"
           }
          ],
          "choropleth": [
           {
            "colorbar": {
             "outlinewidth": 0,
             "ticks": ""
            },
            "type": "choropleth"
           }
          ],
          "contour": [
           {
            "colorbar": {
             "outlinewidth": 0,
             "ticks": ""
            },
            "colorscale": [
             [
              0,
              "#0d0887"
             ],
             [
              0.1111111111111111,
              "#46039f"
             ],
             [
              0.2222222222222222,
              "#7201a8"
             ],
             [
              0.3333333333333333,
              "#9c179e"
             ],
             [
              0.4444444444444444,
              "#bd3786"
             ],
             [
              0.5555555555555556,
              "#d8576b"
             ],
             [
              0.6666666666666666,
              "#ed7953"
             ],
             [
              0.7777777777777778,
              "#fb9f3a"
             ],
             [
              0.8888888888888888,
              "#fdca26"
             ],
             [
              1,
              "#f0f921"
             ]
            ],
            "type": "contour"
           }
          ],
          "contourcarpet": [
           {
            "colorbar": {
             "outlinewidth": 0,
             "ticks": ""
            },
            "type": "contourcarpet"
           }
          ],
          "heatmap": [
           {
            "colorbar": {
             "outlinewidth": 0,
             "ticks": ""
            },
            "colorscale": [
             [
              0,
              "#0d0887"
             ],
             [
              0.1111111111111111,
              "#46039f"
             ],
             [
              0.2222222222222222,
              "#7201a8"
             ],
             [
              0.3333333333333333,
              "#9c179e"
             ],
             [
              0.4444444444444444,
              "#bd3786"
             ],
             [
              0.5555555555555556,
              "#d8576b"
             ],
             [
              0.6666666666666666,
              "#ed7953"
             ],
             [
              0.7777777777777778,
              "#fb9f3a"
             ],
             [
              0.8888888888888888,
              "#fdca26"
             ],
             [
              1,
              "#f0f921"
             ]
            ],
            "type": "heatmap"
           }
          ],
          "heatmapgl": [
           {
            "colorbar": {
             "outlinewidth": 0,
             "ticks": ""
            },
            "colorscale": [
             [
              0,
              "#0d0887"
             ],
             [
              0.1111111111111111,
              "#46039f"
             ],
             [
              0.2222222222222222,
              "#7201a8"
             ],
             [
              0.3333333333333333,
              "#9c179e"
             ],
             [
              0.4444444444444444,
              "#bd3786"
             ],
             [
              0.5555555555555556,
              "#d8576b"
             ],
             [
              0.6666666666666666,
              "#ed7953"
             ],
             [
              0.7777777777777778,
              "#fb9f3a"
             ],
             [
              0.8888888888888888,
              "#fdca26"
             ],
             [
              1,
              "#f0f921"
             ]
            ],
            "type": "heatmapgl"
           }
          ],
          "histogram": [
           {
            "marker": {
             "pattern": {
              "fillmode": "overlay",
              "size": 10,
              "solidity": 0.2
             }
            },
            "type": "histogram"
           }
          ],
          "histogram2d": [
           {
            "colorbar": {
             "outlinewidth": 0,
             "ticks": ""
            },
            "colorscale": [
             [
              0,
              "#0d0887"
             ],
             [
              0.1111111111111111,
              "#46039f"
             ],
             [
              0.2222222222222222,
              "#7201a8"
             ],
             [
              0.3333333333333333,
              "#9c179e"
             ],
             [
              0.4444444444444444,
              "#bd3786"
             ],
             [
              0.5555555555555556,
              "#d8576b"
             ],
             [
              0.6666666666666666,
              "#ed7953"
             ],
             [
              0.7777777777777778,
              "#fb9f3a"
             ],
             [
              0.8888888888888888,
              "#fdca26"
             ],
             [
              1,
              "#f0f921"
             ]
            ],
            "type": "histogram2d"
           }
          ],
          "histogram2dcontour": [
           {
            "colorbar": {
             "outlinewidth": 0,
             "ticks": ""
            },
            "colorscale": [
             [
              0,
              "#0d0887"
             ],
             [
              0.1111111111111111,
              "#46039f"
             ],
             [
              0.2222222222222222,
              "#7201a8"
             ],
             [
              0.3333333333333333,
              "#9c179e"
             ],
             [
              0.4444444444444444,
              "#bd3786"
             ],
             [
              0.5555555555555556,
              "#d8576b"
             ],
             [
              0.6666666666666666,
              "#ed7953"
             ],
             [
              0.7777777777777778,
              "#fb9f3a"
             ],
             [
              0.8888888888888888,
              "#fdca26"
             ],
             [
              1,
              "#f0f921"
             ]
            ],
            "type": "histogram2dcontour"
           }
          ],
          "mesh3d": [
           {
            "colorbar": {
             "outlinewidth": 0,
             "ticks": ""
            },
            "type": "mesh3d"
           }
          ],
          "parcoords": [
           {
            "line": {
             "colorbar": {
              "outlinewidth": 0,
              "ticks": ""
             }
            },
            "type": "parcoords"
           }
          ],
          "pie": [
           {
            "automargin": true,
            "type": "pie"
           }
          ],
          "scatter": [
           {
            "fillpattern": {
             "fillmode": "overlay",
             "size": 10,
             "solidity": 0.2
            },
            "type": "scatter"
           }
          ],
          "scatter3d": [
           {
            "line": {
             "colorbar": {
              "outlinewidth": 0,
              "ticks": ""
             }
            },
            "marker": {
             "colorbar": {
              "outlinewidth": 0,
              "ticks": ""
             }
            },
            "type": "scatter3d"
           }
          ],
          "scattercarpet": [
           {
            "marker": {
             "colorbar": {
              "outlinewidth": 0,
              "ticks": ""
             }
            },
            "type": "scattercarpet"
           }
          ],
          "scattergeo": [
           {
            "marker": {
             "colorbar": {
              "outlinewidth": 0,
              "ticks": ""
             }
            },
            "type": "scattergeo"
           }
          ],
          "scattergl": [
           {
            "marker": {
             "colorbar": {
              "outlinewidth": 0,
              "ticks": ""
             }
            },
            "type": "scattergl"
           }
          ],
          "scattermapbox": [
           {
            "marker": {
             "colorbar": {
              "outlinewidth": 0,
              "ticks": ""
             }
            },
            "type": "scattermapbox"
           }
          ],
          "scatterpolar": [
           {
            "marker": {
             "colorbar": {
              "outlinewidth": 0,
              "ticks": ""
             }
            },
            "type": "scatterpolar"
           }
          ],
          "scatterpolargl": [
           {
            "marker": {
             "colorbar": {
              "outlinewidth": 0,
              "ticks": ""
             }
            },
            "type": "scatterpolargl"
           }
          ],
          "scatterternary": [
           {
            "marker": {
             "colorbar": {
              "outlinewidth": 0,
              "ticks": ""
             }
            },
            "type": "scatterternary"
           }
          ],
          "surface": [
           {
            "colorbar": {
             "outlinewidth": 0,
             "ticks": ""
            },
            "colorscale": [
             [
              0,
              "#0d0887"
             ],
             [
              0.1111111111111111,
              "#46039f"
             ],
             [
              0.2222222222222222,
              "#7201a8"
             ],
             [
              0.3333333333333333,
              "#9c179e"
             ],
             [
              0.4444444444444444,
              "#bd3786"
             ],
             [
              0.5555555555555556,
              "#d8576b"
             ],
             [
              0.6666666666666666,
              "#ed7953"
             ],
             [
              0.7777777777777778,
              "#fb9f3a"
             ],
             [
              0.8888888888888888,
              "#fdca26"
             ],
             [
              1,
              "#f0f921"
             ]
            ],
            "type": "surface"
           }
          ],
          "table": [
           {
            "cells": {
             "fill": {
              "color": "#EBF0F8"
             },
             "line": {
              "color": "white"
             }
            },
            "header": {
             "fill": {
              "color": "#C8D4E3"
             },
             "line": {
              "color": "white"
             }
            },
            "type": "table"
           }
          ]
         },
         "layout": {
          "annotationdefaults": {
           "arrowcolor": "#2a3f5f",
           "arrowhead": 0,
           "arrowwidth": 1
          },
          "autotypenumbers": "strict",
          "coloraxis": {
           "colorbar": {
            "outlinewidth": 0,
            "ticks": ""
           }
          },
          "colorscale": {
           "diverging": [
            [
             0,
             "#8e0152"
            ],
            [
             0.1,
             "#c51b7d"
            ],
            [
             0.2,
             "#de77ae"
            ],
            [
             0.3,
             "#f1b6da"
            ],
            [
             0.4,
             "#fde0ef"
            ],
            [
             0.5,
             "#f7f7f7"
            ],
            [
             0.6,
             "#e6f5d0"
            ],
            [
             0.7,
             "#b8e186"
            ],
            [
             0.8,
             "#7fbc41"
            ],
            [
             0.9,
             "#4d9221"
            ],
            [
             1,
             "#276419"
            ]
           ],
           "sequential": [
            [
             0,
             "#0d0887"
            ],
            [
             0.1111111111111111,
             "#46039f"
            ],
            [
             0.2222222222222222,
             "#7201a8"
            ],
            [
             0.3333333333333333,
             "#9c179e"
            ],
            [
             0.4444444444444444,
             "#bd3786"
            ],
            [
             0.5555555555555556,
             "#d8576b"
            ],
            [
             0.6666666666666666,
             "#ed7953"
            ],
            [
             0.7777777777777778,
             "#fb9f3a"
            ],
            [
             0.8888888888888888,
             "#fdca26"
            ],
            [
             1,
             "#f0f921"
            ]
           ],
           "sequentialminus": [
            [
             0,
             "#0d0887"
            ],
            [
             0.1111111111111111,
             "#46039f"
            ],
            [
             0.2222222222222222,
             "#7201a8"
            ],
            [
             0.3333333333333333,
             "#9c179e"
            ],
            [
             0.4444444444444444,
             "#bd3786"
            ],
            [
             0.5555555555555556,
             "#d8576b"
            ],
            [
             0.6666666666666666,
             "#ed7953"
            ],
            [
             0.7777777777777778,
             "#fb9f3a"
            ],
            [
             0.8888888888888888,
             "#fdca26"
            ],
            [
             1,
             "#f0f921"
            ]
           ]
          },
          "colorway": [
           "#636efa",
           "#EF553B",
           "#00cc96",
           "#ab63fa",
           "#FFA15A",
           "#19d3f3",
           "#FF6692",
           "#B6E880",
           "#FF97FF",
           "#FECB52"
          ],
          "font": {
           "color": "#2a3f5f"
          },
          "geo": {
           "bgcolor": "white",
           "lakecolor": "white",
           "landcolor": "#E5ECF6",
           "showlakes": true,
           "showland": true,
           "subunitcolor": "white"
          },
          "hoverlabel": {
           "align": "left"
          },
          "hovermode": "closest",
          "mapbox": {
           "style": "light"
          },
          "paper_bgcolor": "white",
          "plot_bgcolor": "#E5ECF6",
          "polar": {
           "angularaxis": {
            "gridcolor": "white",
            "linecolor": "white",
            "ticks": ""
           },
           "bgcolor": "#E5ECF6",
           "radialaxis": {
            "gridcolor": "white",
            "linecolor": "white",
            "ticks": ""
           }
          },
          "scene": {
           "xaxis": {
            "backgroundcolor": "#E5ECF6",
            "gridcolor": "white",
            "gridwidth": 2,
            "linecolor": "white",
            "showbackground": true,
            "ticks": "",
            "zerolinecolor": "white"
           },
           "yaxis": {
            "backgroundcolor": "#E5ECF6",
            "gridcolor": "white",
            "gridwidth": 2,
            "linecolor": "white",
            "showbackground": true,
            "ticks": "",
            "zerolinecolor": "white"
           },
           "zaxis": {
            "backgroundcolor": "#E5ECF6",
            "gridcolor": "white",
            "gridwidth": 2,
            "linecolor": "white",
            "showbackground": true,
            "ticks": "",
            "zerolinecolor": "white"
           }
          },
          "shapedefaults": {
           "line": {
            "color": "#2a3f5f"
           }
          },
          "ternary": {
           "aaxis": {
            "gridcolor": "white",
            "linecolor": "white",
            "ticks": ""
           },
           "baxis": {
            "gridcolor": "white",
            "linecolor": "white",
            "ticks": ""
           },
           "bgcolor": "#E5ECF6",
           "caxis": {
            "gridcolor": "white",
            "linecolor": "white",
            "ticks": ""
           }
          },
          "title": {
           "x": 0.05
          },
          "xaxis": {
           "automargin": true,
           "gridcolor": "white",
           "linecolor": "white",
           "ticks": "",
           "title": {
            "standoff": 15
           },
           "zerolinecolor": "white",
           "zerolinewidth": 2
          },
          "yaxis": {
           "automargin": true,
           "gridcolor": "white",
           "linecolor": "white",
           "ticks": "",
           "title": {
            "standoff": 15
           },
           "zerolinecolor": "white",
           "zerolinewidth": 2
          }
         }
        },
        "title": {
         "text": "Simulated Null Values"
        },
        "xaxis": {
         "anchor": "y",
         "domain": [
          0,
          1
         ],
         "title": {
          "text": "TVD of Missing and Non-Missing Values"
         }
        },
        "yaxis": {
         "anchor": "x",
         "domain": [
          0,
          1
         ],
         "title": {
          "text": "Frequency"
         }
        }
       }
      }
     },
     "metadata": {},
     "output_type": "display_data"
    }
   ],
   "source": [
    "graph, p_value = mar_permutation(data, 'U.S._STATE', 'CUSTOMERS.AFFECTED')\n",
    "print(p_value)\n",
    "graph"
   ]
  },
  {
   "cell_type": "markdown",
   "metadata": {},
   "source": [
    "### Hypothesis Testing"
   ]
  },
  {
   "cell_type": "markdown",
   "metadata": {},
   "source": [
    "1. Out of Nerc Regions/ **States** , what are the most likely to have the worst outages."
   ]
  },
  {
   "cell_type": "code",
   "execution_count": 18,
   "metadata": {},
   "outputs": [],
   "source": [
    "def calculate_outage_severity(data, state, var):\n",
    "    #finds the severity of outage\n",
    "    output = data.groupby(state).mean()\n",
    "    \n",
    "    return output.loc[True,var]"
   ]
  },
  {
   "cell_type": "code",
   "execution_count": 19,
   "metadata": {},
   "outputs": [],
   "source": [
    "#create a permutation test of the column in mind for each state\n",
    "def perm_test(data, state, var, n=1000):\n",
    "    data = data.copy()[[\"U.S._STATE\", var]]\n",
    "    data[state] = data[\"U.S._STATE\"] == state\n",
    "    #find observation\n",
    "    obs = calculate_outage_severity(data, state, var)\n",
    "    test_stats = []\n",
    "    for _ in range(n):\n",
    "        #loop through and add shuffled to test stats\n",
    "        value = np.random.permutation(data[var])\n",
    "        shuffled = data.assign(**{var : value })\n",
    "        trial = calculate_outage_severity(shuffled, state, var)\n",
    "        test_stats.append(trial)\n",
    "    #find p_value\n",
    "    return  (np.array(test_stats) >= obs).mean()"
   ]
  },
  {
   "cell_type": "markdown",
   "metadata": {},
   "source": [
    "**This** represents texas has a difference. "
   ]
  },
  {
   "cell_type": "code",
   "execution_count": 20,
   "metadata": {},
   "outputs": [
    {
     "data": {
      "text/plain": [
       "0.431"
      ]
     },
     "execution_count": 20,
     "metadata": {},
     "output_type": "execute_result"
    }
   ],
   "source": [
    "stat = perm_test(data, \"Texas\", 'OUTAGE.DURATION')\n",
    "stat"
   ]
  },
  {
   "cell_type": "code",
   "execution_count": 38,
   "metadata": {},
   "outputs": [],
   "source": [
    "all_p_values_duration = {}\n",
    "all_p_values_customers = {}\n",
    "for i in data['U.S._STATE'].unique():\n",
    "    #loop through all the states \n",
    "    all_p_values_duration[i] = perm_test(data, i, \"OUTAGE.DURATION\")\n",
    "    all_p_values_customers[i] = perm_test(data, i , \"CUSTOMERS.AFFECTED\")"
   ]
  },
  {
   "cell_type": "markdown",
   "metadata": {},
   "source": [
    "create dataframe to look p_value and how many outages to find how likely an outage is gonna happen and how severe it is. "
   ]
  },
  {
   "cell_type": "code",
   "execution_count": 39,
   "metadata": {},
   "outputs": [],
   "source": [
    "#use dictionires to create dataframe and graph all the values with under 0.05 p_value\n",
    "initial = pd.DataFrame({'duration_p_value' : pd.Series(all_p_values_duration),\n",
    "              'customer_p_value' : pd.Series(all_p_values_customers)})\n",
    "resulting_df = data.groupby('U.S._STATE')[['YEAR']].count().merge(initial, left_index = True, right_index = True).rename(columns = {'YEAR': 'Count of Outages'})\n",
    "graph_df = resulting_df[(resulting_df['duration_p_value'] < 0.05) | (resulting_df['customer_p_value'] < 0.05 )].sort_values('customer_p_value')"
   ]
  },
  {
   "cell_type": "code",
   "execution_count": 40,
   "metadata": {},
   "outputs": [],
   "source": [
    "graph_df = graph_df[graph_df['Count of Outages'] > 3]"
   ]
  },
  {
   "cell_type": "code",
   "execution_count": 41,
   "metadata": {},
   "outputs": [
    {
     "data": {
      "text/html": [
       "<div>\n",
       "<style scoped>\n",
       "    .dataframe tbody tr th:only-of-type {\n",
       "        vertical-align: middle;\n",
       "    }\n",
       "\n",
       "    .dataframe tbody tr th {\n",
       "        vertical-align: top;\n",
       "    }\n",
       "\n",
       "    .dataframe thead th {\n",
       "        text-align: right;\n",
       "    }\n",
       "</style>\n",
       "<table border=\"1\" class=\"dataframe\">\n",
       "  <thead>\n",
       "    <tr style=\"text-align: right;\">\n",
       "      <th></th>\n",
       "      <th>Count of Outages</th>\n",
       "      <th>duration_p_value</th>\n",
       "      <th>customer_p_value</th>\n",
       "    </tr>\n",
       "  </thead>\n",
       "  <tbody>\n",
       "    <tr>\n",
       "      <th>California</th>\n",
       "      <td>210</td>\n",
       "      <td>1.000</td>\n",
       "      <td>0.006</td>\n",
       "    </tr>\n",
       "    <tr>\n",
       "      <th>Florida</th>\n",
       "      <td>45</td>\n",
       "      <td>0.069</td>\n",
       "      <td>0.007</td>\n",
       "    </tr>\n",
       "    <tr>\n",
       "      <th>Texas</th>\n",
       "      <td>127</td>\n",
       "      <td>0.382</td>\n",
       "      <td>0.007</td>\n",
       "    </tr>\n",
       "    <tr>\n",
       "      <th>New York</th>\n",
       "      <td>71</td>\n",
       "      <td>0.002</td>\n",
       "      <td>0.112</td>\n",
       "    </tr>\n",
       "    <tr>\n",
       "      <th>Michigan</th>\n",
       "      <td>95</td>\n",
       "      <td>0.000</td>\n",
       "      <td>0.368</td>\n",
       "    </tr>\n",
       "    <tr>\n",
       "      <th>Wisconsin</th>\n",
       "      <td>20</td>\n",
       "      <td>0.008</td>\n",
       "      <td>0.990</td>\n",
       "    </tr>\n",
       "  </tbody>\n",
       "</table>\n",
       "</div>"
      ],
      "text/plain": [
       "            Count of Outages  duration_p_value  customer_p_value\n",
       "California               210             1.000             0.006\n",
       "Florida                   45             0.069             0.007\n",
       "Texas                    127             0.382             0.007\n",
       "New York                  71             0.002             0.112\n",
       "Michigan                  95             0.000             0.368\n",
       "Wisconsin                 20             0.008             0.990"
      ]
     },
     "execution_count": 41,
     "metadata": {},
     "output_type": "execute_result"
    }
   ],
   "source": [
    "graph_df"
   ]
  },
  {
   "cell_type": "code",
   "execution_count": 42,
   "metadata": {},
   "outputs": [
    {
     "data": {
      "application/vnd.plotly.v1+json": {
       "config": {
        "plotlyServerURL": "https://plot.ly"
       },
       "data": [
        {
         "alignmentgroup": "True",
         "hovertemplate": "variable=duration_p_value<br>U.S._STATES=%{x}<br>value=%{y}<extra></extra>",
         "legendgroup": "duration_p_value",
         "marker": {
          "color": "#636efa",
          "pattern": {
           "shape": ""
          }
         },
         "name": "duration_p_value",
         "offsetgroup": "duration_p_value",
         "orientation": "v",
         "showlegend": true,
         "textposition": "auto",
         "type": "bar",
         "x": [
          "California",
          "Florida",
          "Texas",
          "New York",
          "Michigan",
          "Wisconsin"
         ],
         "xaxis": "x",
         "y": [
          1,
          0.069,
          0.382,
          0.002,
          0,
          0.008
         ],
         "yaxis": "y"
        },
        {
         "alignmentgroup": "True",
         "hovertemplate": "variable=customer_p_value<br>U.S._STATES=%{x}<br>value=%{y}<extra></extra>",
         "legendgroup": "customer_p_value",
         "marker": {
          "color": "#EF553B",
          "pattern": {
           "shape": ""
          }
         },
         "name": "customer_p_value",
         "offsetgroup": "customer_p_value",
         "orientation": "v",
         "showlegend": true,
         "textposition": "auto",
         "type": "bar",
         "x": [
          "California",
          "Florida",
          "Texas",
          "New York",
          "Michigan",
          "Wisconsin"
         ],
         "xaxis": "x",
         "y": [
          0.006,
          0.007,
          0.007,
          0.112,
          0.368,
          0.99
         ],
         "yaxis": "y"
        }
       ],
       "layout": {
        "barmode": "group",
        "legend": {
         "title": {
          "text": "variable"
         },
         "tracegroupgap": 0
        },
        "template": {
         "data": {
          "bar": [
           {
            "error_x": {
             "color": "#2a3f5f"
            },
            "error_y": {
             "color": "#2a3f5f"
            },
            "marker": {
             "line": {
              "color": "#E5ECF6",
              "width": 0.5
             },
             "pattern": {
              "fillmode": "overlay",
              "size": 10,
              "solidity": 0.2
             }
            },
            "type": "bar"
           }
          ],
          "barpolar": [
           {
            "marker": {
             "line": {
              "color": "#E5ECF6",
              "width": 0.5
             },
             "pattern": {
              "fillmode": "overlay",
              "size": 10,
              "solidity": 0.2
             }
            },
            "type": "barpolar"
           }
          ],
          "carpet": [
           {
            "aaxis": {
             "endlinecolor": "#2a3f5f",
             "gridcolor": "white",
             "linecolor": "white",
             "minorgridcolor": "white",
             "startlinecolor": "#2a3f5f"
            },
            "baxis": {
             "endlinecolor": "#2a3f5f",
             "gridcolor": "white",
             "linecolor": "white",
             "minorgridcolor": "white",
             "startlinecolor": "#2a3f5f"
            },
            "type": "carpet"
           }
          ],
          "choropleth": [
           {
            "colorbar": {
             "outlinewidth": 0,
             "ticks": ""
            },
            "type": "choropleth"
           }
          ],
          "contour": [
           {
            "colorbar": {
             "outlinewidth": 0,
             "ticks": ""
            },
            "colorscale": [
             [
              0,
              "#0d0887"
             ],
             [
              0.1111111111111111,
              "#46039f"
             ],
             [
              0.2222222222222222,
              "#7201a8"
             ],
             [
              0.3333333333333333,
              "#9c179e"
             ],
             [
              0.4444444444444444,
              "#bd3786"
             ],
             [
              0.5555555555555556,
              "#d8576b"
             ],
             [
              0.6666666666666666,
              "#ed7953"
             ],
             [
              0.7777777777777778,
              "#fb9f3a"
             ],
             [
              0.8888888888888888,
              "#fdca26"
             ],
             [
              1,
              "#f0f921"
             ]
            ],
            "type": "contour"
           }
          ],
          "contourcarpet": [
           {
            "colorbar": {
             "outlinewidth": 0,
             "ticks": ""
            },
            "type": "contourcarpet"
           }
          ],
          "heatmap": [
           {
            "colorbar": {
             "outlinewidth": 0,
             "ticks": ""
            },
            "colorscale": [
             [
              0,
              "#0d0887"
             ],
             [
              0.1111111111111111,
              "#46039f"
             ],
             [
              0.2222222222222222,
              "#7201a8"
             ],
             [
              0.3333333333333333,
              "#9c179e"
             ],
             [
              0.4444444444444444,
              "#bd3786"
             ],
             [
              0.5555555555555556,
              "#d8576b"
             ],
             [
              0.6666666666666666,
              "#ed7953"
             ],
             [
              0.7777777777777778,
              "#fb9f3a"
             ],
             [
              0.8888888888888888,
              "#fdca26"
             ],
             [
              1,
              "#f0f921"
             ]
            ],
            "type": "heatmap"
           }
          ],
          "heatmapgl": [
           {
            "colorbar": {
             "outlinewidth": 0,
             "ticks": ""
            },
            "colorscale": [
             [
              0,
              "#0d0887"
             ],
             [
              0.1111111111111111,
              "#46039f"
             ],
             [
              0.2222222222222222,
              "#7201a8"
             ],
             [
              0.3333333333333333,
              "#9c179e"
             ],
             [
              0.4444444444444444,
              "#bd3786"
             ],
             [
              0.5555555555555556,
              "#d8576b"
             ],
             [
              0.6666666666666666,
              "#ed7953"
             ],
             [
              0.7777777777777778,
              "#fb9f3a"
             ],
             [
              0.8888888888888888,
              "#fdca26"
             ],
             [
              1,
              "#f0f921"
             ]
            ],
            "type": "heatmapgl"
           }
          ],
          "histogram": [
           {
            "marker": {
             "pattern": {
              "fillmode": "overlay",
              "size": 10,
              "solidity": 0.2
             }
            },
            "type": "histogram"
           }
          ],
          "histogram2d": [
           {
            "colorbar": {
             "outlinewidth": 0,
             "ticks": ""
            },
            "colorscale": [
             [
              0,
              "#0d0887"
             ],
             [
              0.1111111111111111,
              "#46039f"
             ],
             [
              0.2222222222222222,
              "#7201a8"
             ],
             [
              0.3333333333333333,
              "#9c179e"
             ],
             [
              0.4444444444444444,
              "#bd3786"
             ],
             [
              0.5555555555555556,
              "#d8576b"
             ],
             [
              0.6666666666666666,
              "#ed7953"
             ],
             [
              0.7777777777777778,
              "#fb9f3a"
             ],
             [
              0.8888888888888888,
              "#fdca26"
             ],
             [
              1,
              "#f0f921"
             ]
            ],
            "type": "histogram2d"
           }
          ],
          "histogram2dcontour": [
           {
            "colorbar": {
             "outlinewidth": 0,
             "ticks": ""
            },
            "colorscale": [
             [
              0,
              "#0d0887"
             ],
             [
              0.1111111111111111,
              "#46039f"
             ],
             [
              0.2222222222222222,
              "#7201a8"
             ],
             [
              0.3333333333333333,
              "#9c179e"
             ],
             [
              0.4444444444444444,
              "#bd3786"
             ],
             [
              0.5555555555555556,
              "#d8576b"
             ],
             [
              0.6666666666666666,
              "#ed7953"
             ],
             [
              0.7777777777777778,
              "#fb9f3a"
             ],
             [
              0.8888888888888888,
              "#fdca26"
             ],
             [
              1,
              "#f0f921"
             ]
            ],
            "type": "histogram2dcontour"
           }
          ],
          "mesh3d": [
           {
            "colorbar": {
             "outlinewidth": 0,
             "ticks": ""
            },
            "type": "mesh3d"
           }
          ],
          "parcoords": [
           {
            "line": {
             "colorbar": {
              "outlinewidth": 0,
              "ticks": ""
             }
            },
            "type": "parcoords"
           }
          ],
          "pie": [
           {
            "automargin": true,
            "type": "pie"
           }
          ],
          "scatter": [
           {
            "fillpattern": {
             "fillmode": "overlay",
             "size": 10,
             "solidity": 0.2
            },
            "type": "scatter"
           }
          ],
          "scatter3d": [
           {
            "line": {
             "colorbar": {
              "outlinewidth": 0,
              "ticks": ""
             }
            },
            "marker": {
             "colorbar": {
              "outlinewidth": 0,
              "ticks": ""
             }
            },
            "type": "scatter3d"
           }
          ],
          "scattercarpet": [
           {
            "marker": {
             "colorbar": {
              "outlinewidth": 0,
              "ticks": ""
             }
            },
            "type": "scattercarpet"
           }
          ],
          "scattergeo": [
           {
            "marker": {
             "colorbar": {
              "outlinewidth": 0,
              "ticks": ""
             }
            },
            "type": "scattergeo"
           }
          ],
          "scattergl": [
           {
            "marker": {
             "colorbar": {
              "outlinewidth": 0,
              "ticks": ""
             }
            },
            "type": "scattergl"
           }
          ],
          "scattermapbox": [
           {
            "marker": {
             "colorbar": {
              "outlinewidth": 0,
              "ticks": ""
             }
            },
            "type": "scattermapbox"
           }
          ],
          "scatterpolar": [
           {
            "marker": {
             "colorbar": {
              "outlinewidth": 0,
              "ticks": ""
             }
            },
            "type": "scatterpolar"
           }
          ],
          "scatterpolargl": [
           {
            "marker": {
             "colorbar": {
              "outlinewidth": 0,
              "ticks": ""
             }
            },
            "type": "scatterpolargl"
           }
          ],
          "scatterternary": [
           {
            "marker": {
             "colorbar": {
              "outlinewidth": 0,
              "ticks": ""
             }
            },
            "type": "scatterternary"
           }
          ],
          "surface": [
           {
            "colorbar": {
             "outlinewidth": 0,
             "ticks": ""
            },
            "colorscale": [
             [
              0,
              "#0d0887"
             ],
             [
              0.1111111111111111,
              "#46039f"
             ],
             [
              0.2222222222222222,
              "#7201a8"
             ],
             [
              0.3333333333333333,
              "#9c179e"
             ],
             [
              0.4444444444444444,
              "#bd3786"
             ],
             [
              0.5555555555555556,
              "#d8576b"
             ],
             [
              0.6666666666666666,
              "#ed7953"
             ],
             [
              0.7777777777777778,
              "#fb9f3a"
             ],
             [
              0.8888888888888888,
              "#fdca26"
             ],
             [
              1,
              "#f0f921"
             ]
            ],
            "type": "surface"
           }
          ],
          "table": [
           {
            "cells": {
             "fill": {
              "color": "#EBF0F8"
             },
             "line": {
              "color": "white"
             }
            },
            "header": {
             "fill": {
              "color": "#C8D4E3"
             },
             "line": {
              "color": "white"
             }
            },
            "type": "table"
           }
          ]
         },
         "layout": {
          "annotationdefaults": {
           "arrowcolor": "#2a3f5f",
           "arrowhead": 0,
           "arrowwidth": 1
          },
          "autotypenumbers": "strict",
          "coloraxis": {
           "colorbar": {
            "outlinewidth": 0,
            "ticks": ""
           }
          },
          "colorscale": {
           "diverging": [
            [
             0,
             "#8e0152"
            ],
            [
             0.1,
             "#c51b7d"
            ],
            [
             0.2,
             "#de77ae"
            ],
            [
             0.3,
             "#f1b6da"
            ],
            [
             0.4,
             "#fde0ef"
            ],
            [
             0.5,
             "#f7f7f7"
            ],
            [
             0.6,
             "#e6f5d0"
            ],
            [
             0.7,
             "#b8e186"
            ],
            [
             0.8,
             "#7fbc41"
            ],
            [
             0.9,
             "#4d9221"
            ],
            [
             1,
             "#276419"
            ]
           ],
           "sequential": [
            [
             0,
             "#0d0887"
            ],
            [
             0.1111111111111111,
             "#46039f"
            ],
            [
             0.2222222222222222,
             "#7201a8"
            ],
            [
             0.3333333333333333,
             "#9c179e"
            ],
            [
             0.4444444444444444,
             "#bd3786"
            ],
            [
             0.5555555555555556,
             "#d8576b"
            ],
            [
             0.6666666666666666,
             "#ed7953"
            ],
            [
             0.7777777777777778,
             "#fb9f3a"
            ],
            [
             0.8888888888888888,
             "#fdca26"
            ],
            [
             1,
             "#f0f921"
            ]
           ],
           "sequentialminus": [
            [
             0,
             "#0d0887"
            ],
            [
             0.1111111111111111,
             "#46039f"
            ],
            [
             0.2222222222222222,
             "#7201a8"
            ],
            [
             0.3333333333333333,
             "#9c179e"
            ],
            [
             0.4444444444444444,
             "#bd3786"
            ],
            [
             0.5555555555555556,
             "#d8576b"
            ],
            [
             0.6666666666666666,
             "#ed7953"
            ],
            [
             0.7777777777777778,
             "#fb9f3a"
            ],
            [
             0.8888888888888888,
             "#fdca26"
            ],
            [
             1,
             "#f0f921"
            ]
           ]
          },
          "colorway": [
           "#636efa",
           "#EF553B",
           "#00cc96",
           "#ab63fa",
           "#FFA15A",
           "#19d3f3",
           "#FF6692",
           "#B6E880",
           "#FF97FF",
           "#FECB52"
          ],
          "font": {
           "color": "#2a3f5f"
          },
          "geo": {
           "bgcolor": "white",
           "lakecolor": "white",
           "landcolor": "#E5ECF6",
           "showlakes": true,
           "showland": true,
           "subunitcolor": "white"
          },
          "hoverlabel": {
           "align": "left"
          },
          "hovermode": "closest",
          "mapbox": {
           "style": "light"
          },
          "paper_bgcolor": "white",
          "plot_bgcolor": "#E5ECF6",
          "polar": {
           "angularaxis": {
            "gridcolor": "white",
            "linecolor": "white",
            "ticks": ""
           },
           "bgcolor": "#E5ECF6",
           "radialaxis": {
            "gridcolor": "white",
            "linecolor": "white",
            "ticks": ""
           }
          },
          "scene": {
           "xaxis": {
            "backgroundcolor": "#E5ECF6",
            "gridcolor": "white",
            "gridwidth": 2,
            "linecolor": "white",
            "showbackground": true,
            "ticks": "",
            "zerolinecolor": "white"
           },
           "yaxis": {
            "backgroundcolor": "#E5ECF6",
            "gridcolor": "white",
            "gridwidth": 2,
            "linecolor": "white",
            "showbackground": true,
            "ticks": "",
            "zerolinecolor": "white"
           },
           "zaxis": {
            "backgroundcolor": "#E5ECF6",
            "gridcolor": "white",
            "gridwidth": 2,
            "linecolor": "white",
            "showbackground": true,
            "ticks": "",
            "zerolinecolor": "white"
           }
          },
          "shapedefaults": {
           "line": {
            "color": "#2a3f5f"
           }
          },
          "ternary": {
           "aaxis": {
            "gridcolor": "white",
            "linecolor": "white",
            "ticks": ""
           },
           "baxis": {
            "gridcolor": "white",
            "linecolor": "white",
            "ticks": ""
           },
           "bgcolor": "#E5ECF6",
           "caxis": {
            "gridcolor": "white",
            "linecolor": "white",
            "ticks": ""
           }
          },
          "title": {
           "x": 0.05
          },
          "xaxis": {
           "automargin": true,
           "gridcolor": "white",
           "linecolor": "white",
           "ticks": "",
           "title": {
            "standoff": 15
           },
           "zerolinecolor": "white",
           "zerolinewidth": 2
          },
          "yaxis": {
           "automargin": true,
           "gridcolor": "white",
           "linecolor": "white",
           "ticks": "",
           "title": {
            "standoff": 15
           },
           "zerolinecolor": "white",
           "zerolinewidth": 2
          }
         }
        },
        "title": {
         "text": "Grouped Bar Chart of Duration P-Value and Customer P-Value by U.S. States with a P-Value less than 0.05"
        },
        "xaxis": {
         "anchor": "y",
         "domain": [
          0,
          1
         ],
         "tickangle": -45,
         "title": {
          "text": "U.S._STATES"
         }
        },
        "yaxis": {
         "anchor": "x",
         "domain": [
          0,
          1
         ],
         "title": {
          "text": "value"
         }
        }
       }
      }
     },
     "metadata": {},
     "output_type": "display_data"
    }
   ],
   "source": [
    "fig = px.bar(graph_df.reset_index().rename(columns = {'index': 'U.S._STATES'}), x='U.S._STATES', y=['duration_p_value', 'customer_p_value'], title='Grouped Bar Chart of Duration P-Value and Customer P-Value by U.S. States with a P-Value less than 0.05')\n",
    "fig.update_layout(barmode='group', xaxis_tickangle=-45)\n",
    "fig"
   ]
  },
  {
   "cell_type": "code",
   "execution_count": 25,
   "metadata": {},
   "outputs": [],
   "source": [
    "# fig.write_html('../p_value_bar.html', include_plotlyjs='cdn')"
   ]
  }
 ],
 "metadata": {
  "kernelspec": {
   "display_name": "Python 3 (ipykernel)",
   "language": "python",
   "name": "python3"
  },
  "language_info": {
   "codemirror_mode": {
    "name": "ipython",
    "version": 3
   },
   "file_extension": ".py",
   "mimetype": "text/x-python",
   "name": "python",
   "nbconvert_exporter": "python",
   "pygments_lexer": "ipython3",
   "version": "3.8.18"
  }
 },
 "nbformat": 4,
 "nbformat_minor": 2
}
