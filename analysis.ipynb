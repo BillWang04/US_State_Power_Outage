{
 "cells": [
  {
   "cell_type": "markdown",
   "metadata": {},
   "source": [
    "# Outages\n",
    "**Name(s)**: Bill Wang, Ethan Cao\n",
    "\n",
    "**Website Link**: https://billwang04.github.io/us_state_power_outage/"
   ]
  },
  {
   "cell_type": "markdown",
   "metadata": {},
   "source": [
    "## Code"
   ]
  },
  {
   "cell_type": "code",
   "execution_count": 1,
   "metadata": {
    "ExecuteTime": {
     "end_time": "2019-10-31T23:36:28.652554Z",
     "start_time": "2019-10-31T23:36:27.180520Z"
    }
   },
   "outputs": [],
   "source": [
    "import pandas as pd\n",
    "import numpy as np\n",
    "import os\n",
    "\n",
    "\n",
    "import plotly.express as px\n",
    "pd.options.plotting.backend = 'plotly'"
   ]
  },
  {
   "cell_type": "markdown",
   "metadata": {},
   "source": [
    "First we load in the data from the excel file and combine the time and date columns"
   ]
  },
  {
   "cell_type": "code",
   "execution_count": 2,
   "metadata": {},
   "outputs": [],
   "source": [
    "def combine_times(date_col_name, time_col_name, new_col_name, df):\n",
    "    df = df.copy()\n",
    "    df[new_col_name] = df[date_col_name] + pd.to_timedelta(df[time_col_name].astype(str))\n",
    "    return df"
   ]
  },
  {
   "cell_type": "code",
   "execution_count": 3,
   "metadata": {},
   "outputs": [],
   "source": [
    "data = pd.read_excel(\"outage.xlsx\", skiprows=[0,1,2,3,4,6], index_col=1).iloc[:,1:]\n",
    "data = combine_times(\"OUTAGE.START.DATE\", 'OUTAGE.START.TIME', 'OUTAGE.START.DATETIME', data)\n",
    "data = combine_times(\"OUTAGE.RESTORATION.DATE\", \"OUTAGE.RESTORATION.TIME\", \"OUTAGE.RESTORATION.DATETIME\", data)"
   ]
  },
  {
   "cell_type": "code",
   "execution_count": 4,
   "metadata": {},
   "outputs": [
    {
     "data": {
      "text/plain": [
       "Index(['YEAR', 'MONTH', 'U.S._STATE', 'POSTAL.CODE', 'NERC.REGION',\n",
       "       'CLIMATE.REGION', 'ANOMALY.LEVEL', 'CLIMATE.CATEGORY',\n",
       "       'OUTAGE.START.DATE', 'OUTAGE.START.TIME', 'OUTAGE.RESTORATION.DATE',\n",
       "       'OUTAGE.RESTORATION.TIME', 'CAUSE.CATEGORY', 'CAUSE.CATEGORY.DETAIL',\n",
       "       'HURRICANE.NAMES', 'OUTAGE.DURATION', 'DEMAND.LOSS.MW',\n",
       "       'CUSTOMERS.AFFECTED', 'RES.PRICE', 'COM.PRICE', 'IND.PRICE',\n",
       "       'TOTAL.PRICE', 'RES.SALES', 'COM.SALES', 'IND.SALES', 'TOTAL.SALES',\n",
       "       'RES.PERCEN', 'COM.PERCEN', 'IND.PERCEN', 'RES.CUSTOMERS',\n",
       "       'COM.CUSTOMERS', 'IND.CUSTOMERS', 'TOTAL.CUSTOMERS', 'RES.CUST.PCT',\n",
       "       'COM.CUST.PCT', 'IND.CUST.PCT', 'PC.REALGSP.STATE', 'PC.REALGSP.USA',\n",
       "       'PC.REALGSP.REL', 'PC.REALGSP.CHANGE', 'UTIL.REALGSP', 'TOTAL.REALGSP',\n",
       "       'UTIL.CONTRI', 'PI.UTIL.OFUSA', 'POPULATION', 'POPPCT_URBAN',\n",
       "       'POPPCT_UC', 'POPDEN_URBAN', 'POPDEN_UC', 'POPDEN_RURAL',\n",
       "       'AREAPCT_URBAN', 'AREAPCT_UC', 'PCT_LAND', 'PCT_WATER_TOT',\n",
       "       'PCT_WATER_INLAND', 'OUTAGE.START.DATETIME',\n",
       "       'OUTAGE.RESTORATION.DATETIME'],\n",
       "      dtype='object')"
      ]
     },
     "execution_count": 4,
     "metadata": {},
     "output_type": "execute_result"
    }
   ],
   "source": [
    "data.columns"
   ]
  },
  {
   "cell_type": "code",
   "execution_count": 5,
   "metadata": {},
   "outputs": [],
   "source": [
    "# data = data[['U.S._STATE',\"YEAR\",'CLIMATE.REGION', 'OUTAGE.START.DATETIME', 'OUTAGE.RESTORATION.DATETIME','CAUSE.CATEGORY', 'CAUSE.CATEGORY.DETAIL', 'CUSTOMERS.AFFECTED', 'OUTAGE.DURATION','DEMAND.LOSS.MW']]"
   ]
  },
  {
   "cell_type": "code",
   "execution_count": 6,
   "metadata": {},
   "outputs": [
    {
     "data": {
      "application/vnd.plotly.v1+json": {
       "config": {
        "plotlyServerURL": "https://plot.ly"
       },
       "data": [
        {
         "alignmentgroup": "True",
         "bingroup": "x",
         "hovertemplate": "variable=OUTAGE.DURATION<br>value=%{x}<br>count=%{y}<extra></extra>",
         "legendgroup": "OUTAGE.DURATION",
         "marker": {
          "color": "#636efa",
          "pattern": {
           "shape": ""
          }
         },
         "name": "OUTAGE.DURATION",
         "offsetgroup": "OUTAGE.DURATION",
         "orientation": "v",
         "showlegend": true,
         "type": "histogram",
         "x": [
          3060,
          1,
          3000,
          2550,
          1740,
          1860,
          2970,
          3960,
          155,
          3621,
          7740,
          8880,
          0,
          1322,
          60,
          19,
          0,
          21,
          196,
          840,
          935,
          1260,
          null,
          619,
          150,
          762,
          0,
          660,
          1,
          2700,
          1,
          4921,
          95,
          251,
          4125,
          2550,
          null,
          1200,
          310,
          2818,
          5054,
          136,
          528,
          150,
          46,
          1,
          1920,
          null,
          32,
          null,
          135,
          3000,
          32,
          108653,
          8468,
          960,
          44,
          1605,
          4410,
          388,
          480,
          1219,
          90,
          18660,
          538,
          104,
          60,
          1272,
          60,
          1,
          1000,
          17339,
          9576,
          3090,
          6510,
          5820,
          1078,
          1513,
          4830,
          3051,
          4200,
          2085,
          5730,
          4290,
          2670,
          3540,
          3637,
          1710,
          4320,
          3915,
          3120,
          4590,
          7530,
          5034,
          8160,
          3300,
          4320,
          1770,
          9857,
          4080,
          5670,
          5700,
          1995,
          300,
          5115,
          2670,
          7650,
          4338,
          761,
          5760,
          2820,
          4110,
          3360,
          3015,
          232,
          11525,
          6420,
          46080,
          5700,
          5610,
          78377,
          270,
          4050,
          5865,
          1,
          2325,
          4170,
          4485,
          2694,
          168,
          5580,
          705,
          11850,
          3494,
          4560,
          2760,
          5760,
          8922,
          6030,
          7800,
          4242,
          3120,
          5700,
          900,
          1046,
          7620,
          3630,
          1260,
          5840,
          5790,
          2820,
          600,
          4259,
          2939,
          7080,
          3600,
          1588,
          4260,
          2700,
          200,
          8430,
          85,
          9150,
          1019,
          420,
          1140,
          7440,
          4458,
          373,
          1203,
          868,
          1455,
          206,
          1195,
          1559,
          900,
          2690,
          5115,
          5,
          189,
          2142,
          360,
          null,
          225,
          2340,
          480,
          9486,
          480,
          3000,
          300,
          3020,
          766,
          null,
          1335,
          197,
          245,
          3255,
          12180,
          1077,
          600,
          186,
          690,
          27698,
          402,
          2420,
          327,
          1,
          1860,
          220,
          455,
          318,
          757,
          847,
          410,
          215,
          5,
          570,
          12124,
          2655,
          20160,
          1440,
          600,
          39,
          181,
          1185,
          1500,
          0,
          271,
          1860,
          1200,
          2159,
          6300,
          null,
          1620,
          224,
          70,
          1697,
          95,
          2220,
          null,
          7809,
          1200,
          121,
          63,
          5595,
          1,
          557,
          240,
          3360,
          685,
          2280,
          210,
          167,
          1920,
          3569,
          3300,
          10,
          1560,
          840,
          240,
          990,
          6000,
          17865,
          1282,
          1080,
          7540,
          1320,
          1110,
          27698,
          130,
          3040,
          394,
          10140,
          20160,
          21540,
          45,
          1,
          1200,
          550,
          900,
          885,
          940,
          null,
          3050,
          1830,
          6000,
          1500,
          150,
          1955,
          2220,
          330,
          74,
          420,
          1440,
          255,
          1060,
          12240,
          5250,
          4320,
          120,
          233,
          null,
          65,
          2120,
          96,
          3,
          4320,
          65,
          2146,
          96,
          4032,
          2580,
          6,
          569,
          0,
          15950,
          200,
          1980,
          4045,
          2730,
          3314,
          7319,
          1,
          47,
          1440,
          276,
          0,
          0,
          3646,
          1130,
          2880,
          513,
          35,
          23773,
          10,
          3872,
          23187,
          12240,
          390,
          null,
          3264,
          1230,
          803,
          77,
          30,
          300,
          1,
          5,
          1450,
          2680,
          null,
          7609,
          150,
          3000,
          420,
          479,
          1680,
          2700,
          149,
          1110,
          2790,
          659,
          1320,
          1830,
          3000,
          null,
          870,
          810,
          1336,
          1695,
          360,
          360,
          120,
          3000,
          1290,
          1530,
          2370,
          1200,
          1200,
          90,
          120,
          1200,
          2761,
          720,
          1120,
          2100,
          960,
          450,
          1440,
          1020,
          0,
          2010,
          120,
          9230,
          1240,
          465,
          0,
          2460,
          1183,
          8880,
          394,
          219,
          487,
          19,
          28,
          0,
          1,
          5340,
          8940,
          467,
          0,
          1920,
          0,
          25,
          420,
          2040,
          0,
          1,
          1423,
          60,
          1620,
          3300,
          385,
          663,
          123,
          1276,
          1919,
          null,
          440,
          6690,
          null,
          0,
          null,
          717,
          1204,
          292,
          313,
          1,
          5,
          6276,
          0,
          74,
          0,
          null,
          248,
          1,
          2700,
          25,
          126,
          1,
          255,
          1207,
          0,
          0,
          245,
          476,
          null,
          null,
          null,
          1,
          2639,
          502,
          548,
          369,
          6480,
          15,
          5,
          null,
          1,
          0,
          432,
          21,
          1697,
          0,
          2615,
          9630,
          3507,
          2820,
          314,
          5855,
          0,
          0,
          1,
          22769,
          70,
          4285,
          355,
          0,
          2520,
          0,
          180,
          554,
          50,
          70,
          180,
          3842,
          35,
          1,
          189,
          49320,
          4200,
          353,
          1,
          87,
          66,
          null,
          1,
          227,
          null,
          1440,
          1,
          2700,
          null,
          49320,
          2,
          215,
          451,
          418,
          100,
          2021,
          1671,
          3938,
          4470,
          2279,
          4440,
          2760,
          0,
          1,
          0,
          1,
          1840,
          428,
          331,
          1980,
          1,
          1,
          1950,
          3037,
          1,
          1,
          1196,
          5628,
          1440,
          7700,
          2,
          12890,
          4232,
          95,
          2610,
          4320,
          17,
          113,
          0,
          2507,
          0,
          1,
          4920,
          1,
          4080,
          0,
          960,
          185,
          1320,
          1673,
          2855,
          3060,
          565,
          1,
          1,
          7298,
          5790,
          3040,
          11700,
          7987,
          304,
          4517,
          0,
          3058,
          13381,
          2865,
          152,
          380,
          9450,
          7803,
          5579,
          8979,
          4800,
          3060,
          4792,
          3894,
          1757,
          2880,
          2985,
          164,
          3232,
          2319,
          4338,
          2880,
          1714,
          90,
          59,
          4139,
          10530,
          6938,
          930,
          278,
          299,
          5320,
          2880,
          1,
          4260,
          6713,
          5160,
          1440,
          78,
          7523,
          2668,
          1,
          376,
          1324,
          6940,
          2684,
          54,
          100,
          720,
          2880,
          3189,
          2790,
          13679,
          2843,
          13488,
          1642,
          7709,
          7080,
          1440,
          1,
          1680,
          1579,
          652,
          108,
          300,
          1020,
          3570,
          6492,
          23700,
          10499,
          15180,
          0,
          120,
          1,
          1,
          1,
          1,
          1,
          1,
          60,
          113,
          204,
          31,
          57,
          13,
          2,
          11,
          283,
          0,
          1,
          871,
          1631,
          56,
          15,
          15,
          20,
          60,
          1,
          95,
          300,
          1,
          3186,
          575,
          2275,
          15,
          1,
          44,
          21,
          1,
          114,
          1,
          60,
          4920,
          null,
          4920,
          420,
          0,
          7,
          21,
          340,
          4200,
          805,
          5040,
          7430,
          5490,
          165,
          3630,
          11640,
          1590,
          3137,
          1440,
          7920,
          360,
          0,
          1440,
          1372,
          6480,
          2190,
          285,
          75,
          1843,
          1,
          11531,
          1420,
          0,
          930,
          11420,
          0,
          352,
          0,
          960,
          1733,
          3690,
          10619,
          634,
          11280,
          1440,
          180,
          1574,
          45,
          563,
          388,
          373,
          4510,
          290,
          1950,
          270,
          1355,
          1318,
          2490,
          1265,
          195,
          3120,
          3388,
          1025,
          990,
          240,
          1485,
          129,
          0,
          1528,
          1890,
          2551,
          985,
          405,
          1698,
          167,
          1460,
          182,
          4113,
          null,
          885,
          15,
          42,
          1050,
          1,
          132,
          4140,
          2880,
          null,
          11430,
          3599,
          0,
          2941,
          null,
          6090,
          1365,
          375,
          2520,
          10080,
          76,
          0,
          3720,
          333,
          0,
          353,
          11337,
          0,
          0,
          7020,
          11058,
          null,
          9360,
          3300,
          3339,
          2880,
          11580,
          9600,
          13201,
          9719,
          488,
          2415,
          180,
          4177,
          7440,
          3480,
          6600,
          300,
          1526,
          60,
          210,
          2,
          1350,
          73,
          1,
          200,
          0,
          null,
          4380,
          0,
          120,
          2680,
          840,
          989,
          4313,
          214,
          4,
          164,
          91,
          1050,
          838,
          60,
          1,
          1,
          9886,
          2425,
          390,
          14500,
          6660,
          159,
          54,
          30,
          8077,
          855,
          65,
          810,
          4150,
          4740,
          25,
          0,
          null,
          2070,
          870,
          12652,
          2880,
          120,
          1199,
          null,
          1470,
          4140,
          15420,
          50,
          0,
          1,
          1,
          0,
          0,
          0,
          457,
          1,
          1,
          0,
          30,
          1,
          1,
          65,
          1,
          0,
          0,
          0,
          1,
          null,
          1,
          0,
          1,
          1,
          110,
          39,
          1,
          1,
          1,
          1,
          1,
          1,
          507,
          213,
          4254,
          1,
          1,
          53,
          0,
          0,
          251,
          347,
          1637,
          21360,
          2161,
          2880,
          1044,
          8670,
          56,
          93,
          13,
          2089,
          20280,
          14639,
          2880,
          681,
          494,
          1,
          5355,
          0,
          3943,
          3300,
          191,
          0,
          73,
          4680,
          17310,
          10080,
          10726,
          1,
          5,
          2515,
          25920,
          2730,
          9480,
          5400,
          30,
          3584,
          3600,
          5850,
          4710,
          1,
          1732,
          0,
          23040,
          1800,
          6074,
          null,
          49,
          2299,
          5760,
          420,
          7320,
          2880,
          448,
          2520,
          18717,
          5513,
          21,
          2100,
          3120,
          8221,
          3240,
          2880,
          255,
          2355,
          161,
          50,
          258,
          13140,
          8640,
          18240,
          15492,
          8268,
          0,
          300,
          14400,
          7962,
          2400,
          11296,
          48,
          60480,
          28170,
          300,
          8054,
          2775,
          2775,
          2160,
          2100,
          2775,
          3180,
          2775,
          1440,
          430,
          2129,
          1755,
          null,
          692,
          732,
          7,
          510,
          420,
          13215,
          557,
          300,
          17812,
          20416,
          6240,
          467,
          3067,
          3060,
          355,
          430,
          300,
          227,
          52,
          null,
          2880,
          18804,
          1867,
          1690,
          295,
          17,
          240,
          17520,
          8189,
          182,
          5820,
          83,
          230,
          2009,
          720,
          155,
          4320,
          4320,
          480,
          1005,
          221,
          372,
          13430,
          4320,
          91,
          1419,
          3600,
          10080,
          5071,
          152,
          6840,
          221,
          24780,
          38,
          61,
          7560,
          90,
          10380,
          396,
          2040,
          12060,
          1080,
          1680,
          13920,
          14101,
          1099,
          2460,
          540,
          52,
          816,
          420,
          155,
          437,
          247,
          540,
          1135,
          437,
          180,
          171,
          656,
          84,
          202,
          255,
          1054,
          1,
          1254,
          1456,
          177,
          106,
          32,
          2464,
          55,
          144,
          70,
          64,
          8873,
          945,
          null,
          523,
          56,
          3,
          8472,
          155,
          33,
          749,
          159,
          null,
          270,
          2790,
          224,
          1470,
          334,
          2050,
          370,
          26,
          797,
          12,
          195,
          1,
          230,
          125,
          15,
          316,
          365,
          1560,
          4740,
          294,
          455,
          2878,
          336,
          295,
          480,
          25,
          null,
          223,
          2645,
          2016,
          7371,
          360,
          3408,
          3698,
          4890,
          1,
          871,
          2759,
          250,
          3301,
          249,
          164,
          435,
          420,
          854,
          5160,
          133,
          15180,
          2055,
          451,
          140,
          199,
          721,
          179,
          1524,
          78,
          268,
          39,
          1,
          14190,
          47,
          161,
          900,
          6070,
          697,
          234,
          14,
          5910,
          null,
          34390,
          40,
          166,
          182,
          829,
          15,
          64,
          13,
          245,
          1080,
          null,
          390,
          47,
          269,
          null,
          400,
          660,
          213,
          null,
          761,
          8100,
          180,
          124,
          4320,
          2820,
          3100,
          49427,
          989,
          125,
          44,
          26,
          245,
          null,
          98,
          1,
          0,
          135,
          50,
          1008,
          53,
          554,
          1260,
          2895,
          89,
          98,
          865,
          128,
          230,
          252,
          130,
          5,
          157,
          6914,
          11,
          13,
          2880,
          270,
          962,
          47,
          null,
          20,
          108,
          9855,
          75,
          17,
          21,
          1950,
          11867,
          141,
          959,
          1035,
          617,
          1230,
          572,
          324,
          1835,
          6780,
          900,
          null,
          37,
          72,
          1,
          251,
          620,
          89,
          909,
          236,
          326,
          300,
          751,
          122,
          214,
          193,
          8,
          5227,
          null,
          1414,
          448,
          4605,
          4080,
          null,
          1914,
          759,
          1,
          10274,
          3,
          2700,
          105,
          240,
          210,
          1,
          1201,
          30,
          2806,
          1226,
          300,
          206,
          270,
          2880,
          513,
          8160,
          3314,
          414,
          126,
          60,
          285,
          110,
          62,
          2363,
          424,
          180,
          0,
          448,
          2,
          624,
          2435,
          131,
          null,
          208,
          103,
          1355,
          1523,
          90,
          1205,
          385,
          144,
          235,
          241,
          6787,
          1337,
          1673,
          3366,
          2640,
          1826,
          570,
          1565,
          2691,
          1072,
          115,
          816,
          168,
          30,
          160,
          485,
          1508,
          1301,
          159,
          60,
          4,
          9600,
          106,
          0,
          0,
          1,
          32,
          61,
          314,
          30,
          0,
          92,
          390,
          161,
          60,
          76,
          1,
          1,
          160,
          20,
          1,
          1,
          70,
          50,
          15,
          810,
          1380,
          1800,
          1560,
          2054,
          1452,
          1865,
          1999,
          120,
          1950,
          360,
          1087,
          1200,
          4122,
          360,
          645,
          108,
          0,
          1,
          1440,
          4560,
          1,
          1,
          110,
          210,
          120,
          0,
          4260,
          76,
          210,
          3305,
          5880,
          145,
          60,
          2640,
          1042,
          110,
          11880,
          2245,
          984,
          7200,
          1381,
          148,
          13972,
          null,
          796,
          300,
          null,
          2612,
          3000,
          431,
          5310,
          1732,
          0,
          6685,
          3300,
          280,
          117,
          2895,
          480,
          31,
          1,
          0,
          0,
          103,
          4745,
          307,
          1656,
          3525,
          374,
          1068,
          1569,
          114,
          115,
          15,
          2891,
          1,
          1676,
          0,
          0,
          3604,
          195,
          1,
          0,
          2108,
          198,
          3667,
          1037,
          673,
          null,
          2652,
          300,
          881,
          618,
          1187,
          950,
          2535,
          27,
          108,
          73,
          200,
          5,
          75,
          0,
          77,
          660,
          0,
          92,
          30,
          33,
          1895,
          274,
          1,
          1534,
          1,
          60,
          108,
          2,
          175,
          null,
          2040,
          2710,
          284,
          105,
          4019,
          1,
          391,
          439,
          5,
          201,
          2140,
          103,
          null,
          187,
          1406,
          348,
          13650,
          90,
          913,
          null,
          14040,
          1367,
          174,
          543,
          237,
          1906,
          224,
          0,
          95,
          360,
          1548,
          870,
          0,
          null,
          220,
          720,
          null,
          59,
          181,
          null
         ],
         "xaxis": "x",
         "yaxis": "y"
        }
       ],
       "layout": {
        "barmode": "relative",
        "legend": {
         "title": {
          "text": "variable"
         },
         "tracegroupgap": 0
        },
        "margin": {
         "t": 60
        },
        "showlegend": false,
        "template": {
         "data": {
          "bar": [
           {
            "error_x": {
             "color": "#2a3f5f"
            },
            "error_y": {
             "color": "#2a3f5f"
            },
            "marker": {
             "line": {
              "color": "#E5ECF6",
              "width": 0.5
             },
             "pattern": {
              "fillmode": "overlay",
              "size": 10,
              "solidity": 0.2
             }
            },
            "type": "bar"
           }
          ],
          "barpolar": [
           {
            "marker": {
             "line": {
              "color": "#E5ECF6",
              "width": 0.5
             },
             "pattern": {
              "fillmode": "overlay",
              "size": 10,
              "solidity": 0.2
             }
            },
            "type": "barpolar"
           }
          ],
          "carpet": [
           {
            "aaxis": {
             "endlinecolor": "#2a3f5f",
             "gridcolor": "white",
             "linecolor": "white",
             "minorgridcolor": "white",
             "startlinecolor": "#2a3f5f"
            },
            "baxis": {
             "endlinecolor": "#2a3f5f",
             "gridcolor": "white",
             "linecolor": "white",
             "minorgridcolor": "white",
             "startlinecolor": "#2a3f5f"
            },
            "type": "carpet"
           }
          ],
          "choropleth": [
           {
            "colorbar": {
             "outlinewidth": 0,
             "ticks": ""
            },
            "type": "choropleth"
           }
          ],
          "contour": [
           {
            "colorbar": {
             "outlinewidth": 0,
             "ticks": ""
            },
            "colorscale": [
             [
              0,
              "#0d0887"
             ],
             [
              0.1111111111111111,
              "#46039f"
             ],
             [
              0.2222222222222222,
              "#7201a8"
             ],
             [
              0.3333333333333333,
              "#9c179e"
             ],
             [
              0.4444444444444444,
              "#bd3786"
             ],
             [
              0.5555555555555556,
              "#d8576b"
             ],
             [
              0.6666666666666666,
              "#ed7953"
             ],
             [
              0.7777777777777778,
              "#fb9f3a"
             ],
             [
              0.8888888888888888,
              "#fdca26"
             ],
             [
              1,
              "#f0f921"
             ]
            ],
            "type": "contour"
           }
          ],
          "contourcarpet": [
           {
            "colorbar": {
             "outlinewidth": 0,
             "ticks": ""
            },
            "type": "contourcarpet"
           }
          ],
          "heatmap": [
           {
            "colorbar": {
             "outlinewidth": 0,
             "ticks": ""
            },
            "colorscale": [
             [
              0,
              "#0d0887"
             ],
             [
              0.1111111111111111,
              "#46039f"
             ],
             [
              0.2222222222222222,
              "#7201a8"
             ],
             [
              0.3333333333333333,
              "#9c179e"
             ],
             [
              0.4444444444444444,
              "#bd3786"
             ],
             [
              0.5555555555555556,
              "#d8576b"
             ],
             [
              0.6666666666666666,
              "#ed7953"
             ],
             [
              0.7777777777777778,
              "#fb9f3a"
             ],
             [
              0.8888888888888888,
              "#fdca26"
             ],
             [
              1,
              "#f0f921"
             ]
            ],
            "type": "heatmap"
           }
          ],
          "heatmapgl": [
           {
            "colorbar": {
             "outlinewidth": 0,
             "ticks": ""
            },
            "colorscale": [
             [
              0,
              "#0d0887"
             ],
             [
              0.1111111111111111,
              "#46039f"
             ],
             [
              0.2222222222222222,
              "#7201a8"
             ],
             [
              0.3333333333333333,
              "#9c179e"
             ],
             [
              0.4444444444444444,
              "#bd3786"
             ],
             [
              0.5555555555555556,
              "#d8576b"
             ],
             [
              0.6666666666666666,
              "#ed7953"
             ],
             [
              0.7777777777777778,
              "#fb9f3a"
             ],
             [
              0.8888888888888888,
              "#fdca26"
             ],
             [
              1,
              "#f0f921"
             ]
            ],
            "type": "heatmapgl"
           }
          ],
          "histogram": [
           {
            "marker": {
             "pattern": {
              "fillmode": "overlay",
              "size": 10,
              "solidity": 0.2
             }
            },
            "type": "histogram"
           }
          ],
          "histogram2d": [
           {
            "colorbar": {
             "outlinewidth": 0,
             "ticks": ""
            },
            "colorscale": [
             [
              0,
              "#0d0887"
             ],
             [
              0.1111111111111111,
              "#46039f"
             ],
             [
              0.2222222222222222,
              "#7201a8"
             ],
             [
              0.3333333333333333,
              "#9c179e"
             ],
             [
              0.4444444444444444,
              "#bd3786"
             ],
             [
              0.5555555555555556,
              "#d8576b"
             ],
             [
              0.6666666666666666,
              "#ed7953"
             ],
             [
              0.7777777777777778,
              "#fb9f3a"
             ],
             [
              0.8888888888888888,
              "#fdca26"
             ],
             [
              1,
              "#f0f921"
             ]
            ],
            "type": "histogram2d"
           }
          ],
          "histogram2dcontour": [
           {
            "colorbar": {
             "outlinewidth": 0,
             "ticks": ""
            },
            "colorscale": [
             [
              0,
              "#0d0887"
             ],
             [
              0.1111111111111111,
              "#46039f"
             ],
             [
              0.2222222222222222,
              "#7201a8"
             ],
             [
              0.3333333333333333,
              "#9c179e"
             ],
             [
              0.4444444444444444,
              "#bd3786"
             ],
             [
              0.5555555555555556,
              "#d8576b"
             ],
             [
              0.6666666666666666,
              "#ed7953"
             ],
             [
              0.7777777777777778,
              "#fb9f3a"
             ],
             [
              0.8888888888888888,
              "#fdca26"
             ],
             [
              1,
              "#f0f921"
             ]
            ],
            "type": "histogram2dcontour"
           }
          ],
          "mesh3d": [
           {
            "colorbar": {
             "outlinewidth": 0,
             "ticks": ""
            },
            "type": "mesh3d"
           }
          ],
          "parcoords": [
           {
            "line": {
             "colorbar": {
              "outlinewidth": 0,
              "ticks": ""
             }
            },
            "type": "parcoords"
           }
          ],
          "pie": [
           {
            "automargin": true,
            "type": "pie"
           }
          ],
          "scatter": [
           {
            "fillpattern": {
             "fillmode": "overlay",
             "size": 10,
             "solidity": 0.2
            },
            "type": "scatter"
           }
          ],
          "scatter3d": [
           {
            "line": {
             "colorbar": {
              "outlinewidth": 0,
              "ticks": ""
             }
            },
            "marker": {
             "colorbar": {
              "outlinewidth": 0,
              "ticks": ""
             }
            },
            "type": "scatter3d"
           }
          ],
          "scattercarpet": [
           {
            "marker": {
             "colorbar": {
              "outlinewidth": 0,
              "ticks": ""
             }
            },
            "type": "scattercarpet"
           }
          ],
          "scattergeo": [
           {
            "marker": {
             "colorbar": {
              "outlinewidth": 0,
              "ticks": ""
             }
            },
            "type": "scattergeo"
           }
          ],
          "scattergl": [
           {
            "marker": {
             "colorbar": {
              "outlinewidth": 0,
              "ticks": ""
             }
            },
            "type": "scattergl"
           }
          ],
          "scattermapbox": [
           {
            "marker": {
             "colorbar": {
              "outlinewidth": 0,
              "ticks": ""
             }
            },
            "type": "scattermapbox"
           }
          ],
          "scatterpolar": [
           {
            "marker": {
             "colorbar": {
              "outlinewidth": 0,
              "ticks": ""
             }
            },
            "type": "scatterpolar"
           }
          ],
          "scatterpolargl": [
           {
            "marker": {
             "colorbar": {
              "outlinewidth": 0,
              "ticks": ""
             }
            },
            "type": "scatterpolargl"
           }
          ],
          "scatterternary": [
           {
            "marker": {
             "colorbar": {
              "outlinewidth": 0,
              "ticks": ""
             }
            },
            "type": "scatterternary"
           }
          ],
          "surface": [
           {
            "colorbar": {
             "outlinewidth": 0,
             "ticks": ""
            },
            "colorscale": [
             [
              0,
              "#0d0887"
             ],
             [
              0.1111111111111111,
              "#46039f"
             ],
             [
              0.2222222222222222,
              "#7201a8"
             ],
             [
              0.3333333333333333,
              "#9c179e"
             ],
             [
              0.4444444444444444,
              "#bd3786"
             ],
             [
              0.5555555555555556,
              "#d8576b"
             ],
             [
              0.6666666666666666,
              "#ed7953"
             ],
             [
              0.7777777777777778,
              "#fb9f3a"
             ],
             [
              0.8888888888888888,
              "#fdca26"
             ],
             [
              1,
              "#f0f921"
             ]
            ],
            "type": "surface"
           }
          ],
          "table": [
           {
            "cells": {
             "fill": {
              "color": "#EBF0F8"
             },
             "line": {
              "color": "white"
             }
            },
            "header": {
             "fill": {
              "color": "#C8D4E3"
             },
             "line": {
              "color": "white"
             }
            },
            "type": "table"
           }
          ]
         },
         "layout": {
          "annotationdefaults": {
           "arrowcolor": "#2a3f5f",
           "arrowhead": 0,
           "arrowwidth": 1
          },
          "autotypenumbers": "strict",
          "coloraxis": {
           "colorbar": {
            "outlinewidth": 0,
            "ticks": ""
           }
          },
          "colorscale": {
           "diverging": [
            [
             0,
             "#8e0152"
            ],
            [
             0.1,
             "#c51b7d"
            ],
            [
             0.2,
             "#de77ae"
            ],
            [
             0.3,
             "#f1b6da"
            ],
            [
             0.4,
             "#fde0ef"
            ],
            [
             0.5,
             "#f7f7f7"
            ],
            [
             0.6,
             "#e6f5d0"
            ],
            [
             0.7,
             "#b8e186"
            ],
            [
             0.8,
             "#7fbc41"
            ],
            [
             0.9,
             "#4d9221"
            ],
            [
             1,
             "#276419"
            ]
           ],
           "sequential": [
            [
             0,
             "#0d0887"
            ],
            [
             0.1111111111111111,
             "#46039f"
            ],
            [
             0.2222222222222222,
             "#7201a8"
            ],
            [
             0.3333333333333333,
             "#9c179e"
            ],
            [
             0.4444444444444444,
             "#bd3786"
            ],
            [
             0.5555555555555556,
             "#d8576b"
            ],
            [
             0.6666666666666666,
             "#ed7953"
            ],
            [
             0.7777777777777778,
             "#fb9f3a"
            ],
            [
             0.8888888888888888,
             "#fdca26"
            ],
            [
             1,
             "#f0f921"
            ]
           ],
           "sequentialminus": [
            [
             0,
             "#0d0887"
            ],
            [
             0.1111111111111111,
             "#46039f"
            ],
            [
             0.2222222222222222,
             "#7201a8"
            ],
            [
             0.3333333333333333,
             "#9c179e"
            ],
            [
             0.4444444444444444,
             "#bd3786"
            ],
            [
             0.5555555555555556,
             "#d8576b"
            ],
            [
             0.6666666666666666,
             "#ed7953"
            ],
            [
             0.7777777777777778,
             "#fb9f3a"
            ],
            [
             0.8888888888888888,
             "#fdca26"
            ],
            [
             1,
             "#f0f921"
            ]
           ]
          },
          "colorway": [
           "#636efa",
           "#EF553B",
           "#00cc96",
           "#ab63fa",
           "#FFA15A",
           "#19d3f3",
           "#FF6692",
           "#B6E880",
           "#FF97FF",
           "#FECB52"
          ],
          "font": {
           "color": "#2a3f5f"
          },
          "geo": {
           "bgcolor": "white",
           "lakecolor": "white",
           "landcolor": "#E5ECF6",
           "showlakes": true,
           "showland": true,
           "subunitcolor": "white"
          },
          "hoverlabel": {
           "align": "left"
          },
          "hovermode": "closest",
          "mapbox": {
           "style": "light"
          },
          "paper_bgcolor": "white",
          "plot_bgcolor": "#E5ECF6",
          "polar": {
           "angularaxis": {
            "gridcolor": "white",
            "linecolor": "white",
            "ticks": ""
           },
           "bgcolor": "#E5ECF6",
           "radialaxis": {
            "gridcolor": "white",
            "linecolor": "white",
            "ticks": ""
           }
          },
          "scene": {
           "xaxis": {
            "backgroundcolor": "#E5ECF6",
            "gridcolor": "white",
            "gridwidth": 2,
            "linecolor": "white",
            "showbackground": true,
            "ticks": "",
            "zerolinecolor": "white"
           },
           "yaxis": {
            "backgroundcolor": "#E5ECF6",
            "gridcolor": "white",
            "gridwidth": 2,
            "linecolor": "white",
            "showbackground": true,
            "ticks": "",
            "zerolinecolor": "white"
           },
           "zaxis": {
            "backgroundcolor": "#E5ECF6",
            "gridcolor": "white",
            "gridwidth": 2,
            "linecolor": "white",
            "showbackground": true,
            "ticks": "",
            "zerolinecolor": "white"
           }
          },
          "shapedefaults": {
           "line": {
            "color": "#2a3f5f"
           }
          },
          "ternary": {
           "aaxis": {
            "gridcolor": "white",
            "linecolor": "white",
            "ticks": ""
           },
           "baxis": {
            "gridcolor": "white",
            "linecolor": "white",
            "ticks": ""
           },
           "bgcolor": "#E5ECF6",
           "caxis": {
            "gridcolor": "white",
            "linecolor": "white",
            "ticks": ""
           }
          },
          "title": {
           "x": 0.05
          },
          "xaxis": {
           "automargin": true,
           "gridcolor": "white",
           "linecolor": "white",
           "ticks": "",
           "title": {
            "standoff": 15
           },
           "zerolinecolor": "white",
           "zerolinewidth": 2
          },
          "yaxis": {
           "automargin": true,
           "gridcolor": "white",
           "linecolor": "white",
           "ticks": "",
           "title": {
            "standoff": 15
           },
           "zerolinecolor": "white",
           "zerolinewidth": 2
          }
         }
        },
        "title": {
         "text": "Count of Duration of Outage"
        },
        "xaxis": {
         "anchor": "y",
         "domain": [
          0,
          1
         ],
         "title": {
          "text": "OUTAGE.DURATION in Minutes"
         }
        },
        "yaxis": {
         "anchor": "x",
         "domain": [
          0,
          1
         ],
         "title": {
          "text": "count"
         }
        }
       }
      }
     },
     "metadata": {},
     "output_type": "display_data"
    }
   ],
   "source": [
    "univariant_plot = px.histogram(data['OUTAGE.DURATION'])\n",
    "univariant_plot.update_layout(xaxis_title = 'OUTAGE.DURATION in Minutes', showlegend = False, title = 'Count of Duration of Outage')"
   ]
  },
  {
   "cell_type": "code",
   "execution_count": 7,
   "metadata": {},
   "outputs": [],
   "source": [
    "univariant_plot.write_html('../uni-plot.html', include_plotlyjs='cdn')"
   ]
  },
  {
   "cell_type": "code",
   "execution_count": 8,
   "metadata": {},
   "outputs": [],
   "source": [
    "bivariant = data.plot(kind = 'bar', x = 'U.S._STATE', y = 'OUTAGE.DURATION')"
   ]
  },
  {
   "cell_type": "code",
   "execution_count": 9,
   "metadata": {},
   "outputs": [],
   "source": [
    "bivariant = data.groupby('U.S._STATE')['OUTAGE.DURATION'].sum().sort_values().reset_index().plot(kind = 'bar', x ='U.S._STATE' , y= 'OUTAGE.DURATION')"
   ]
  },
  {
   "cell_type": "code",
   "execution_count": 10,
   "metadata": {},
   "outputs": [
    {
     "data": {
      "application/vnd.plotly.v1+json": {
       "config": {
        "plotlyServerURL": "https://plot.ly"
       },
       "data": [
        {
         "alignmentgroup": "True",
         "hovertemplate": "U.S._STATE=%{x}<br>OUTAGE.DURATION=%{y}<extra></extra>",
         "legendgroup": "",
         "marker": {
          "color": "#636efa",
          "pattern": {
           "shape": ""
          }
         },
         "name": "",
         "offsetgroup": "",
         "orientation": "v",
         "showlegend": false,
         "textposition": "auto",
         "type": "bar",
         "x": [
          "Alaska",
          "Montana",
          "Wyoming",
          "South Dakota",
          "Vermont",
          "Mississippi",
          "North Dakota",
          "New Mexico",
          "Idaho",
          "Nevada",
          "New Hampshire",
          "Hawaii",
          "Alabama",
          "Delaware",
          "Nebraska",
          "Utah",
          "Colorado",
          "Massachusetts",
          "Oregon",
          "Maine",
          "Georgia",
          "Connecticut",
          "South Carolina",
          "West Virginia",
          "Kansas",
          "Tennessee",
          "Virginia",
          "Arkansas",
          "Iowa",
          "Minnesota",
          "District of Columbia",
          "Missouri",
          "North Carolina",
          "Kentucky",
          "Oklahoma",
          "Illinois",
          "Arizona",
          "Ohio",
          "Maryland",
          "Washington",
          "New Jersey",
          "Indiana",
          "Wisconsin",
          "Louisiana",
          "Florida",
          "Pennsylvania",
          "California",
          "Texas",
          "New York",
          "Michigan"
         ],
         "xaxis": "x",
         "y": [
          0,
          162,
          200,
          240,
          319,
          336,
          720,
          1123,
          3317,
          3873,
          3915,
          4227,
          5764,
          5797,
          9823,
          10259,
          12615,
          16995,
          19167,
          19747,
          22872,
          23019,
          25080,
          27916,
          30634,
          32301,
          37843,
          37859,
          38350,
          40919,
          43036,
          50611,
          56834,
          66221,
          66420,
          70508,
          113823,
          120450,
          134159,
          134225,
          142429,
          147909,
          150178,
          155213,
          184260,
          217267,
          329935,
          329988,
          422447,
          503783
         ],
         "yaxis": "y"
        }
       ],
       "layout": {
        "barmode": "relative",
        "legend": {
         "tracegroupgap": 0
        },
        "margin": {
         "t": 60
        },
        "template": {
         "data": {
          "bar": [
           {
            "error_x": {
             "color": "#2a3f5f"
            },
            "error_y": {
             "color": "#2a3f5f"
            },
            "marker": {
             "line": {
              "color": "#E5ECF6",
              "width": 0.5
             },
             "pattern": {
              "fillmode": "overlay",
              "size": 10,
              "solidity": 0.2
             }
            },
            "type": "bar"
           }
          ],
          "barpolar": [
           {
            "marker": {
             "line": {
              "color": "#E5ECF6",
              "width": 0.5
             },
             "pattern": {
              "fillmode": "overlay",
              "size": 10,
              "solidity": 0.2
             }
            },
            "type": "barpolar"
           }
          ],
          "carpet": [
           {
            "aaxis": {
             "endlinecolor": "#2a3f5f",
             "gridcolor": "white",
             "linecolor": "white",
             "minorgridcolor": "white",
             "startlinecolor": "#2a3f5f"
            },
            "baxis": {
             "endlinecolor": "#2a3f5f",
             "gridcolor": "white",
             "linecolor": "white",
             "minorgridcolor": "white",
             "startlinecolor": "#2a3f5f"
            },
            "type": "carpet"
           }
          ],
          "choropleth": [
           {
            "colorbar": {
             "outlinewidth": 0,
             "ticks": ""
            },
            "type": "choropleth"
           }
          ],
          "contour": [
           {
            "colorbar": {
             "outlinewidth": 0,
             "ticks": ""
            },
            "colorscale": [
             [
              0,
              "#0d0887"
             ],
             [
              0.1111111111111111,
              "#46039f"
             ],
             [
              0.2222222222222222,
              "#7201a8"
             ],
             [
              0.3333333333333333,
              "#9c179e"
             ],
             [
              0.4444444444444444,
              "#bd3786"
             ],
             [
              0.5555555555555556,
              "#d8576b"
             ],
             [
              0.6666666666666666,
              "#ed7953"
             ],
             [
              0.7777777777777778,
              "#fb9f3a"
             ],
             [
              0.8888888888888888,
              "#fdca26"
             ],
             [
              1,
              "#f0f921"
             ]
            ],
            "type": "contour"
           }
          ],
          "contourcarpet": [
           {
            "colorbar": {
             "outlinewidth": 0,
             "ticks": ""
            },
            "type": "contourcarpet"
           }
          ],
          "heatmap": [
           {
            "colorbar": {
             "outlinewidth": 0,
             "ticks": ""
            },
            "colorscale": [
             [
              0,
              "#0d0887"
             ],
             [
              0.1111111111111111,
              "#46039f"
             ],
             [
              0.2222222222222222,
              "#7201a8"
             ],
             [
              0.3333333333333333,
              "#9c179e"
             ],
             [
              0.4444444444444444,
              "#bd3786"
             ],
             [
              0.5555555555555556,
              "#d8576b"
             ],
             [
              0.6666666666666666,
              "#ed7953"
             ],
             [
              0.7777777777777778,
              "#fb9f3a"
             ],
             [
              0.8888888888888888,
              "#fdca26"
             ],
             [
              1,
              "#f0f921"
             ]
            ],
            "type": "heatmap"
           }
          ],
          "heatmapgl": [
           {
            "colorbar": {
             "outlinewidth": 0,
             "ticks": ""
            },
            "colorscale": [
             [
              0,
              "#0d0887"
             ],
             [
              0.1111111111111111,
              "#46039f"
             ],
             [
              0.2222222222222222,
              "#7201a8"
             ],
             [
              0.3333333333333333,
              "#9c179e"
             ],
             [
              0.4444444444444444,
              "#bd3786"
             ],
             [
              0.5555555555555556,
              "#d8576b"
             ],
             [
              0.6666666666666666,
              "#ed7953"
             ],
             [
              0.7777777777777778,
              "#fb9f3a"
             ],
             [
              0.8888888888888888,
              "#fdca26"
             ],
             [
              1,
              "#f0f921"
             ]
            ],
            "type": "heatmapgl"
           }
          ],
          "histogram": [
           {
            "marker": {
             "pattern": {
              "fillmode": "overlay",
              "size": 10,
              "solidity": 0.2
             }
            },
            "type": "histogram"
           }
          ],
          "histogram2d": [
           {
            "colorbar": {
             "outlinewidth": 0,
             "ticks": ""
            },
            "colorscale": [
             [
              0,
              "#0d0887"
             ],
             [
              0.1111111111111111,
              "#46039f"
             ],
             [
              0.2222222222222222,
              "#7201a8"
             ],
             [
              0.3333333333333333,
              "#9c179e"
             ],
             [
              0.4444444444444444,
              "#bd3786"
             ],
             [
              0.5555555555555556,
              "#d8576b"
             ],
             [
              0.6666666666666666,
              "#ed7953"
             ],
             [
              0.7777777777777778,
              "#fb9f3a"
             ],
             [
              0.8888888888888888,
              "#fdca26"
             ],
             [
              1,
              "#f0f921"
             ]
            ],
            "type": "histogram2d"
           }
          ],
          "histogram2dcontour": [
           {
            "colorbar": {
             "outlinewidth": 0,
             "ticks": ""
            },
            "colorscale": [
             [
              0,
              "#0d0887"
             ],
             [
              0.1111111111111111,
              "#46039f"
             ],
             [
              0.2222222222222222,
              "#7201a8"
             ],
             [
              0.3333333333333333,
              "#9c179e"
             ],
             [
              0.4444444444444444,
              "#bd3786"
             ],
             [
              0.5555555555555556,
              "#d8576b"
             ],
             [
              0.6666666666666666,
              "#ed7953"
             ],
             [
              0.7777777777777778,
              "#fb9f3a"
             ],
             [
              0.8888888888888888,
              "#fdca26"
             ],
             [
              1,
              "#f0f921"
             ]
            ],
            "type": "histogram2dcontour"
           }
          ],
          "mesh3d": [
           {
            "colorbar": {
             "outlinewidth": 0,
             "ticks": ""
            },
            "type": "mesh3d"
           }
          ],
          "parcoords": [
           {
            "line": {
             "colorbar": {
              "outlinewidth": 0,
              "ticks": ""
             }
            },
            "type": "parcoords"
           }
          ],
          "pie": [
           {
            "automargin": true,
            "type": "pie"
           }
          ],
          "scatter": [
           {
            "fillpattern": {
             "fillmode": "overlay",
             "size": 10,
             "solidity": 0.2
            },
            "type": "scatter"
           }
          ],
          "scatter3d": [
           {
            "line": {
             "colorbar": {
              "outlinewidth": 0,
              "ticks": ""
             }
            },
            "marker": {
             "colorbar": {
              "outlinewidth": 0,
              "ticks": ""
             }
            },
            "type": "scatter3d"
           }
          ],
          "scattercarpet": [
           {
            "marker": {
             "colorbar": {
              "outlinewidth": 0,
              "ticks": ""
             }
            },
            "type": "scattercarpet"
           }
          ],
          "scattergeo": [
           {
            "marker": {
             "colorbar": {
              "outlinewidth": 0,
              "ticks": ""
             }
            },
            "type": "scattergeo"
           }
          ],
          "scattergl": [
           {
            "marker": {
             "colorbar": {
              "outlinewidth": 0,
              "ticks": ""
             }
            },
            "type": "scattergl"
           }
          ],
          "scattermapbox": [
           {
            "marker": {
             "colorbar": {
              "outlinewidth": 0,
              "ticks": ""
             }
            },
            "type": "scattermapbox"
           }
          ],
          "scatterpolar": [
           {
            "marker": {
             "colorbar": {
              "outlinewidth": 0,
              "ticks": ""
             }
            },
            "type": "scatterpolar"
           }
          ],
          "scatterpolargl": [
           {
            "marker": {
             "colorbar": {
              "outlinewidth": 0,
              "ticks": ""
             }
            },
            "type": "scatterpolargl"
           }
          ],
          "scatterternary": [
           {
            "marker": {
             "colorbar": {
              "outlinewidth": 0,
              "ticks": ""
             }
            },
            "type": "scatterternary"
           }
          ],
          "surface": [
           {
            "colorbar": {
             "outlinewidth": 0,
             "ticks": ""
            },
            "colorscale": [
             [
              0,
              "#0d0887"
             ],
             [
              0.1111111111111111,
              "#46039f"
             ],
             [
              0.2222222222222222,
              "#7201a8"
             ],
             [
              0.3333333333333333,
              "#9c179e"
             ],
             [
              0.4444444444444444,
              "#bd3786"
             ],
             [
              0.5555555555555556,
              "#d8576b"
             ],
             [
              0.6666666666666666,
              "#ed7953"
             ],
             [
              0.7777777777777778,
              "#fb9f3a"
             ],
             [
              0.8888888888888888,
              "#fdca26"
             ],
             [
              1,
              "#f0f921"
             ]
            ],
            "type": "surface"
           }
          ],
          "table": [
           {
            "cells": {
             "fill": {
              "color": "#EBF0F8"
             },
             "line": {
              "color": "white"
             }
            },
            "header": {
             "fill": {
              "color": "#C8D4E3"
             },
             "line": {
              "color": "white"
             }
            },
            "type": "table"
           }
          ]
         },
         "layout": {
          "annotationdefaults": {
           "arrowcolor": "#2a3f5f",
           "arrowhead": 0,
           "arrowwidth": 1
          },
          "autotypenumbers": "strict",
          "coloraxis": {
           "colorbar": {
            "outlinewidth": 0,
            "ticks": ""
           }
          },
          "colorscale": {
           "diverging": [
            [
             0,
             "#8e0152"
            ],
            [
             0.1,
             "#c51b7d"
            ],
            [
             0.2,
             "#de77ae"
            ],
            [
             0.3,
             "#f1b6da"
            ],
            [
             0.4,
             "#fde0ef"
            ],
            [
             0.5,
             "#f7f7f7"
            ],
            [
             0.6,
             "#e6f5d0"
            ],
            [
             0.7,
             "#b8e186"
            ],
            [
             0.8,
             "#7fbc41"
            ],
            [
             0.9,
             "#4d9221"
            ],
            [
             1,
             "#276419"
            ]
           ],
           "sequential": [
            [
             0,
             "#0d0887"
            ],
            [
             0.1111111111111111,
             "#46039f"
            ],
            [
             0.2222222222222222,
             "#7201a8"
            ],
            [
             0.3333333333333333,
             "#9c179e"
            ],
            [
             0.4444444444444444,
             "#bd3786"
            ],
            [
             0.5555555555555556,
             "#d8576b"
            ],
            [
             0.6666666666666666,
             "#ed7953"
            ],
            [
             0.7777777777777778,
             "#fb9f3a"
            ],
            [
             0.8888888888888888,
             "#fdca26"
            ],
            [
             1,
             "#f0f921"
            ]
           ],
           "sequentialminus": [
            [
             0,
             "#0d0887"
            ],
            [
             0.1111111111111111,
             "#46039f"
            ],
            [
             0.2222222222222222,
             "#7201a8"
            ],
            [
             0.3333333333333333,
             "#9c179e"
            ],
            [
             0.4444444444444444,
             "#bd3786"
            ],
            [
             0.5555555555555556,
             "#d8576b"
            ],
            [
             0.6666666666666666,
             "#ed7953"
            ],
            [
             0.7777777777777778,
             "#fb9f3a"
            ],
            [
             0.8888888888888888,
             "#fdca26"
            ],
            [
             1,
             "#f0f921"
            ]
           ]
          },
          "colorway": [
           "#636efa",
           "#EF553B",
           "#00cc96",
           "#ab63fa",
           "#FFA15A",
           "#19d3f3",
           "#FF6692",
           "#B6E880",
           "#FF97FF",
           "#FECB52"
          ],
          "font": {
           "color": "#2a3f5f"
          },
          "geo": {
           "bgcolor": "white",
           "lakecolor": "white",
           "landcolor": "#E5ECF6",
           "showlakes": true,
           "showland": true,
           "subunitcolor": "white"
          },
          "hoverlabel": {
           "align": "left"
          },
          "hovermode": "closest",
          "mapbox": {
           "style": "light"
          },
          "paper_bgcolor": "white",
          "plot_bgcolor": "#E5ECF6",
          "polar": {
           "angularaxis": {
            "gridcolor": "white",
            "linecolor": "white",
            "ticks": ""
           },
           "bgcolor": "#E5ECF6",
           "radialaxis": {
            "gridcolor": "white",
            "linecolor": "white",
            "ticks": ""
           }
          },
          "scene": {
           "xaxis": {
            "backgroundcolor": "#E5ECF6",
            "gridcolor": "white",
            "gridwidth": 2,
            "linecolor": "white",
            "showbackground": true,
            "ticks": "",
            "zerolinecolor": "white"
           },
           "yaxis": {
            "backgroundcolor": "#E5ECF6",
            "gridcolor": "white",
            "gridwidth": 2,
            "linecolor": "white",
            "showbackground": true,
            "ticks": "",
            "zerolinecolor": "white"
           },
           "zaxis": {
            "backgroundcolor": "#E5ECF6",
            "gridcolor": "white",
            "gridwidth": 2,
            "linecolor": "white",
            "showbackground": true,
            "ticks": "",
            "zerolinecolor": "white"
           }
          },
          "shapedefaults": {
           "line": {
            "color": "#2a3f5f"
           }
          },
          "ternary": {
           "aaxis": {
            "gridcolor": "white",
            "linecolor": "white",
            "ticks": ""
           },
           "baxis": {
            "gridcolor": "white",
            "linecolor": "white",
            "ticks": ""
           },
           "bgcolor": "#E5ECF6",
           "caxis": {
            "gridcolor": "white",
            "linecolor": "white",
            "ticks": ""
           }
          },
          "title": {
           "x": 0.05
          },
          "xaxis": {
           "automargin": true,
           "gridcolor": "white",
           "linecolor": "white",
           "ticks": "",
           "title": {
            "standoff": 15
           },
           "zerolinecolor": "white",
           "zerolinewidth": 2
          },
          "yaxis": {
           "automargin": true,
           "gridcolor": "white",
           "linecolor": "white",
           "ticks": "",
           "title": {
            "standoff": 15
           },
           "zerolinecolor": "white",
           "zerolinewidth": 2
          }
         }
        },
        "xaxis": {
         "anchor": "y",
         "domain": [
          0,
          1
         ],
         "dtick": 1,
         "title": {
          "text": "U.S._STATE"
         }
        },
        "yaxis": {
         "anchor": "x",
         "domain": [
          0,
          1
         ],
         "title": {
          "text": "OUTAGE.DURATION"
         }
        }
       }
      }
     },
     "metadata": {},
     "output_type": "display_data"
    }
   ],
   "source": [
    "bivariant.update_xaxes(dtick=1)"
   ]
  },
  {
   "cell_type": "code",
   "execution_count": 11,
   "metadata": {},
   "outputs": [],
   "source": [
    "bivariant.write_html('../bi-plot.html', include_plotlyjs='cdn')"
   ]
  },
  {
   "cell_type": "code",
   "execution_count": 12,
   "metadata": {},
   "outputs": [
    {
     "data": {
      "text/plain": [
       "U.S._STATE\n",
       "Alaska                    1\n",
       "South Dakota              2\n",
       "North Dakota              2\n",
       "Montana                   3\n",
       "Mississippi               4\n",
       "West Virginia             4\n",
       "Nebraska                  4\n",
       "Hawaii                    5\n",
       "Alabama                   6\n",
       "Wyoming                   6\n",
       "Nevada                    7\n",
       "South Carolina            8\n",
       "New Mexico                8\n",
       "Iowa                      8\n",
       "Vermont                   9\n",
       "Idaho                     9\n",
       "Kansas                    9\n",
       "District of Columbia     10\n",
       "Kentucky                 13\n",
       "New Hampshire            14\n",
       "Minnesota                15\n",
       "Colorado                 15\n",
       "Missouri                 17\n",
       "Georgia                  17\n",
       "Massachusetts            18\n",
       "Connecticut              18\n",
       "Maine                    19\n",
       "Wisconsin                20\n",
       "Oklahoma                 24\n",
       "Arkansas                 25\n",
       "Oregon                   26\n",
       "Arizona                  28\n",
       "Tennessee                34\n",
       "New Jersey               35\n",
       "Virginia                 37\n",
       "Louisiana                40\n",
       "North Carolina           40\n",
       "Delaware                 41\n",
       "Utah                     41\n",
       "Ohio                     43\n",
       "Indiana                  43\n",
       "Florida                  45\n",
       "Illinois                 46\n",
       "Pennsylvania             57\n",
       "Maryland                 58\n",
       "New York                 71\n",
       "Michigan                 95\n",
       "Washington               97\n",
       "Texas                   127\n",
       "California              210\n",
       "Name: YEAR, dtype: int64"
      ]
     },
     "execution_count": 12,
     "metadata": {},
     "output_type": "execute_result"
    }
   ],
   "source": [
    "data.groupby('U.S._STATE')['YEAR'].count().sort_values()"
   ]
  },
  {
   "cell_type": "code",
   "execution_count": 13,
   "metadata": {},
   "outputs": [
    {
     "data": {
      "text/html": [
       "<div>\n",
       "<style scoped>\n",
       "    .dataframe tbody tr th:only-of-type {\n",
       "        vertical-align: middle;\n",
       "    }\n",
       "\n",
       "    .dataframe tbody tr th {\n",
       "        vertical-align: top;\n",
       "    }\n",
       "\n",
       "    .dataframe thead th {\n",
       "        text-align: right;\n",
       "    }\n",
       "</style>\n",
       "<table border=\"1\" class=\"dataframe\">\n",
       "  <thead>\n",
       "    <tr style=\"text-align: right;\">\n",
       "      <th></th>\n",
       "      <th>CAUSE.CATEGORY</th>\n",
       "      <th>CAUSE.CATEGORY.DETAIL</th>\n",
       "    </tr>\n",
       "    <tr>\n",
       "      <th>OBS</th>\n",
       "      <th></th>\n",
       "      <th></th>\n",
       "    </tr>\n",
       "  </thead>\n",
       "  <tbody>\n",
       "    <tr>\n",
       "      <th>1</th>\n",
       "      <td>severe weather</td>\n",
       "      <td>NaN</td>\n",
       "    </tr>\n",
       "    <tr>\n",
       "      <th>5</th>\n",
       "      <td>severe weather</td>\n",
       "      <td>NaN</td>\n",
       "    </tr>\n",
       "    <tr>\n",
       "      <th>19</th>\n",
       "      <td>severe weather</td>\n",
       "      <td>NaN</td>\n",
       "    </tr>\n",
       "    <tr>\n",
       "      <th>20</th>\n",
       "      <td>severe weather</td>\n",
       "      <td>NaN</td>\n",
       "    </tr>\n",
       "    <tr>\n",
       "      <th>24</th>\n",
       "      <td>intentional attack</td>\n",
       "      <td>NaN</td>\n",
       "    </tr>\n",
       "    <tr>\n",
       "      <th>...</th>\n",
       "      <td>...</td>\n",
       "      <td>...</td>\n",
       "    </tr>\n",
       "    <tr>\n",
       "      <th>1523</th>\n",
       "      <td>system operability disruption</td>\n",
       "      <td>NaN</td>\n",
       "    </tr>\n",
       "    <tr>\n",
       "      <th>1525</th>\n",
       "      <td>public appeal</td>\n",
       "      <td>NaN</td>\n",
       "    </tr>\n",
       "    <tr>\n",
       "      <th>1530</th>\n",
       "      <td>public appeal</td>\n",
       "      <td>NaN</td>\n",
       "    </tr>\n",
       "    <tr>\n",
       "      <th>1532</th>\n",
       "      <td>islanding</td>\n",
       "      <td>NaN</td>\n",
       "    </tr>\n",
       "    <tr>\n",
       "      <th>1533</th>\n",
       "      <td>islanding</td>\n",
       "      <td>NaN</td>\n",
       "    </tr>\n",
       "  </tbody>\n",
       "</table>\n",
       "<p>471 rows × 2 columns</p>\n",
       "</div>"
      ],
      "text/plain": [
       "                     CAUSE.CATEGORY CAUSE.CATEGORY.DETAIL\n",
       "OBS                                                      \n",
       "1                    severe weather                   NaN\n",
       "5                    severe weather                   NaN\n",
       "19                   severe weather                   NaN\n",
       "20                   severe weather                   NaN\n",
       "24               intentional attack                   NaN\n",
       "...                             ...                   ...\n",
       "1523  system operability disruption                   NaN\n",
       "1525                  public appeal                   NaN\n",
       "1530                  public appeal                   NaN\n",
       "1532                      islanding                   NaN\n",
       "1533                      islanding                   NaN\n",
       "\n",
       "[471 rows x 2 columns]"
      ]
     },
     "execution_count": 13,
     "metadata": {},
     "output_type": "execute_result"
    }
   ],
   "source": [
    "data[['CAUSE.CATEGORY', 'CAUSE.CATEGORY.DETAIL']][data['CAUSE.CATEGORY.DETAIL'].isna()]"
   ]
  },
  {
   "cell_type": "markdown",
   "metadata": {},
   "source": [
    "### Question\n",
    "1. Out of Nerc Regions/ **States** , what are the most likely to have the worst outages, what are the causes.\n",
    "2. UniVariant: \n",
    "3. BiVariant: "
   ]
  },
  {
   "cell_type": "code",
   "execution_count": 14,
   "metadata": {},
   "outputs": [],
   "source": [
    "# data[data[''].isnull()]"
   ]
  },
  {
   "cell_type": "markdown",
   "metadata": {},
   "source": [
    "### Deadlines\n",
    "1. Sat: Question, Cleaning & EDA, Plan for Univariant and Bivariant\n",
    "2. Sun: Assignment of Missigness: Have Univariant and Bivariant done\n",
    "3. Mon: Hypothesis Testing\n",
    "4. Tue: Start the report "
   ]
  },
  {
   "cell_type": "code",
   "execution_count": 15,
   "metadata": {},
   "outputs": [
    {
     "data": {
      "text/plain": [
       "Series([], Name: CAUSE.CATEGORY, dtype: object)"
      ]
     },
     "execution_count": 15,
     "metadata": {},
     "output_type": "execute_result"
    }
   ],
   "source": [
    "data['CAUSE.CATEGORY'][data['CAUSE.CATEGORY'].isna()]"
   ]
  },
  {
   "cell_type": "markdown",
   "metadata": {},
   "source": [
    "### Cleaning and EDA"
   ]
  },
  {
   "cell_type": "code",
   "execution_count": null,
   "metadata": {
    "ExecuteTime": {
     "end_time": "2019-10-31T23:36:28.657068Z",
     "start_time": "2019-10-31T23:36:28.654650Z"
    }
   },
   "outputs": [],
   "source": []
  },
  {
   "cell_type": "markdown",
   "metadata": {},
   "source": [
    "### Assessment of Missingness"
   ]
  },
  {
   "cell_type": "markdown",
   "metadata": {},
   "source": [
    "## NMAR"
   ]
  },
  {
   "cell_type": "markdown",
   "metadata": {},
   "source": [
    "**CAUSE CATEGORY**:\n",
    "All the NAN values in cause category could nan because they could pinpoint the reason for the outage, therefore we can say that the missingness in the Cause Category must be dependent on itself. "
   ]
  },
  {
   "cell_type": "markdown",
   "metadata": {},
   "source": [
    "States and CUstomers.affected"
   ]
  },
  {
   "cell_type": "markdown",
   "metadata": {},
   "source": [
    "## MAR"
   ]
  },
  {
   "cell_type": "markdown",
   "metadata": {},
   "source": [
    "### US STATE WITH CUSTOMERS\n",
    "**NULL HYPOTHESIS**: There is no significant difference between "
   ]
  },
  {
   "cell_type": "code",
   "execution_count": 16,
   "metadata": {},
   "outputs": [],
   "source": [
    "def find_tvd(df, depends_on, col_analyze):\n",
    "    df = df.copy()\n",
    "    df_needed = df.loc[:,[depends_on, col_analyze]]\n",
    "    df_needed['ISNA'] = df_needed.loc[:,col_analyze].isna()\n",
    "    df_needed[col_analyze] = df_needed.loc[:,col_analyze].fillna(0)\n",
    "    find_prop = df_needed.pivot_table(index = depends_on, columns = 'ISNA', aggfunc = 'count', fill_value=0).loc[:,col_analyze]\n",
    "    total_not_missing = find_prop[False].sum()\n",
    "    total_missing = find_prop[True].sum()\n",
    "    find_prop[False] = find_prop[False] / total_not_missing\n",
    "    find_prop[True] = find_prop[True] / total_missing\n",
    "    return find_prop.diff(axis=1)[True].abs().sum()"
   ]
  },
  {
   "cell_type": "code",
   "execution_count": 17,
   "metadata": {},
   "outputs": [],
   "source": [
    "def mar_permutation(df, depends_on, col_analyze, N = 1000):\n",
    "    observed = find_tvd(df, depends_on, col_analyze)\n",
    "    arr = []\n",
    "    for _ in range(N):\n",
    "        shuffled = df.assign(**{col_analyze: np.random.permutation(df[col_analyze])}) \n",
    "        arr.append(find_tvd(shuffled, depends_on, col_analyze))\n",
    "    plot = px.histogram(np.array(arr))\n",
    "    plot.add_vline(x=observed, line_color= \"green\", annotation_text=\"obs\")\n",
    "    plot.update_layout(xaxis_title = \"TVD of Missing and Non-Missing Values\", yaxis_title = \"Frequency\", title_text = \"Simulated Null Values\",showlegend=False)\n",
    "\n",
    "\n",
    "    return plot, np.array([np.array(arr) > observed]).mean()\n"
   ]
  },
  {
   "cell_type": "code",
   "execution_count": 23,
   "metadata": {},
   "outputs": [
    {
     "data": {
      "text/html": [
       "<div>\n",
       "<style scoped>\n",
       "    .dataframe tbody tr th:only-of-type {\n",
       "        vertical-align: middle;\n",
       "    }\n",
       "\n",
       "    .dataframe tbody tr th {\n",
       "        vertical-align: top;\n",
       "    }\n",
       "\n",
       "    .dataframe thead th {\n",
       "        text-align: right;\n",
       "    }\n",
       "</style>\n",
       "<table border=\"1\" class=\"dataframe\">\n",
       "  <thead>\n",
       "    <tr style=\"text-align: right;\">\n",
       "      <th></th>\n",
       "      <th>YEAR</th>\n",
       "      <th>MONTH</th>\n",
       "      <th>U.S._STATE</th>\n",
       "      <th>POSTAL.CODE</th>\n",
       "      <th>NERC.REGION</th>\n",
       "      <th>CLIMATE.REGION</th>\n",
       "      <th>ANOMALY.LEVEL</th>\n",
       "      <th>CLIMATE.CATEGORY</th>\n",
       "      <th>OUTAGE.START.DATE</th>\n",
       "      <th>OUTAGE.START.TIME</th>\n",
       "      <th>...</th>\n",
       "      <th>POPDEN_URBAN</th>\n",
       "      <th>POPDEN_UC</th>\n",
       "      <th>POPDEN_RURAL</th>\n",
       "      <th>AREAPCT_URBAN</th>\n",
       "      <th>AREAPCT_UC</th>\n",
       "      <th>PCT_LAND</th>\n",
       "      <th>PCT_WATER_TOT</th>\n",
       "      <th>PCT_WATER_INLAND</th>\n",
       "      <th>OUTAGE.START.DATETIME</th>\n",
       "      <th>OUTAGE.RESTORATION.DATETIME</th>\n",
       "    </tr>\n",
       "    <tr>\n",
       "      <th>OBS</th>\n",
       "      <th></th>\n",
       "      <th></th>\n",
       "      <th></th>\n",
       "      <th></th>\n",
       "      <th></th>\n",
       "      <th></th>\n",
       "      <th></th>\n",
       "      <th></th>\n",
       "      <th></th>\n",
       "      <th></th>\n",
       "      <th></th>\n",
       "      <th></th>\n",
       "      <th></th>\n",
       "      <th></th>\n",
       "      <th></th>\n",
       "      <th></th>\n",
       "      <th></th>\n",
       "      <th></th>\n",
       "      <th></th>\n",
       "      <th></th>\n",
       "      <th></th>\n",
       "    </tr>\n",
       "  </thead>\n",
       "  <tbody>\n",
       "    <tr>\n",
       "      <th>1</th>\n",
       "      <td>2011</td>\n",
       "      <td>7.0</td>\n",
       "      <td>Minnesota</td>\n",
       "      <td>MN</td>\n",
       "      <td>MRO</td>\n",
       "      <td>East North Central</td>\n",
       "      <td>-0.3</td>\n",
       "      <td>normal</td>\n",
       "      <td>2011-07-01</td>\n",
       "      <td>17:00:00</td>\n",
       "      <td>...</td>\n",
       "      <td>2279.0</td>\n",
       "      <td>1700.5</td>\n",
       "      <td>18.2</td>\n",
       "      <td>2.14</td>\n",
       "      <td>0.60</td>\n",
       "      <td>91.592666</td>\n",
       "      <td>8.407334</td>\n",
       "      <td>5.478743</td>\n",
       "      <td>2011-07-01 17:00:00</td>\n",
       "      <td>2011-07-03 20:00:00</td>\n",
       "    </tr>\n",
       "    <tr>\n",
       "      <th>2</th>\n",
       "      <td>2014</td>\n",
       "      <td>5.0</td>\n",
       "      <td>Minnesota</td>\n",
       "      <td>MN</td>\n",
       "      <td>MRO</td>\n",
       "      <td>East North Central</td>\n",
       "      <td>-0.1</td>\n",
       "      <td>normal</td>\n",
       "      <td>2014-05-11</td>\n",
       "      <td>18:38:00</td>\n",
       "      <td>...</td>\n",
       "      <td>2279.0</td>\n",
       "      <td>1700.5</td>\n",
       "      <td>18.2</td>\n",
       "      <td>2.14</td>\n",
       "      <td>0.60</td>\n",
       "      <td>91.592666</td>\n",
       "      <td>8.407334</td>\n",
       "      <td>5.478743</td>\n",
       "      <td>2014-05-11 18:38:00</td>\n",
       "      <td>2014-05-11 18:39:00</td>\n",
       "    </tr>\n",
       "    <tr>\n",
       "      <th>3</th>\n",
       "      <td>2010</td>\n",
       "      <td>10.0</td>\n",
       "      <td>Minnesota</td>\n",
       "      <td>MN</td>\n",
       "      <td>MRO</td>\n",
       "      <td>East North Central</td>\n",
       "      <td>-1.5</td>\n",
       "      <td>cold</td>\n",
       "      <td>2010-10-26</td>\n",
       "      <td>20:00:00</td>\n",
       "      <td>...</td>\n",
       "      <td>2279.0</td>\n",
       "      <td>1700.5</td>\n",
       "      <td>18.2</td>\n",
       "      <td>2.14</td>\n",
       "      <td>0.60</td>\n",
       "      <td>91.592666</td>\n",
       "      <td>8.407334</td>\n",
       "      <td>5.478743</td>\n",
       "      <td>2010-10-26 20:00:00</td>\n",
       "      <td>2010-10-28 22:00:00</td>\n",
       "    </tr>\n",
       "    <tr>\n",
       "      <th>4</th>\n",
       "      <td>2012</td>\n",
       "      <td>6.0</td>\n",
       "      <td>Minnesota</td>\n",
       "      <td>MN</td>\n",
       "      <td>MRO</td>\n",
       "      <td>East North Central</td>\n",
       "      <td>-0.1</td>\n",
       "      <td>normal</td>\n",
       "      <td>2012-06-19</td>\n",
       "      <td>04:30:00</td>\n",
       "      <td>...</td>\n",
       "      <td>2279.0</td>\n",
       "      <td>1700.5</td>\n",
       "      <td>18.2</td>\n",
       "      <td>2.14</td>\n",
       "      <td>0.60</td>\n",
       "      <td>91.592666</td>\n",
       "      <td>8.407334</td>\n",
       "      <td>5.478743</td>\n",
       "      <td>2012-06-19 04:30:00</td>\n",
       "      <td>2012-06-20 23:00:00</td>\n",
       "    </tr>\n",
       "    <tr>\n",
       "      <th>5</th>\n",
       "      <td>2015</td>\n",
       "      <td>7.0</td>\n",
       "      <td>Minnesota</td>\n",
       "      <td>MN</td>\n",
       "      <td>MRO</td>\n",
       "      <td>East North Central</td>\n",
       "      <td>1.2</td>\n",
       "      <td>warm</td>\n",
       "      <td>2015-07-18</td>\n",
       "      <td>02:00:00</td>\n",
       "      <td>...</td>\n",
       "      <td>2279.0</td>\n",
       "      <td>1700.5</td>\n",
       "      <td>18.2</td>\n",
       "      <td>2.14</td>\n",
       "      <td>0.60</td>\n",
       "      <td>91.592666</td>\n",
       "      <td>8.407334</td>\n",
       "      <td>5.478743</td>\n",
       "      <td>2015-07-18 02:00:00</td>\n",
       "      <td>2015-07-19 07:00:00</td>\n",
       "    </tr>\n",
       "    <tr>\n",
       "      <th>...</th>\n",
       "      <td>...</td>\n",
       "      <td>...</td>\n",
       "      <td>...</td>\n",
       "      <td>...</td>\n",
       "      <td>...</td>\n",
       "      <td>...</td>\n",
       "      <td>...</td>\n",
       "      <td>...</td>\n",
       "      <td>...</td>\n",
       "      <td>...</td>\n",
       "      <td>...</td>\n",
       "      <td>...</td>\n",
       "      <td>...</td>\n",
       "      <td>...</td>\n",
       "      <td>...</td>\n",
       "      <td>...</td>\n",
       "      <td>...</td>\n",
       "      <td>...</td>\n",
       "      <td>...</td>\n",
       "      <td>...</td>\n",
       "      <td>...</td>\n",
       "    </tr>\n",
       "    <tr>\n",
       "      <th>1530</th>\n",
       "      <td>2011</td>\n",
       "      <td>12.0</td>\n",
       "      <td>North Dakota</td>\n",
       "      <td>ND</td>\n",
       "      <td>MRO</td>\n",
       "      <td>West North Central</td>\n",
       "      <td>-0.9</td>\n",
       "      <td>cold</td>\n",
       "      <td>2011-12-06</td>\n",
       "      <td>08:00:00</td>\n",
       "      <td>...</td>\n",
       "      <td>2192.2</td>\n",
       "      <td>1868.2</td>\n",
       "      <td>3.9</td>\n",
       "      <td>0.27</td>\n",
       "      <td>0.10</td>\n",
       "      <td>97.599649</td>\n",
       "      <td>2.401765</td>\n",
       "      <td>2.401765</td>\n",
       "      <td>2011-12-06 08:00:00</td>\n",
       "      <td>2011-12-06 20:00:00</td>\n",
       "    </tr>\n",
       "    <tr>\n",
       "      <th>1531</th>\n",
       "      <td>2006</td>\n",
       "      <td>NaN</td>\n",
       "      <td>North Dakota</td>\n",
       "      <td>ND</td>\n",
       "      <td>MRO</td>\n",
       "      <td>West North Central</td>\n",
       "      <td>NaN</td>\n",
       "      <td>NaN</td>\n",
       "      <td>NaT</td>\n",
       "      <td>NaN</td>\n",
       "      <td>...</td>\n",
       "      <td>2192.2</td>\n",
       "      <td>1868.2</td>\n",
       "      <td>3.9</td>\n",
       "      <td>0.27</td>\n",
       "      <td>0.10</td>\n",
       "      <td>97.599649</td>\n",
       "      <td>2.401765</td>\n",
       "      <td>2.401765</td>\n",
       "      <td>NaT</td>\n",
       "      <td>NaT</td>\n",
       "    </tr>\n",
       "    <tr>\n",
       "      <th>1532</th>\n",
       "      <td>2009</td>\n",
       "      <td>8.0</td>\n",
       "      <td>South Dakota</td>\n",
       "      <td>SD</td>\n",
       "      <td>RFC</td>\n",
       "      <td>West North Central</td>\n",
       "      <td>0.5</td>\n",
       "      <td>warm</td>\n",
       "      <td>2009-08-29</td>\n",
       "      <td>22:54:00</td>\n",
       "      <td>...</td>\n",
       "      <td>2038.3</td>\n",
       "      <td>1905.4</td>\n",
       "      <td>4.7</td>\n",
       "      <td>0.30</td>\n",
       "      <td>0.15</td>\n",
       "      <td>98.307744</td>\n",
       "      <td>1.692256</td>\n",
       "      <td>1.692256</td>\n",
       "      <td>2009-08-29 22:54:00</td>\n",
       "      <td>2009-08-29 23:53:00</td>\n",
       "    </tr>\n",
       "    <tr>\n",
       "      <th>1533</th>\n",
       "      <td>2009</td>\n",
       "      <td>8.0</td>\n",
       "      <td>South Dakota</td>\n",
       "      <td>SD</td>\n",
       "      <td>MRO</td>\n",
       "      <td>West North Central</td>\n",
       "      <td>0.5</td>\n",
       "      <td>warm</td>\n",
       "      <td>2009-08-29</td>\n",
       "      <td>11:00:00</td>\n",
       "      <td>...</td>\n",
       "      <td>2038.3</td>\n",
       "      <td>1905.4</td>\n",
       "      <td>4.7</td>\n",
       "      <td>0.30</td>\n",
       "      <td>0.15</td>\n",
       "      <td>98.307744</td>\n",
       "      <td>1.692256</td>\n",
       "      <td>1.692256</td>\n",
       "      <td>2009-08-29 11:00:00</td>\n",
       "      <td>2009-08-29 14:01:00</td>\n",
       "    </tr>\n",
       "    <tr>\n",
       "      <th>1534</th>\n",
       "      <td>2000</td>\n",
       "      <td>NaN</td>\n",
       "      <td>Alaska</td>\n",
       "      <td>AK</td>\n",
       "      <td>ASCC</td>\n",
       "      <td>NaN</td>\n",
       "      <td>NaN</td>\n",
       "      <td>NaN</td>\n",
       "      <td>NaT</td>\n",
       "      <td>NaN</td>\n",
       "      <td>...</td>\n",
       "      <td>1802.6</td>\n",
       "      <td>1276.0</td>\n",
       "      <td>0.4</td>\n",
       "      <td>0.05</td>\n",
       "      <td>0.02</td>\n",
       "      <td>85.761154</td>\n",
       "      <td>14.238846</td>\n",
       "      <td>2.901182</td>\n",
       "      <td>NaT</td>\n",
       "      <td>NaT</td>\n",
       "    </tr>\n",
       "  </tbody>\n",
       "</table>\n",
       "<p>1534 rows × 57 columns</p>\n",
       "</div>"
      ],
      "text/plain": [
       "      YEAR  MONTH    U.S._STATE POSTAL.CODE NERC.REGION      CLIMATE.REGION  \\\n",
       "OBS                                                                           \n",
       "1     2011    7.0     Minnesota          MN         MRO  East North Central   \n",
       "2     2014    5.0     Minnesota          MN         MRO  East North Central   \n",
       "3     2010   10.0     Minnesota          MN         MRO  East North Central   \n",
       "4     2012    6.0     Minnesota          MN         MRO  East North Central   \n",
       "5     2015    7.0     Minnesota          MN         MRO  East North Central   \n",
       "...    ...    ...           ...         ...         ...                 ...   \n",
       "1530  2011   12.0  North Dakota          ND         MRO  West North Central   \n",
       "1531  2006    NaN  North Dakota          ND         MRO  West North Central   \n",
       "1532  2009    8.0  South Dakota          SD         RFC  West North Central   \n",
       "1533  2009    8.0  South Dakota          SD         MRO  West North Central   \n",
       "1534  2000    NaN        Alaska          AK        ASCC                 NaN   \n",
       "\n",
       "      ANOMALY.LEVEL CLIMATE.CATEGORY OUTAGE.START.DATE OUTAGE.START.TIME  ...  \\\n",
       "OBS                                                                       ...   \n",
       "1              -0.3           normal        2011-07-01          17:00:00  ...   \n",
       "2              -0.1           normal        2014-05-11          18:38:00  ...   \n",
       "3              -1.5             cold        2010-10-26          20:00:00  ...   \n",
       "4              -0.1           normal        2012-06-19          04:30:00  ...   \n",
       "5               1.2             warm        2015-07-18          02:00:00  ...   \n",
       "...             ...              ...               ...               ...  ...   \n",
       "1530           -0.9             cold        2011-12-06          08:00:00  ...   \n",
       "1531            NaN              NaN               NaT               NaN  ...   \n",
       "1532            0.5             warm        2009-08-29          22:54:00  ...   \n",
       "1533            0.5             warm        2009-08-29          11:00:00  ...   \n",
       "1534            NaN              NaN               NaT               NaN  ...   \n",
       "\n",
       "     POPDEN_URBAN POPDEN_UC POPDEN_RURAL AREAPCT_URBAN AREAPCT_UC   PCT_LAND  \\\n",
       "OBS                                                                            \n",
       "1          2279.0    1700.5         18.2          2.14       0.60  91.592666   \n",
       "2          2279.0    1700.5         18.2          2.14       0.60  91.592666   \n",
       "3          2279.0    1700.5         18.2          2.14       0.60  91.592666   \n",
       "4          2279.0    1700.5         18.2          2.14       0.60  91.592666   \n",
       "5          2279.0    1700.5         18.2          2.14       0.60  91.592666   \n",
       "...           ...       ...          ...           ...        ...        ...   \n",
       "1530       2192.2    1868.2          3.9          0.27       0.10  97.599649   \n",
       "1531       2192.2    1868.2          3.9          0.27       0.10  97.599649   \n",
       "1532       2038.3    1905.4          4.7          0.30       0.15  98.307744   \n",
       "1533       2038.3    1905.4          4.7          0.30       0.15  98.307744   \n",
       "1534       1802.6    1276.0          0.4          0.05       0.02  85.761154   \n",
       "\n",
       "      PCT_WATER_TOT  PCT_WATER_INLAND  OUTAGE.START.DATETIME  \\\n",
       "OBS                                                            \n",
       "1          8.407334          5.478743    2011-07-01 17:00:00   \n",
       "2          8.407334          5.478743    2014-05-11 18:38:00   \n",
       "3          8.407334          5.478743    2010-10-26 20:00:00   \n",
       "4          8.407334          5.478743    2012-06-19 04:30:00   \n",
       "5          8.407334          5.478743    2015-07-18 02:00:00   \n",
       "...             ...               ...                    ...   \n",
       "1530       2.401765          2.401765    2011-12-06 08:00:00   \n",
       "1531       2.401765          2.401765                    NaT   \n",
       "1532       1.692256          1.692256    2009-08-29 22:54:00   \n",
       "1533       1.692256          1.692256    2009-08-29 11:00:00   \n",
       "1534      14.238846          2.901182                    NaT   \n",
       "\n",
       "      OUTAGE.RESTORATION.DATETIME  \n",
       "OBS                                \n",
       "1             2011-07-03 20:00:00  \n",
       "2             2014-05-11 18:39:00  \n",
       "3             2010-10-28 22:00:00  \n",
       "4             2012-06-20 23:00:00  \n",
       "5             2015-07-19 07:00:00  \n",
       "...                           ...  \n",
       "1530          2011-12-06 20:00:00  \n",
       "1531                          NaT  \n",
       "1532          2009-08-29 23:53:00  \n",
       "1533          2009-08-29 14:01:00  \n",
       "1534                          NaT  \n",
       "\n",
       "[1534 rows x 57 columns]"
      ]
     },
     "execution_count": 23,
     "metadata": {},
     "output_type": "execute_result"
    }
   ],
   "source": [
    "data"
   ]
  },
  {
   "cell_type": "code",
   "execution_count": 25,
   "metadata": {},
   "outputs": [
    {
     "name": "stdout",
     "output_type": "stream",
     "text": [
      "0.373\n"
     ]
    },
    {
     "data": {
      "application/vnd.plotly.v1+json": {
       "config": {
        "plotlyServerURL": "https://plot.ly"
       },
       "data": [
        {
         "alignmentgroup": "True",
         "bingroup": "x",
         "hovertemplate": "variable=0<br>value=%{x}<br>count=%{y}<extra></extra>",
         "legendgroup": "0",
         "marker": {
          "color": "#636efa",
          "pattern": {
           "shape": ""
          }
         },
         "name": "0",
         "offsetgroup": "0",
         "orientation": "v",
         "showlegend": true,
         "type": "histogram",
         "x": [
          0.08858399664851285,
          0.08607038123167154,
          0.06519065190651904,
          0.10366294397580039,
          0.035616678419280484,
          0.026573914212381256,
          0.05785241525884646,
          0.07935726415842248,
          0.08861341255018948,
          0.09264323490987297,
          0.08052460276674067,
          0.036232522432952885,
          0.06509017229011191,
          0.09704141514704714,
          0.11626960654761165,
          0.06312697676556234,
          0.15117302052785925,
          0.03496020108923334,
          0.08198408514697395,
          0.056032499100501204,
          0.03950045516136208,
          0.017210453134386045,
          0.10942089012726855,
          0.018076408378325082,
          0.04534283556493912,
          0.06475972922994536,
          0.07329283619606203,
          0.07474210651658916,
          0.0745077503142019,
          0.0694176790950985,
          0.0805246027667407,
          0.03747381650607465,
          0.1002285423012162,
          0.037487450273678585,
          0.05861303733162182,
          0.09108308655269895,
          0.10987217726542411,
          0.09497276916631756,
          0.04283499892880993,
          0.11801424382069545,
          0.04809384164222871,
          0.16736933512880858,
          0.05243032022156954,
          0.03966998853662007,
          0.10132269472306471,
          0.108031896645497,
          0.03651245283964849,
          0.11711358792259544,
          0.0718048992450166,
          0.0052815498139501815,
          0.024553543336815253,
          0.06519065190651904,
          0.07450775031420193,
          0.0013889934817715166,
          0.057933593211416196,
          0.06604524507750315,
          0.075870194657876,
          0.04049015500628411,
          0.020529491009195766,
          0.06941767909509844,
          0.036512452839648546,
          0.026413908671973158,
          0.08689621171289741,
          0.05564727182602194,
          0.06199888862427569,
          0.16089313954364035,
          0.10890646478067037,
          0.046850911351673824,
          0.05156198426525946,
          0.06087138667783826,
          0.1034716469613676,
          0.13546189439417392,
          0.0924591537494763,
          0.013191254361523214,
          0.1325209092092937,
          0.04288406178580531,
          0.07517299662792551,
          0.018156114054627748,
          0.03094275840717592,
          0.024562592564701224,
          0.09699761302474652,
          0.058379563387470634,
          0.03950045516136205,
          0.015049531425610968,
          0.030511835730602233,
          0.04693405823548413,
          0.05869274300792446,
          0.08828229639118265,
          0.173355676581483,
          0.04049015500628411,
          0.020832027675762366,
          0.09666055844231908,
          0.043703090092125446,
          0.06602240299486509,
          0.13302541188677194,
          0.04256388772517802,
          0.06612634608204654,
          0.1427105152911605,
          0.04773774612484297,
          0.08793332831287506,
          0.027203636621919103,
          0.011371338203177928,
          0.09884792626728109,
          0.03950045516136208,
          0.12218122181221816,
          0.007769159324246322,
          0.06423258110132121,
          0.035316296606619224,
          0.10437788018433178,
          0.06475972922994533,
          0.021344341106734277,
          0.050083255934600224,
          0.11580105596974336,
          0.022667221165034696,
          0.06751017630527659,
          0.07243401759530796,
          0.026413908671973158,
          0.06690406367825721,
          0.06199888862427558,
          0.1290644651119865,
          0.12224549643904475,
          0.05785241525884646,
          0.060871386677838285,
          0.06925584263582485,
          0.01700879765395888,
          0.06241266494297598,
          0.0884481304823872,
          0.08844813048238714,
          0.05006355478926244,
          0.028927524088814383,
          0.0694176790950985,
          0.03732292424965064,
          0.0897916379422001,
          0.09245915374947633,
          0.018076408378325082,
          0.07560391930449914,
          0.037850072378274785,
          0.046907576156394765,
          0.07157081774899382,
          0.07364893171344783,
          0.08155316247040023,
          0.027792749317924498,
          0.09108308655269898,
          0.024473837660512587,
          0.06975090159064862,
          0.014149325166721016,
          0.03285890001757166,
          0.05243032022156954,
          0.04423023822074956,
          0.08858399664851285,
          0.07061274694379596,
          0.012329409008375758,
          0.04327216741555176,
          0.02022846163849701,
          0.04866655803595679,
          0.01830749895266018,
          0.04366612550707505,
          0.11411755328743964,
          0.06173020527859244,
          0.03285890001757166,
          0.11623197864631707,
          0.1000628403854211,
          0.09063527869844107,
          0.09171606321079637,
          0.05881048606404429,
          0.039239065860046385,
          0.05006355478926244,
          0.07587019465787598,
          0.13302541188677197,
          0.05412651864264767,
          0.12907209739007697,
          0.02318012225132965,
          0.04256388772517805,
          0.15173498673762245,
          0.004231252618349335,
          0.05534143276078754,
          0.04049015500628411,
          0.08728529534981147,
          0.09326782065905417,
          0.15548806032677004,
          0.10764041832894955,
          0.0781765081911733,
          0.08889139911807284,
          0.04829176695945864,
          0.10772012400525219,
          0.09527156496054756,
          0.043703090092125446,
          0.05603249910050129,
          0.061409775928270266,
          0.03410138248847927,
          0.08224180360403277,
          0.12026508020182244,
          0.05199939754499583,
          0.07157081774899382,
          0.1128403854210305,
          0.046850911351673824,
          0.019571420203997936,
          0.11076665270213651,
          0.0013889934817715166,
          0.028571428571428553,
          0.02052949100919582,
          0.026065492287343783,
          0.07882279011311263,
          0.07704842004988652,
          0.051968998743192274,
          0.03966998853662007,
          0.02859991250504776,
          0.08433114943394329,
          0.03942074948505944,
          0.18104315039798902,
          0.014149325166721127,
          0.06811897779639717,
          0.06051529116045237,
          0.08089652283200668,
          0.1427105152911605,
          0.04256388772517802,
          0.043745831183377604,
          0.06337073574817378,
          0.04965233325802637,
          0.012329409008375758,
          0.11186164425569098,
          0.05025136154168405,
          0.022538751571009652,
          0.030942758407175863,
          0.09326782065905417,
          0.09160033514872229,
          0.02142114037176776,
          0.0692558426358248,
          0.07699291278627074,
          0.09709148111889282,
          0.03334903755552565,
          0.07968160871386681,
          0.01191872643485542,
          0.11198156682027652,
          0.05806903860837928,
          0.07329283619606203,
          0.046907576156394765,
          0.008546292417260126,
          0.056032499100501204,
          0.08607038123167154,
          0.06519065190651907,
          0.09264323490987297,
          0.06026795959326217,
          0.11580105596974333,
          0.12482332750033656,
          0.050251361541684164,
          0.02595158604647277,
          0.07243401759530793,
          0.0779509835914686,
          0.0329800506609873,
          0.043740585739142024,
          0.03732292424965061,
          0.07364893171344783,
          0.039946854514232716,
          0.04401214992709207,
          0.07613106743312334,
          0.04509208357389691,
          0.024696271470465048,
          0.07613106743312334,
          0.0532677000418936,
          0.0605152911604524,
          0.08089652283200668,
          0.07573297759431491,
          0.13940557772924675,
          0.03871191773142221,
          0.058379563387470634,
          0.09028039259984444,
          0.09028039259984438,
          0.06284358761954964,
          0.022089350462941693,
          0.032802681189777916,
          0.02456259256470114,
          0.05156198426525946,
          0.05670585961949648,
          0.09616324688835684,
          0.11801424382069545,
          0.024696271470465048,
          0.08836425098944858,
          0.1202172230448243,
          0.1354618943941739,
          0.09498502149634627,
          0.08642647674905737,
          0.1128403854210305,
          0.051561984265259514,
          0.037487450273678585,
          0.032616632521498906,
          0.03146990653580006,
          0.011802260879751614,
          0.0805246027667407,
          0.1447842480100544,
          0.04327216741555168,
          0.030871266942700037,
          0.05147224941637166,
          0.010164272332400054,
          0.014149325166721016,
          0.05534143276078754,
          0.020098568332622135,
          0.03437743831964046,
          0.030140843893491726,
          0.022175733975207224,
          0.023616589582992037,
          0.040535967210238055,
          0.0741529938205838,
          0.08858399664851274,
          0.05906168135270298,
          0.06726015919564307,
          0.08642647674905735,
          0.03726869622488754,
          0.09160033514872229,
          0.05333148751767158,
          0.0422949490898,
          0.06941767909509844,
          0.09385693335505949,
          0.04423023822074956,
          0.05860459645541119,
          0.07461709812607764,
          0.04256388772517802,
          0.0779509835914686,
          0.07935726415842248,
          0.10660015124737302,
          0.033289822694145266,
          0.10132269472306471,
          0.075870194657876,
          0.0329800506609873,
          0.03747381650607465,
          0.02690965685167057,
          0.003363055623938599,
          0.01371840249014733,
          0.02978634268956845,
          0.13079178885630505,
          0.058357771260997005,
          0.055627279678118785,
          0.027203636621919103,
          0.05147224941637166,
          0.03233175188894752,
          0.09063527869844112,
          0.02892752408881441,
          0.06474654377880179,
          0.018156114054627748,
          0.04829176695945864,
          0.03923906586004633,
          0.1427105152911605,
          0.05243032022156957,
          0.06975090159064856,
          0.06743218602788079,
          0.09707731870104919,
          0.07450775031420187,
          0.050383758873248835,
          0.10251357615616974,
          0.05664013405948892,
          0.051968998743192274,
          0.03966998853662004,
          0.04423023822074962,
          0.07565327191801224,
          0.09666055844231905,
          0.0751729966279254,
          0.05156198426525946,
          0.06443214013009935,
          0.11409984833481648,
          0.05147224941637166,
          0.03897973404321897,
          0.06087138667783834,
          0.05646342177707486,
          0.048952660242982865,
          0.031014382695701892,
          0.05965647255969833,
          0.011802260879751614,
          0.03094275840717589,
          0.04386258902387938,
          0.0885839966485128,
          0.07061274694379596,
          0.02339757017176375,
          0.042294949089800055,
          0.04895266024298284,
          0.13494155349716763,
          0.024562592564701113,
          0.005782496250151481,
          0.03498800687241921,
          0.06284358761954964,
          0.053257047800279816,
          0.06284358761954967,
          0.03923906586004633,
          0.04685091135167385,
          0.03285890001757158,
          0.06430520215757299,
          0.051968998743192274,
          0.12051498256962717,
          0.054705982984440626,
          0.08521156263091745,
          0.08003770423125256,
          0.11076665270213654,
          0.01818242672222642,
          0.12079222833044662,
          0.16856750387518743,
          0.023769234947334933,
          0.023993808049535575,
          0.017751504045652622,
          0.03732292424965061,
          0.023397570171763665,
          0.039763931888544934,
          0.09800845353684126,
          0.03966998853662004,
          0.0915088387794922,
          0.09474441683192342,
          0.0030163385002094922,
          0.07788503085448684,
          0.0694176790950985,
          0.056540689747752504,
          0.07613106743312334,
          0.03126893203477854,
          0.043703090092125446,
          0.033289822694145293,
          0.0544826141600335,
          0.12047145728097336,
          0.10942089012726855,
          0.06726015919564307,
          0.055341432760787596,
          0.029786342689568507,
          0.032858900017571635,
          0.0711398950724201,
          0.024696271470465048,
          0.055424810279515235,
          0.07892120464642144,
          0.08089652283200666,
          0.06475972922994536,
          0.022182656053623767,
          0.018076408378325137,
          0.008549482542359294,
          0.039763931888544934,
          0.024696271470465048,
          0.024562592564701224,
          0.030950972619002703,
          0.02892752408881441,
          0.07704842004988652,
          0.10112458267439825,
          0.10750474851687292,
          0.054793713824202395,
          0.05326770004189363,
          0.02508974069332534,
          0.028014336797920397,
          0.013332330588318814,
          0.050143260465565,
          0.06293811902993995,
          0.09492526544087726,
          0.036512452839648546,
          0.012154105196308218,
          0.06922375346202445,
          0.03302332020287191,
          0.10304072428479391,
          0.08191919486946256,
          0.05603249910050123,
          0.04053596721023803,
          0.041885630510852645,
          0.04154166475425905,
          0.10006284038542107,
          0.06087138667783831,
          0.04509208357389696,
          0.026573914212381256,
          0.05664013405948887,
          0.1608931395436403,
          0.0966904063678257,
          0.03108504398826975,
          0.11922915793883535,
          0.06726015919564307,
          0.03328982269414532,
          0.10304072428479391,
          0.10307917888563048,
          0.06199888862427563,
          0.07239401194102188,
          0.07061274694379596,
          0.06663106111498221,
          0.02052949100919574,
          0.052295313725737036,
          0.1052366987850859,
          0.0643052021575731,
          0.03689200157307693,
          0.06612634608204654,
          0.025951586046472658,
          0.037487450273678585,
          0.04509208357389696,
          0.0724754571460978,
          0.11527390784111918,
          0.02857142857142858,
          0.041348973607038125,
          0.10890646478067048,
          0.12899231033126654,
          0.07243401759530799,
          0.10339504230693403,
          0.04053662895329668,
          0.04687892752408876,
          0.057933593211416196,
          0.028014336797920425,
          0.08101452740826515,
          0.1059469949969124,
          0.07391631275388258,
          0.06975090159064856,
          0.05010368726086217,
          0.024696271470465048,
          0.02857142857142861,
          0.0907113152764181,
          0.09160033514872226,
          0.12426198453662013,
          0.10750474851687286,
          0.026075548480632454,
          0.07565327191801224,
          0.05881048606404429,
          0.11198156682027646,
          0.09749798088571815,
          0.052295313725737036,
          0.05860459645541119,
          0.035014806838066986,
          0.08224180360403274,
          0.08213040687650236,
          0.03002272603159803,
          0.016527373854120203,
          0.039239065860046385,
          0.0839002267573696,
          0.0650104666138093,
          0.08219522413070801,
          0.04044477490306783,
          0.0054220950372769194,
          0.04386258902387938,
          0.08198408514697395,
          0.04370309009212539,
          0.09160033514872232,
          0.026253530999778896,
          0.10097254004576661,
          0.11198156682027649,
          0.05646342177707489,
          0.0532677000418936,
          0.037473816506074537,
          0.1644953184225719,
          0.06474654377880185,
          0.013718402490147441,
          0.11162547130289066,
          0.07795098359146863,
          0.09709148111889285,
          0.0628584133536374,
          0.12683270617551196,
          0.05785241525884641,
          0.032447157426789164,
          0.04053596721023803,
          0.04925567073196205,
          0.08988454621697972,
          0.017751504045652622,
          0.12898475943568385,
          0.06604524507750315,
          0.046907576156394765,
          0.03617511520737329,
          0.05326770004189357,
          0.01504953142561094,
          0.0961632468883569,
          0.04053662895329668,
          0.00976120653540008,
          0.06925584263582485,
          0.05470598298444068,
          0.08089652283200668,
          0.03966998853662007,
          0.05965079404870835,
          0.014149325166721127,
          0.07587019465787595,
          0.04809384164222871,
          0.097880447725649,
          0.05025136154168411,
          0.02955173119748644,
          0.06182223956170271,
          0.041178655028101946,
          0.07247545714609777,
          0.11922915793883537,
          0.1202650802018225,
          0.06701868911544914,
          0.017008797653958962,
          0.0897916379422001,
          0.08251123327559812,
          0.02052949100919582,
          0.0492556707319621,
          0.024696271470465048,
          0.022538751571009652,
          0.04386258902387938,
          0.07243401759530793,
          0.03413919967110918,
          0.07474210651658916,
          0.09884792626728117,
          0.0787656208871787,
          0.0544826141600335,
          0.0860833754062997,
          0.049027380997327785,
          0.07613106743312328,
          0.03233175188894741,
          0.056990569905699034,
          0.01576959752660123,
          0.07573297759431485,
          0.0654332902988598,
          0.07239401194102182,
          0.07587019465787595,
          0.06778138487442709,
          0.05199939754499586,
          0.06241266494297598,
          0.03531629660661928,
          0.1291493797604275,
          0.06925584263582485,
          0.08337307862874543,
          0.06284358761954967,
          0.014935064935064912,
          0.039946854514232716,
          0.056463421777074946,
          0.01830749895266029,
          0.10803189664549706,
          0.01579388353581901,
          0.1297384924564328,
          0.062412664942975954,
          0.050251361541684164,
          0.04895266024298284,
          0.11388491435934761,
          0.07573297759431485,
          0.02508974069332523,
          0.018307498952660234,
          0.028815461710819,
          0.04049015500628411,
          0.02339757017176375,
          0.06337073574817384,
          0.03919145370758273,
          0.022538751571009652,
          0.0647465437788019,
          0.017970117108628364,
          0.03617511520737329,
          0.037473816506074537,
          0.046907576156394765,
          0.05061040406322434,
          0.10006284038542104,
          0.09367406786761631,
          0.06604524507750309,
          0.02142114037176776,
          0.06699407084113942,
          0.11970863631208178,
          0.0711398950724201,
          0.09281524926686224,
          0.027203636621919214,
          0.08889139911807284,
          0.027741770388921727,
          0.04327216741555173,
          0.08607038123167152,
          0.017397626001178224,
          0.09326782065905415,
          0.158546075256671,
          0.03966998853662004,
          0.06690406367825719,
          0.052984923946695406,
          0.019703939534475662,
          0.05156198426525946,
          0.06173020527859238,
          0.0756039193044992,
          0.08748532440890269,
          0.02720363662191916,
          0.02002513615416837,
          0.05534143276078757,
          0.06284358761954967,
          0.050610404063224285,
          0.050083255934600224,
          0.08205070120019975,
          0.009405111018014223,
          0.02670559659698718,
          0.10165173080302228,
          0.025951586046472658,
          0.06285841335363734,
          0.05006355478926244,
          0.09264323490987297,
          0.07892120464642144,
          0.03233175188894746,
          0.06821966884389016,
          0.12691241185181457,
          0.07113989507242016,
          0.03994685451423266,
          0.030871266942700037,
          0.0055299539170506895,
          0.04561923170252116,
          0.03617511520737329,
          0.04693405823548413,
          0.046050154379094765,
          0.05534143276078751,
          0.05906168135270298,
          0.04965233325802648,
          0.032802681189777916,
          0.07517299662792545,
          0.09264323490987308,
          0.11091227583773361,
          0.041705069124423955,
          0.03966998853662007,
          0.08642647674905737,
          0.0778053251781842,
          0.13079178885630507,
          0.1460249940220743,
          0.10307917888563048,
          0.047737746124842884,
          0.041705069124423955,
          0.017008797653958962,
          0.02456259256470114,
          0.026625890920684514,
          0.0711398950724201,
          0.0532677000418936,
          0.1743656717974823,
          0.04605015437909479,
          0.13632174277335565,
          0.05229531372573701,
          0.05412651864264767,
          0.0884481304823872,
          0.0440121499270921,
          0.026478734175096802,
          0.041705069124423955,
          0.018156114054627748,
          0.004231252618349335,
          0.02647873417509683,
          0.0745077503142019,
          0.0368920015730769,
          0.0021520532601718156,
          0.053257047800279816,
          0.02052949100919582,
          0.017210453134386045,
          0.05199939754499583,
          0.08728529534981144,
          0.021323837452869754,
          0.054126518642647725,
          0.08390022675736963,
          0.14813280785869087,
          0.10253485583451363,
          0.040535967210238,
          0.020167777763775346,
          0.03726869622488749,
          0.024131669888127538,
          0.03919145370758273,
          0.02508974069332534,
          0.0605152911604524,
          0.056032499100501204,
          0.09484555976457465,
          0.05835777126099706,
          0.07486568117183984,
          0.05793359321141622,
          0.10559279430247176,
          0.0691929918260224,
          0.005456768030648623,
          0.040444774903067804,
          0.03881876637294593,
          0.056463421777074946,
          0.02002513615416837,
          0.10942089012726858,
          0.09498502149634627,
          0.07699291278627074,
          0.050251361541684164,
          0.06663106111498221,
          0.018156114054627803,
          0.10942089012726855,
          0.09147428994481094,
          0.029835093150765435,
          0.06110403985667057,
          0.03108504398826975,
          0.11373470247806294,
          0.04690757615639479,
          0.07613106743312334,
          0.023437663868577985,
          0.050251361541684164,
          0.07876562088717867,
          0.05965079404870835,
          0.09484555976457465,
          0.075870194657876,
          0.08689621171289735,
          0.06241266494297598,
          0.03923906586004633,
          0.0500635547892625,
          0.12611477276068778,
          0.041885630510852645,
          0.011758684772440298,
          0.08828229639118268,
          0.021344341106734277,
          0.07983096201266099,
          0.05006355478926239,
          0.11073465658028145,
          0.043745831183377604,
          0.10006284038542104,
          0.0532677000418936,
          0.03413919967110918,
          0.032858900017571635,
          0.08672858565109451,
          0.024131669888127483,
          0.08513722983333549,
          0.11197389667992141,
          0.01576959752660123,
          0.013332330588318814,
          0.08889139911807284,
          0.09367406786761626,
          0.08390022675736963,
          0.08521156263091748,
          0.029835093150765435,
          0.04690757615639479,
          0.06509017229011194,
          0.020098568332622135,
          0.03881876637294593,
          0.03126893203477854,
          0.06519065190651904,
          0.06690406367825716,
          0.09800845353684126,
          0.06690406367825719,
          0.10775031420192718,
          0.07613106743312328,
          0.02165123527620036,
          0.04327216741555176,
          0.08428246013667423,
          0.043272167415551704,
          0.06312697676556236,
          0.08728529534981147,
          0.03897973404321897,
          0.08198408514697395,
          0.0736489317134478,
          0.10253485583451358,
          0.08836425098944861,
          0.07517299662792543,
          0.0687928307854507,
          0.06975090159064862,
          0.030942758407175863,
          0.10261074926041988,
          0.011026017055021403,
          0.0711353162966066,
          0.06284358761954967,
          0.08224180360403274,
          0.13114788437369085,
          0.03233175188894746,
          0.06778138487442706,
          0.04053662895329668,
          0.06604524507750315,
          0.12224549643904481,
          0.08836425098944864,
          0.14578574357172142,
          0.1311478843736908,
          0.1301006389039211,
          0.10890646478067048,
          0.06879283078545076,
          0.056990569905699034,
          0.030871266942700037,
          0.12224549643904481,
          0.07450775031420187,
          0.08337307862874549,
          0.05147224941637171,
          0.03146990653580006,
          0.09367406786761626,
          0.04327216741555173,
          0.029551731197486414,
          0.032802681189777916,
          0.050083255934600224,
          0.0440121499270921,
          0.03496020108923337,
          0.04534283556493912,
          0.032802681189777916,
          0.009405111018014223,
          0.04509208357389696,
          0.13439290056529749,
          0.13355256001539606,
          0.06879283078545068,
          0.01870957485085062,
          0.0144604187296056,
          0.11345399168277404,
          0.08433114943394329,
          0.10750474851687292,
          0.012329409008375758,
          0.07580645161290323,
          0.07157081774899382,
          0.06543329029885986,
          0.017210453134386045,
          0.03689200157307698,
          0.08111371546274596,
          0.11922915793883537,
          0.08342002899604326,
          0.1732225485520162,
          0.014149325166721044,
          0.005949243165901064,
          0.027712609970674484,
          0.03334903755552565,
          0.015769597526601176,
          0.05837956338747061,
          0.08975324447122024,
          0.04685091135167385,
          0.09800845353684129,
          0.0068110885190483805,
          0.00976120653540008,
          0.08858399664851274,
          0.051968998743192274,
          0.019571420203997936,
          0.043272167415551704,
          0.056463421777074835,
          0.06726015919564307,
          0.04895266024298284,
          0.08889139911807284,
          0.028014336797920397,
          0.03108504398826986,
          0.014946911824546744,
          0.14392542940930045,
          0.08861341255018948,
          0.1417526420162161,
          0.07364893171344783,
          0.10069365999782443,
          0.05534143276078757,
          0.09060018374255907,
          0.08889139911807278,
          0.08251123327559812,
          0.06284358761954964,
          0.08861341255018948,
          0.049027380997327785,
          0.07613106743312334,
          0.06241266494297598,
          0.03923906586004636,
          0.05243032022156957,
          0.020098568332622135,
          0.07157081774899385,
          0.023616589582992037,
          0.08861341255018954,
          0.037348401901190154,
          0.058692743007924486,
          0.05199939754499586,
          0.07587019465787598,
          0.12803423952606874,
          0.0756039193044992,
          0.02002513615416837,
          0.09474441683192339,
          0.055424810279515235,
          0.04687892752408879,
          0.08003770423125256,
          0.04924113537741595,
          0.11238264749752438,
          0.022890475375840214,
          0.03108504398826975,
          0.02690965685167057,
          0.00976120653540008,
          0.05603249910050123,
          0.04690757615639474,
          0.017008797653958962,
          0.05869274300792446,
          0.04074053984136056,
          0.03496020108923334,
          0.051968998743192274,
          0.07891914897168109,
          0.03592334014364326,
          0.05147224941637171,
          0.058069038608379364,
          0.10437788018433178,
          0.1060110385513677,
          0.010642805304203085,
          0.13302541188677194,
          0.09666055844231908,
          0.07474210651658911,
          0.10253485583451366,
          0.027792749317924553,
          0.07715834317353953,
          0.10601103855136765,
          0.07461709812607764,
          0.04509208357389691,
          0.07613106743312334,
          0.18598288023696563,
          0.0694985857117191,
          0.09431349415534965,
          0.08607038123167154,
          0.1563468789275241,
          0.041885630510852645,
          0.02052949100919582,
          0.0013889934817715166,
          0.06604524507750312,
          0.10253485583451358,
          0.03732292424965064,
          0.0815531624704002,
          0.03942074948505944,
          0.17974444909928786,
          0.0718048992450166,
          0.025951586046472658,
          0.06474654377880179,
          0.09527156496054756,
          0.09380938597264005,
          0.036512452839648546,
          0.0694985857117191,
          0.05025136154168411,
          0.032616632521498934,
          0.07892120464642138,
          0.01830749895266029,
          0.056463421777074946,
          0.03871191773142221,
          0.06933554831212738,
          0.06543329029885986,
          0.04965233325802637,
          0.03280268118977797,
          0.14255016418888186,
          0.032802681189777916,
          0.0711398950724201,
          0.08352144469525957,
          0.06879283078545068,
          0.024553543336815198,
          0.056990569905699034,
          0.11197389667992139,
          0.04773774612484291,
          0.027741770388921783,
          0.07715834317353953,
          0.050143260465565054,
          0.04693405823548413,
          0.0839002267573696,
          0.03994685451423266
         ],
         "xaxis": "x",
         "yaxis": "y"
        }
       ],
       "layout": {
        "annotations": [
         {
          "showarrow": false,
          "text": "obs",
          "x": 0.07061274694379596,
          "xanchor": "left",
          "xref": "x",
          "y": 1,
          "yanchor": "top",
          "yref": "y domain"
         }
        ],
        "barmode": "relative",
        "legend": {
         "title": {
          "text": "variable"
         },
         "tracegroupgap": 0
        },
        "margin": {
         "t": 60
        },
        "shapes": [
         {
          "line": {
           "color": "green"
          },
          "type": "line",
          "x0": 0.07061274694379596,
          "x1": 0.07061274694379596,
          "xref": "x",
          "y0": 0,
          "y1": 1,
          "yref": "y domain"
         }
        ],
        "showlegend": false,
        "template": {
         "data": {
          "bar": [
           {
            "error_x": {
             "color": "#2a3f5f"
            },
            "error_y": {
             "color": "#2a3f5f"
            },
            "marker": {
             "line": {
              "color": "#E5ECF6",
              "width": 0.5
             },
             "pattern": {
              "fillmode": "overlay",
              "size": 10,
              "solidity": 0.2
             }
            },
            "type": "bar"
           }
          ],
          "barpolar": [
           {
            "marker": {
             "line": {
              "color": "#E5ECF6",
              "width": 0.5
             },
             "pattern": {
              "fillmode": "overlay",
              "size": 10,
              "solidity": 0.2
             }
            },
            "type": "barpolar"
           }
          ],
          "carpet": [
           {
            "aaxis": {
             "endlinecolor": "#2a3f5f",
             "gridcolor": "white",
             "linecolor": "white",
             "minorgridcolor": "white",
             "startlinecolor": "#2a3f5f"
            },
            "baxis": {
             "endlinecolor": "#2a3f5f",
             "gridcolor": "white",
             "linecolor": "white",
             "minorgridcolor": "white",
             "startlinecolor": "#2a3f5f"
            },
            "type": "carpet"
           }
          ],
          "choropleth": [
           {
            "colorbar": {
             "outlinewidth": 0,
             "ticks": ""
            },
            "type": "choropleth"
           }
          ],
          "contour": [
           {
            "colorbar": {
             "outlinewidth": 0,
             "ticks": ""
            },
            "colorscale": [
             [
              0,
              "#0d0887"
             ],
             [
              0.1111111111111111,
              "#46039f"
             ],
             [
              0.2222222222222222,
              "#7201a8"
             ],
             [
              0.3333333333333333,
              "#9c179e"
             ],
             [
              0.4444444444444444,
              "#bd3786"
             ],
             [
              0.5555555555555556,
              "#d8576b"
             ],
             [
              0.6666666666666666,
              "#ed7953"
             ],
             [
              0.7777777777777778,
              "#fb9f3a"
             ],
             [
              0.8888888888888888,
              "#fdca26"
             ],
             [
              1,
              "#f0f921"
             ]
            ],
            "type": "contour"
           }
          ],
          "contourcarpet": [
           {
            "colorbar": {
             "outlinewidth": 0,
             "ticks": ""
            },
            "type": "contourcarpet"
           }
          ],
          "heatmap": [
           {
            "colorbar": {
             "outlinewidth": 0,
             "ticks": ""
            },
            "colorscale": [
             [
              0,
              "#0d0887"
             ],
             [
              0.1111111111111111,
              "#46039f"
             ],
             [
              0.2222222222222222,
              "#7201a8"
             ],
             [
              0.3333333333333333,
              "#9c179e"
             ],
             [
              0.4444444444444444,
              "#bd3786"
             ],
             [
              0.5555555555555556,
              "#d8576b"
             ],
             [
              0.6666666666666666,
              "#ed7953"
             ],
             [
              0.7777777777777778,
              "#fb9f3a"
             ],
             [
              0.8888888888888888,
              "#fdca26"
             ],
             [
              1,
              "#f0f921"
             ]
            ],
            "type": "heatmap"
           }
          ],
          "heatmapgl": [
           {
            "colorbar": {
             "outlinewidth": 0,
             "ticks": ""
            },
            "colorscale": [
             [
              0,
              "#0d0887"
             ],
             [
              0.1111111111111111,
              "#46039f"
             ],
             [
              0.2222222222222222,
              "#7201a8"
             ],
             [
              0.3333333333333333,
              "#9c179e"
             ],
             [
              0.4444444444444444,
              "#bd3786"
             ],
             [
              0.5555555555555556,
              "#d8576b"
             ],
             [
              0.6666666666666666,
              "#ed7953"
             ],
             [
              0.7777777777777778,
              "#fb9f3a"
             ],
             [
              0.8888888888888888,
              "#fdca26"
             ],
             [
              1,
              "#f0f921"
             ]
            ],
            "type": "heatmapgl"
           }
          ],
          "histogram": [
           {
            "marker": {
             "pattern": {
              "fillmode": "overlay",
              "size": 10,
              "solidity": 0.2
             }
            },
            "type": "histogram"
           }
          ],
          "histogram2d": [
           {
            "colorbar": {
             "outlinewidth": 0,
             "ticks": ""
            },
            "colorscale": [
             [
              0,
              "#0d0887"
             ],
             [
              0.1111111111111111,
              "#46039f"
             ],
             [
              0.2222222222222222,
              "#7201a8"
             ],
             [
              0.3333333333333333,
              "#9c179e"
             ],
             [
              0.4444444444444444,
              "#bd3786"
             ],
             [
              0.5555555555555556,
              "#d8576b"
             ],
             [
              0.6666666666666666,
              "#ed7953"
             ],
             [
              0.7777777777777778,
              "#fb9f3a"
             ],
             [
              0.8888888888888888,
              "#fdca26"
             ],
             [
              1,
              "#f0f921"
             ]
            ],
            "type": "histogram2d"
           }
          ],
          "histogram2dcontour": [
           {
            "colorbar": {
             "outlinewidth": 0,
             "ticks": ""
            },
            "colorscale": [
             [
              0,
              "#0d0887"
             ],
             [
              0.1111111111111111,
              "#46039f"
             ],
             [
              0.2222222222222222,
              "#7201a8"
             ],
             [
              0.3333333333333333,
              "#9c179e"
             ],
             [
              0.4444444444444444,
              "#bd3786"
             ],
             [
              0.5555555555555556,
              "#d8576b"
             ],
             [
              0.6666666666666666,
              "#ed7953"
             ],
             [
              0.7777777777777778,
              "#fb9f3a"
             ],
             [
              0.8888888888888888,
              "#fdca26"
             ],
             [
              1,
              "#f0f921"
             ]
            ],
            "type": "histogram2dcontour"
           }
          ],
          "mesh3d": [
           {
            "colorbar": {
             "outlinewidth": 0,
             "ticks": ""
            },
            "type": "mesh3d"
           }
          ],
          "parcoords": [
           {
            "line": {
             "colorbar": {
              "outlinewidth": 0,
              "ticks": ""
             }
            },
            "type": "parcoords"
           }
          ],
          "pie": [
           {
            "automargin": true,
            "type": "pie"
           }
          ],
          "scatter": [
           {
            "fillpattern": {
             "fillmode": "overlay",
             "size": 10,
             "solidity": 0.2
            },
            "type": "scatter"
           }
          ],
          "scatter3d": [
           {
            "line": {
             "colorbar": {
              "outlinewidth": 0,
              "ticks": ""
             }
            },
            "marker": {
             "colorbar": {
              "outlinewidth": 0,
              "ticks": ""
             }
            },
            "type": "scatter3d"
           }
          ],
          "scattercarpet": [
           {
            "marker": {
             "colorbar": {
              "outlinewidth": 0,
              "ticks": ""
             }
            },
            "type": "scattercarpet"
           }
          ],
          "scattergeo": [
           {
            "marker": {
             "colorbar": {
              "outlinewidth": 0,
              "ticks": ""
             }
            },
            "type": "scattergeo"
           }
          ],
          "scattergl": [
           {
            "marker": {
             "colorbar": {
              "outlinewidth": 0,
              "ticks": ""
             }
            },
            "type": "scattergl"
           }
          ],
          "scattermapbox": [
           {
            "marker": {
             "colorbar": {
              "outlinewidth": 0,
              "ticks": ""
             }
            },
            "type": "scattermapbox"
           }
          ],
          "scatterpolar": [
           {
            "marker": {
             "colorbar": {
              "outlinewidth": 0,
              "ticks": ""
             }
            },
            "type": "scatterpolar"
           }
          ],
          "scatterpolargl": [
           {
            "marker": {
             "colorbar": {
              "outlinewidth": 0,
              "ticks": ""
             }
            },
            "type": "scatterpolargl"
           }
          ],
          "scatterternary": [
           {
            "marker": {
             "colorbar": {
              "outlinewidth": 0,
              "ticks": ""
             }
            },
            "type": "scatterternary"
           }
          ],
          "surface": [
           {
            "colorbar": {
             "outlinewidth": 0,
             "ticks": ""
            },
            "colorscale": [
             [
              0,
              "#0d0887"
             ],
             [
              0.1111111111111111,
              "#46039f"
             ],
             [
              0.2222222222222222,
              "#7201a8"
             ],
             [
              0.3333333333333333,
              "#9c179e"
             ],
             [
              0.4444444444444444,
              "#bd3786"
             ],
             [
              0.5555555555555556,
              "#d8576b"
             ],
             [
              0.6666666666666666,
              "#ed7953"
             ],
             [
              0.7777777777777778,
              "#fb9f3a"
             ],
             [
              0.8888888888888888,
              "#fdca26"
             ],
             [
              1,
              "#f0f921"
             ]
            ],
            "type": "surface"
           }
          ],
          "table": [
           {
            "cells": {
             "fill": {
              "color": "#EBF0F8"
             },
             "line": {
              "color": "white"
             }
            },
            "header": {
             "fill": {
              "color": "#C8D4E3"
             },
             "line": {
              "color": "white"
             }
            },
            "type": "table"
           }
          ]
         },
         "layout": {
          "annotationdefaults": {
           "arrowcolor": "#2a3f5f",
           "arrowhead": 0,
           "arrowwidth": 1
          },
          "autotypenumbers": "strict",
          "coloraxis": {
           "colorbar": {
            "outlinewidth": 0,
            "ticks": ""
           }
          },
          "colorscale": {
           "diverging": [
            [
             0,
             "#8e0152"
            ],
            [
             0.1,
             "#c51b7d"
            ],
            [
             0.2,
             "#de77ae"
            ],
            [
             0.3,
             "#f1b6da"
            ],
            [
             0.4,
             "#fde0ef"
            ],
            [
             0.5,
             "#f7f7f7"
            ],
            [
             0.6,
             "#e6f5d0"
            ],
            [
             0.7,
             "#b8e186"
            ],
            [
             0.8,
             "#7fbc41"
            ],
            [
             0.9,
             "#4d9221"
            ],
            [
             1,
             "#276419"
            ]
           ],
           "sequential": [
            [
             0,
             "#0d0887"
            ],
            [
             0.1111111111111111,
             "#46039f"
            ],
            [
             0.2222222222222222,
             "#7201a8"
            ],
            [
             0.3333333333333333,
             "#9c179e"
            ],
            [
             0.4444444444444444,
             "#bd3786"
            ],
            [
             0.5555555555555556,
             "#d8576b"
            ],
            [
             0.6666666666666666,
             "#ed7953"
            ],
            [
             0.7777777777777778,
             "#fb9f3a"
            ],
            [
             0.8888888888888888,
             "#fdca26"
            ],
            [
             1,
             "#f0f921"
            ]
           ],
           "sequentialminus": [
            [
             0,
             "#0d0887"
            ],
            [
             0.1111111111111111,
             "#46039f"
            ],
            [
             0.2222222222222222,
             "#7201a8"
            ],
            [
             0.3333333333333333,
             "#9c179e"
            ],
            [
             0.4444444444444444,
             "#bd3786"
            ],
            [
             0.5555555555555556,
             "#d8576b"
            ],
            [
             0.6666666666666666,
             "#ed7953"
            ],
            [
             0.7777777777777778,
             "#fb9f3a"
            ],
            [
             0.8888888888888888,
             "#fdca26"
            ],
            [
             1,
             "#f0f921"
            ]
           ]
          },
          "colorway": [
           "#636efa",
           "#EF553B",
           "#00cc96",
           "#ab63fa",
           "#FFA15A",
           "#19d3f3",
           "#FF6692",
           "#B6E880",
           "#FF97FF",
           "#FECB52"
          ],
          "font": {
           "color": "#2a3f5f"
          },
          "geo": {
           "bgcolor": "white",
           "lakecolor": "white",
           "landcolor": "#E5ECF6",
           "showlakes": true,
           "showland": true,
           "subunitcolor": "white"
          },
          "hoverlabel": {
           "align": "left"
          },
          "hovermode": "closest",
          "mapbox": {
           "style": "light"
          },
          "paper_bgcolor": "white",
          "plot_bgcolor": "#E5ECF6",
          "polar": {
           "angularaxis": {
            "gridcolor": "white",
            "linecolor": "white",
            "ticks": ""
           },
           "bgcolor": "#E5ECF6",
           "radialaxis": {
            "gridcolor": "white",
            "linecolor": "white",
            "ticks": ""
           }
          },
          "scene": {
           "xaxis": {
            "backgroundcolor": "#E5ECF6",
            "gridcolor": "white",
            "gridwidth": 2,
            "linecolor": "white",
            "showbackground": true,
            "ticks": "",
            "zerolinecolor": "white"
           },
           "yaxis": {
            "backgroundcolor": "#E5ECF6",
            "gridcolor": "white",
            "gridwidth": 2,
            "linecolor": "white",
            "showbackground": true,
            "ticks": "",
            "zerolinecolor": "white"
           },
           "zaxis": {
            "backgroundcolor": "#E5ECF6",
            "gridcolor": "white",
            "gridwidth": 2,
            "linecolor": "white",
            "showbackground": true,
            "ticks": "",
            "zerolinecolor": "white"
           }
          },
          "shapedefaults": {
           "line": {
            "color": "#2a3f5f"
           }
          },
          "ternary": {
           "aaxis": {
            "gridcolor": "white",
            "linecolor": "white",
            "ticks": ""
           },
           "baxis": {
            "gridcolor": "white",
            "linecolor": "white",
            "ticks": ""
           },
           "bgcolor": "#E5ECF6",
           "caxis": {
            "gridcolor": "white",
            "linecolor": "white",
            "ticks": ""
           }
          },
          "title": {
           "x": 0.05
          },
          "xaxis": {
           "automargin": true,
           "gridcolor": "white",
           "linecolor": "white",
           "ticks": "",
           "title": {
            "standoff": 15
           },
           "zerolinecolor": "white",
           "zerolinewidth": 2
          },
          "yaxis": {
           "automargin": true,
           "gridcolor": "white",
           "linecolor": "white",
           "ticks": "",
           "title": {
            "standoff": 15
           },
           "zerolinecolor": "white",
           "zerolinewidth": 2
          }
         }
        },
        "title": {
         "text": "Simulated Null Values"
        },
        "xaxis": {
         "anchor": "y",
         "domain": [
          0,
          1
         ],
         "title": {
          "text": "TVD of Missing and Non-Missing Values"
         }
        },
        "yaxis": {
         "anchor": "x",
         "domain": [
          0,
          1
         ],
         "title": {
          "text": "Frequency"
         }
        }
       }
      }
     },
     "metadata": {},
     "output_type": "display_data"
    }
   ],
   "source": [
    "graph, p_value = mar_permutation(data, 'CLIMATE.CATEGORY', 'CUSTOMERS.AFFECTED')\n",
    "# graph.write_html('../03-topic/mar-hist.html', include_plotlyjs='cdn')\n",
    "print(p_value)\n",
    "graph"
   ]
  },
  {
   "cell_type": "code",
   "execution_count": 27,
   "metadata": {},
   "outputs": [
    {
     "name": "stdout",
     "output_type": "stream",
     "text": [
      "0.0\n"
     ]
    },
    {
     "data": {
      "application/vnd.plotly.v1+json": {
       "config": {
        "plotlyServerURL": "https://plot.ly"
       },
       "data": [
        {
         "alignmentgroup": "True",
         "bingroup": "x",
         "hovertemplate": "variable=0<br>value=%{x}<br>count=%{y}<extra></extra>",
         "legendgroup": "0",
         "marker": {
          "color": "#636efa",
          "pattern": {
           "shape": ""
          }
         },
         "name": "0",
         "offsetgroup": "0",
         "orientation": "v",
         "showlegend": true,
         "type": "histogram",
         "x": [
          0.2165429028393608,
          0.2855416676149824,
          0.29670627522950965,
          0.2981215071806469,
          0.30738258643984334,
          0.23424157843881704,
          0.264449745816893,
          0.3036003583599034,
          0.2700279115190364,
          0.2712072714783174,
          0.2947158466666529,
          0.22847719800626098,
          0.32250736065448277,
          0.268000240010097,
          0.27268043690113863,
          0.22097895152830568,
          0.307130162027506,
          0.263270385857612,
          0.2791358808887822,
          0.2782172215520791,
          0.28288914223288014,
          0.24902288992847288,
          0.2798186682336291,
          0.3242908839613253,
          0.3210341952316615,
          0.2812214858694056,
          0.2688857945058379,
          0.2909832758481563,
          0.2360168255354191,
          0.25547833391611646,
          0.24373025347962915,
          0.25593766358446807,
          0.28113458566187954,
          0.27418256905980176,
          0.3527651852940021,
          0.25268097485480423,
          0.3391797861841084,
          0.2829967329660075,
          0.25462174615621763,
          0.23782931557810363,
          0.21407659218767136,
          0.30661289888747045,
          0.26070476068303566,
          0.2519485302485139,
          0.3023920316647804,
          0.27248594596048525,
          0.24480202270578283,
          0.38357751601963946,
          0.22557224821182134,
          0.3027230800744031,
          0.2617889442245501,
          0.2894811436894932,
          0.2610068423568164,
          0.2551183187706517,
          0.29019289777018203,
          0.37147769664792796,
          0.2979435686604747,
          0.2821980786777926,
          0.22157483866562663,
          0.3026941133385611,
          0.3061742597447203,
          0.2790655331017374,
          0.2816518488019151,
          0.2681450736893069,
          0.2620413686368875,
          0.31432632683168055,
          0.2562190547326474,
          0.26663466532040314,
          0.25427000722099347,
          0.29787735897855017,
          0.2771951095873688,
          0.2211072327870345,
          0.3184313271110026,
          0.25460105563061625,
          0.2745715509411085,
          0.2524864839141509,
          0.25342169567133516,
          0.26724710487820524,
          0.30146509611783673,
          0.279495896034247,
          0.24281159414292608,
          0.20343752392342024,
          0.31380078748140444,
          0.2334015430993993,
          0.23905005658858755,
          0.2478352537589512,
          0.28584374928876316,
          0.22195554433669276,
          0.24740489082644168,
          0.2686623368293425,
          0.31807958817577847,
          0.26157376275829536,
          0.2438750871588391,
          0.2617392869631067,
          0.3257350826483045,
          0.27807238787286914,
          0.23396018729063772,
          0.2876189963853652,
          0.22324249502910126,
          0.2668291562610565,
          0.29932983387576995,
          0.30738258643984334,
          0.252445102862948,
          0.27549848648805225,
          0.3025368653439904,
          0.33309677165729035,
          0.32165904910482446,
          0.282421536354288,
          0.28746174839079436,
          0.2741908452700424,
          0.3017092443199335,
          0.26373799173620405,
          0.26860440335765856,
          0.24865459857276756,
          0.2501650069416713,
          0.24857597457548217,
          0.3004595365736076,
          0.2679505827486536,
          0.2634441862726639,
          0.2767854371804607,
          0.2767937133907013,
          0.2326235793367859,
          0.30174648726601605,
          0.24028735001955254,
          0.3231984242095702,
          0.27555641995973623,
          0.28322019064250287,
          0.26381661573348947,
          0.2726597463755372,
          0.22201347780837677,
          0.2406970224264607,
          0.2563183692555342,
          0.23533403819057216,
          0.2828601754970381,
          0.2383176119822972,
          0.251774729833462,
          0.32729514827865175,
          0.26398213993830094,
          0.2202506450271356,
          0.2653477146279947,
          0.25309892347195295,
          0.3043700459122763,
          0.22129344751744734,
          0.33118496709171896,
          0.29191021139510004,
          0.28335674811147227,
          0.21790847752905468,
          0.22821649738368308,
          0.3213073101696003,
          0.2675409103417455,
          0.2208423940593363,
          0.2654056480996787,
          0.3091578335364453,
          0.2880866022639573,
          0.2661174021803676,
          0.3121703740640123,
          0.26964720584797014,
          0.2950303426557945,
          0.2588426133789077,
          0.2663822409080658,
          0.28222704541363464,
          0.2851319952080743,
          0.24327920002151815,
          0.3327450327220663,
          0.2606757939471937,
          0.2906398131231727,
          0.28926596222323836,
          0.2524947601243914,
          0.2774971912611496,
          0.2769509613852721,
          0.2804807650528746,
          0.29279576589084094,
          0.23695203729260333,
          0.2871017332453296,
          0.27552745322389427,
          0.26639879332854693,
          0.2960234878846627,
          0.25941780999062725,
          0.25318582367947895,
          0.2337532820346235,
          0.31219106458961376,
          0.3055494058715573,
          0.25011534968022797,
          0.24943256233538103,
          0.3103661602315684,
          0.22376803437937734,
          0.2333932668891588,
          0.2625379412513217,
          0.3021271929370822,
          0.23766379137329224,
          0.20157537661929226,
          0.36168693993333517,
          0.2532272047306818,
          0.21388210124701795,
          0.2646649272831478,
          0.2720845497638177,
          0.21634013568846688,
          0.274708108410078,
          0.26442077908105105,
          0.3048086850550264,
          0.35129201987118086,
          0.28384504451566583,
          0.3078419161081949,
          0.2860672069652586,
          0.2309766134989127,
          0.3401563789924955,
          0.253012023264427,
          0.2684968126245311,
          0.2741825690598018,
          0.22869237947251575,
          0.2788917326866855,
          0.25167541531057513,
          0.26091166593904985,
          0.26959754858652674,
          0.3077550159006689,
          0.19656413131862788,
          0.2534423861969366,
          0.2736156486583229,
          0.2660594687086837,
          0.1913377045517087,
          0.3036582918315874,
          0.4007299617432182,
          0.3199913927413498,
          0.31873340878478335,
          0.28193323995009456,
          0.29396684963988146,
          0.32631027926002404,
          0.2721631737611031,
          0.28917906201571236,
          0.304527293906847,
          0.27287492784179196,
          0.3392584101813938,
          0.2748943231404908,
          0.2847016322755647,
          0.3142766695702371,
          0.274621208202552,
          0.3172602433619621,
          0.30028573615855564,
          0.27086794685845406,
          0.2515595483672072,
          0.34130677221593464,
          0.26201240190104547,
          0.32300393326891685,
          0.3010554237109285,
          0.2640690401458269,
          0.2644704363424944,
          0.28984115883495787,
          0.29495999486874963,
          0.20211333028492923,
          0.27229973123007245,
          0.3057356206019701,
          0.2708182895970106,
          0.274708108410078,
          0.30180442073770003,
          0.28770589659289114,
          0.3131552430826399,
          0.290279797977708,
          0.2769219946494301,
          0.26337797659073936,
          0.24296884213749678,
          0.2587060559099383,
          0.23722515223054214,
          0.2969007661701631,
          0.2753619290190829,
          0.27582125868743446,
          0.24770697250022242,
          0.38053600875623045,
          0.28137873386397627,
          0.3205955560889114,
          0.2884176506735801,
          0.2737315156016908,
          0.2939958163757233,
          0.30921576700812936,
          0.34076054234005704,
          0.3018830447349854,
          0.2949889616045917,
          0.2738887635962616,
          0.2989284376791023,
          0.21593873949179931,
          0.3163539983406199,
          0.24094117062855747,
          0.2844409316529868,
          0.3344913130828262,
          0.2932344050335911,
          0.24187638238574177,
          0.2838740112515079,
          0.28773486332873316,
          0.3054914723998734,
          0.23207734946090836,
          0.26557117230449007,
          0.2350319565167914,
          0.3291076383213363,
          0.3114296532474815,
          0.39597941706513173,
          0.29467860372057036,
          0.26181791096039214,
          0.3098406208812922,
          0.20660731244555808,
          0.3209183282882935,
          0.267491253080302,
          0.3184313271110026,
          0.21665049357248822,
          0.27577160142599105,
          0.3348430520180505,
          0.3184313271110026,
          0.2981215071806469,
          0.2689354517672813,
          0.32409639302067195,
          0.3229459997972329,
          0.28997771630392727,
          0.2994746675549799,
          0.25823845003134616,
          0.23303325174369405,
          0.27055345086931243,
          0.3185182273185286,
          0.31402424515789973,
          0.2898121920991159,
          0.2952538003322899,
          0.2831912239066609,
          0.26841818862724576,
          0.2944634222543155,
          0.24390405389468114,
          0.2995326010266639,
          0.30828055525094505,
          0.24212053058783853,
          0.2351767901960014,
          0.2543569074285194,
          0.28462300827827935,
          0.27112864748103194,
          0.26540564809967865,
          0.22805924938911223,
          0.23768448189889368,
          0.28291810896872216,
          0.27388876359626163,
          0.2727383703728226,
          0.297554586779168,
          0.2898908160964013,
          0.2405521887472507,
          0.23040969309743373,
          0.27002791151903627,
          0.313838030427487,
          0.28423402639697254,
          0.24554274352231373,
          0.2634938435341074,
          0.2792517478321502,
          0.28708104271972823,
          0.2251336090690712,
          0.3171940336800376,
          0.27449292694382316,
          0.30909990006476135,
          0.34585041163800684,
          0.2492380713947276,
          0.2730611425722047,
          0.25213474497892674,
          0.21317034716632907,
          0.24017975928642515,
          0.2423439882643339,
          0.2697547965810976,
          0.3176988825047123,
          0.22538603348140857,
          0.2995532915522653,
          0.25552799117755987,
          0.26724710487820524,
          0.29383029217091206,
          0.3152036051171808,
          0.29618901208947407,
          0.27032999319281703,
          0.2962179788253161,
          0.24838975984506936,
          0.257174957015433,
          0.25631836925553425,
          0.25158851510304914,
          0.28017868337909396,
          0.24954015306850835,
          0.29342061976400385,
          0.2294041335532047,
          0.2637090250003621,
          0.26219861663145827,
          0.3093523244770987,
          0.30456453685292967,
          0.22342870975951398,
          0.23812312104164385,
          0.2851899286797583,
          0.29577933968256603,
          0.19639033090357594,
          0.2504381218796101,
          0.23092695623746926,
          0.29369373470194265,
          0.27374392991705165,
          0.3162753743433344,
          0.29188952086949865,
          0.27657025571420596,
          0.20078499854131798,
          0.27575091090038967,
          0.2575763532121007,
          0.32259426086200865,
          0.256082497263678,
          0.23687341329531791,
          0.2556438581209278,
          0.3022347836702096,
          0.2570383995464637,
          0.23418364496713312,
          0.20496862281792547,
          0.2578494681500394,
          0.28477198006260956,
          0.2955848487419126,
          0.27005687825487834,
          0.2593598765189432,
          0.2670526139375519,
          0.2544851886872483,
          0.2735577151866389,
          0.2785110270156193,
          0.25342169567133516,
          0.2779647971397417,
          0.33320436239041784,
          0.2660677449189242,
          0.3179347544965685,
          0.2840891927177626,
          0.26110615687970323,
          0.2514023003726364,
          0.2839898781948758,
          0.26513253316173996,
          0.24942428612514045,
          0.254787270361029,
          0.3406239848710877,
          0.24532756205605893,
          0.24565033425544108,
          0.24513307111540555,
          0.3028596375433726,
          0.23986940140240381,
          0.26201240190104547,
          0.2988705042074184,
          0.23972042961807355,
          0.27853171754122064,
          0.2867210275742635,
          0.3068487708793266,
          0.3166271132785586,
          0.3080653737846903,
          0.3085329796632824,
          0.2966773084936677,
          0.2561611212609634,
          0.33533962463248457,
          0.2908260278535856,
          0.24044459801412338,
          0.26079166089056166,
          0.2964828175530143,
          0.25851156496928496,
          0.2826656845563848,
          0.28496647100326283,
          0.29306888082877974,
          0.2480587114354466,
          0.24298953266309822,
          0.2709051898045366,
          0.24293987540165482,
          0.25476657983542755,
          0.29188952086949865,
          0.32012795021031915,
          0.23292566101056666,
          0.3080281308386077,
          0.2900066830397693,
          0.25612387831488076,
          0.2695106483790008,
          0.32210596445781514,
          0.29859738926947965,
          0.2683892218914037,
          0.2867127513640229,
          0.2934206197640039,
          0.2733715004562261,
          0.2706900083382819,
          0.2945213557259996,
          0.2913143242577791,
          0.27856068427706276,
          0.2980221926577601,
          0.26581532050658685,
          0.2593102192574998,
          0.26551323883280603,
          0.31700781894962476,
          0.213286214109697,
          0.3093523244770987,
          0.23790793957538905,
          0.307159128763348,
          0.3040679642384955,
          0.26466492728314783,
          0.28955976768677855,
          0.2858147825529212,
          0.2540258590188967,
          0.2711865809527159,
          0.26953961511484276,
          0.25251545064999287,
          0.31364353948683366,
          0.28334847190123175,
          0.31391665442477235,
          0.3155263773165629,
          0.2925805844245862,
          0.2512574666934264,
          0.2880659117383559,
          0.23922385700363946,
          0.2916453726674019,
          0.2637586822618055,
          0.2413011857740222,
          0.28067525599352805,
          0.26554220556864805,
          0.23322774268434743,
          0.3163250316047779,
          0.2556066151748453,
          0.2827236180280687,
          0.21982855830486664,
          0.27173281082859346,
          0.25982748239753534,
          0.2828601754970382,
          0.2298138059601128,
          0.252983056528585,
          0.20531208554290906,
          0.2596247152466414,
          0.26277381324317783,
          0.2676485010748728,
          0.28034420758390527,
          0.24206259711615458,
          0.23848313618710854,
          0.29585796367985134,
          0.2553707431829891,
          0.27719510958736887,
          0.25087676102236023,
          0.2703299931928171,
          0.25468795583814213,
          0.24841045037067078,
          0.2738308301245777,
          0.25930194304725923,
          0.25998473039210607,
          0.2504091551437681,
          0.22391700616370755,
          0.3057066538661283,
          0.27232042175567384,
          0.2765619795039654,
          0.27020171193408826,
          0.27760478199427696,
          0.33523203389935713,
          0.22765785319244464,
          0.274795008617604,
          0.31679263748337,
          0.2684968126245311,
          0.26639051711830636,
          0.27695096138527203,
          0.24051080769604788,
          0.28428368365841605,
          0.25487417056855494,
          0.2759660923666444,
          0.26863337009350047,
          0.30070368477570436,
          0.2959448638873773,
          0.2610275328824178,
          0.2810849284004362,
          0.2094543287683137,
          0.251178842696141,
          0.2870727665094877,
          0.23932317152652627,
          0.25162575804913173,
          0.25976954892585136,
          0.29268817515771356,
          0.29837393159298425,
          0.2609778756209744,
          0.29386753511699465,
          0.25974058219000934,
          0.2703879266645011,
          0.20635488803322072,
          0.26504563295421396,
          0.28368779652109505,
          0.1835373763999727,
          0.25063261282026345,
          0.2763757647735525,
          0.26918787617961865,
          0.2792227810963082,
          0.2998264064902041,
          0.27347081497911296,
          0.30084024224467376,
          0.2839609114590338,
          0.310738589692394,
          0.2373410191739101,
          0.24904358045407426,
          0.23358775782981217,
          0.276599222450048,
          0.22603157788017292,
          0.26485941822380116,
          0.2838160777798238,
          0.2409908278900009,
          0.25924400957557525,
          0.246275188128604,
          0.25427000722099347,
          0.24409854483533447,
          0.2783248122852065,
          0.29027979797770803,
          0.31008476908338906,
          0.30026504563295425,
          0.31889893298959476,
          0.25513900929625316,
          0.2353340381905721,
          0.22160380540146862,
          0.289100438018427,
          0.2332567094201894,
          0.28485060405989493,
          0.31529050532470676,
          0.27752615799699165,
          0.2259529538828875,
          0.3323063935793161,
          0.3790338765975672,
          0.2689147612416799,
          0.29541932453710124,
          0.3028968804894551,
          0.27091346601477717,
          0.24326264760103702,
          0.24375922021547114,
          0.2680788640073824,
          0.3094019817385421,
          0.308309521986787,
          0.34793601661863016,
          0.26855474609621505,
          0.3021354691473227,
          0.23792863010099044,
          0.22322180450349982,
          0.29946639134473935,
          0.23775069158081824,
          0.2505457126127375,
          0.28748243891639585,
          0.3007823087729898,
          0.23508161377823483,
          0.33173119696759656,
          0.24798008743816125,
          0.24904358045407426,
          0.30958819646895486,
          0.2214962146683412,
          0.21683670830290105,
          0.2905529129156468,
          0.2850533712107889,
          0.28617479769838594,
          0.3039603735053682,
          0.28015799285349247,
          0.25903710431956106,
          0.2821773881521913,
          0.34218405050143486,
          0.3039231305592856,
          0.23920316647803805,
          0.26524012389486734,
          0.23561542933875146,
          0.2807538799908134,
          0.2925433414785035,
          0.2640400734099848,
          0.26396144941269944,
          0.245066861433481,
          0.2533637621996512,
          0.26330762880369446,
          0.32079004702956465,
          0.2861458309625439,
          0.2528754657954576,
          0.27449292694382316,
          0.25604525431759545,
          0.2807745705164148,
          0.29459997972328494,
          0.2586481224382543,
          0.25019397367751334,
          0.2276702675078055,
          0.32669098493109017,
          0.2731273522541294,
          0.2707479418099658,
          0.2937309776480252,
          0.3054625056640314,
          0.27054517465907185,
          0.2948730946612237,
          0.24819526890441598,
          0.29862635600532167,
          0.2875403723880798,
          0.30253686534399027,
          0.2454351527891863,
          0.3195237868627577,
          0.3039810640309696,
          0.2825870605590994,
          0.318654784787498,
          0.27707924264400086,
          0.22395424910979017,
          0.30945991521022614,
          0.2867706848357069,
          0.2789206994225274,
          0.23182492504857102,
          0.21465178879939087,
          0.29183986360805525,
          0.22340801923391265,
          0.2670815806733939,
          0.26286071345070383,
          0.30852470345304184,
          0.24169016765532897,
          0.28951011042533514,
          0.30751914390881274,
          0.2514229908982378,
          0.28105596166459423,
          0.2571459902795911,
          0.24264606993811472,
          0.2358595775408483,
          0.29848152232611164,
          0.2645283698141784,
          0.3375824776076787,
          0.2874038149191104,
          0.2907763705921421,
          0.30316171921715335,
          0.2989780949405458,
          0.28904250454674296,
          0.24020044981202654,
          0.3261447550552127,
          0.3519830834262683,
          0.26570772977345947,
          0.31071789916679243,
          0.22614744482354085,
          0.3013078481232659,
          0.26939478143563284,
          0.27711648559008345,
          0.2368072036133934,
          0.2676774678107148,
          0.2671395141450778,
          0.2751177808169861,
          0.2786682750101901,
          0.3065839321516285,
          0.28069594651912944,
          0.23295462774640865,
          0.33711487172908655,
          0.2336663818270976,
          0.2941820311061362,
          0.3049452425239958,
          0.30428314570475035,
          0.39069505682652855,
          0.3073453434937607,
          0.24562136751959912,
          0.26223585957754086,
          0.30042229362752504,
          0.2835719295777271,
          0.2514436814238392,
          0.348064297877359,
          0.29728147184122916,
          0.2706817321280412,
          0.282392569618446,
          0.24874977499053408,
          0.28904250454674296,
          0.2883307504660541,
          0.2862244549598294,
          0.2648801087494026,
          0.28002143538452307,
          0.3284745082379328,
          0.28143666733566036,
          0.25760531994794267,
          0.30972475393792426,
          0.24969740106307925,
          0.34839534628698177,
          0.36615195535812195,
          0.26743331960861805,
          0.34625180783467446,
          0.2504463980898507,
          0.31574983499305836,
          0.21166821500766586,
          0.27822963586744,
          0.2901639310343401,
          0.2971656048978612,
          0.25198991129971676,
          0.32382327808273315,
          0.2892659622232384,
          0.27693027085967065,
          0.2507319273431503,
          0.31791406397096705,
          0.2952827670681318,
          0.24051080769604796,
          0.28483818974453406,
          0.27552745322389427,
          0.218727822342871,
          0.284254716922574,
          0.31241452226610916,
          0.3098695876171343,
          0.2922702265405648,
          0.29766217751229546,
          0.2630552043913572,
          0.28038145052998775,
          0.29452135572599947,
          0.2830836331735335,
          0.25112090922445707,
          0.2679588589588941,
          0.2761233403612153,
          0.2701437784624043,
          0.29380960164531067,
          0.21708913271523836,
          0.311975883123359,
          0.24168189144508836,
          0.3561873982284772,
          0.28984115883495787,
          0.27482397535344594,
          0.3073536197040013,
          0.2533927289354932,
          0.27469983219983735,
          0.1944578358124031,
          0.3200203594771918,
          0.26327038585761203,
          0.2796034867673744,
          0.3280938025668666,
          0.2683105978941183,
          0.293888225642596,
          0.27659922245004787,
          0.2915957154059585,
          0.2504588124052115,
          0.22011408755816625,
          0.29810081665504556,
          0.21959682441813072,
          0.2703010264569751,
          0.21470972227107485,
          0.2783951600722513,
          0.23968318667199107,
          0.3138959638991709,
          0.35646878937665655,
          0.24931669539201307,
          0.26598084471139816,
          0.31723955283636074,
          0.29102051879423896,
          0.3074819009627302,
          0.2585529460204878,
          0.3049948997854393,
          0.2976911442481373,
          0.3182947696420332,
          0.27486535640464876,
          0.2552548762396211,
          0.2785110270156193,
          0.20964054349872652,
          0.348006364405675,
          0.2634069433265813,
          0.2457579249885685,
          0.28146563407150227,
          0.31582845899034373,
          0.3698390070202953,
          0.3006457513040204,
          0.25142299089823783,
          0.2666056985845611,
          0.32584267338143197,
          0.2860175497038152,
          0.24994154926517598,
          0.22739715256986673,
          0.287267257450141,
          0.22307697082428984,
          0.2855416676149824,
          0.3184892605826866,
          0.22209210180566216,
          0.29971053954683613,
          0.2788420754252421,
          0.33185947822632533,
          0.22261764115593835,
          0.2170601659793964,
          0.2817966824811251,
          0.2800421259101245,
          0.3060377022757509,
          0.215628381607778,
          0.2996319155495507,
          0.22706610416024398,
          0.29922224314264256,
          0.24009285907889918,
          0.2915957154059585,
          0.20772873893315513,
          0.2320070016738635,
          0.2078652964021245,
          0.3135276725434656,
          0.32866899917858616,
          0.26234345031066825,
          0.3040679642384955,
          0.295779339682566,
          0.290933618586713,
          0.3145208177723338,
          0.27905725689149685,
          0.27311907604388874,
          0.2958869304156933,
          0.28773486332873316,
          0.25186163004098794,
          0.24324195707543556,
          0.3004016031019237,
          0.24939531938929843,
          0.24115635209481223,
          0.2841471261894466,
          0.23640580741672582,
          0.3227225421207375,
          0.30666255614891386,
          0.28992805904248387,
          0.2706817321280412,
          0.23968318667199104,
          0.31846029384684466,
          0.3068777376151687,
          0.286145830962544,
          0.3223708031855133,
          0.30477971831918443,
          0.27754684852259304,
          0.25046708861545214,
          0.2557804155898973,
          0.3114006865116395,
          0.27316873330533215,
          0.3256854253868611,
          0.2696554820582107,
          0.3058142445992556,
          0.3038817495080828,
          0.20753424799250178,
          0.25665769387539755,
          0.24814561164297258,
          0.32184526383523715,
          0.28940251969220776,
          0.29736009583851464,
          0.2973890625743566,
          0.3176616395586297,
          0.31060203222342453,
          0.31301868561367063,
          0.2690720092362506,
          0.2657366965093014,
          0.2466848605355122,
          0.2411853188306543,
          0.2666636320562451,
          0.27287492784179196,
          0.24622553086716065,
          0.2599557636562642,
          0.22693782290151515,
          0.2453772193175024,
          0.2717038440927515,
          0.23854106965879257,
          0.2956717489494386,
          0.2556066151748453,
          0.2737728966528937,
          0.2633283193292959,
          0.2710914045349494,
          0.3140035546322983,
          0.26490907548524456,
          0.2145855791174663,
          0.27098381380182196,
          0.2448309894416248,
          0.2897335681018305,
          0.2612137476128306,
          0.2615530722326939,
          0.24926703813056963,
          0.25243682665270745,
          0.25763428668378463,
          0.2877265871184925,
          0.32666201819524826,
          0.2926592084218716,
          0.2816021915404717,
          0.2754695197522103,
          0.26792989222305214,
          0.23946800520573627,
          0.30643909847241846,
          0.29717388110810183,
          0.3236287871420797,
          0.25512659498089224,
          0.2623144835748263,
          0.28658447010529414,
          0.356576380109784,
          0.2564921696705861,
          0.2879293542693866,
          0.27197695903069025,
          0.2262757260822697,
          0.2356650866001949,
          0.22816684012223964,
          0.2952331098066885,
          0.31720230989027814,
          0.3442034458001336,
          0.24971809158868064,
          0.3043121124405923,
          0.282479469825972,
          0.2732059762514147,
          0.2088418892105116,
          0.27927243835775156,
          0.2730321758363628,
          0.25460105563061614,
          0.23683617034923538,
          0.3153691293219922,
          0.29323440503359105,
          0.35367143031534426,
          0.27487363261488934,
          0.25309892347195295,
          0.24642002180781397,
          0.2718900588231643,
          0.2666429415306437,
          0.31495945691508404,
          0.2883886839377381,
          0.28838868393773814,
          0.30467212758605705,
          0.2737232393914503,
          0.22573777241663273,
          0.22080515111325374,
          0.25436932174388016,
          0.2370679042359713,
          0.2988911947330198,
          0.28625342169567136,
          0.2671229617245967,
          0.2531775474692384,
          0.2887983563446462,
          0.3115662107164508,
          0.3003229791046381,
          0.2748736326148894,
          0.3330098714497644,
          0.2857858158170792,
          0.35594325002638044,
          0.23683617034923543,
          0.27520468102451207,
          0.2457868917244105,
          0.27520468102451207,
          0.27232869796591447,
          0.2743274027390118
         ],
         "xaxis": "x",
         "yaxis": "y"
        }
       ],
       "layout": {
        "annotations": [
         {
          "showarrow": false,
          "text": "obs",
          "x": 0.7583739729740354,
          "xanchor": "left",
          "xref": "x",
          "y": 1,
          "yanchor": "top",
          "yref": "y domain"
         }
        ],
        "barmode": "relative",
        "legend": {
         "title": {
          "text": "variable"
         },
         "tracegroupgap": 0
        },
        "margin": {
         "t": 60
        },
        "shapes": [
         {
          "line": {
           "color": "green"
          },
          "type": "line",
          "x0": 0.7583739729740354,
          "x1": 0.7583739729740354,
          "xref": "x",
          "y0": 0,
          "y1": 1,
          "yref": "y domain"
         }
        ],
        "showlegend": false,
        "template": {
         "data": {
          "bar": [
           {
            "error_x": {
             "color": "#2a3f5f"
            },
            "error_y": {
             "color": "#2a3f5f"
            },
            "marker": {
             "line": {
              "color": "#E5ECF6",
              "width": 0.5
             },
             "pattern": {
              "fillmode": "overlay",
              "size": 10,
              "solidity": 0.2
             }
            },
            "type": "bar"
           }
          ],
          "barpolar": [
           {
            "marker": {
             "line": {
              "color": "#E5ECF6",
              "width": 0.5
             },
             "pattern": {
              "fillmode": "overlay",
              "size": 10,
              "solidity": 0.2
             }
            },
            "type": "barpolar"
           }
          ],
          "carpet": [
           {
            "aaxis": {
             "endlinecolor": "#2a3f5f",
             "gridcolor": "white",
             "linecolor": "white",
             "minorgridcolor": "white",
             "startlinecolor": "#2a3f5f"
            },
            "baxis": {
             "endlinecolor": "#2a3f5f",
             "gridcolor": "white",
             "linecolor": "white",
             "minorgridcolor": "white",
             "startlinecolor": "#2a3f5f"
            },
            "type": "carpet"
           }
          ],
          "choropleth": [
           {
            "colorbar": {
             "outlinewidth": 0,
             "ticks": ""
            },
            "type": "choropleth"
           }
          ],
          "contour": [
           {
            "colorbar": {
             "outlinewidth": 0,
             "ticks": ""
            },
            "colorscale": [
             [
              0,
              "#0d0887"
             ],
             [
              0.1111111111111111,
              "#46039f"
             ],
             [
              0.2222222222222222,
              "#7201a8"
             ],
             [
              0.3333333333333333,
              "#9c179e"
             ],
             [
              0.4444444444444444,
              "#bd3786"
             ],
             [
              0.5555555555555556,
              "#d8576b"
             ],
             [
              0.6666666666666666,
              "#ed7953"
             ],
             [
              0.7777777777777778,
              "#fb9f3a"
             ],
             [
              0.8888888888888888,
              "#fdca26"
             ],
             [
              1,
              "#f0f921"
             ]
            ],
            "type": "contour"
           }
          ],
          "contourcarpet": [
           {
            "colorbar": {
             "outlinewidth": 0,
             "ticks": ""
            },
            "type": "contourcarpet"
           }
          ],
          "heatmap": [
           {
            "colorbar": {
             "outlinewidth": 0,
             "ticks": ""
            },
            "colorscale": [
             [
              0,
              "#0d0887"
             ],
             [
              0.1111111111111111,
              "#46039f"
             ],
             [
              0.2222222222222222,
              "#7201a8"
             ],
             [
              0.3333333333333333,
              "#9c179e"
             ],
             [
              0.4444444444444444,
              "#bd3786"
             ],
             [
              0.5555555555555556,
              "#d8576b"
             ],
             [
              0.6666666666666666,
              "#ed7953"
             ],
             [
              0.7777777777777778,
              "#fb9f3a"
             ],
             [
              0.8888888888888888,
              "#fdca26"
             ],
             [
              1,
              "#f0f921"
             ]
            ],
            "type": "heatmap"
           }
          ],
          "heatmapgl": [
           {
            "colorbar": {
             "outlinewidth": 0,
             "ticks": ""
            },
            "colorscale": [
             [
              0,
              "#0d0887"
             ],
             [
              0.1111111111111111,
              "#46039f"
             ],
             [
              0.2222222222222222,
              "#7201a8"
             ],
             [
              0.3333333333333333,
              "#9c179e"
             ],
             [
              0.4444444444444444,
              "#bd3786"
             ],
             [
              0.5555555555555556,
              "#d8576b"
             ],
             [
              0.6666666666666666,
              "#ed7953"
             ],
             [
              0.7777777777777778,
              "#fb9f3a"
             ],
             [
              0.8888888888888888,
              "#fdca26"
             ],
             [
              1,
              "#f0f921"
             ]
            ],
            "type": "heatmapgl"
           }
          ],
          "histogram": [
           {
            "marker": {
             "pattern": {
              "fillmode": "overlay",
              "size": 10,
              "solidity": 0.2
             }
            },
            "type": "histogram"
           }
          ],
          "histogram2d": [
           {
            "colorbar": {
             "outlinewidth": 0,
             "ticks": ""
            },
            "colorscale": [
             [
              0,
              "#0d0887"
             ],
             [
              0.1111111111111111,
              "#46039f"
             ],
             [
              0.2222222222222222,
              "#7201a8"
             ],
             [
              0.3333333333333333,
              "#9c179e"
             ],
             [
              0.4444444444444444,
              "#bd3786"
             ],
             [
              0.5555555555555556,
              "#d8576b"
             ],
             [
              0.6666666666666666,
              "#ed7953"
             ],
             [
              0.7777777777777778,
              "#fb9f3a"
             ],
             [
              0.8888888888888888,
              "#fdca26"
             ],
             [
              1,
              "#f0f921"
             ]
            ],
            "type": "histogram2d"
           }
          ],
          "histogram2dcontour": [
           {
            "colorbar": {
             "outlinewidth": 0,
             "ticks": ""
            },
            "colorscale": [
             [
              0,
              "#0d0887"
             ],
             [
              0.1111111111111111,
              "#46039f"
             ],
             [
              0.2222222222222222,
              "#7201a8"
             ],
             [
              0.3333333333333333,
              "#9c179e"
             ],
             [
              0.4444444444444444,
              "#bd3786"
             ],
             [
              0.5555555555555556,
              "#d8576b"
             ],
             [
              0.6666666666666666,
              "#ed7953"
             ],
             [
              0.7777777777777778,
              "#fb9f3a"
             ],
             [
              0.8888888888888888,
              "#fdca26"
             ],
             [
              1,
              "#f0f921"
             ]
            ],
            "type": "histogram2dcontour"
           }
          ],
          "mesh3d": [
           {
            "colorbar": {
             "outlinewidth": 0,
             "ticks": ""
            },
            "type": "mesh3d"
           }
          ],
          "parcoords": [
           {
            "line": {
             "colorbar": {
              "outlinewidth": 0,
              "ticks": ""
             }
            },
            "type": "parcoords"
           }
          ],
          "pie": [
           {
            "automargin": true,
            "type": "pie"
           }
          ],
          "scatter": [
           {
            "fillpattern": {
             "fillmode": "overlay",
             "size": 10,
             "solidity": 0.2
            },
            "type": "scatter"
           }
          ],
          "scatter3d": [
           {
            "line": {
             "colorbar": {
              "outlinewidth": 0,
              "ticks": ""
             }
            },
            "marker": {
             "colorbar": {
              "outlinewidth": 0,
              "ticks": ""
             }
            },
            "type": "scatter3d"
           }
          ],
          "scattercarpet": [
           {
            "marker": {
             "colorbar": {
              "outlinewidth": 0,
              "ticks": ""
             }
            },
            "type": "scattercarpet"
           }
          ],
          "scattergeo": [
           {
            "marker": {
             "colorbar": {
              "outlinewidth": 0,
              "ticks": ""
             }
            },
            "type": "scattergeo"
           }
          ],
          "scattergl": [
           {
            "marker": {
             "colorbar": {
              "outlinewidth": 0,
              "ticks": ""
             }
            },
            "type": "scattergl"
           }
          ],
          "scattermapbox": [
           {
            "marker": {
             "colorbar": {
              "outlinewidth": 0,
              "ticks": ""
             }
            },
            "type": "scattermapbox"
           }
          ],
          "scatterpolar": [
           {
            "marker": {
             "colorbar": {
              "outlinewidth": 0,
              "ticks": ""
             }
            },
            "type": "scatterpolar"
           }
          ],
          "scatterpolargl": [
           {
            "marker": {
             "colorbar": {
              "outlinewidth": 0,
              "ticks": ""
             }
            },
            "type": "scatterpolargl"
           }
          ],
          "scatterternary": [
           {
            "marker": {
             "colorbar": {
              "outlinewidth": 0,
              "ticks": ""
             }
            },
            "type": "scatterternary"
           }
          ],
          "surface": [
           {
            "colorbar": {
             "outlinewidth": 0,
             "ticks": ""
            },
            "colorscale": [
             [
              0,
              "#0d0887"
             ],
             [
              0.1111111111111111,
              "#46039f"
             ],
             [
              0.2222222222222222,
              "#7201a8"
             ],
             [
              0.3333333333333333,
              "#9c179e"
             ],
             [
              0.4444444444444444,
              "#bd3786"
             ],
             [
              0.5555555555555556,
              "#d8576b"
             ],
             [
              0.6666666666666666,
              "#ed7953"
             ],
             [
              0.7777777777777778,
              "#fb9f3a"
             ],
             [
              0.8888888888888888,
              "#fdca26"
             ],
             [
              1,
              "#f0f921"
             ]
            ],
            "type": "surface"
           }
          ],
          "table": [
           {
            "cells": {
             "fill": {
              "color": "#EBF0F8"
             },
             "line": {
              "color": "white"
             }
            },
            "header": {
             "fill": {
              "color": "#C8D4E3"
             },
             "line": {
              "color": "white"
             }
            },
            "type": "table"
           }
          ]
         },
         "layout": {
          "annotationdefaults": {
           "arrowcolor": "#2a3f5f",
           "arrowhead": 0,
           "arrowwidth": 1
          },
          "autotypenumbers": "strict",
          "coloraxis": {
           "colorbar": {
            "outlinewidth": 0,
            "ticks": ""
           }
          },
          "colorscale": {
           "diverging": [
            [
             0,
             "#8e0152"
            ],
            [
             0.1,
             "#c51b7d"
            ],
            [
             0.2,
             "#de77ae"
            ],
            [
             0.3,
             "#f1b6da"
            ],
            [
             0.4,
             "#fde0ef"
            ],
            [
             0.5,
             "#f7f7f7"
            ],
            [
             0.6,
             "#e6f5d0"
            ],
            [
             0.7,
             "#b8e186"
            ],
            [
             0.8,
             "#7fbc41"
            ],
            [
             0.9,
             "#4d9221"
            ],
            [
             1,
             "#276419"
            ]
           ],
           "sequential": [
            [
             0,
             "#0d0887"
            ],
            [
             0.1111111111111111,
             "#46039f"
            ],
            [
             0.2222222222222222,
             "#7201a8"
            ],
            [
             0.3333333333333333,
             "#9c179e"
            ],
            [
             0.4444444444444444,
             "#bd3786"
            ],
            [
             0.5555555555555556,
             "#d8576b"
            ],
            [
             0.6666666666666666,
             "#ed7953"
            ],
            [
             0.7777777777777778,
             "#fb9f3a"
            ],
            [
             0.8888888888888888,
             "#fdca26"
            ],
            [
             1,
             "#f0f921"
            ]
           ],
           "sequentialminus": [
            [
             0,
             "#0d0887"
            ],
            [
             0.1111111111111111,
             "#46039f"
            ],
            [
             0.2222222222222222,
             "#7201a8"
            ],
            [
             0.3333333333333333,
             "#9c179e"
            ],
            [
             0.4444444444444444,
             "#bd3786"
            ],
            [
             0.5555555555555556,
             "#d8576b"
            ],
            [
             0.6666666666666666,
             "#ed7953"
            ],
            [
             0.7777777777777778,
             "#fb9f3a"
            ],
            [
             0.8888888888888888,
             "#fdca26"
            ],
            [
             1,
             "#f0f921"
            ]
           ]
          },
          "colorway": [
           "#636efa",
           "#EF553B",
           "#00cc96",
           "#ab63fa",
           "#FFA15A",
           "#19d3f3",
           "#FF6692",
           "#B6E880",
           "#FF97FF",
           "#FECB52"
          ],
          "font": {
           "color": "#2a3f5f"
          },
          "geo": {
           "bgcolor": "white",
           "lakecolor": "white",
           "landcolor": "#E5ECF6",
           "showlakes": true,
           "showland": true,
           "subunitcolor": "white"
          },
          "hoverlabel": {
           "align": "left"
          },
          "hovermode": "closest",
          "mapbox": {
           "style": "light"
          },
          "paper_bgcolor": "white",
          "plot_bgcolor": "#E5ECF6",
          "polar": {
           "angularaxis": {
            "gridcolor": "white",
            "linecolor": "white",
            "ticks": ""
           },
           "bgcolor": "#E5ECF6",
           "radialaxis": {
            "gridcolor": "white",
            "linecolor": "white",
            "ticks": ""
           }
          },
          "scene": {
           "xaxis": {
            "backgroundcolor": "#E5ECF6",
            "gridcolor": "white",
            "gridwidth": 2,
            "linecolor": "white",
            "showbackground": true,
            "ticks": "",
            "zerolinecolor": "white"
           },
           "yaxis": {
            "backgroundcolor": "#E5ECF6",
            "gridcolor": "white",
            "gridwidth": 2,
            "linecolor": "white",
            "showbackground": true,
            "ticks": "",
            "zerolinecolor": "white"
           },
           "zaxis": {
            "backgroundcolor": "#E5ECF6",
            "gridcolor": "white",
            "gridwidth": 2,
            "linecolor": "white",
            "showbackground": true,
            "ticks": "",
            "zerolinecolor": "white"
           }
          },
          "shapedefaults": {
           "line": {
            "color": "#2a3f5f"
           }
          },
          "ternary": {
           "aaxis": {
            "gridcolor": "white",
            "linecolor": "white",
            "ticks": ""
           },
           "baxis": {
            "gridcolor": "white",
            "linecolor": "white",
            "ticks": ""
           },
           "bgcolor": "#E5ECF6",
           "caxis": {
            "gridcolor": "white",
            "linecolor": "white",
            "ticks": ""
           }
          },
          "title": {
           "x": 0.05
          },
          "xaxis": {
           "automargin": true,
           "gridcolor": "white",
           "linecolor": "white",
           "ticks": "",
           "title": {
            "standoff": 15
           },
           "zerolinecolor": "white",
           "zerolinewidth": 2
          },
          "yaxis": {
           "automargin": true,
           "gridcolor": "white",
           "linecolor": "white",
           "ticks": "",
           "title": {
            "standoff": 15
           },
           "zerolinecolor": "white",
           "zerolinewidth": 2
          }
         }
        },
        "title": {
         "text": "Simulated Null Values"
        },
        "xaxis": {
         "anchor": "y",
         "domain": [
          0,
          1
         ],
         "title": {
          "text": "TVD of Missing and Non-Missing Values"
         }
        },
        "yaxis": {
         "anchor": "x",
         "domain": [
          0,
          1
         ],
         "title": {
          "text": "Frequency"
         }
        }
       }
      }
     },
     "metadata": {},
     "output_type": "display_data"
    }
   ],
   "source": [
    "graph, p_value = mar_permutation(data, 'U.S._STATE', 'CUSTOMERS.AFFECTED')\n",
    "print(p_value)\n",
    "graph"
   ]
  },
  {
   "cell_type": "markdown",
   "metadata": {},
   "source": [
    "### Hypothesis Testing"
   ]
  },
  {
   "cell_type": "markdown",
   "metadata": {},
   "source": [
    "1. Out of Nerc Regions/ **States** , what are the most likely to have the worst outages, what are the causes."
   ]
  },
  {
   "cell_type": "code",
   "execution_count": null,
   "metadata": {},
   "outputs": [],
   "source": []
  },
  {
   "cell_type": "code",
   "execution_count": null,
   "metadata": {},
   "outputs": [],
   "source": [
    "data[['U.S._STATE', 'CUSTOMERS.AFFECTED']].groupby('U.S._STATE').mean()"
   ]
  },
  {
   "cell_type": "code",
   "execution_count": null,
   "metadata": {},
   "outputs": [],
   "source": []
  },
  {
   "cell_type": "code",
   "execution_count": null,
   "metadata": {},
   "outputs": [],
   "source": [
    "def calculate_outage_severity(data, state, var):\n",
    "\n",
    "    output = data.groupby(state).mean()\n",
    "    \n",
    "    return output.loc[True,var]"
   ]
  },
  {
   "cell_type": "code",
   "execution_count": null,
   "metadata": {},
   "outputs": [],
   "source": [
    "def perm_test(data, state, var, n=1000):\n",
    "    data = data.copy()[[\"U.S._STATE\", var]]\n",
    "    data[state] = data[\"U.S._STATE\"] == state\n",
    "    obs = calculate_outage_severity(data, state, var)\n",
    "    test_stats = []\n",
    "    for _ in range(n):\n",
    "        value = np.random.permutation(data[var])\n",
    "        shuffled = data.assign(**{var : value })\n",
    "        trial = calculate_outage_severity(shuffled, state, var)\n",
    "        test_stats.append(trial)\n",
    "    \n",
    "    return  (np.array(test_stats) >= obs).mean()"
   ]
  },
  {
   "cell_type": "markdown",
   "metadata": {},
   "source": [
    "**This** represents texas has a difference. "
   ]
  },
  {
   "cell_type": "code",
   "execution_count": null,
   "metadata": {},
   "outputs": [],
   "source": [
    "stat = perm_test(data, \"Texas\", 'OUTAGE.DURATION')\n",
    "stat"
   ]
  },
  {
   "cell_type": "code",
   "execution_count": null,
   "metadata": {},
   "outputs": [],
   "source": [
    "all_p_values_duration = {}\n",
    "all_p_values_customers = {}\n",
    "for i in data['U.S._STATE'].unique():\n",
    "    all_p_values_duration[i] = perm_test(data, i, \"OUTAGE.DURATION\")\n",
    "    all_p_values_customers[i] = perm_test(data, i , \"CUSTOMERS.AFFECTED\")"
   ]
  },
  {
   "cell_type": "markdown",
   "metadata": {},
   "source": [
    "create dataframe to look p_value and how many outages to find how likely an outage is gonna happen and how severe it is. "
   ]
  },
  {
   "cell_type": "code",
   "execution_count": null,
   "metadata": {},
   "outputs": [],
   "source": [
    "initial = pd.DataFrame({'duration_p_value' : pd.Series(all_p_values_duration),\n",
    "              'customer_p_value' : pd.Series(all_p_values_customers)})\n",
    "resulting_df = data.groupby('U.S._STATE')[['YEAR']].count().merge(initial, left_index = True, right_index = True).rename(columns = {'YEAR': 'Count of Outages'})\n",
    "graph_df = resulting_df[(resulting_df['duration_p_value'] < 0.05) | (resulting_df['customer_p_value'] < 0.05 )].sort_values('customer_p_value')"
   ]
  },
  {
   "cell_type": "code",
   "execution_count": null,
   "metadata": {},
   "outputs": [],
   "source": [
    "graph_df"
   ]
  },
  {
   "cell_type": "code",
   "execution_count": null,
   "metadata": {},
   "outputs": [],
   "source": [
    "fig = px.bar(graph_df.reset_index().rename(columns = {'index': 'U.S._STATES'}), x='U.S._STATES', y=['duration_p_value', 'customer_p_value'], title='Grouped Bar Chart of Duration P-Value and Customer P-Value by U.S. States with a P-Value less than 0.05')\n",
    "fig.update_layout(barmode='group', xaxis_tickangle=-45)\n",
    "fig"
   ]
  },
  {
   "cell_type": "code",
   "execution_count": null,
   "metadata": {},
   "outputs": [],
   "source": [
    "fig.write_html('../p_value_bar.html', include_plotlyjs='cdn')"
   ]
  },
  {
   "cell_type": "code",
   "execution_count": null,
   "metadata": {},
   "outputs": [],
   "source": [
    "compare_df = pd.DataFrame(all_p_values_duration, index = np.arange(0,50)).melt().groupby('variable').max().sort_values('value')"
   ]
  },
  {
   "cell_type": "code",
   "execution_count": null,
   "metadata": {},
   "outputs": [],
   "source": [
    "compare_df#.merge(pd.DataFrame(all_p_values_customers, index = np.arange(0,50)).melt().groupby('variable').max().sort_values('value'))"
   ]
  },
  {
   "cell_type": "code",
   "execution_count": null,
   "metadata": {},
   "outputs": [],
   "source": [
    "compare_df = compare_df.merge(data.groupby('U.S._STATE')['YEAR'].count().sort_values(ascending= False),left_index = True, right_index = True)"
   ]
  },
  {
   "cell_type": "code",
   "execution_count": null,
   "metadata": {},
   "outputs": [],
   "source": [
    "customer_df =pd.DataFrame(all_p_values_customers, index = np.arange(0,50)).T[[0]].rename(columns = {0: 'customer_p_value'})"
   ]
  },
  {
   "cell_type": "code",
   "execution_count": null,
   "metadata": {},
   "outputs": [],
   "source": [
    "customer_df"
   ]
  },
  {
   "cell_type": "code",
   "execution_count": null,
   "metadata": {},
   "outputs": [],
   "source": [
    "customer_duration_df = compare_df.merge(customer_df, left_index= True, right_index= True)"
   ]
  },
  {
   "cell_type": "code",
   "execution_count": null,
   "metadata": {},
   "outputs": [],
   "source": [
    "avg_dur = data['OUTAGE.DURATION'].mean()\n",
    "avg_cus = data['CUSTOMERS.AFFECTED'].mean()\n",
    "\n",
    "\n",
    "dir_duration = data.groupby(\"U.S._STATE\")['OUTAGE.DURATION'].agg(lambda ser: ser.mean() - avg_dur)\n",
    "dir_customer = data.groupby(\"U.S._STATE\")['CUSTOMERS.AFFECTED'].agg(lambda ser: ser.mean() - avg_cus)"
   ]
  },
  {
   "cell_type": "code",
   "execution_count": null,
   "metadata": {},
   "outputs": [],
   "source": [
    "amount_outages = customer_duration_df.rename(columns = {\"YEAR\": 'amount_outage'}).sort_values(by=\"value\", ascending=True)\n",
    "item = amount_outages#[amount_outages[\"amount_outage\"] > 10]\n",
    "\n",
    "item[\"dir_duration\"] = dir_duration\n",
    "item['dir_customer'] = dir_customer\n",
    "item = item.reset_index().rename(columns = {\"index\" : 'U.S._STATE'}).fillna(0).sort_values(by = 'customer_p_value')"
   ]
  },
  {
   "cell_type": "code",
   "execution_count": null,
   "metadata": {},
   "outputs": [],
   "source": [
    "resulting_df = item.set_index('U.S._STATE')[['value','customer_p_value']].rename(columns= {'value':'duration_p_value'}).sort_index()"
   ]
  },
  {
   "cell_type": "code",
   "execution_count": null,
   "metadata": {},
   "outputs": [],
   "source": [
    "graph_df = resulting_df[(resulting_df['duration_p_value'] < 0.05) | (resulting_df['customer_p_value'] < 0.05 )].sort_values('customer_p_value')"
   ]
  },
  {
   "cell_type": "code",
   "execution_count": null,
   "metadata": {},
   "outputs": [],
   "source": [
    "graph_df"
   ]
  },
  {
   "cell_type": "code",
   "execution_count": null,
   "metadata": {},
   "outputs": [],
   "source": [
    "fig = px.bar(graph_df.reset_index(), x='U.S._STATE', y=['duration_p_value', 'customer_p_value'], title='Grouped Bar Chart of Duration P-Value and Customer P-Value by U.S. States with a P-Value less than 0.05')\n",
    "fig.update_layout(barmode='group', xaxis_tickangle=-45)\n",
    "fig"
   ]
  },
  {
   "cell_type": "code",
   "execution_count": null,
   "metadata": {},
   "outputs": [],
   "source": [
    "# fig = px.bar(item, x='U.S._STATE', y=['value', 'customer_p_value'], title='Grouped Bar Chart of Value and Amount_Outage by U.S. States')\n",
    "# fig.update_layout(barmode='group', xaxis_tickangle=-45)\n",
    "# fig.show()"
   ]
  },
  {
   "cell_type": "code",
   "execution_count": null,
   "metadata": {},
   "outputs": [],
   "source": [
    "demand_loss_mean = data.groupby('U.S._STATE')['DEMAND.LOSS.MW'].mean().fillna(0)\n",
    "item = item.merge(demand_loss_mean, left_on= 'U.S._STATE', right_index = True)"
   ]
  },
  {
   "cell_type": "code",
   "execution_count": null,
   "metadata": {},
   "outputs": [],
   "source": []
  },
  {
   "cell_type": "code",
   "execution_count": null,
   "metadata": {},
   "outputs": [],
   "source": [
    "fig = px.bar(item, x='U.S._STATE', y=['value', 'customer_p_value'], title='Grouped Bar Chart of Value and Amount_Outage by U.S. States')\n",
    "fig.update_layout(barmode='group', xaxis_tickangle=-45)\n",
    "fig.show()"
   ]
  },
  {
   "cell_type": "code",
   "execution_count": null,
   "metadata": {},
   "outputs": [],
   "source": [
    "item"
   ]
  },
  {
   "cell_type": "code",
   "execution_count": null,
   "metadata": {},
   "outputs": [],
   "source": [
    "# # Example weights for components\n",
    "# weight_outage_duration = 0.4\n",
    "# weight_amount_duration = 0.3\n",
    "# weight_customer_pvalue = 0.3\n",
    "\n",
    "\n",
    "\n",
    "\n",
    "# # Calculate the weighted mean composite score\n",
    "# item['Composite_Score'] =  (item['DEMAND.LOSS.MW'] * amount_outages)\n",
    "# item"
   ]
  },
  {
   "cell_type": "code",
   "execution_count": null,
   "metadata": {},
   "outputs": [],
   "source": [
    "item#.sort_values(by = 'Composite_Score').plot(kind = 'bar', x= 'U.S._STATE', y = \"Composite_Score\")"
   ]
  },
  {
   "cell_type": "code",
   "execution_count": null,
   "metadata": {},
   "outputs": [],
   "source": [
    "df_both = item[(item['value'] < 0.05) | (item['customer_p_value'] < 0.05 )]\n",
    "df_both"
   ]
  },
  {
   "cell_type": "code",
   "execution_count": null,
   "metadata": {},
   "outputs": [],
   "source": [
    "fig = px.bar(df_both, x='U.S._STATE', y=['value', 'customer_p_value'], title='Grouped Bar Chart of Value and Amount_Outage by U.S. States')\n",
    "fig.update_layout(barmode='group', xaxis_tickangle=-45)\n",
    "fig"
   ]
  },
  {
   "cell_type": "code",
   "execution_count": null,
   "metadata": {},
   "outputs": [],
   "source": [
    "fig.write_html('../p_value_bar.html', include_plotlyjs='cdn')"
   ]
  },
  {
   "cell_type": "code",
   "execution_count": null,
   "metadata": {},
   "outputs": [],
   "source": []
  }
 ],
 "metadata": {
  "kernelspec": {
   "display_name": "Python 3 (ipykernel)",
   "language": "python",
   "name": "python3"
  },
  "language_info": {
   "codemirror_mode": {
    "name": "ipython",
    "version": 3
   },
   "file_extension": ".py",
   "mimetype": "text/x-python",
   "name": "python",
   "nbconvert_exporter": "python",
   "pygments_lexer": "ipython3",
   "version": "3.8.18"
  }
 },
 "nbformat": 4,
 "nbformat_minor": 2
}
