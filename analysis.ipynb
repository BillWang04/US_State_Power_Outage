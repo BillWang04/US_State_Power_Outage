{
 "cells": [
  {
   "cell_type": "markdown",
   "metadata": {},
   "source": [
    "# Outages\n",
    "**Name(s)**: Bill Wang, Ethan Cao\n",
    "\n",
    "**Website Link**: https://billwang04.github.io/us_state_power_outage/"
   ]
  },
  {
   "cell_type": "markdown",
   "metadata": {},
   "source": [
    "## Code"
   ]
  },
  {
   "cell_type": "code",
   "execution_count": 8,
   "metadata": {
    "ExecuteTime": {
     "end_time": "2019-10-31T23:36:28.652554Z",
     "start_time": "2019-10-31T23:36:27.180520Z"
    }
   },
   "outputs": [],
   "source": [
    "import pandas as pd\n",
    "import numpy as np\n",
    "import os\n",
    "\n",
    "\n",
    "import plotly.express as px\n",
    "pd.options.plotting.backend = 'plotly'"
   ]
  },
  {
   "cell_type": "markdown",
   "metadata": {},
   "source": [
    "First we load in the data from the excel file and combine the time and date columns"
   ]
  },
  {
   "cell_type": "code",
   "execution_count": 9,
   "metadata": {},
   "outputs": [],
   "source": [
    "def combine_times(date_col_name, time_col_name, new_col_name, df):\n",
    "    df = df.copy()\n",
    "    df[new_col_name] = df[date_col_name] + pd.to_timedelta(df[time_col_name].astype(str))\n",
    "    return df"
   ]
  },
  {
   "cell_type": "code",
   "execution_count": 10,
   "metadata": {},
   "outputs": [],
   "source": [
    "data = pd.read_excel(\"outage.xlsx\", skiprows=[0,1,2,3,4,6], index_col=1).iloc[:,1:]\n",
    "data = combine_times(\"OUTAGE.START.DATE\", 'OUTAGE.START.TIME', 'OUTAGE.START.DATETIME', data)\n",
    "data = combine_times(\"OUTAGE.RESTORATION.DATE\", \"OUTAGE.RESTORATION.TIME\", \"OUTAGE.RESTORATION.DATETIME\", data)"
   ]
  },
  {
   "cell_type": "code",
   "execution_count": 11,
   "metadata": {},
   "outputs": [
    {
     "data": {
      "text/plain": [
       "Index(['YEAR', 'MONTH', 'U.S._STATE', 'POSTAL.CODE', 'NERC.REGION',\n",
       "       'CLIMATE.REGION', 'ANOMALY.LEVEL', 'CLIMATE.CATEGORY',\n",
       "       'OUTAGE.START.DATE', 'OUTAGE.START.TIME', 'OUTAGE.RESTORATION.DATE',\n",
       "       'OUTAGE.RESTORATION.TIME', 'CAUSE.CATEGORY', 'CAUSE.CATEGORY.DETAIL',\n",
       "       'HURRICANE.NAMES', 'OUTAGE.DURATION', 'DEMAND.LOSS.MW',\n",
       "       'CUSTOMERS.AFFECTED', 'RES.PRICE', 'COM.PRICE', 'IND.PRICE',\n",
       "       'TOTAL.PRICE', 'RES.SALES', 'COM.SALES', 'IND.SALES', 'TOTAL.SALES',\n",
       "       'RES.PERCEN', 'COM.PERCEN', 'IND.PERCEN', 'RES.CUSTOMERS',\n",
       "       'COM.CUSTOMERS', 'IND.CUSTOMERS', 'TOTAL.CUSTOMERS', 'RES.CUST.PCT',\n",
       "       'COM.CUST.PCT', 'IND.CUST.PCT', 'PC.REALGSP.STATE', 'PC.REALGSP.USA',\n",
       "       'PC.REALGSP.REL', 'PC.REALGSP.CHANGE', 'UTIL.REALGSP', 'TOTAL.REALGSP',\n",
       "       'UTIL.CONTRI', 'PI.UTIL.OFUSA', 'POPULATION', 'POPPCT_URBAN',\n",
       "       'POPPCT_UC', 'POPDEN_URBAN', 'POPDEN_UC', 'POPDEN_RURAL',\n",
       "       'AREAPCT_URBAN', 'AREAPCT_UC', 'PCT_LAND', 'PCT_WATER_TOT',\n",
       "       'PCT_WATER_INLAND', 'OUTAGE.START.DATETIME',\n",
       "       'OUTAGE.RESTORATION.DATETIME'],\n",
       "      dtype='object')"
      ]
     },
     "execution_count": 11,
     "metadata": {},
     "output_type": "execute_result"
    }
   ],
   "source": [
    "data.columns"
   ]
  },
  {
   "cell_type": "code",
   "execution_count": 12,
   "metadata": {},
   "outputs": [],
   "source": [
    "# data = data[['U.S._STATE',\"YEAR\",'CLIMATE.REGION', 'OUTAGE.START.DATETIME', 'OUTAGE.RESTORATION.DATETIME','CAUSE.CATEGORY', 'CAUSE.CATEGORY.DETAIL', 'CUSTOMERS.AFFECTED', 'OUTAGE.DURATION','DEMAND.LOSS.MW']]"
   ]
  },
  {
   "cell_type": "code",
   "execution_count": 13,
   "metadata": {},
   "outputs": [
    {
     "data": {
      "application/vnd.plotly.v1+json": {
       "config": {
        "plotlyServerURL": "https://plot.ly"
       },
       "data": [
        {
         "alignmentgroup": "True",
         "bingroup": "x",
         "hovertemplate": "variable=OUTAGE.DURATION<br>value=%{x}<br>count=%{y}<extra></extra>",
         "legendgroup": "OUTAGE.DURATION",
         "marker": {
          "color": "#636efa",
          "pattern": {
           "shape": ""
          }
         },
         "name": "OUTAGE.DURATION",
         "offsetgroup": "OUTAGE.DURATION",
         "orientation": "v",
         "showlegend": true,
         "type": "histogram",
         "x": [
          3060,
          1,
          3000,
          2550,
          1740,
          1860,
          2970,
          3960,
          155,
          3621,
          7740,
          8880,
          0,
          1322,
          60,
          19,
          0,
          21,
          196,
          840,
          935,
          1260,
          null,
          619,
          150,
          762,
          0,
          660,
          1,
          2700,
          1,
          4921,
          95,
          251,
          4125,
          2550,
          null,
          1200,
          310,
          2818,
          5054,
          136,
          528,
          150,
          46,
          1,
          1920,
          null,
          32,
          null,
          135,
          3000,
          32,
          108653,
          8468,
          960,
          44,
          1605,
          4410,
          388,
          480,
          1219,
          90,
          18660,
          538,
          104,
          60,
          1272,
          60,
          1,
          1000,
          17339,
          9576,
          3090,
          6510,
          5820,
          1078,
          1513,
          4830,
          3051,
          4200,
          2085,
          5730,
          4290,
          2670,
          3540,
          3637,
          1710,
          4320,
          3915,
          3120,
          4590,
          7530,
          5034,
          8160,
          3300,
          4320,
          1770,
          9857,
          4080,
          5670,
          5700,
          1995,
          300,
          5115,
          2670,
          7650,
          4338,
          761,
          5760,
          2820,
          4110,
          3360,
          3015,
          232,
          11525,
          6420,
          46080,
          5700,
          5610,
          78377,
          270,
          4050,
          5865,
          1,
          2325,
          4170,
          4485,
          2694,
          168,
          5580,
          705,
          11850,
          3494,
          4560,
          2760,
          5760,
          8922,
          6030,
          7800,
          4242,
          3120,
          5700,
          900,
          1046,
          7620,
          3630,
          1260,
          5840,
          5790,
          2820,
          600,
          4259,
          2939,
          7080,
          3600,
          1588,
          4260,
          2700,
          200,
          8430,
          85,
          9150,
          1019,
          420,
          1140,
          7440,
          4458,
          373,
          1203,
          868,
          1455,
          206,
          1195,
          1559,
          900,
          2690,
          5115,
          5,
          189,
          2142,
          360,
          null,
          225,
          2340,
          480,
          9486,
          480,
          3000,
          300,
          3020,
          766,
          null,
          1335,
          197,
          245,
          3255,
          12180,
          1077,
          600,
          186,
          690,
          27698,
          402,
          2420,
          327,
          1,
          1860,
          220,
          455,
          318,
          757,
          847,
          410,
          215,
          5,
          570,
          12124,
          2655,
          20160,
          1440,
          600,
          39,
          181,
          1185,
          1500,
          0,
          271,
          1860,
          1200,
          2159,
          6300,
          null,
          1620,
          224,
          70,
          1697,
          95,
          2220,
          null,
          7809,
          1200,
          121,
          63,
          5595,
          1,
          557,
          240,
          3360,
          685,
          2280,
          210,
          167,
          1920,
          3569,
          3300,
          10,
          1560,
          840,
          240,
          990,
          6000,
          17865,
          1282,
          1080,
          7540,
          1320,
          1110,
          27698,
          130,
          3040,
          394,
          10140,
          20160,
          21540,
          45,
          1,
          1200,
          550,
          900,
          885,
          940,
          null,
          3050,
          1830,
          6000,
          1500,
          150,
          1955,
          2220,
          330,
          74,
          420,
          1440,
          255,
          1060,
          12240,
          5250,
          4320,
          120,
          233,
          null,
          65,
          2120,
          96,
          3,
          4320,
          65,
          2146,
          96,
          4032,
          2580,
          6,
          569,
          0,
          15950,
          200,
          1980,
          4045,
          2730,
          3314,
          7319,
          1,
          47,
          1440,
          276,
          0,
          0,
          3646,
          1130,
          2880,
          513,
          35,
          23773,
          10,
          3872,
          23187,
          12240,
          390,
          null,
          3264,
          1230,
          803,
          77,
          30,
          300,
          1,
          5,
          1450,
          2680,
          null,
          7609,
          150,
          3000,
          420,
          479,
          1680,
          2700,
          149,
          1110,
          2790,
          659,
          1320,
          1830,
          3000,
          null,
          870,
          810,
          1336,
          1695,
          360,
          360,
          120,
          3000,
          1290,
          1530,
          2370,
          1200,
          1200,
          90,
          120,
          1200,
          2761,
          720,
          1120,
          2100,
          960,
          450,
          1440,
          1020,
          0,
          2010,
          120,
          9230,
          1240,
          465,
          0,
          2460,
          1183,
          8880,
          394,
          219,
          487,
          19,
          28,
          0,
          1,
          5340,
          8940,
          467,
          0,
          1920,
          0,
          25,
          420,
          2040,
          0,
          1,
          1423,
          60,
          1620,
          3300,
          385,
          663,
          123,
          1276,
          1919,
          null,
          440,
          6690,
          null,
          0,
          null,
          717,
          1204,
          292,
          313,
          1,
          5,
          6276,
          0,
          74,
          0,
          null,
          248,
          1,
          2700,
          25,
          126,
          1,
          255,
          1207,
          0,
          0,
          245,
          476,
          null,
          null,
          null,
          1,
          2639,
          502,
          548,
          369,
          6480,
          15,
          5,
          null,
          1,
          0,
          432,
          21,
          1697,
          0,
          2615,
          9630,
          3507,
          2820,
          314,
          5855,
          0,
          0,
          1,
          22769,
          70,
          4285,
          355,
          0,
          2520,
          0,
          180,
          554,
          50,
          70,
          180,
          3842,
          35,
          1,
          189,
          49320,
          4200,
          353,
          1,
          87,
          66,
          null,
          1,
          227,
          null,
          1440,
          1,
          2700,
          null,
          49320,
          2,
          215,
          451,
          418,
          100,
          2021,
          1671,
          3938,
          4470,
          2279,
          4440,
          2760,
          0,
          1,
          0,
          1,
          1840,
          428,
          331,
          1980,
          1,
          1,
          1950,
          3037,
          1,
          1,
          1196,
          5628,
          1440,
          7700,
          2,
          12890,
          4232,
          95,
          2610,
          4320,
          17,
          113,
          0,
          2507,
          0,
          1,
          4920,
          1,
          4080,
          0,
          960,
          185,
          1320,
          1673,
          2855,
          3060,
          565,
          1,
          1,
          7298,
          5790,
          3040,
          11700,
          7987,
          304,
          4517,
          0,
          3058,
          13381,
          2865,
          152,
          380,
          9450,
          7803,
          5579,
          8979,
          4800,
          3060,
          4792,
          3894,
          1757,
          2880,
          2985,
          164,
          3232,
          2319,
          4338,
          2880,
          1714,
          90,
          59,
          4139,
          10530,
          6938,
          930,
          278,
          299,
          5320,
          2880,
          1,
          4260,
          6713,
          5160,
          1440,
          78,
          7523,
          2668,
          1,
          376,
          1324,
          6940,
          2684,
          54,
          100,
          720,
          2880,
          3189,
          2790,
          13679,
          2843,
          13488,
          1642,
          7709,
          7080,
          1440,
          1,
          1680,
          1579,
          652,
          108,
          300,
          1020,
          3570,
          6492,
          23700,
          10499,
          15180,
          0,
          120,
          1,
          1,
          1,
          1,
          1,
          1,
          60,
          113,
          204,
          31,
          57,
          13,
          2,
          11,
          283,
          0,
          1,
          871,
          1631,
          56,
          15,
          15,
          20,
          60,
          1,
          95,
          300,
          1,
          3186,
          575,
          2275,
          15,
          1,
          44,
          21,
          1,
          114,
          1,
          60,
          4920,
          null,
          4920,
          420,
          0,
          7,
          21,
          340,
          4200,
          805,
          5040,
          7430,
          5490,
          165,
          3630,
          11640,
          1590,
          3137,
          1440,
          7920,
          360,
          0,
          1440,
          1372,
          6480,
          2190,
          285,
          75,
          1843,
          1,
          11531,
          1420,
          0,
          930,
          11420,
          0,
          352,
          0,
          960,
          1733,
          3690,
          10619,
          634,
          11280,
          1440,
          180,
          1574,
          45,
          563,
          388,
          373,
          4510,
          290,
          1950,
          270,
          1355,
          1318,
          2490,
          1265,
          195,
          3120,
          3388,
          1025,
          990,
          240,
          1485,
          129,
          0,
          1528,
          1890,
          2551,
          985,
          405,
          1698,
          167,
          1460,
          182,
          4113,
          null,
          885,
          15,
          42,
          1050,
          1,
          132,
          4140,
          2880,
          null,
          11430,
          3599,
          0,
          2941,
          null,
          6090,
          1365,
          375,
          2520,
          10080,
          76,
          0,
          3720,
          333,
          0,
          353,
          11337,
          0,
          0,
          7020,
          11058,
          null,
          9360,
          3300,
          3339,
          2880,
          11580,
          9600,
          13201,
          9719,
          488,
          2415,
          180,
          4177,
          7440,
          3480,
          6600,
          300,
          1526,
          60,
          210,
          2,
          1350,
          73,
          1,
          200,
          0,
          null,
          4380,
          0,
          120,
          2680,
          840,
          989,
          4313,
          214,
          4,
          164,
          91,
          1050,
          838,
          60,
          1,
          1,
          9886,
          2425,
          390,
          14500,
          6660,
          159,
          54,
          30,
          8077,
          855,
          65,
          810,
          4150,
          4740,
          25,
          0,
          null,
          2070,
          870,
          12652,
          2880,
          120,
          1199,
          null,
          1470,
          4140,
          15420,
          50,
          0,
          1,
          1,
          0,
          0,
          0,
          457,
          1,
          1,
          0,
          30,
          1,
          1,
          65,
          1,
          0,
          0,
          0,
          1,
          null,
          1,
          0,
          1,
          1,
          110,
          39,
          1,
          1,
          1,
          1,
          1,
          1,
          507,
          213,
          4254,
          1,
          1,
          53,
          0,
          0,
          251,
          347,
          1637,
          21360,
          2161,
          2880,
          1044,
          8670,
          56,
          93,
          13,
          2089,
          20280,
          14639,
          2880,
          681,
          494,
          1,
          5355,
          0,
          3943,
          3300,
          191,
          0,
          73,
          4680,
          17310,
          10080,
          10726,
          1,
          5,
          2515,
          25920,
          2730,
          9480,
          5400,
          30,
          3584,
          3600,
          5850,
          4710,
          1,
          1732,
          0,
          23040,
          1800,
          6074,
          null,
          49,
          2299,
          5760,
          420,
          7320,
          2880,
          448,
          2520,
          18717,
          5513,
          21,
          2100,
          3120,
          8221,
          3240,
          2880,
          255,
          2355,
          161,
          50,
          258,
          13140,
          8640,
          18240,
          15492,
          8268,
          0,
          300,
          14400,
          7962,
          2400,
          11296,
          48,
          60480,
          28170,
          300,
          8054,
          2775,
          2775,
          2160,
          2100,
          2775,
          3180,
          2775,
          1440,
          430,
          2129,
          1755,
          null,
          692,
          732,
          7,
          510,
          420,
          13215,
          557,
          300,
          17812,
          20416,
          6240,
          467,
          3067,
          3060,
          355,
          430,
          300,
          227,
          52,
          null,
          2880,
          18804,
          1867,
          1690,
          295,
          17,
          240,
          17520,
          8189,
          182,
          5820,
          83,
          230,
          2009,
          720,
          155,
          4320,
          4320,
          480,
          1005,
          221,
          372,
          13430,
          4320,
          91,
          1419,
          3600,
          10080,
          5071,
          152,
          6840,
          221,
          24780,
          38,
          61,
          7560,
          90,
          10380,
          396,
          2040,
          12060,
          1080,
          1680,
          13920,
          14101,
          1099,
          2460,
          540,
          52,
          816,
          420,
          155,
          437,
          247,
          540,
          1135,
          437,
          180,
          171,
          656,
          84,
          202,
          255,
          1054,
          1,
          1254,
          1456,
          177,
          106,
          32,
          2464,
          55,
          144,
          70,
          64,
          8873,
          945,
          null,
          523,
          56,
          3,
          8472,
          155,
          33,
          749,
          159,
          null,
          270,
          2790,
          224,
          1470,
          334,
          2050,
          370,
          26,
          797,
          12,
          195,
          1,
          230,
          125,
          15,
          316,
          365,
          1560,
          4740,
          294,
          455,
          2878,
          336,
          295,
          480,
          25,
          null,
          223,
          2645,
          2016,
          7371,
          360,
          3408,
          3698,
          4890,
          1,
          871,
          2759,
          250,
          3301,
          249,
          164,
          435,
          420,
          854,
          5160,
          133,
          15180,
          2055,
          451,
          140,
          199,
          721,
          179,
          1524,
          78,
          268,
          39,
          1,
          14190,
          47,
          161,
          900,
          6070,
          697,
          234,
          14,
          5910,
          null,
          34390,
          40,
          166,
          182,
          829,
          15,
          64,
          13,
          245,
          1080,
          null,
          390,
          47,
          269,
          null,
          400,
          660,
          213,
          null,
          761,
          8100,
          180,
          124,
          4320,
          2820,
          3100,
          49427,
          989,
          125,
          44,
          26,
          245,
          null,
          98,
          1,
          0,
          135,
          50,
          1008,
          53,
          554,
          1260,
          2895,
          89,
          98,
          865,
          128,
          230,
          252,
          130,
          5,
          157,
          6914,
          11,
          13,
          2880,
          270,
          962,
          47,
          null,
          20,
          108,
          9855,
          75,
          17,
          21,
          1950,
          11867,
          141,
          959,
          1035,
          617,
          1230,
          572,
          324,
          1835,
          6780,
          900,
          null,
          37,
          72,
          1,
          251,
          620,
          89,
          909,
          236,
          326,
          300,
          751,
          122,
          214,
          193,
          8,
          5227,
          null,
          1414,
          448,
          4605,
          4080,
          null,
          1914,
          759,
          1,
          10274,
          3,
          2700,
          105,
          240,
          210,
          1,
          1201,
          30,
          2806,
          1226,
          300,
          206,
          270,
          2880,
          513,
          8160,
          3314,
          414,
          126,
          60,
          285,
          110,
          62,
          2363,
          424,
          180,
          0,
          448,
          2,
          624,
          2435,
          131,
          null,
          208,
          103,
          1355,
          1523,
          90,
          1205,
          385,
          144,
          235,
          241,
          6787,
          1337,
          1673,
          3366,
          2640,
          1826,
          570,
          1565,
          2691,
          1072,
          115,
          816,
          168,
          30,
          160,
          485,
          1508,
          1301,
          159,
          60,
          4,
          9600,
          106,
          0,
          0,
          1,
          32,
          61,
          314,
          30,
          0,
          92,
          390,
          161,
          60,
          76,
          1,
          1,
          160,
          20,
          1,
          1,
          70,
          50,
          15,
          810,
          1380,
          1800,
          1560,
          2054,
          1452,
          1865,
          1999,
          120,
          1950,
          360,
          1087,
          1200,
          4122,
          360,
          645,
          108,
          0,
          1,
          1440,
          4560,
          1,
          1,
          110,
          210,
          120,
          0,
          4260,
          76,
          210,
          3305,
          5880,
          145,
          60,
          2640,
          1042,
          110,
          11880,
          2245,
          984,
          7200,
          1381,
          148,
          13972,
          null,
          796,
          300,
          null,
          2612,
          3000,
          431,
          5310,
          1732,
          0,
          6685,
          3300,
          280,
          117,
          2895,
          480,
          31,
          1,
          0,
          0,
          103,
          4745,
          307,
          1656,
          3525,
          374,
          1068,
          1569,
          114,
          115,
          15,
          2891,
          1,
          1676,
          0,
          0,
          3604,
          195,
          1,
          0,
          2108,
          198,
          3667,
          1037,
          673,
          null,
          2652,
          300,
          881,
          618,
          1187,
          950,
          2535,
          27,
          108,
          73,
          200,
          5,
          75,
          0,
          77,
          660,
          0,
          92,
          30,
          33,
          1895,
          274,
          1,
          1534,
          1,
          60,
          108,
          2,
          175,
          null,
          2040,
          2710,
          284,
          105,
          4019,
          1,
          391,
          439,
          5,
          201,
          2140,
          103,
          null,
          187,
          1406,
          348,
          13650,
          90,
          913,
          null,
          14040,
          1367,
          174,
          543,
          237,
          1906,
          224,
          0,
          95,
          360,
          1548,
          870,
          0,
          null,
          220,
          720,
          null,
          59,
          181,
          null
         ],
         "xaxis": "x",
         "yaxis": "y"
        }
       ],
       "layout": {
        "barmode": "relative",
        "legend": {
         "title": {
          "text": "variable"
         },
         "tracegroupgap": 0
        },
        "margin": {
         "t": 60
        },
        "showlegend": false,
        "template": {
         "data": {
          "bar": [
           {
            "error_x": {
             "color": "#2a3f5f"
            },
            "error_y": {
             "color": "#2a3f5f"
            },
            "marker": {
             "line": {
              "color": "#E5ECF6",
              "width": 0.5
             },
             "pattern": {
              "fillmode": "overlay",
              "size": 10,
              "solidity": 0.2
             }
            },
            "type": "bar"
           }
          ],
          "barpolar": [
           {
            "marker": {
             "line": {
              "color": "#E5ECF6",
              "width": 0.5
             },
             "pattern": {
              "fillmode": "overlay",
              "size": 10,
              "solidity": 0.2
             }
            },
            "type": "barpolar"
           }
          ],
          "carpet": [
           {
            "aaxis": {
             "endlinecolor": "#2a3f5f",
             "gridcolor": "white",
             "linecolor": "white",
             "minorgridcolor": "white",
             "startlinecolor": "#2a3f5f"
            },
            "baxis": {
             "endlinecolor": "#2a3f5f",
             "gridcolor": "white",
             "linecolor": "white",
             "minorgridcolor": "white",
             "startlinecolor": "#2a3f5f"
            },
            "type": "carpet"
           }
          ],
          "choropleth": [
           {
            "colorbar": {
             "outlinewidth": 0,
             "ticks": ""
            },
            "type": "choropleth"
           }
          ],
          "contour": [
           {
            "colorbar": {
             "outlinewidth": 0,
             "ticks": ""
            },
            "colorscale": [
             [
              0,
              "#0d0887"
             ],
             [
              0.1111111111111111,
              "#46039f"
             ],
             [
              0.2222222222222222,
              "#7201a8"
             ],
             [
              0.3333333333333333,
              "#9c179e"
             ],
             [
              0.4444444444444444,
              "#bd3786"
             ],
             [
              0.5555555555555556,
              "#d8576b"
             ],
             [
              0.6666666666666666,
              "#ed7953"
             ],
             [
              0.7777777777777778,
              "#fb9f3a"
             ],
             [
              0.8888888888888888,
              "#fdca26"
             ],
             [
              1,
              "#f0f921"
             ]
            ],
            "type": "contour"
           }
          ],
          "contourcarpet": [
           {
            "colorbar": {
             "outlinewidth": 0,
             "ticks": ""
            },
            "type": "contourcarpet"
           }
          ],
          "heatmap": [
           {
            "colorbar": {
             "outlinewidth": 0,
             "ticks": ""
            },
            "colorscale": [
             [
              0,
              "#0d0887"
             ],
             [
              0.1111111111111111,
              "#46039f"
             ],
             [
              0.2222222222222222,
              "#7201a8"
             ],
             [
              0.3333333333333333,
              "#9c179e"
             ],
             [
              0.4444444444444444,
              "#bd3786"
             ],
             [
              0.5555555555555556,
              "#d8576b"
             ],
             [
              0.6666666666666666,
              "#ed7953"
             ],
             [
              0.7777777777777778,
              "#fb9f3a"
             ],
             [
              0.8888888888888888,
              "#fdca26"
             ],
             [
              1,
              "#f0f921"
             ]
            ],
            "type": "heatmap"
           }
          ],
          "heatmapgl": [
           {
            "colorbar": {
             "outlinewidth": 0,
             "ticks": ""
            },
            "colorscale": [
             [
              0,
              "#0d0887"
             ],
             [
              0.1111111111111111,
              "#46039f"
             ],
             [
              0.2222222222222222,
              "#7201a8"
             ],
             [
              0.3333333333333333,
              "#9c179e"
             ],
             [
              0.4444444444444444,
              "#bd3786"
             ],
             [
              0.5555555555555556,
              "#d8576b"
             ],
             [
              0.6666666666666666,
              "#ed7953"
             ],
             [
              0.7777777777777778,
              "#fb9f3a"
             ],
             [
              0.8888888888888888,
              "#fdca26"
             ],
             [
              1,
              "#f0f921"
             ]
            ],
            "type": "heatmapgl"
           }
          ],
          "histogram": [
           {
            "marker": {
             "pattern": {
              "fillmode": "overlay",
              "size": 10,
              "solidity": 0.2
             }
            },
            "type": "histogram"
           }
          ],
          "histogram2d": [
           {
            "colorbar": {
             "outlinewidth": 0,
             "ticks": ""
            },
            "colorscale": [
             [
              0,
              "#0d0887"
             ],
             [
              0.1111111111111111,
              "#46039f"
             ],
             [
              0.2222222222222222,
              "#7201a8"
             ],
             [
              0.3333333333333333,
              "#9c179e"
             ],
             [
              0.4444444444444444,
              "#bd3786"
             ],
             [
              0.5555555555555556,
              "#d8576b"
             ],
             [
              0.6666666666666666,
              "#ed7953"
             ],
             [
              0.7777777777777778,
              "#fb9f3a"
             ],
             [
              0.8888888888888888,
              "#fdca26"
             ],
             [
              1,
              "#f0f921"
             ]
            ],
            "type": "histogram2d"
           }
          ],
          "histogram2dcontour": [
           {
            "colorbar": {
             "outlinewidth": 0,
             "ticks": ""
            },
            "colorscale": [
             [
              0,
              "#0d0887"
             ],
             [
              0.1111111111111111,
              "#46039f"
             ],
             [
              0.2222222222222222,
              "#7201a8"
             ],
             [
              0.3333333333333333,
              "#9c179e"
             ],
             [
              0.4444444444444444,
              "#bd3786"
             ],
             [
              0.5555555555555556,
              "#d8576b"
             ],
             [
              0.6666666666666666,
              "#ed7953"
             ],
             [
              0.7777777777777778,
              "#fb9f3a"
             ],
             [
              0.8888888888888888,
              "#fdca26"
             ],
             [
              1,
              "#f0f921"
             ]
            ],
            "type": "histogram2dcontour"
           }
          ],
          "mesh3d": [
           {
            "colorbar": {
             "outlinewidth": 0,
             "ticks": ""
            },
            "type": "mesh3d"
           }
          ],
          "parcoords": [
           {
            "line": {
             "colorbar": {
              "outlinewidth": 0,
              "ticks": ""
             }
            },
            "type": "parcoords"
           }
          ],
          "pie": [
           {
            "automargin": true,
            "type": "pie"
           }
          ],
          "scatter": [
           {
            "fillpattern": {
             "fillmode": "overlay",
             "size": 10,
             "solidity": 0.2
            },
            "type": "scatter"
           }
          ],
          "scatter3d": [
           {
            "line": {
             "colorbar": {
              "outlinewidth": 0,
              "ticks": ""
             }
            },
            "marker": {
             "colorbar": {
              "outlinewidth": 0,
              "ticks": ""
             }
            },
            "type": "scatter3d"
           }
          ],
          "scattercarpet": [
           {
            "marker": {
             "colorbar": {
              "outlinewidth": 0,
              "ticks": ""
             }
            },
            "type": "scattercarpet"
           }
          ],
          "scattergeo": [
           {
            "marker": {
             "colorbar": {
              "outlinewidth": 0,
              "ticks": ""
             }
            },
            "type": "scattergeo"
           }
          ],
          "scattergl": [
           {
            "marker": {
             "colorbar": {
              "outlinewidth": 0,
              "ticks": ""
             }
            },
            "type": "scattergl"
           }
          ],
          "scattermapbox": [
           {
            "marker": {
             "colorbar": {
              "outlinewidth": 0,
              "ticks": ""
             }
            },
            "type": "scattermapbox"
           }
          ],
          "scatterpolar": [
           {
            "marker": {
             "colorbar": {
              "outlinewidth": 0,
              "ticks": ""
             }
            },
            "type": "scatterpolar"
           }
          ],
          "scatterpolargl": [
           {
            "marker": {
             "colorbar": {
              "outlinewidth": 0,
              "ticks": ""
             }
            },
            "type": "scatterpolargl"
           }
          ],
          "scatterternary": [
           {
            "marker": {
             "colorbar": {
              "outlinewidth": 0,
              "ticks": ""
             }
            },
            "type": "scatterternary"
           }
          ],
          "surface": [
           {
            "colorbar": {
             "outlinewidth": 0,
             "ticks": ""
            },
            "colorscale": [
             [
              0,
              "#0d0887"
             ],
             [
              0.1111111111111111,
              "#46039f"
             ],
             [
              0.2222222222222222,
              "#7201a8"
             ],
             [
              0.3333333333333333,
              "#9c179e"
             ],
             [
              0.4444444444444444,
              "#bd3786"
             ],
             [
              0.5555555555555556,
              "#d8576b"
             ],
             [
              0.6666666666666666,
              "#ed7953"
             ],
             [
              0.7777777777777778,
              "#fb9f3a"
             ],
             [
              0.8888888888888888,
              "#fdca26"
             ],
             [
              1,
              "#f0f921"
             ]
            ],
            "type": "surface"
           }
          ],
          "table": [
           {
            "cells": {
             "fill": {
              "color": "#EBF0F8"
             },
             "line": {
              "color": "white"
             }
            },
            "header": {
             "fill": {
              "color": "#C8D4E3"
             },
             "line": {
              "color": "white"
             }
            },
            "type": "table"
           }
          ]
         },
         "layout": {
          "annotationdefaults": {
           "arrowcolor": "#2a3f5f",
           "arrowhead": 0,
           "arrowwidth": 1
          },
          "autotypenumbers": "strict",
          "coloraxis": {
           "colorbar": {
            "outlinewidth": 0,
            "ticks": ""
           }
          },
          "colorscale": {
           "diverging": [
            [
             0,
             "#8e0152"
            ],
            [
             0.1,
             "#c51b7d"
            ],
            [
             0.2,
             "#de77ae"
            ],
            [
             0.3,
             "#f1b6da"
            ],
            [
             0.4,
             "#fde0ef"
            ],
            [
             0.5,
             "#f7f7f7"
            ],
            [
             0.6,
             "#e6f5d0"
            ],
            [
             0.7,
             "#b8e186"
            ],
            [
             0.8,
             "#7fbc41"
            ],
            [
             0.9,
             "#4d9221"
            ],
            [
             1,
             "#276419"
            ]
           ],
           "sequential": [
            [
             0,
             "#0d0887"
            ],
            [
             0.1111111111111111,
             "#46039f"
            ],
            [
             0.2222222222222222,
             "#7201a8"
            ],
            [
             0.3333333333333333,
             "#9c179e"
            ],
            [
             0.4444444444444444,
             "#bd3786"
            ],
            [
             0.5555555555555556,
             "#d8576b"
            ],
            [
             0.6666666666666666,
             "#ed7953"
            ],
            [
             0.7777777777777778,
             "#fb9f3a"
            ],
            [
             0.8888888888888888,
             "#fdca26"
            ],
            [
             1,
             "#f0f921"
            ]
           ],
           "sequentialminus": [
            [
             0,
             "#0d0887"
            ],
            [
             0.1111111111111111,
             "#46039f"
            ],
            [
             0.2222222222222222,
             "#7201a8"
            ],
            [
             0.3333333333333333,
             "#9c179e"
            ],
            [
             0.4444444444444444,
             "#bd3786"
            ],
            [
             0.5555555555555556,
             "#d8576b"
            ],
            [
             0.6666666666666666,
             "#ed7953"
            ],
            [
             0.7777777777777778,
             "#fb9f3a"
            ],
            [
             0.8888888888888888,
             "#fdca26"
            ],
            [
             1,
             "#f0f921"
            ]
           ]
          },
          "colorway": [
           "#636efa",
           "#EF553B",
           "#00cc96",
           "#ab63fa",
           "#FFA15A",
           "#19d3f3",
           "#FF6692",
           "#B6E880",
           "#FF97FF",
           "#FECB52"
          ],
          "font": {
           "color": "#2a3f5f"
          },
          "geo": {
           "bgcolor": "white",
           "lakecolor": "white",
           "landcolor": "#E5ECF6",
           "showlakes": true,
           "showland": true,
           "subunitcolor": "white"
          },
          "hoverlabel": {
           "align": "left"
          },
          "hovermode": "closest",
          "mapbox": {
           "style": "light"
          },
          "paper_bgcolor": "white",
          "plot_bgcolor": "#E5ECF6",
          "polar": {
           "angularaxis": {
            "gridcolor": "white",
            "linecolor": "white",
            "ticks": ""
           },
           "bgcolor": "#E5ECF6",
           "radialaxis": {
            "gridcolor": "white",
            "linecolor": "white",
            "ticks": ""
           }
          },
          "scene": {
           "xaxis": {
            "backgroundcolor": "#E5ECF6",
            "gridcolor": "white",
            "gridwidth": 2,
            "linecolor": "white",
            "showbackground": true,
            "ticks": "",
            "zerolinecolor": "white"
           },
           "yaxis": {
            "backgroundcolor": "#E5ECF6",
            "gridcolor": "white",
            "gridwidth": 2,
            "linecolor": "white",
            "showbackground": true,
            "ticks": "",
            "zerolinecolor": "white"
           },
           "zaxis": {
            "backgroundcolor": "#E5ECF6",
            "gridcolor": "white",
            "gridwidth": 2,
            "linecolor": "white",
            "showbackground": true,
            "ticks": "",
            "zerolinecolor": "white"
           }
          },
          "shapedefaults": {
           "line": {
            "color": "#2a3f5f"
           }
          },
          "ternary": {
           "aaxis": {
            "gridcolor": "white",
            "linecolor": "white",
            "ticks": ""
           },
           "baxis": {
            "gridcolor": "white",
            "linecolor": "white",
            "ticks": ""
           },
           "bgcolor": "#E5ECF6",
           "caxis": {
            "gridcolor": "white",
            "linecolor": "white",
            "ticks": ""
           }
          },
          "title": {
           "x": 0.05
          },
          "xaxis": {
           "automargin": true,
           "gridcolor": "white",
           "linecolor": "white",
           "ticks": "",
           "title": {
            "standoff": 15
           },
           "zerolinecolor": "white",
           "zerolinewidth": 2
          },
          "yaxis": {
           "automargin": true,
           "gridcolor": "white",
           "linecolor": "white",
           "ticks": "",
           "title": {
            "standoff": 15
           },
           "zerolinecolor": "white",
           "zerolinewidth": 2
          }
         }
        },
        "title": {
         "text": "Count of Duration of Outage"
        },
        "xaxis": {
         "anchor": "y",
         "domain": [
          0,
          1
         ],
         "title": {
          "text": "OUTAGE.DURATION in Minutes"
         }
        },
        "yaxis": {
         "anchor": "x",
         "domain": [
          0,
          1
         ],
         "title": {
          "text": "count"
         }
        }
       }
      }
     },
     "metadata": {},
     "output_type": "display_data"
    }
   ],
   "source": [
    "univariant_plot = px.histogram(data['OUTAGE.DURATION'])\n",
    "univariant_plot.update_layout(xaxis_title = 'OUTAGE.DURATION in Minutes', showlegend = False, title = 'Count of Duration of Outage')"
   ]
  },
  {
   "cell_type": "code",
   "execution_count": 14,
   "metadata": {},
   "outputs": [],
   "source": [
    "univariant_plot.write_html('../uni-plot.html', include_plotlyjs='cdn')"
   ]
  },
  {
   "cell_type": "code",
   "execution_count": 15,
   "metadata": {},
   "outputs": [],
   "source": [
    "bivariant = data.plot(kind = 'bar', x = 'U.S._STATE', y = 'OUTAGE.DURATION')"
   ]
  },
  {
   "cell_type": "code",
   "execution_count": 16,
   "metadata": {},
   "outputs": [],
   "source": [
    "bivariant = data.groupby('U.S._STATE')['OUTAGE.DURATION'].sum().sort_values().reset_index().plot(kind = 'bar', x ='U.S._STATE' , y= 'OUTAGE.DURATION')"
   ]
  },
  {
   "cell_type": "code",
   "execution_count": 17,
   "metadata": {},
   "outputs": [
    {
     "data": {
      "application/vnd.plotly.v1+json": {
       "config": {
        "plotlyServerURL": "https://plot.ly"
       },
       "data": [
        {
         "alignmentgroup": "True",
         "hovertemplate": "U.S._STATE=%{x}<br>OUTAGE.DURATION=%{y}<extra></extra>",
         "legendgroup": "",
         "marker": {
          "color": "#636efa",
          "pattern": {
           "shape": ""
          }
         },
         "name": "",
         "offsetgroup": "",
         "orientation": "v",
         "showlegend": false,
         "textposition": "auto",
         "type": "bar",
         "x": [
          "Alaska",
          "Montana",
          "Wyoming",
          "South Dakota",
          "Vermont",
          "Mississippi",
          "North Dakota",
          "New Mexico",
          "Idaho",
          "Nevada",
          "New Hampshire",
          "Hawaii",
          "Alabama",
          "Delaware",
          "Nebraska",
          "Utah",
          "Colorado",
          "Massachusetts",
          "Oregon",
          "Maine",
          "Georgia",
          "Connecticut",
          "South Carolina",
          "West Virginia",
          "Kansas",
          "Tennessee",
          "Virginia",
          "Arkansas",
          "Iowa",
          "Minnesota",
          "District of Columbia",
          "Missouri",
          "North Carolina",
          "Kentucky",
          "Oklahoma",
          "Illinois",
          "Arizona",
          "Ohio",
          "Maryland",
          "Washington",
          "New Jersey",
          "Indiana",
          "Wisconsin",
          "Louisiana",
          "Florida",
          "Pennsylvania",
          "California",
          "Texas",
          "New York",
          "Michigan"
         ],
         "xaxis": "x",
         "y": [
          0,
          162,
          200,
          240,
          319,
          336,
          720,
          1123,
          3317,
          3873,
          3915,
          4227,
          5764,
          5797,
          9823,
          10259,
          12615,
          16995,
          19167,
          19747,
          22872,
          23019,
          25080,
          27916,
          30634,
          32301,
          37843,
          37859,
          38350,
          40919,
          43036,
          50611,
          56834,
          66221,
          66420,
          70508,
          113823,
          120450,
          134159,
          134225,
          142429,
          147909,
          150178,
          155213,
          184260,
          217267,
          329935,
          329988,
          422447,
          503783
         ],
         "yaxis": "y"
        }
       ],
       "layout": {
        "barmode": "relative",
        "legend": {
         "tracegroupgap": 0
        },
        "margin": {
         "t": 60
        },
        "template": {
         "data": {
          "bar": [
           {
            "error_x": {
             "color": "#2a3f5f"
            },
            "error_y": {
             "color": "#2a3f5f"
            },
            "marker": {
             "line": {
              "color": "#E5ECF6",
              "width": 0.5
             },
             "pattern": {
              "fillmode": "overlay",
              "size": 10,
              "solidity": 0.2
             }
            },
            "type": "bar"
           }
          ],
          "barpolar": [
           {
            "marker": {
             "line": {
              "color": "#E5ECF6",
              "width": 0.5
             },
             "pattern": {
              "fillmode": "overlay",
              "size": 10,
              "solidity": 0.2
             }
            },
            "type": "barpolar"
           }
          ],
          "carpet": [
           {
            "aaxis": {
             "endlinecolor": "#2a3f5f",
             "gridcolor": "white",
             "linecolor": "white",
             "minorgridcolor": "white",
             "startlinecolor": "#2a3f5f"
            },
            "baxis": {
             "endlinecolor": "#2a3f5f",
             "gridcolor": "white",
             "linecolor": "white",
             "minorgridcolor": "white",
             "startlinecolor": "#2a3f5f"
            },
            "type": "carpet"
           }
          ],
          "choropleth": [
           {
            "colorbar": {
             "outlinewidth": 0,
             "ticks": ""
            },
            "type": "choropleth"
           }
          ],
          "contour": [
           {
            "colorbar": {
             "outlinewidth": 0,
             "ticks": ""
            },
            "colorscale": [
             [
              0,
              "#0d0887"
             ],
             [
              0.1111111111111111,
              "#46039f"
             ],
             [
              0.2222222222222222,
              "#7201a8"
             ],
             [
              0.3333333333333333,
              "#9c179e"
             ],
             [
              0.4444444444444444,
              "#bd3786"
             ],
             [
              0.5555555555555556,
              "#d8576b"
             ],
             [
              0.6666666666666666,
              "#ed7953"
             ],
             [
              0.7777777777777778,
              "#fb9f3a"
             ],
             [
              0.8888888888888888,
              "#fdca26"
             ],
             [
              1,
              "#f0f921"
             ]
            ],
            "type": "contour"
           }
          ],
          "contourcarpet": [
           {
            "colorbar": {
             "outlinewidth": 0,
             "ticks": ""
            },
            "type": "contourcarpet"
           }
          ],
          "heatmap": [
           {
            "colorbar": {
             "outlinewidth": 0,
             "ticks": ""
            },
            "colorscale": [
             [
              0,
              "#0d0887"
             ],
             [
              0.1111111111111111,
              "#46039f"
             ],
             [
              0.2222222222222222,
              "#7201a8"
             ],
             [
              0.3333333333333333,
              "#9c179e"
             ],
             [
              0.4444444444444444,
              "#bd3786"
             ],
             [
              0.5555555555555556,
              "#d8576b"
             ],
             [
              0.6666666666666666,
              "#ed7953"
             ],
             [
              0.7777777777777778,
              "#fb9f3a"
             ],
             [
              0.8888888888888888,
              "#fdca26"
             ],
             [
              1,
              "#f0f921"
             ]
            ],
            "type": "heatmap"
           }
          ],
          "heatmapgl": [
           {
            "colorbar": {
             "outlinewidth": 0,
             "ticks": ""
            },
            "colorscale": [
             [
              0,
              "#0d0887"
             ],
             [
              0.1111111111111111,
              "#46039f"
             ],
             [
              0.2222222222222222,
              "#7201a8"
             ],
             [
              0.3333333333333333,
              "#9c179e"
             ],
             [
              0.4444444444444444,
              "#bd3786"
             ],
             [
              0.5555555555555556,
              "#d8576b"
             ],
             [
              0.6666666666666666,
              "#ed7953"
             ],
             [
              0.7777777777777778,
              "#fb9f3a"
             ],
             [
              0.8888888888888888,
              "#fdca26"
             ],
             [
              1,
              "#f0f921"
             ]
            ],
            "type": "heatmapgl"
           }
          ],
          "histogram": [
           {
            "marker": {
             "pattern": {
              "fillmode": "overlay",
              "size": 10,
              "solidity": 0.2
             }
            },
            "type": "histogram"
           }
          ],
          "histogram2d": [
           {
            "colorbar": {
             "outlinewidth": 0,
             "ticks": ""
            },
            "colorscale": [
             [
              0,
              "#0d0887"
             ],
             [
              0.1111111111111111,
              "#46039f"
             ],
             [
              0.2222222222222222,
              "#7201a8"
             ],
             [
              0.3333333333333333,
              "#9c179e"
             ],
             [
              0.4444444444444444,
              "#bd3786"
             ],
             [
              0.5555555555555556,
              "#d8576b"
             ],
             [
              0.6666666666666666,
              "#ed7953"
             ],
             [
              0.7777777777777778,
              "#fb9f3a"
             ],
             [
              0.8888888888888888,
              "#fdca26"
             ],
             [
              1,
              "#f0f921"
             ]
            ],
            "type": "histogram2d"
           }
          ],
          "histogram2dcontour": [
           {
            "colorbar": {
             "outlinewidth": 0,
             "ticks": ""
            },
            "colorscale": [
             [
              0,
              "#0d0887"
             ],
             [
              0.1111111111111111,
              "#46039f"
             ],
             [
              0.2222222222222222,
              "#7201a8"
             ],
             [
              0.3333333333333333,
              "#9c179e"
             ],
             [
              0.4444444444444444,
              "#bd3786"
             ],
             [
              0.5555555555555556,
              "#d8576b"
             ],
             [
              0.6666666666666666,
              "#ed7953"
             ],
             [
              0.7777777777777778,
              "#fb9f3a"
             ],
             [
              0.8888888888888888,
              "#fdca26"
             ],
             [
              1,
              "#f0f921"
             ]
            ],
            "type": "histogram2dcontour"
           }
          ],
          "mesh3d": [
           {
            "colorbar": {
             "outlinewidth": 0,
             "ticks": ""
            },
            "type": "mesh3d"
           }
          ],
          "parcoords": [
           {
            "line": {
             "colorbar": {
              "outlinewidth": 0,
              "ticks": ""
             }
            },
            "type": "parcoords"
           }
          ],
          "pie": [
           {
            "automargin": true,
            "type": "pie"
           }
          ],
          "scatter": [
           {
            "fillpattern": {
             "fillmode": "overlay",
             "size": 10,
             "solidity": 0.2
            },
            "type": "scatter"
           }
          ],
          "scatter3d": [
           {
            "line": {
             "colorbar": {
              "outlinewidth": 0,
              "ticks": ""
             }
            },
            "marker": {
             "colorbar": {
              "outlinewidth": 0,
              "ticks": ""
             }
            },
            "type": "scatter3d"
           }
          ],
          "scattercarpet": [
           {
            "marker": {
             "colorbar": {
              "outlinewidth": 0,
              "ticks": ""
             }
            },
            "type": "scattercarpet"
           }
          ],
          "scattergeo": [
           {
            "marker": {
             "colorbar": {
              "outlinewidth": 0,
              "ticks": ""
             }
            },
            "type": "scattergeo"
           }
          ],
          "scattergl": [
           {
            "marker": {
             "colorbar": {
              "outlinewidth": 0,
              "ticks": ""
             }
            },
            "type": "scattergl"
           }
          ],
          "scattermapbox": [
           {
            "marker": {
             "colorbar": {
              "outlinewidth": 0,
              "ticks": ""
             }
            },
            "type": "scattermapbox"
           }
          ],
          "scatterpolar": [
           {
            "marker": {
             "colorbar": {
              "outlinewidth": 0,
              "ticks": ""
             }
            },
            "type": "scatterpolar"
           }
          ],
          "scatterpolargl": [
           {
            "marker": {
             "colorbar": {
              "outlinewidth": 0,
              "ticks": ""
             }
            },
            "type": "scatterpolargl"
           }
          ],
          "scatterternary": [
           {
            "marker": {
             "colorbar": {
              "outlinewidth": 0,
              "ticks": ""
             }
            },
            "type": "scatterternary"
           }
          ],
          "surface": [
           {
            "colorbar": {
             "outlinewidth": 0,
             "ticks": ""
            },
            "colorscale": [
             [
              0,
              "#0d0887"
             ],
             [
              0.1111111111111111,
              "#46039f"
             ],
             [
              0.2222222222222222,
              "#7201a8"
             ],
             [
              0.3333333333333333,
              "#9c179e"
             ],
             [
              0.4444444444444444,
              "#bd3786"
             ],
             [
              0.5555555555555556,
              "#d8576b"
             ],
             [
              0.6666666666666666,
              "#ed7953"
             ],
             [
              0.7777777777777778,
              "#fb9f3a"
             ],
             [
              0.8888888888888888,
              "#fdca26"
             ],
             [
              1,
              "#f0f921"
             ]
            ],
            "type": "surface"
           }
          ],
          "table": [
           {
            "cells": {
             "fill": {
              "color": "#EBF0F8"
             },
             "line": {
              "color": "white"
             }
            },
            "header": {
             "fill": {
              "color": "#C8D4E3"
             },
             "line": {
              "color": "white"
             }
            },
            "type": "table"
           }
          ]
         },
         "layout": {
          "annotationdefaults": {
           "arrowcolor": "#2a3f5f",
           "arrowhead": 0,
           "arrowwidth": 1
          },
          "autotypenumbers": "strict",
          "coloraxis": {
           "colorbar": {
            "outlinewidth": 0,
            "ticks": ""
           }
          },
          "colorscale": {
           "diverging": [
            [
             0,
             "#8e0152"
            ],
            [
             0.1,
             "#c51b7d"
            ],
            [
             0.2,
             "#de77ae"
            ],
            [
             0.3,
             "#f1b6da"
            ],
            [
             0.4,
             "#fde0ef"
            ],
            [
             0.5,
             "#f7f7f7"
            ],
            [
             0.6,
             "#e6f5d0"
            ],
            [
             0.7,
             "#b8e186"
            ],
            [
             0.8,
             "#7fbc41"
            ],
            [
             0.9,
             "#4d9221"
            ],
            [
             1,
             "#276419"
            ]
           ],
           "sequential": [
            [
             0,
             "#0d0887"
            ],
            [
             0.1111111111111111,
             "#46039f"
            ],
            [
             0.2222222222222222,
             "#7201a8"
            ],
            [
             0.3333333333333333,
             "#9c179e"
            ],
            [
             0.4444444444444444,
             "#bd3786"
            ],
            [
             0.5555555555555556,
             "#d8576b"
            ],
            [
             0.6666666666666666,
             "#ed7953"
            ],
            [
             0.7777777777777778,
             "#fb9f3a"
            ],
            [
             0.8888888888888888,
             "#fdca26"
            ],
            [
             1,
             "#f0f921"
            ]
           ],
           "sequentialminus": [
            [
             0,
             "#0d0887"
            ],
            [
             0.1111111111111111,
             "#46039f"
            ],
            [
             0.2222222222222222,
             "#7201a8"
            ],
            [
             0.3333333333333333,
             "#9c179e"
            ],
            [
             0.4444444444444444,
             "#bd3786"
            ],
            [
             0.5555555555555556,
             "#d8576b"
            ],
            [
             0.6666666666666666,
             "#ed7953"
            ],
            [
             0.7777777777777778,
             "#fb9f3a"
            ],
            [
             0.8888888888888888,
             "#fdca26"
            ],
            [
             1,
             "#f0f921"
            ]
           ]
          },
          "colorway": [
           "#636efa",
           "#EF553B",
           "#00cc96",
           "#ab63fa",
           "#FFA15A",
           "#19d3f3",
           "#FF6692",
           "#B6E880",
           "#FF97FF",
           "#FECB52"
          ],
          "font": {
           "color": "#2a3f5f"
          },
          "geo": {
           "bgcolor": "white",
           "lakecolor": "white",
           "landcolor": "#E5ECF6",
           "showlakes": true,
           "showland": true,
           "subunitcolor": "white"
          },
          "hoverlabel": {
           "align": "left"
          },
          "hovermode": "closest",
          "mapbox": {
           "style": "light"
          },
          "paper_bgcolor": "white",
          "plot_bgcolor": "#E5ECF6",
          "polar": {
           "angularaxis": {
            "gridcolor": "white",
            "linecolor": "white",
            "ticks": ""
           },
           "bgcolor": "#E5ECF6",
           "radialaxis": {
            "gridcolor": "white",
            "linecolor": "white",
            "ticks": ""
           }
          },
          "scene": {
           "xaxis": {
            "backgroundcolor": "#E5ECF6",
            "gridcolor": "white",
            "gridwidth": 2,
            "linecolor": "white",
            "showbackground": true,
            "ticks": "",
            "zerolinecolor": "white"
           },
           "yaxis": {
            "backgroundcolor": "#E5ECF6",
            "gridcolor": "white",
            "gridwidth": 2,
            "linecolor": "white",
            "showbackground": true,
            "ticks": "",
            "zerolinecolor": "white"
           },
           "zaxis": {
            "backgroundcolor": "#E5ECF6",
            "gridcolor": "white",
            "gridwidth": 2,
            "linecolor": "white",
            "showbackground": true,
            "ticks": "",
            "zerolinecolor": "white"
           }
          },
          "shapedefaults": {
           "line": {
            "color": "#2a3f5f"
           }
          },
          "ternary": {
           "aaxis": {
            "gridcolor": "white",
            "linecolor": "white",
            "ticks": ""
           },
           "baxis": {
            "gridcolor": "white",
            "linecolor": "white",
            "ticks": ""
           },
           "bgcolor": "#E5ECF6",
           "caxis": {
            "gridcolor": "white",
            "linecolor": "white",
            "ticks": ""
           }
          },
          "title": {
           "x": 0.05
          },
          "xaxis": {
           "automargin": true,
           "gridcolor": "white",
           "linecolor": "white",
           "ticks": "",
           "title": {
            "standoff": 15
           },
           "zerolinecolor": "white",
           "zerolinewidth": 2
          },
          "yaxis": {
           "automargin": true,
           "gridcolor": "white",
           "linecolor": "white",
           "ticks": "",
           "title": {
            "standoff": 15
           },
           "zerolinecolor": "white",
           "zerolinewidth": 2
          }
         }
        },
        "xaxis": {
         "anchor": "y",
         "domain": [
          0,
          1
         ],
         "dtick": 1,
         "title": {
          "text": "U.S._STATE"
         }
        },
        "yaxis": {
         "anchor": "x",
         "domain": [
          0,
          1
         ],
         "title": {
          "text": "OUTAGE.DURATION"
         }
        }
       }
      }
     },
     "metadata": {},
     "output_type": "display_data"
    }
   ],
   "source": [
    "bivariant.update_xaxes(dtick=1)"
   ]
  },
  {
   "cell_type": "code",
   "execution_count": 18,
   "metadata": {},
   "outputs": [],
   "source": [
    "bivariant.write_html('../bi-plot.html', include_plotlyjs='cdn')"
   ]
  },
  {
   "cell_type": "code",
   "execution_count": 19,
   "metadata": {},
   "outputs": [
    {
     "data": {
      "text/plain": [
       "U.S._STATE\n",
       "Alaska                    1\n",
       "South Dakota              2\n",
       "North Dakota              2\n",
       "Montana                   3\n",
       "Mississippi               4\n",
       "West Virginia             4\n",
       "Nebraska                  4\n",
       "Hawaii                    5\n",
       "Alabama                   6\n",
       "Wyoming                   6\n",
       "Nevada                    7\n",
       "South Carolina            8\n",
       "New Mexico                8\n",
       "Iowa                      8\n",
       "Vermont                   9\n",
       "Idaho                     9\n",
       "Kansas                    9\n",
       "District of Columbia     10\n",
       "Kentucky                 13\n",
       "New Hampshire            14\n",
       "Minnesota                15\n",
       "Colorado                 15\n",
       "Missouri                 17\n",
       "Georgia                  17\n",
       "Massachusetts            18\n",
       "Connecticut              18\n",
       "Maine                    19\n",
       "Wisconsin                20\n",
       "Oklahoma                 24\n",
       "Arkansas                 25\n",
       "Oregon                   26\n",
       "Arizona                  28\n",
       "Tennessee                34\n",
       "New Jersey               35\n",
       "Virginia                 37\n",
       "Louisiana                40\n",
       "North Carolina           40\n",
       "Delaware                 41\n",
       "Utah                     41\n",
       "Ohio                     43\n",
       "Indiana                  43\n",
       "Florida                  45\n",
       "Illinois                 46\n",
       "Pennsylvania             57\n",
       "Maryland                 58\n",
       "New York                 71\n",
       "Michigan                 95\n",
       "Washington               97\n",
       "Texas                   127\n",
       "California              210\n",
       "Name: YEAR, dtype: int64"
      ]
     },
     "execution_count": 19,
     "metadata": {},
     "output_type": "execute_result"
    }
   ],
   "source": [
    "data.groupby('U.S._STATE')['YEAR'].count().sort_values()"
   ]
  },
  {
   "cell_type": "code",
   "execution_count": 20,
   "metadata": {},
   "outputs": [
    {
     "data": {
      "text/html": [
       "<div>\n",
       "<style scoped>\n",
       "    .dataframe tbody tr th:only-of-type {\n",
       "        vertical-align: middle;\n",
       "    }\n",
       "\n",
       "    .dataframe tbody tr th {\n",
       "        vertical-align: top;\n",
       "    }\n",
       "\n",
       "    .dataframe thead th {\n",
       "        text-align: right;\n",
       "    }\n",
       "</style>\n",
       "<table border=\"1\" class=\"dataframe\">\n",
       "  <thead>\n",
       "    <tr style=\"text-align: right;\">\n",
       "      <th></th>\n",
       "      <th>CAUSE.CATEGORY</th>\n",
       "      <th>CAUSE.CATEGORY.DETAIL</th>\n",
       "    </tr>\n",
       "    <tr>\n",
       "      <th>OBS</th>\n",
       "      <th></th>\n",
       "      <th></th>\n",
       "    </tr>\n",
       "  </thead>\n",
       "  <tbody>\n",
       "    <tr>\n",
       "      <th>1</th>\n",
       "      <td>severe weather</td>\n",
       "      <td>NaN</td>\n",
       "    </tr>\n",
       "    <tr>\n",
       "      <th>5</th>\n",
       "      <td>severe weather</td>\n",
       "      <td>NaN</td>\n",
       "    </tr>\n",
       "    <tr>\n",
       "      <th>19</th>\n",
       "      <td>severe weather</td>\n",
       "      <td>NaN</td>\n",
       "    </tr>\n",
       "    <tr>\n",
       "      <th>20</th>\n",
       "      <td>severe weather</td>\n",
       "      <td>NaN</td>\n",
       "    </tr>\n",
       "    <tr>\n",
       "      <th>24</th>\n",
       "      <td>intentional attack</td>\n",
       "      <td>NaN</td>\n",
       "    </tr>\n",
       "    <tr>\n",
       "      <th>...</th>\n",
       "      <td>...</td>\n",
       "      <td>...</td>\n",
       "    </tr>\n",
       "    <tr>\n",
       "      <th>1523</th>\n",
       "      <td>system operability disruption</td>\n",
       "      <td>NaN</td>\n",
       "    </tr>\n",
       "    <tr>\n",
       "      <th>1525</th>\n",
       "      <td>public appeal</td>\n",
       "      <td>NaN</td>\n",
       "    </tr>\n",
       "    <tr>\n",
       "      <th>1530</th>\n",
       "      <td>public appeal</td>\n",
       "      <td>NaN</td>\n",
       "    </tr>\n",
       "    <tr>\n",
       "      <th>1532</th>\n",
       "      <td>islanding</td>\n",
       "      <td>NaN</td>\n",
       "    </tr>\n",
       "    <tr>\n",
       "      <th>1533</th>\n",
       "      <td>islanding</td>\n",
       "      <td>NaN</td>\n",
       "    </tr>\n",
       "  </tbody>\n",
       "</table>\n",
       "<p>471 rows × 2 columns</p>\n",
       "</div>"
      ],
      "text/plain": [
       "                     CAUSE.CATEGORY CAUSE.CATEGORY.DETAIL\n",
       "OBS                                                      \n",
       "1                    severe weather                   NaN\n",
       "5                    severe weather                   NaN\n",
       "19                   severe weather                   NaN\n",
       "20                   severe weather                   NaN\n",
       "24               intentional attack                   NaN\n",
       "...                             ...                   ...\n",
       "1523  system operability disruption                   NaN\n",
       "1525                  public appeal                   NaN\n",
       "1530                  public appeal                   NaN\n",
       "1532                      islanding                   NaN\n",
       "1533                      islanding                   NaN\n",
       "\n",
       "[471 rows x 2 columns]"
      ]
     },
     "execution_count": 20,
     "metadata": {},
     "output_type": "execute_result"
    }
   ],
   "source": [
    "data[['CAUSE.CATEGORY', 'CAUSE.CATEGORY.DETAIL']][data['CAUSE.CATEGORY.DETAIL'].isna()]"
   ]
  },
  {
   "cell_type": "markdown",
   "metadata": {},
   "source": [
    "### Question\n",
    "1. Out of Nerc Regions/ **States** , what are the most likely to have the worst outages, what are the causes.\n",
    "2. UniVariant: \n",
    "3. BiVariant: "
   ]
  },
  {
   "cell_type": "code",
   "execution_count": 21,
   "metadata": {},
   "outputs": [],
   "source": [
    "# data[data[''].isnull()]"
   ]
  },
  {
   "cell_type": "markdown",
   "metadata": {},
   "source": [
    "### Deadlines\n",
    "1. Sat: Question, Cleaning & EDA, Plan for Univariant and Bivariant\n",
    "2. Sun: Assignment of Missigness: Have Univariant and Bivariant done\n",
    "3. Mon: Hypothesis Testing\n",
    "4. Tue: Start the report "
   ]
  },
  {
   "cell_type": "code",
   "execution_count": 22,
   "metadata": {},
   "outputs": [
    {
     "data": {
      "text/plain": [
       "Series([], Name: CAUSE.CATEGORY, dtype: object)"
      ]
     },
     "execution_count": 22,
     "metadata": {},
     "output_type": "execute_result"
    }
   ],
   "source": [
    "data['CAUSE.CATEGORY'][data['CAUSE.CATEGORY'].isna()]"
   ]
  },
  {
   "cell_type": "markdown",
   "metadata": {},
   "source": [
    "### Cleaning and EDA"
   ]
  },
  {
   "cell_type": "code",
   "execution_count": null,
   "metadata": {
    "ExecuteTime": {
     "end_time": "2019-10-31T23:36:28.657068Z",
     "start_time": "2019-10-31T23:36:28.654650Z"
    }
   },
   "outputs": [],
   "source": []
  },
  {
   "cell_type": "markdown",
   "metadata": {},
   "source": [
    "### Assessment of Missingness"
   ]
  },
  {
   "cell_type": "markdown",
   "metadata": {},
   "source": [
    "## NMAR"
   ]
  },
  {
   "cell_type": "markdown",
   "metadata": {},
   "source": [
    "**CAUSE CATEGORY**:\n",
    "All the NAN values in cause category could nan because they could pinpoint the reason for the outage, therefore we can say that the missingness in the Cause Category must be dependent on itself. "
   ]
  },
  {
   "cell_type": "markdown",
   "metadata": {},
   "source": [
    "States and CUstomers.affected"
   ]
  },
  {
   "cell_type": "markdown",
   "metadata": {},
   "source": [
    "## MAR"
   ]
  },
  {
   "cell_type": "markdown",
   "metadata": {},
   "source": [
    "### US STATE WITH CUSTOMERS\n",
    "**NULL HYPOTHESIS**: There is no significant difference between "
   ]
  },
  {
   "cell_type": "code",
   "execution_count": 28,
   "metadata": {},
   "outputs": [
    {
     "data": {
      "application/vnd.plotly.v1+json": {
       "config": {
        "plotlyServerURL": "https://plot.ly"
       },
       "data": [
        {
         "alignmentgroup": "True",
         "hovertemplate": "variable=ISNA<br>U.S._STATE=%{x}<br>value=%{y}<extra></extra>",
         "legendgroup": "ISNA",
         "marker": {
          "color": "#636efa",
          "pattern": {
           "shape": ""
          }
         },
         "name": "ISNA",
         "offsetgroup": "ISNA",
         "orientation": "v",
         "showlegend": true,
         "textposition": "auto",
         "type": "bar",
         "x": [
          "Alabama",
          "Arizona",
          "Arkansas",
          "California",
          "Colorado",
          "Connecticut",
          "Delaware",
          "District of Columbia",
          "Florida",
          "Georgia",
          "Idaho",
          "Illinois",
          "Indiana",
          "Iowa",
          "Kansas",
          "Kentucky",
          "Louisiana",
          "Maine",
          "Maryland",
          "Massachusetts",
          "Michigan",
          "Minnesota",
          "Mississippi",
          "Missouri",
          "Nebraska",
          "Nevada",
          "New Hampshire",
          "New Jersey",
          "New Mexico",
          "New York",
          "North Carolina",
          "North Dakota",
          "Ohio",
          "Oklahoma",
          "Oregon",
          "Pennsylvania",
          "Tennessee",
          "Texas",
          "Utah",
          "Vermont",
          "Virginia",
          "Washington",
          "West Virginia",
          "Wisconsin",
          "Wyoming"
         ],
         "xaxis": "x",
         "y": [
          1,
          19,
          12,
          83,
          4,
          5,
          17,
          1,
          1,
          1,
          3,
          2,
          9,
          4,
          2,
          3,
          20,
          2,
          13,
          3,
          5,
          1,
          2,
          4,
          1,
          2,
          3,
          4,
          5,
          26,
          4,
          1,
          7,
          5,
          14,
          6,
          17,
          33,
          19,
          4,
          3,
          53,
          1,
          10,
          3
         ],
         "yaxis": "y"
        },
        {
         "alignmentgroup": "True",
         "hovertemplate": "variable=NotNA<br>U.S._STATE=%{x}<br>value=%{y}<extra></extra>",
         "legendgroup": "NotNA",
         "marker": {
          "color": "#EF553B",
          "pattern": {
           "shape": ""
          }
         },
         "name": "NotNA",
         "offsetgroup": "NotNA",
         "orientation": "v",
         "showlegend": true,
         "textposition": "auto",
         "type": "bar",
         "x": [
          "Alabama",
          "Arizona",
          "Arkansas",
          "California",
          "Colorado",
          "Connecticut",
          "Delaware",
          "District of Columbia",
          "Florida",
          "Georgia",
          "Idaho",
          "Illinois",
          "Indiana",
          "Iowa",
          "Kansas",
          "Kentucky",
          "Louisiana",
          "Maine",
          "Maryland",
          "Massachusetts",
          "Michigan",
          "Minnesota",
          "Mississippi",
          "Missouri",
          "Nebraska",
          "Nevada",
          "New Hampshire",
          "New Jersey",
          "New Mexico",
          "New York",
          "North Carolina",
          "North Dakota",
          "Ohio",
          "Oklahoma",
          "Oregon",
          "Pennsylvania",
          "Tennessee",
          "Texas",
          "Utah",
          "Vermont",
          "Virginia",
          "Washington",
          "West Virginia",
          "Wisconsin",
          "Wyoming"
         ],
         "xaxis": "x",
         "y": [
          5,
          9,
          13,
          127,
          11,
          13,
          24,
          9,
          44,
          16,
          6,
          44,
          34,
          4,
          7,
          10,
          20,
          17,
          45,
          15,
          90,
          14,
          2,
          13,
          3,
          5,
          11,
          31,
          3,
          45,
          36,
          1,
          36,
          19,
          12,
          51,
          17,
          94,
          22,
          5,
          34,
          44,
          3,
          10,
          3
         ],
         "yaxis": "y"
        }
       ],
       "layout": {
        "barmode": "group",
        "legend": {
         "title": {
          "text": "variable"
         },
         "tracegroupgap": 0
        },
        "template": {
         "data": {
          "bar": [
           {
            "error_x": {
             "color": "#2a3f5f"
            },
            "error_y": {
             "color": "#2a3f5f"
            },
            "marker": {
             "line": {
              "color": "#E5ECF6",
              "width": 0.5
             },
             "pattern": {
              "fillmode": "overlay",
              "size": 10,
              "solidity": 0.2
             }
            },
            "type": "bar"
           }
          ],
          "barpolar": [
           {
            "marker": {
             "line": {
              "color": "#E5ECF6",
              "width": 0.5
             },
             "pattern": {
              "fillmode": "overlay",
              "size": 10,
              "solidity": 0.2
             }
            },
            "type": "barpolar"
           }
          ],
          "carpet": [
           {
            "aaxis": {
             "endlinecolor": "#2a3f5f",
             "gridcolor": "white",
             "linecolor": "white",
             "minorgridcolor": "white",
             "startlinecolor": "#2a3f5f"
            },
            "baxis": {
             "endlinecolor": "#2a3f5f",
             "gridcolor": "white",
             "linecolor": "white",
             "minorgridcolor": "white",
             "startlinecolor": "#2a3f5f"
            },
            "type": "carpet"
           }
          ],
          "choropleth": [
           {
            "colorbar": {
             "outlinewidth": 0,
             "ticks": ""
            },
            "type": "choropleth"
           }
          ],
          "contour": [
           {
            "colorbar": {
             "outlinewidth": 0,
             "ticks": ""
            },
            "colorscale": [
             [
              0,
              "#0d0887"
             ],
             [
              0.1111111111111111,
              "#46039f"
             ],
             [
              0.2222222222222222,
              "#7201a8"
             ],
             [
              0.3333333333333333,
              "#9c179e"
             ],
             [
              0.4444444444444444,
              "#bd3786"
             ],
             [
              0.5555555555555556,
              "#d8576b"
             ],
             [
              0.6666666666666666,
              "#ed7953"
             ],
             [
              0.7777777777777778,
              "#fb9f3a"
             ],
             [
              0.8888888888888888,
              "#fdca26"
             ],
             [
              1,
              "#f0f921"
             ]
            ],
            "type": "contour"
           }
          ],
          "contourcarpet": [
           {
            "colorbar": {
             "outlinewidth": 0,
             "ticks": ""
            },
            "type": "contourcarpet"
           }
          ],
          "heatmap": [
           {
            "colorbar": {
             "outlinewidth": 0,
             "ticks": ""
            },
            "colorscale": [
             [
              0,
              "#0d0887"
             ],
             [
              0.1111111111111111,
              "#46039f"
             ],
             [
              0.2222222222222222,
              "#7201a8"
             ],
             [
              0.3333333333333333,
              "#9c179e"
             ],
             [
              0.4444444444444444,
              "#bd3786"
             ],
             [
              0.5555555555555556,
              "#d8576b"
             ],
             [
              0.6666666666666666,
              "#ed7953"
             ],
             [
              0.7777777777777778,
              "#fb9f3a"
             ],
             [
              0.8888888888888888,
              "#fdca26"
             ],
             [
              1,
              "#f0f921"
             ]
            ],
            "type": "heatmap"
           }
          ],
          "heatmapgl": [
           {
            "colorbar": {
             "outlinewidth": 0,
             "ticks": ""
            },
            "colorscale": [
             [
              0,
              "#0d0887"
             ],
             [
              0.1111111111111111,
              "#46039f"
             ],
             [
              0.2222222222222222,
              "#7201a8"
             ],
             [
              0.3333333333333333,
              "#9c179e"
             ],
             [
              0.4444444444444444,
              "#bd3786"
             ],
             [
              0.5555555555555556,
              "#d8576b"
             ],
             [
              0.6666666666666666,
              "#ed7953"
             ],
             [
              0.7777777777777778,
              "#fb9f3a"
             ],
             [
              0.8888888888888888,
              "#fdca26"
             ],
             [
              1,
              "#f0f921"
             ]
            ],
            "type": "heatmapgl"
           }
          ],
          "histogram": [
           {
            "marker": {
             "pattern": {
              "fillmode": "overlay",
              "size": 10,
              "solidity": 0.2
             }
            },
            "type": "histogram"
           }
          ],
          "histogram2d": [
           {
            "colorbar": {
             "outlinewidth": 0,
             "ticks": ""
            },
            "colorscale": [
             [
              0,
              "#0d0887"
             ],
             [
              0.1111111111111111,
              "#46039f"
             ],
             [
              0.2222222222222222,
              "#7201a8"
             ],
             [
              0.3333333333333333,
              "#9c179e"
             ],
             [
              0.4444444444444444,
              "#bd3786"
             ],
             [
              0.5555555555555556,
              "#d8576b"
             ],
             [
              0.6666666666666666,
              "#ed7953"
             ],
             [
              0.7777777777777778,
              "#fb9f3a"
             ],
             [
              0.8888888888888888,
              "#fdca26"
             ],
             [
              1,
              "#f0f921"
             ]
            ],
            "type": "histogram2d"
           }
          ],
          "histogram2dcontour": [
           {
            "colorbar": {
             "outlinewidth": 0,
             "ticks": ""
            },
            "colorscale": [
             [
              0,
              "#0d0887"
             ],
             [
              0.1111111111111111,
              "#46039f"
             ],
             [
              0.2222222222222222,
              "#7201a8"
             ],
             [
              0.3333333333333333,
              "#9c179e"
             ],
             [
              0.4444444444444444,
              "#bd3786"
             ],
             [
              0.5555555555555556,
              "#d8576b"
             ],
             [
              0.6666666666666666,
              "#ed7953"
             ],
             [
              0.7777777777777778,
              "#fb9f3a"
             ],
             [
              0.8888888888888888,
              "#fdca26"
             ],
             [
              1,
              "#f0f921"
             ]
            ],
            "type": "histogram2dcontour"
           }
          ],
          "mesh3d": [
           {
            "colorbar": {
             "outlinewidth": 0,
             "ticks": ""
            },
            "type": "mesh3d"
           }
          ],
          "parcoords": [
           {
            "line": {
             "colorbar": {
              "outlinewidth": 0,
              "ticks": ""
             }
            },
            "type": "parcoords"
           }
          ],
          "pie": [
           {
            "automargin": true,
            "type": "pie"
           }
          ],
          "scatter": [
           {
            "fillpattern": {
             "fillmode": "overlay",
             "size": 10,
             "solidity": 0.2
            },
            "type": "scatter"
           }
          ],
          "scatter3d": [
           {
            "line": {
             "colorbar": {
              "outlinewidth": 0,
              "ticks": ""
             }
            },
            "marker": {
             "colorbar": {
              "outlinewidth": 0,
              "ticks": ""
             }
            },
            "type": "scatter3d"
           }
          ],
          "scattercarpet": [
           {
            "marker": {
             "colorbar": {
              "outlinewidth": 0,
              "ticks": ""
             }
            },
            "type": "scattercarpet"
           }
          ],
          "scattergeo": [
           {
            "marker": {
             "colorbar": {
              "outlinewidth": 0,
              "ticks": ""
             }
            },
            "type": "scattergeo"
           }
          ],
          "scattergl": [
           {
            "marker": {
             "colorbar": {
              "outlinewidth": 0,
              "ticks": ""
             }
            },
            "type": "scattergl"
           }
          ],
          "scattermapbox": [
           {
            "marker": {
             "colorbar": {
              "outlinewidth": 0,
              "ticks": ""
             }
            },
            "type": "scattermapbox"
           }
          ],
          "scatterpolar": [
           {
            "marker": {
             "colorbar": {
              "outlinewidth": 0,
              "ticks": ""
             }
            },
            "type": "scatterpolar"
           }
          ],
          "scatterpolargl": [
           {
            "marker": {
             "colorbar": {
              "outlinewidth": 0,
              "ticks": ""
             }
            },
            "type": "scatterpolargl"
           }
          ],
          "scatterternary": [
           {
            "marker": {
             "colorbar": {
              "outlinewidth": 0,
              "ticks": ""
             }
            },
            "type": "scatterternary"
           }
          ],
          "surface": [
           {
            "colorbar": {
             "outlinewidth": 0,
             "ticks": ""
            },
            "colorscale": [
             [
              0,
              "#0d0887"
             ],
             [
              0.1111111111111111,
              "#46039f"
             ],
             [
              0.2222222222222222,
              "#7201a8"
             ],
             [
              0.3333333333333333,
              "#9c179e"
             ],
             [
              0.4444444444444444,
              "#bd3786"
             ],
             [
              0.5555555555555556,
              "#d8576b"
             ],
             [
              0.6666666666666666,
              "#ed7953"
             ],
             [
              0.7777777777777778,
              "#fb9f3a"
             ],
             [
              0.8888888888888888,
              "#fdca26"
             ],
             [
              1,
              "#f0f921"
             ]
            ],
            "type": "surface"
           }
          ],
          "table": [
           {
            "cells": {
             "fill": {
              "color": "#EBF0F8"
             },
             "line": {
              "color": "white"
             }
            },
            "header": {
             "fill": {
              "color": "#C8D4E3"
             },
             "line": {
              "color": "white"
             }
            },
            "type": "table"
           }
          ]
         },
         "layout": {
          "annotationdefaults": {
           "arrowcolor": "#2a3f5f",
           "arrowhead": 0,
           "arrowwidth": 1
          },
          "autotypenumbers": "strict",
          "coloraxis": {
           "colorbar": {
            "outlinewidth": 0,
            "ticks": ""
           }
          },
          "colorscale": {
           "diverging": [
            [
             0,
             "#8e0152"
            ],
            [
             0.1,
             "#c51b7d"
            ],
            [
             0.2,
             "#de77ae"
            ],
            [
             0.3,
             "#f1b6da"
            ],
            [
             0.4,
             "#fde0ef"
            ],
            [
             0.5,
             "#f7f7f7"
            ],
            [
             0.6,
             "#e6f5d0"
            ],
            [
             0.7,
             "#b8e186"
            ],
            [
             0.8,
             "#7fbc41"
            ],
            [
             0.9,
             "#4d9221"
            ],
            [
             1,
             "#276419"
            ]
           ],
           "sequential": [
            [
             0,
             "#0d0887"
            ],
            [
             0.1111111111111111,
             "#46039f"
            ],
            [
             0.2222222222222222,
             "#7201a8"
            ],
            [
             0.3333333333333333,
             "#9c179e"
            ],
            [
             0.4444444444444444,
             "#bd3786"
            ],
            [
             0.5555555555555556,
             "#d8576b"
            ],
            [
             0.6666666666666666,
             "#ed7953"
            ],
            [
             0.7777777777777778,
             "#fb9f3a"
            ],
            [
             0.8888888888888888,
             "#fdca26"
            ],
            [
             1,
             "#f0f921"
            ]
           ],
           "sequentialminus": [
            [
             0,
             "#0d0887"
            ],
            [
             0.1111111111111111,
             "#46039f"
            ],
            [
             0.2222222222222222,
             "#7201a8"
            ],
            [
             0.3333333333333333,
             "#9c179e"
            ],
            [
             0.4444444444444444,
             "#bd3786"
            ],
            [
             0.5555555555555556,
             "#d8576b"
            ],
            [
             0.6666666666666666,
             "#ed7953"
            ],
            [
             0.7777777777777778,
             "#fb9f3a"
            ],
            [
             0.8888888888888888,
             "#fdca26"
            ],
            [
             1,
             "#f0f921"
            ]
           ]
          },
          "colorway": [
           "#636efa",
           "#EF553B",
           "#00cc96",
           "#ab63fa",
           "#FFA15A",
           "#19d3f3",
           "#FF6692",
           "#B6E880",
           "#FF97FF",
           "#FECB52"
          ],
          "font": {
           "color": "#2a3f5f"
          },
          "geo": {
           "bgcolor": "white",
           "lakecolor": "white",
           "landcolor": "#E5ECF6",
           "showlakes": true,
           "showland": true,
           "subunitcolor": "white"
          },
          "hoverlabel": {
           "align": "left"
          },
          "hovermode": "closest",
          "mapbox": {
           "style": "light"
          },
          "paper_bgcolor": "white",
          "plot_bgcolor": "#E5ECF6",
          "polar": {
           "angularaxis": {
            "gridcolor": "white",
            "linecolor": "white",
            "ticks": ""
           },
           "bgcolor": "#E5ECF6",
           "radialaxis": {
            "gridcolor": "white",
            "linecolor": "white",
            "ticks": ""
           }
          },
          "scene": {
           "xaxis": {
            "backgroundcolor": "#E5ECF6",
            "gridcolor": "white",
            "gridwidth": 2,
            "linecolor": "white",
            "showbackground": true,
            "ticks": "",
            "zerolinecolor": "white"
           },
           "yaxis": {
            "backgroundcolor": "#E5ECF6",
            "gridcolor": "white",
            "gridwidth": 2,
            "linecolor": "white",
            "showbackground": true,
            "ticks": "",
            "zerolinecolor": "white"
           },
           "zaxis": {
            "backgroundcolor": "#E5ECF6",
            "gridcolor": "white",
            "gridwidth": 2,
            "linecolor": "white",
            "showbackground": true,
            "ticks": "",
            "zerolinecolor": "white"
           }
          },
          "shapedefaults": {
           "line": {
            "color": "#2a3f5f"
           }
          },
          "ternary": {
           "aaxis": {
            "gridcolor": "white",
            "linecolor": "white",
            "ticks": ""
           },
           "baxis": {
            "gridcolor": "white",
            "linecolor": "white",
            "ticks": ""
           },
           "bgcolor": "#E5ECF6",
           "caxis": {
            "gridcolor": "white",
            "linecolor": "white",
            "ticks": ""
           }
          },
          "title": {
           "x": 0.05
          },
          "xaxis": {
           "automargin": true,
           "gridcolor": "white",
           "linecolor": "white",
           "ticks": "",
           "title": {
            "standoff": 15
           },
           "zerolinecolor": "white",
           "zerolinewidth": 2
          },
          "yaxis": {
           "automargin": true,
           "gridcolor": "white",
           "linecolor": "white",
           "ticks": "",
           "title": {
            "standoff": 15
           },
           "zerolinecolor": "white",
           "zerolinewidth": 2
          }
         }
        },
        "title": {
         "text": "Distribution of NAN and Non_NAN values for each state"
        },
        "xaxis": {
         "anchor": "y",
         "domain": [
          0,
          1
         ],
         "tickangle": -45,
         "title": {
          "text": "U.S._STATE"
         }
        },
        "yaxis": {
         "anchor": "x",
         "domain": [
          0,
          1
         ],
         "title": {
          "text": "value"
         }
        }
       }
      }
     },
     "metadata": {},
     "output_type": "display_data"
    }
   ],
   "source": [
    "distr_nan = data[['U.S._STATE', 'CUSTOMERS.AFFECTED']].assign(NotNA = data[['U.S._STATE', 'CUSTOMERS.AFFECTED']]['CUSTOMERS.AFFECTED'].isna()== False)\n",
    "dist_notNA = distr_nan[distr_nan['NotNA']][['U.S._STATE','NotNA']]\n",
    "dist_notNA = dist_notNA.groupby('U.S._STATE').count()\n",
    "dist_NA = distr_nan[distr_nan['NotNA'] == False][['U.S._STATE','NotNA']].rename(columns = {'NotNA' : 'ISNA'})\n",
    "dist_NA = dist_NA.groupby('U.S._STATE').count()\n",
    "plot_df = dist_NA.merge(dist_notNA, left_index=True, right_index=True)\n",
    "plot_dist_na =  px.bar(plot_df.reset_index(), x='U.S._STATE', y=['ISNA', 'NotNA'], title='Distribution of NAN and Non_NAN values for each state')\n",
    "plot_dist_na.update_layout(barmode='group', xaxis_tickangle=-45)\n",
    "plot_dist_na"
   ]
  },
  {
   "cell_type": "code",
   "execution_count": 23,
   "metadata": {},
   "outputs": [],
   "source": [
    "def find_tvd(df, depends_on, col_analyze):\n",
    "    df = df.copy()\n",
    "    df_needed = df.loc[:,[depends_on, col_analyze]]\n",
    "    df_needed['ISNA'] = df_needed.loc[:,col_analyze].isna()\n",
    "    df_needed[col_analyze] = df_needed.loc[:,col_analyze].fillna(0)\n",
    "    find_prop = df_needed.pivot_table(index = depends_on, columns = 'ISNA', aggfunc = 'count', fill_value=0).loc[:,col_analyze]\n",
    "    total_not_missing = find_prop[False].sum()\n",
    "    total_missing = find_prop[True].sum()\n",
    "    find_prop[False] = find_prop[False] / total_not_missing\n",
    "    find_prop[True] = find_prop[True] / total_missing\n",
    "    return find_prop.diff(axis=1)[True].abs().sum()"
   ]
  },
  {
   "cell_type": "code",
   "execution_count": 24,
   "metadata": {},
   "outputs": [],
   "source": [
    "def mar_permutation(df, depends_on, col_analyze, N = 1000):\n",
    "    observed = find_tvd(df, depends_on, col_analyze)\n",
    "    arr = []\n",
    "    for _ in range(N):\n",
    "        shuffled = df.assign(**{col_analyze: np.random.permutation(df[col_analyze])}) \n",
    "        arr.append(find_tvd(shuffled, depends_on, col_analyze))\n",
    "    plot = px.histogram(np.array(arr))\n",
    "    plot.add_vline(x=observed, line_color= \"green\", annotation_text=\"obs\")\n",
    "    plot.update_layout(xaxis_title = \"TVD of Missing and Non-Missing Values\", yaxis_title = \"Frequency\", title_text = \"Simulated Null Values\",showlegend=False)\n",
    "\n",
    "\n",
    "    return plot, np.array([np.array(arr) > observed]).mean()\n"
   ]
  },
  {
   "cell_type": "code",
   "execution_count": 25,
   "metadata": {},
   "outputs": [
    {
     "data": {
      "text/html": [
       "<div>\n",
       "<style scoped>\n",
       "    .dataframe tbody tr th:only-of-type {\n",
       "        vertical-align: middle;\n",
       "    }\n",
       "\n",
       "    .dataframe tbody tr th {\n",
       "        vertical-align: top;\n",
       "    }\n",
       "\n",
       "    .dataframe thead th {\n",
       "        text-align: right;\n",
       "    }\n",
       "</style>\n",
       "<table border=\"1\" class=\"dataframe\">\n",
       "  <thead>\n",
       "    <tr style=\"text-align: right;\">\n",
       "      <th></th>\n",
       "      <th>YEAR</th>\n",
       "      <th>MONTH</th>\n",
       "      <th>U.S._STATE</th>\n",
       "      <th>POSTAL.CODE</th>\n",
       "      <th>NERC.REGION</th>\n",
       "      <th>CLIMATE.REGION</th>\n",
       "      <th>ANOMALY.LEVEL</th>\n",
       "      <th>CLIMATE.CATEGORY</th>\n",
       "      <th>OUTAGE.START.DATE</th>\n",
       "      <th>OUTAGE.START.TIME</th>\n",
       "      <th>...</th>\n",
       "      <th>POPDEN_URBAN</th>\n",
       "      <th>POPDEN_UC</th>\n",
       "      <th>POPDEN_RURAL</th>\n",
       "      <th>AREAPCT_URBAN</th>\n",
       "      <th>AREAPCT_UC</th>\n",
       "      <th>PCT_LAND</th>\n",
       "      <th>PCT_WATER_TOT</th>\n",
       "      <th>PCT_WATER_INLAND</th>\n",
       "      <th>OUTAGE.START.DATETIME</th>\n",
       "      <th>OUTAGE.RESTORATION.DATETIME</th>\n",
       "    </tr>\n",
       "    <tr>\n",
       "      <th>OBS</th>\n",
       "      <th></th>\n",
       "      <th></th>\n",
       "      <th></th>\n",
       "      <th></th>\n",
       "      <th></th>\n",
       "      <th></th>\n",
       "      <th></th>\n",
       "      <th></th>\n",
       "      <th></th>\n",
       "      <th></th>\n",
       "      <th></th>\n",
       "      <th></th>\n",
       "      <th></th>\n",
       "      <th></th>\n",
       "      <th></th>\n",
       "      <th></th>\n",
       "      <th></th>\n",
       "      <th></th>\n",
       "      <th></th>\n",
       "      <th></th>\n",
       "      <th></th>\n",
       "    </tr>\n",
       "  </thead>\n",
       "  <tbody>\n",
       "    <tr>\n",
       "      <th>1</th>\n",
       "      <td>2011</td>\n",
       "      <td>7.0</td>\n",
       "      <td>Minnesota</td>\n",
       "      <td>MN</td>\n",
       "      <td>MRO</td>\n",
       "      <td>East North Central</td>\n",
       "      <td>-0.3</td>\n",
       "      <td>normal</td>\n",
       "      <td>2011-07-01</td>\n",
       "      <td>17:00:00</td>\n",
       "      <td>...</td>\n",
       "      <td>2279.0</td>\n",
       "      <td>1700.5</td>\n",
       "      <td>18.2</td>\n",
       "      <td>2.14</td>\n",
       "      <td>0.60</td>\n",
       "      <td>91.592666</td>\n",
       "      <td>8.407334</td>\n",
       "      <td>5.478743</td>\n",
       "      <td>2011-07-01 17:00:00</td>\n",
       "      <td>2011-07-03 20:00:00</td>\n",
       "    </tr>\n",
       "    <tr>\n",
       "      <th>2</th>\n",
       "      <td>2014</td>\n",
       "      <td>5.0</td>\n",
       "      <td>Minnesota</td>\n",
       "      <td>MN</td>\n",
       "      <td>MRO</td>\n",
       "      <td>East North Central</td>\n",
       "      <td>-0.1</td>\n",
       "      <td>normal</td>\n",
       "      <td>2014-05-11</td>\n",
       "      <td>18:38:00</td>\n",
       "      <td>...</td>\n",
       "      <td>2279.0</td>\n",
       "      <td>1700.5</td>\n",
       "      <td>18.2</td>\n",
       "      <td>2.14</td>\n",
       "      <td>0.60</td>\n",
       "      <td>91.592666</td>\n",
       "      <td>8.407334</td>\n",
       "      <td>5.478743</td>\n",
       "      <td>2014-05-11 18:38:00</td>\n",
       "      <td>2014-05-11 18:39:00</td>\n",
       "    </tr>\n",
       "    <tr>\n",
       "      <th>3</th>\n",
       "      <td>2010</td>\n",
       "      <td>10.0</td>\n",
       "      <td>Minnesota</td>\n",
       "      <td>MN</td>\n",
       "      <td>MRO</td>\n",
       "      <td>East North Central</td>\n",
       "      <td>-1.5</td>\n",
       "      <td>cold</td>\n",
       "      <td>2010-10-26</td>\n",
       "      <td>20:00:00</td>\n",
       "      <td>...</td>\n",
       "      <td>2279.0</td>\n",
       "      <td>1700.5</td>\n",
       "      <td>18.2</td>\n",
       "      <td>2.14</td>\n",
       "      <td>0.60</td>\n",
       "      <td>91.592666</td>\n",
       "      <td>8.407334</td>\n",
       "      <td>5.478743</td>\n",
       "      <td>2010-10-26 20:00:00</td>\n",
       "      <td>2010-10-28 22:00:00</td>\n",
       "    </tr>\n",
       "    <tr>\n",
       "      <th>4</th>\n",
       "      <td>2012</td>\n",
       "      <td>6.0</td>\n",
       "      <td>Minnesota</td>\n",
       "      <td>MN</td>\n",
       "      <td>MRO</td>\n",
       "      <td>East North Central</td>\n",
       "      <td>-0.1</td>\n",
       "      <td>normal</td>\n",
       "      <td>2012-06-19</td>\n",
       "      <td>04:30:00</td>\n",
       "      <td>...</td>\n",
       "      <td>2279.0</td>\n",
       "      <td>1700.5</td>\n",
       "      <td>18.2</td>\n",
       "      <td>2.14</td>\n",
       "      <td>0.60</td>\n",
       "      <td>91.592666</td>\n",
       "      <td>8.407334</td>\n",
       "      <td>5.478743</td>\n",
       "      <td>2012-06-19 04:30:00</td>\n",
       "      <td>2012-06-20 23:00:00</td>\n",
       "    </tr>\n",
       "    <tr>\n",
       "      <th>5</th>\n",
       "      <td>2015</td>\n",
       "      <td>7.0</td>\n",
       "      <td>Minnesota</td>\n",
       "      <td>MN</td>\n",
       "      <td>MRO</td>\n",
       "      <td>East North Central</td>\n",
       "      <td>1.2</td>\n",
       "      <td>warm</td>\n",
       "      <td>2015-07-18</td>\n",
       "      <td>02:00:00</td>\n",
       "      <td>...</td>\n",
       "      <td>2279.0</td>\n",
       "      <td>1700.5</td>\n",
       "      <td>18.2</td>\n",
       "      <td>2.14</td>\n",
       "      <td>0.60</td>\n",
       "      <td>91.592666</td>\n",
       "      <td>8.407334</td>\n",
       "      <td>5.478743</td>\n",
       "      <td>2015-07-18 02:00:00</td>\n",
       "      <td>2015-07-19 07:00:00</td>\n",
       "    </tr>\n",
       "    <tr>\n",
       "      <th>...</th>\n",
       "      <td>...</td>\n",
       "      <td>...</td>\n",
       "      <td>...</td>\n",
       "      <td>...</td>\n",
       "      <td>...</td>\n",
       "      <td>...</td>\n",
       "      <td>...</td>\n",
       "      <td>...</td>\n",
       "      <td>...</td>\n",
       "      <td>...</td>\n",
       "      <td>...</td>\n",
       "      <td>...</td>\n",
       "      <td>...</td>\n",
       "      <td>...</td>\n",
       "      <td>...</td>\n",
       "      <td>...</td>\n",
       "      <td>...</td>\n",
       "      <td>...</td>\n",
       "      <td>...</td>\n",
       "      <td>...</td>\n",
       "      <td>...</td>\n",
       "    </tr>\n",
       "    <tr>\n",
       "      <th>1530</th>\n",
       "      <td>2011</td>\n",
       "      <td>12.0</td>\n",
       "      <td>North Dakota</td>\n",
       "      <td>ND</td>\n",
       "      <td>MRO</td>\n",
       "      <td>West North Central</td>\n",
       "      <td>-0.9</td>\n",
       "      <td>cold</td>\n",
       "      <td>2011-12-06</td>\n",
       "      <td>08:00:00</td>\n",
       "      <td>...</td>\n",
       "      <td>2192.2</td>\n",
       "      <td>1868.2</td>\n",
       "      <td>3.9</td>\n",
       "      <td>0.27</td>\n",
       "      <td>0.10</td>\n",
       "      <td>97.599649</td>\n",
       "      <td>2.401765</td>\n",
       "      <td>2.401765</td>\n",
       "      <td>2011-12-06 08:00:00</td>\n",
       "      <td>2011-12-06 20:00:00</td>\n",
       "    </tr>\n",
       "    <tr>\n",
       "      <th>1531</th>\n",
       "      <td>2006</td>\n",
       "      <td>NaN</td>\n",
       "      <td>North Dakota</td>\n",
       "      <td>ND</td>\n",
       "      <td>MRO</td>\n",
       "      <td>West North Central</td>\n",
       "      <td>NaN</td>\n",
       "      <td>NaN</td>\n",
       "      <td>NaT</td>\n",
       "      <td>NaN</td>\n",
       "      <td>...</td>\n",
       "      <td>2192.2</td>\n",
       "      <td>1868.2</td>\n",
       "      <td>3.9</td>\n",
       "      <td>0.27</td>\n",
       "      <td>0.10</td>\n",
       "      <td>97.599649</td>\n",
       "      <td>2.401765</td>\n",
       "      <td>2.401765</td>\n",
       "      <td>NaT</td>\n",
       "      <td>NaT</td>\n",
       "    </tr>\n",
       "    <tr>\n",
       "      <th>1532</th>\n",
       "      <td>2009</td>\n",
       "      <td>8.0</td>\n",
       "      <td>South Dakota</td>\n",
       "      <td>SD</td>\n",
       "      <td>RFC</td>\n",
       "      <td>West North Central</td>\n",
       "      <td>0.5</td>\n",
       "      <td>warm</td>\n",
       "      <td>2009-08-29</td>\n",
       "      <td>22:54:00</td>\n",
       "      <td>...</td>\n",
       "      <td>2038.3</td>\n",
       "      <td>1905.4</td>\n",
       "      <td>4.7</td>\n",
       "      <td>0.30</td>\n",
       "      <td>0.15</td>\n",
       "      <td>98.307744</td>\n",
       "      <td>1.692256</td>\n",
       "      <td>1.692256</td>\n",
       "      <td>2009-08-29 22:54:00</td>\n",
       "      <td>2009-08-29 23:53:00</td>\n",
       "    </tr>\n",
       "    <tr>\n",
       "      <th>1533</th>\n",
       "      <td>2009</td>\n",
       "      <td>8.0</td>\n",
       "      <td>South Dakota</td>\n",
       "      <td>SD</td>\n",
       "      <td>MRO</td>\n",
       "      <td>West North Central</td>\n",
       "      <td>0.5</td>\n",
       "      <td>warm</td>\n",
       "      <td>2009-08-29</td>\n",
       "      <td>11:00:00</td>\n",
       "      <td>...</td>\n",
       "      <td>2038.3</td>\n",
       "      <td>1905.4</td>\n",
       "      <td>4.7</td>\n",
       "      <td>0.30</td>\n",
       "      <td>0.15</td>\n",
       "      <td>98.307744</td>\n",
       "      <td>1.692256</td>\n",
       "      <td>1.692256</td>\n",
       "      <td>2009-08-29 11:00:00</td>\n",
       "      <td>2009-08-29 14:01:00</td>\n",
       "    </tr>\n",
       "    <tr>\n",
       "      <th>1534</th>\n",
       "      <td>2000</td>\n",
       "      <td>NaN</td>\n",
       "      <td>Alaska</td>\n",
       "      <td>AK</td>\n",
       "      <td>ASCC</td>\n",
       "      <td>NaN</td>\n",
       "      <td>NaN</td>\n",
       "      <td>NaN</td>\n",
       "      <td>NaT</td>\n",
       "      <td>NaN</td>\n",
       "      <td>...</td>\n",
       "      <td>1802.6</td>\n",
       "      <td>1276.0</td>\n",
       "      <td>0.4</td>\n",
       "      <td>0.05</td>\n",
       "      <td>0.02</td>\n",
       "      <td>85.761154</td>\n",
       "      <td>14.238846</td>\n",
       "      <td>2.901182</td>\n",
       "      <td>NaT</td>\n",
       "      <td>NaT</td>\n",
       "    </tr>\n",
       "  </tbody>\n",
       "</table>\n",
       "<p>1534 rows × 57 columns</p>\n",
       "</div>"
      ],
      "text/plain": [
       "      YEAR  MONTH    U.S._STATE POSTAL.CODE NERC.REGION      CLIMATE.REGION  \\\n",
       "OBS                                                                           \n",
       "1     2011    7.0     Minnesota          MN         MRO  East North Central   \n",
       "2     2014    5.0     Minnesota          MN         MRO  East North Central   \n",
       "3     2010   10.0     Minnesota          MN         MRO  East North Central   \n",
       "4     2012    6.0     Minnesota          MN         MRO  East North Central   \n",
       "5     2015    7.0     Minnesota          MN         MRO  East North Central   \n",
       "...    ...    ...           ...         ...         ...                 ...   \n",
       "1530  2011   12.0  North Dakota          ND         MRO  West North Central   \n",
       "1531  2006    NaN  North Dakota          ND         MRO  West North Central   \n",
       "1532  2009    8.0  South Dakota          SD         RFC  West North Central   \n",
       "1533  2009    8.0  South Dakota          SD         MRO  West North Central   \n",
       "1534  2000    NaN        Alaska          AK        ASCC                 NaN   \n",
       "\n",
       "      ANOMALY.LEVEL CLIMATE.CATEGORY OUTAGE.START.DATE OUTAGE.START.TIME  ...  \\\n",
       "OBS                                                                       ...   \n",
       "1              -0.3           normal        2011-07-01          17:00:00  ...   \n",
       "2              -0.1           normal        2014-05-11          18:38:00  ...   \n",
       "3              -1.5             cold        2010-10-26          20:00:00  ...   \n",
       "4              -0.1           normal        2012-06-19          04:30:00  ...   \n",
       "5               1.2             warm        2015-07-18          02:00:00  ...   \n",
       "...             ...              ...               ...               ...  ...   \n",
       "1530           -0.9             cold        2011-12-06          08:00:00  ...   \n",
       "1531            NaN              NaN               NaT               NaN  ...   \n",
       "1532            0.5             warm        2009-08-29          22:54:00  ...   \n",
       "1533            0.5             warm        2009-08-29          11:00:00  ...   \n",
       "1534            NaN              NaN               NaT               NaN  ...   \n",
       "\n",
       "     POPDEN_URBAN POPDEN_UC POPDEN_RURAL AREAPCT_URBAN AREAPCT_UC   PCT_LAND  \\\n",
       "OBS                                                                            \n",
       "1          2279.0    1700.5         18.2          2.14       0.60  91.592666   \n",
       "2          2279.0    1700.5         18.2          2.14       0.60  91.592666   \n",
       "3          2279.0    1700.5         18.2          2.14       0.60  91.592666   \n",
       "4          2279.0    1700.5         18.2          2.14       0.60  91.592666   \n",
       "5          2279.0    1700.5         18.2          2.14       0.60  91.592666   \n",
       "...           ...       ...          ...           ...        ...        ...   \n",
       "1530       2192.2    1868.2          3.9          0.27       0.10  97.599649   \n",
       "1531       2192.2    1868.2          3.9          0.27       0.10  97.599649   \n",
       "1532       2038.3    1905.4          4.7          0.30       0.15  98.307744   \n",
       "1533       2038.3    1905.4          4.7          0.30       0.15  98.307744   \n",
       "1534       1802.6    1276.0          0.4          0.05       0.02  85.761154   \n",
       "\n",
       "      PCT_WATER_TOT  PCT_WATER_INLAND  OUTAGE.START.DATETIME  \\\n",
       "OBS                                                            \n",
       "1          8.407334          5.478743    2011-07-01 17:00:00   \n",
       "2          8.407334          5.478743    2014-05-11 18:38:00   \n",
       "3          8.407334          5.478743    2010-10-26 20:00:00   \n",
       "4          8.407334          5.478743    2012-06-19 04:30:00   \n",
       "5          8.407334          5.478743    2015-07-18 02:00:00   \n",
       "...             ...               ...                    ...   \n",
       "1530       2.401765          2.401765    2011-12-06 08:00:00   \n",
       "1531       2.401765          2.401765                    NaT   \n",
       "1532       1.692256          1.692256    2009-08-29 22:54:00   \n",
       "1533       1.692256          1.692256    2009-08-29 11:00:00   \n",
       "1534      14.238846          2.901182                    NaT   \n",
       "\n",
       "      OUTAGE.RESTORATION.DATETIME  \n",
       "OBS                                \n",
       "1             2011-07-03 20:00:00  \n",
       "2             2014-05-11 18:39:00  \n",
       "3             2010-10-28 22:00:00  \n",
       "4             2012-06-20 23:00:00  \n",
       "5             2015-07-19 07:00:00  \n",
       "...                           ...  \n",
       "1530          2011-12-06 20:00:00  \n",
       "1531                          NaT  \n",
       "1532          2009-08-29 23:53:00  \n",
       "1533          2009-08-29 14:01:00  \n",
       "1534                          NaT  \n",
       "\n",
       "[1534 rows x 57 columns]"
      ]
     },
     "execution_count": 25,
     "metadata": {},
     "output_type": "execute_result"
    }
   ],
   "source": [
    "data"
   ]
  },
  {
   "cell_type": "code",
   "execution_count": 26,
   "metadata": {},
   "outputs": [
    {
     "name": "stdout",
     "output_type": "stream",
     "text": [
      "0.366\n"
     ]
    },
    {
     "data": {
      "application/vnd.plotly.v1+json": {
       "config": {
        "plotlyServerURL": "https://plot.ly"
       },
       "data": [
        {
         "alignmentgroup": "True",
         "bingroup": "x",
         "hovertemplate": "variable=0<br>value=%{x}<br>count=%{y}<extra></extra>",
         "legendgroup": "0",
         "marker": {
          "color": "#636efa",
          "pattern": {
           "shape": ""
          }
         },
         "name": "0",
         "offsetgroup": "0",
         "orientation": "v",
         "showlegend": true,
         "type": "histogram",
         "x": [
          0.026625890920684514,
          0.012329409008375758,
          0.06337073574817384,
          0.02218265605362385,
          0.050251361541684164,
          0.02318012225132965,
          0.05243032022156954,
          0.08420275446037162,
          0.05646098407144984,
          0.07067681110372978,
          0.1034716469613676,
          0.0723940119410218,
          0.11441206248797187,
          0.025951586046472658,
          0.03919145370758273,
          0.026625890920684486,
          0.04631846346038948,
          0.06173020527859244,
          0.0246512811739818,
          0.07486568117183992,
          0.10987217726542409,
          0.014946911824546799,
          0.014935064935064912,
          0.04809384164222874,
          0.10523669878508587,
          0.02318012225132962,
          0.04809384164222871,
          0.08251123327559806,
          0.058692743007924486,
          0.09326782065905417,
          0.06837049757043231,
          0.06284358761954967,
          0.02142114037176776,
          0.05965079404870832,
          0.06051529116045243,
          0.08089652283200668,
          0.16684238270954144,
          0.058379563387470634,
          0.023616589582992037,
          0.00439818023717406,
          0.07486568117183989,
          0.06879283078545076,
          0.08767795406905188,
          0.024473837660512587,
          0.03726869622488754,
          0.04809384164222871,
          0.07364893171344786,
          0.037348401901190154,
          0.06602240299486509,
          0.04561923170252108,
          0.06140977592827024,
          0.058613037331621876,
          0.09884792626728114,
          0.03726869622488754,
          0.05324723464840228,
          0.08521156263091745,
          0.16826560536237953,
          0.04809384164222874,
          0.10775031420192707,
          0.023616589582992037,
          0.09613341031369499,
          0.047737746124842884,
          0.06173020527859241,
          0.08728529534981147,
          0.09497276916631756,
          0.051561984265259486,
          0.07252377536423399,
          0.09028039259984441,
          0.06475972922994533,
          0.07474210651658916,
          0.10750474851687289,
          0.05010368726086217,
          0.10437155505856141,
          0.11580105596974336,
          0.029253576897560335,
          0.02690965685167057,
          0.06933554831212746,
          0.08251123327559806,
          0.09367406786761634,
          0.04965338538161257,
          0.04256388772517802,
          0.10707382584029915,
          0.050083255934600196,
          0.05646098407144995,
          0.14271051529116052,
          0.08873654186252636,
          0.04386258902387938,
          0.054705982984440626,
          0.07752006091489491,
          0.05326770004189357,
          0.05664013405948887,
          0.09527156496054756,
          0.02165123527620036,
          0.02690965685167057,
          0.03496020108923337,
          0.039946854514232716,
          0.06173020527859241,
          0.03747381650607465,
          0.0756532719180123,
          0.04965233325802637,
          0.05646342177707489,
          0.04366612550707499,
          0.051968998743192274,
          0.032858900017571635,
          0.03942074948505944,
          0.10100849943462278,
          0.0661929459282409,
          0.05038375887324889,
          0.028927524088814383,
          0.03496020108923334,
          0.03976393188854491,
          0.10165173080302228,
          0.030022726031597974,
          0.051968998743192274,
          0.02978634268956848,
          0.04581817876724692,
          0.052295313725737036,
          0.06312697676556236,
          0.04693405823548413,
          0.14141181399245908,
          0.023616589582992037,
          0.02647873417509683,
          0.02763250200585582,
          0.09464539791290275,
          0.10979247158912148,
          0.026478734175096885,
          0.05861303733162182,
          0.03617511520737329,
          0.1371805613741098,
          0.08003770423125256,
          0.08032244920248857,
          0.10366294397580045,
          0.0013889934817715166,
          0.07364893171344786,
          0.16335551906677867,
          0.017008797653958962,
          0.03764054098093536,
          0.030511835730602177,
          0.02508974069332534,
          0.00867792247945412,
          0.04366612550707505,
          0.04829176695945864,
          0.09749798088571812,
          0.024131669888127483,
          0.09920402178466695,
          0.08513722983333544,
          0.04687892752408876,
          0.07252377536423399,
          0.023397570171763665,
          0.08101452740826515,
          0.04256388772517802,
          0.16492624109914572,
          0.10707382584029915,
          0.09709148111889282,
          0.037348401901190154,
          0.12079222833044656,
          0.050143260465565054,
          0.018156114054627748,
          0.018076408378325082,
          0.055341432760787596,
          0.08454811713733007,
          0.07613106743312334,
          0.07968160871386684,
          0.04366612550707494,
          0.05562727967811884,
          0.024562592564701113,
          0.07968160871386681,
          0.08689621171289738,
          0.05965079404870835,
          0.023437663868577985,
          0.07882279011311266,
          0.03517856323253907,
          0.09492526544087723,
          0.03994685451423266,
          0.04283499892880996,
          0.08836425098944864,
          0.0949727691663175,
          0.10069365999782437,
          0.030950972619002703,
          0.08793332831287504,
          0.049652333258026426,
          0.09431349415534973,
          0.05881048606404435,
          0.0329800506609873,
          0.06509017229011191,
          0.043745831183377604,
          0.007338236647672525,
          0.15242242330426176,
          0.13123822183335573,
          0.07968160871386676,
          0.0681189777963972,
          0.045190375319102694,
          0.028815461710818946,
          0.07180489924501648,
          0.11284038542103056,
          0.02002513615416837,
          0.07882279011311272,
          0.11983415752524873,
          0.03689200157307693,
          0.026705596596987125,
          0.011925078130541639,
          0.03592334014364326,
          0.08155316247040023,
          0.045619231702521135,
          0.04139414332102512,
          0.05906168135270304,
          0.06182223956170277,
          0.05243032022156957,
          0.0874119566904526,
          0.039239065860046385,
          0.06282989030430222,
          0.13330540427314622,
          0.09798910766652702,
          0.08454811713733013,
          0.08155316247040023,
          0.0756532719180123,
          0.041348973607038125,
          0.04229494908980003,
          0.11076665270213654,
          0.02489732308862172,
          0.026909656851670544,
          0.04509208357389696,
          0.008088809783448864,
          0.03328982269414524,
          0.07968160871386681,
          0.05147224941637171,
          0.14639176989998023,
          0.11618990087130893,
          0.05534143276078757,
          0.032858900017571635,
          0.05965647255969833,
          0.013332330588318814,
          0.07560391930449914,
          0.045619231702521135,
          0.07517299662792543,
          0.07795098359146854,
          0.12561793045664013,
          0.08531863392860886,
          0.0872852953498115,
          0.06922375346202445,
          0.1652492668621701,
          0.11238264749752441,
          0.09367406786761628,
          0.002306313533297355,
          0.07252377536423399,
          0.09498502149634622,
          0.04327216741555168,
          0.1442406922283084,
          0.051999397544995885,
          0.1171554252199414,
          0.05147224941637171,
          0.04605015437909479,
          0.024131669888127538,
          0.07255604744996097,
          0.008088809783448864,
          0.024696271470465048,
          0.10132269472306471,
          0.037473816506074537,
          0.0820507012001997,
          0.09704141514704714,
          0.0144604187296056,
          0.08531863392860892,
          0.08337307862874549,
          0.09484555976457465,
          0.14813280785869087,
          0.007769159324246322,
          0.09613341031369499,
          0.13357949700276833,
          0.043745831183377604,
          0.04370309009212542,
          0.05333148751767158,
          0.0144604187296056,
          0.06602240299486509,
          0.026705596596987152,
          0.09431349415534968,
          0.049652333258026426,
          0.051968998743192274,
          0.026625890920684486,
          0.07560391930449917,
          0.030511835730602233,
          0.03617511520737324,
          0.10304072428479386,
          0.07968160871386676,
          0.007433603074122053,
          0.08633396150222103,
          0.055647271826021916,
          0.05965647255969836,
          0.12043527689332445,
          0.03496020108923337,
          0.0647465437788019,
          0.024553543336815253,
          0.04389358672228452,
          0.027792749317924526,
          0.018156114054627803,
          0.05503816698211353,
          0.05156198426525946,
          0.06475972922994533,
          0.021323837452869754,
          0.050083255934600224,
          0.18024389936948615,
          0.09904937135847902,
          0.021323837452869754,
          0.08391286133221612,
          0.07580645161290328,
          0.05061040406322434,
          0.08420275446037162,
          0.07788503085448684,
          0.06302890657729363,
          0.017210453134386045,
          0.0672601591956431,
          0.07892120464642144,
          0.06284358761954967,
          0.11441206248797181,
          0.08889139911807284,
          0.08975324447122018,
          0.16046221686706655,
          0.03689200157307693,
          0.05534143276078751,
          0.10304072428479386,
          0.035316296606619196,
          0.0440121499270921,
          0.01830749895266029,
          0.04605015437909485,
          0.040535967210238055,
          0.015793883535819037,
          0.08391286133221618,
          0.10523669878508585,
          0.04170506912442393,
          0.06837049757043243,
          0.050083255934600224,
          0.013191254361523214,
          0.10136154168412234,
          0.04561923170252108,
          0.0605152911604524,
          0.07180489924501654,
          0.1109083510573588,
          0.044012149927092126,
          0.058810486064044265,
          0.0396699885366201,
          0.049652333258026426,
          0.04687892752408876,
          0.10897385078214,
          0.05699056990569898,
          0.022182656053623767,
          0.03146990653580006,
          0.07067681110372978,
          0.08689621171289738,
          0.05170593708665916,
          0.050083255934600224,
          0.03919145370758273,
          0.01579388353581901,
          0.04509208357389696,
          0.08861341255018954,
          0.0885839966485128,
          0.033289822694145266,
          0.025951586046472658,
          0.0711353162966066,
          0.04809384164222871,
          0.036823596715574114,
          0.0839002267573696,
          0.0906001837425591,
          0.03732292424965061,
          0.051968998743192274,
          0.049652333258026426,
          0.02508974069332534,
          0.018307498952660234,
          0.05170593708665916,
          0.058810486064044265,
          0.08793332831287504,
          0.06337073574817378,
          0.08224180360403274,
          0.056540689747752504,
          0.06087138667783826,
          0.049652333258026426,
          0.008549482542359294,
          0.08861341255018948,
          0.10006284038542113,
          0.043703090092125474,
          0.05469790340806463,
          0.050299723170890515,
          0.026909656851670516,
          0.021323837452869754,
          0.114037847611137,
          0.030140843893491726,
          0.09281524926686222,
          0.16492624109914564,
          0.05326770004189357,
          0.045897884443549586,
          0.0068110885190483805,
          0.09709148111889285,
          0.08127181762044589,
          0.0751729966279254,
          0.07252377536423399,
          0.03748745027367853,
          0.030950972619002703,
          0.05564727182602194,
          0.07061274694379596,
          0.04374583118337755,
          0.051561984265259486,
          0.07517299662792543,
          0.06241266494297598,
          0.1394055777292467,
          0.05664013405948898,
          0.157561793045664,
          0.025951586046472658,
          0.056032499100501204,
          0.0532677000418936,
          0.017040234586390535,
          0.020167777763775346,
          0.11753587328874299,
          0.1363217427733557,
          0.06173020527859241,
          0.08607038123167152,
          0.07573297759431491,
          0.043272167415551704,
          0.0440121499270921,
          0.050083255934600224,
          0.09385693335505943,
          0.06087138667783831,
          0.08858399664851274,
          0.01818242672222642,
          0.052690072406546246,
          0.07148760157229939,
          0.06051529116045248,
          0.11413908671973189,
          0.031014382695701892,
          0.06051529116045243,
          0.06337073574817378,
          0.03146990653580006,
          0.06284358761954964,
          0.054705982984440654,
          0.08531863392860886,
          0.07968160871386673,
          0.03496020108923334,
          0.04924113537741601,
          0.03919145370758273,
          0.0524303202215696,
          0.04693405823548413,
          0.05699056990569898,
          0.02690965685167057,
          0.04386258902387938,
          0.044012149927092126,
          0.10523669878508593,
          0.03410138248847924,
          0.02376923494733499,
          0.030942758407175835,
          0.11527807372682722,
          0.05156198426525946,
          0.055424810279515235,
          0.05199939754499583,
          0.052295313725737036,
          0.035316296606619224,
          0.031081313825072482,
          0.06663106111498221,
          0.04605015437909479,
          0.07780532517818423,
          0.08672858565109451,
          0.06778138487442709,
          0.011802260879751614,
          0.02690965685167057,
          0.03410138248847927,
          0.09160033514872229,
          0.06778138487442706,
          0.05243032022156957,
          0.056540689747752504,
          0.09920402178466695,
          0.08390022675736958,
          0.06821966884389022,
          0.011802260879751614,
          0.04754175654982207,
          0.12047145728097339,
          0.02892752408881441,
          0.050083255934600224,
          0.026413908671973158,
          0.07968160871386684,
          0.0693355483121274,
          0.10689636341486977,
          0.005782496250151481,
          0.12516540434273038,
          0.08531863392860892,
          0.08521156263091745,
          0.06837049757043237,
          0.030140843893491726,
          0.09709148111889282,
          0.0821304068765023,
          0.10517267997145993,
          0.062412664942975954,
          0.0779509835914686,
          0.05221560804943437,
          0.017008797653958962,
          0.08205070120019975,
          0.07157081774899385,
          0.05785241525884646,
          0.05835777126099706,
          0.1052366987850859,
          0.0269096568516706,
          0.08979163794220016,
          0.08748532440890269,
          0.0373484019011901,
          0.11618990087130893,
          0.11062366561796255,
          0.0815531624704002,
          0.0605152911604524,
          0.058692743007924486,
          0.16187683284457474,
          0.09904937135847902,
          0.08528225049340116,
          0.11715542521994135,
          0.04561923170252108,
          0.07342482556405508,
          0.07335717236285952,
          0.05699056990569898,
          0.05881048606404429,
          0.05326770004189363,
          0.04581817876724692,
          0.0839002267573696,
          0.08003770423125256,
          0.009405111018014278,
          0.0246751773764666,
          0.1002285423012163,
          0.12856138765469283,
          0.06475972922994533,
          0.03498800687241915,
          0.0821304068765023,
          0.018525714142464983,
          0.04139414332102506,
          0.08155316247040023,
          0.0746170981260777,
          0.07782300580122914,
          0.017008797653958962,
          0.07782300580122917,
          0.08433114943394329,
          0.014149325166721044,
          0.10750474851687289,
          0.026413908671973158,
          0.08836425098944864,
          0.05785241525884652,
          0.0885839966485128,
          0.09613341031369493,
          0.08111371546274596,
          0.06941767909509844,
          0.10154881475973843,
          0.05646342177707486,
          0.10738743437878584,
          0.032489195541739346,
          0.027741770388921783,
          0.03689200157307693,
          0.011026017055021459,
          0.02002513615416837,
          0.026478734175096802,
          0.035616678419280456,
          0.09160033514872229,
          0.0884481304823872,
          0.06475972922994533,
          0.06604524507750309,
          0.010620025136154176,
          0.15881985258644923,
          0.03101438269570192,
          0.1034716469613676,
          0.03871191773142221,
          0.05965647255969836,
          0.04693405823548413,
          0.09920402178466697,
          0.08607038123167154,
          0.06701868911544909,
          0.0647465437788019,
          0.026934143222506313,
          0.04579232355819929,
          0.04366612550707499,
          0.06778138487442711,
          0.025951586046472658,
          0.035316296606619224,
          0.03146990653580006,
          0.05147224941637171,
          0.07140789589599678,
          0.0786445012787724,
          0.0532791851025515,
          0.032802681189777916,
          0.06173020527859238,
          0.05014326046556511,
          0.02456259256470114,
          0.03146990653580006,
          0.06922375346202447,
          0.02857142857142858,
          0.008546292417260126,
          0.03919145370758273,
          0.08793332831287504,
          0.07592426896531448,
          0.06606932069749175,
          0.010164272332400054,
          0.05014326046556511,
          0.025951586046472658,
          0.0526900724065463,
          0.04561923170252108,
          0.09071131527641807,
          0.07148760157229939,
          0.025951586046472658,
          0.050251361541684164,
          0.05965647255969836,
          0.050143260465565054,
          0.026625890920684514,
          0.06949858571171907,
          0.05965079404870832,
          0.07342482556405502,
          0.03689200157307693,
          0.12076722410555629,
          0.054697903408064574,
          0.049652333258026454,
          0.05664013405948887,
          0.03481555350638188,
          0.08127181762044589,
          0.03726869622488754,
          0.07876562088717873,
          0.04256388772517811,
          0.09492526544087726,
          0.07113989507242013,
          0.09709148111889285,
          0.061409775928270266,
          0.030260907658739178,
          0.03328982269414532,
          0.02489732308862172,
          0.0706127469437959,
          0.06690406367825719,
          0.03416435826408129,
          0.08728529534981147,
          0.04049015500628411,
          0.09916375016825951,
          0.015288133754480265,
          0.007769159324246322,
          0.04925567073196205,
          0.0961632468883569,
          0.056540689747752504,
          0.1012429890467621,
          0.05199939754499586,
          0.1002068152548275,
          0.09326782065905417,
          0.08889139911807284,
          0.03942074948505944,
          0.0949727691663175,
          0.043745831183377604,
          0.07157081774899385,
          0.10304072428479391,
          0.025951586046472658,
          0.055341432760787596,
          0.08205070120019975,
          0.03726869622488754,
          0.0751729966279254,
          0.07876562088717867,
          0.043703090092125474,
          0.09208346720186258,
          0.06949858571171916,
          0.022890475375840214,
          0.12691663175534146,
          0.046850911351673824,
          0.00976120653540008,
          0.05965647255969833,
          0.11345399168277398,
          0.01579388353581901,
          0.11411755328743967,
          0.20368156323806408,
          0.11939910310138985,
          0.06922375346202442,
          0.11162547130289066,
          0.08433114943394329,
          0.045190375319102666,
          0.16163946875404214,
          0.024553543336815253,
          0.1540820510245919,
          0.09150883877949223,
          0.008546292417260126,
          0.07613106743312334,
          0.04366612550707494,
          0.05426786779769932,
          0.018269040927860608,
          0.08233040541392042,
          0.017784180419710027,
          0.036232522432952885,
          0.0692237534620245,
          0.05325704780027987,
          0.06423258110132116,
          0.03126893203477854,
          0.06690406367825721,
          0.06173020527859238,
          0.11715542521994135,
          0.05900861488760267,
          0.03146990653580006,
          0.12717239417292128,
          0.050083255934600224,
          0.02892752408881441,
          0.04370309009212542,
          0.01576959752660123,
          0.06941767909509838,
          0.023769234947335044,
          0.07113989507242013,
          0.05025136154168411,
          0.06811897779639717,
          0.08015838907132103,
          0.05534143276078754,
          0.11162547130289066,
          0.0907113152764181,
          0.058357771260997116,
          0.03764054098093539,
          0.021421140371767733,
          0.06285841335363729,
          0.06173020527859238,
          0.12354419773774614,
          0.0756532719180123,
          0.08836425098944864,
          0.05325704780027979,
          0.07180489924501654,
          0.0693355483121274,
          0.158546075256671,
          0.04809384164222871,
          0.024473837660512587,
          0.052690072406546246,
          0.10366294397580039,
          0.07255604744996097,
          0.04366612550707494,
          0.0672601591956431,
          0.05326770004189357,
          0.0368920015730769,
          0.02376923494733499,
          0.0069607216421620766,
          0.045897884443549586,
          0.05327918510255153,
          0.013191254361523103,
          0.0672601591956431,
          0.057933593211416196,
          0.09788044772564902,
          0.07140789589599672,
          0.042629951715140335,
          0.07935726415842248,
          0.0815531624704002,
          0.052295313725737036,
          0.03517856323253907,
          0.07587019465787598,
          0.06604524507750309,
          0.03919145370758273,
          0.12973849245643282,
          0.022175733975207224,
          0.07752006091489494,
          0.10307917888563048,
          0.03413919967110923,
          0.06173020527859241,
          0.05869274300792446,
          0.049027380997327785,
          0.021323837452869754,
          0.007338236647672525,
          0.0069607216421620766,
          0.06606932069749177,
          0.13839547549224968,
          0.0544826141600335,
          0.05448261416003353,
          0.035923340143643206,
          0.046907576156394765,
          0.0943134941553497,
          0.027712609970674484,
          0.04605015437909482,
          0.0876779540690519,
          0.04509208357389696,
          0.07251834441158886,
          0.04965233325802648,
          0.05966318424888578,
          0.03410138248847924,
          0.11419353210391706,
          0.10261074926041985,
          0.08433114943394329,
          0.08155316247040023,
          0.0526900724065463,
          0.08828229639118265,
          0.05699056990569898,
          0.02456259256470114,
          0.05199939754499583,
          0.06604524507750309,
          0.08191919486946256,
          0.05542481027951529,
          0.011678979096137632,
          0.03942074948505944,
          0.03496020108923334,
          0.025951586046472658,
          0.04401214992709207,
          0.013636363636363585,
          0.0422949490898,
          0.03617511520737321,
          0.030511835730602205,
          0.10772823938865972,
          0.09699761302474658,
          0.08828229639118268,
          0.056540689747752504,
          0.03108504398826975,
          0.04687892752408879,
          0.06543329029885975,
          0.08513722983333541,
          0.07067681110372975,
          0.06509017229011194,
          0.07061274694379602,
          0.07592426896531448,
          0.08213040687650236,
          0.030140843893491726,
          0.07243401759530793,
          0.09749798088571815,
          0.06199888862427558,
          0.10339504230693403,
          0.03410138248847927,
          0.03496020108923337,
          0.11076665270213654,
          0.028927524088814383,
          0.10559279430247168,
          0.0055299539170506895,
          0.0736489317134478,
          0.1002068152548275,
          0.0269096568516706,
          0.05448261416003353,
          0.029835093150765435,
          0.0711353162966066,
          0.03413919967110918,
          0.058379563387470634,
          0.056755367819405655,
          0.04134897360703807,
          0.05327918510255153,
          0.011026017055021403,
          0.06051529116045243,
          0.1015488147597384,
          0.07752408881441142,
          0.07252377536423399,
          0.08889139911807284,
          0.05390485807154216,
          0.07699291278627074,
          0.1161899008713089,
          0.021323837452869754,
          0.07780532517818423,
          0.029786342689568507,
          0.10425205667180576,
          0.0835214446952596,
          0.016149979053204866,
          0.0013889934817715166,
          0.06837049757043243,
          0.09281524926686219,
          0.03881876637294593,
          0.02508974069332534,
          0.11198156682027649,
          0.03146990653580006,
          0.04519037531910272,
          0.07517299662792545,
          0.032802681189777916,
          0.04197977994100044,
          0.050083255934600224,
          0.036175115207373265,
          0.03732292424965061,
          0.060515291160452456,
          0.10304072428479394,
          0.025951586046472658,
          0.10942089012726858,
          0.0884481304823872,
          0.10750474851687289,
          0.007247591118558827,
          0.03357524556807598,
          0.07795098359146857,
          0.03617511520737332,
          0.07140789589599678,
          0.033289822694145266,
          0.039946854514232716,
          0.05534143276078751,
          0.032447157426789136,
          0.03747381650607465,
          0.027632502005855847,
          0.03517856323253901,
          0.05664013405948887,
          0.10132269472306471,
          0.08513722983333546,
          0.06312697676556231,
          0.02002513615416837,
          0.06922375346202445,
          0.07613106743312328,
          0.05503816698211347,
          0.02978634268956848,
          0.07968160871386676,
          0.03994685451423266,
          0.056990569905699034,
          0.06443214013009935,
          0.06922375346202445,
          0.08521156263091748,
          0.019571420203997936,
          0.03410138248847927,
          0.032802681189777916,
          0.013636363636363585,
          0.031085043988269806,
          0.08211906043882086,
          0.03517856323253901,
          0.08531863392860892,
          0.11585672392124005,
          0.01830749895266029,
          0.013831032356309586,
          0.018709574850850508,
          0.06951813251670849,
          0.04366612550707499,
          0.05199939754499586,
          0.03732292424965061,
          0.032802681189777916,
          0.06430520215757299,
          0.06182223956170277,
          0.04423023822074956,
          0.07067681110372981,
          0.15698391012062182,
          0.12266703582979899,
          0.08219522413070801,
          0.06302890657729363,
          0.07486568117183989,
          0.06284358761954964,
          0.05448261416003353,
          0.20742041950572257,
          0.07517299662792543,
          0.07474210651658916,
          0.04386258902387938,
          0.09367406786761626,
          0.05199939754499583,
          0.05699056990569909,
          0.10112458267439825,
          0.2521784666945957,
          0.024473837660512587,
          0.03592334014364326,
          0.06778138487442709,
          0.01614997905320492,
          0.020098568332622135,
          0.03919145370758273,
          0.018182426722226447,
          0.06612634608204654,
          0.022182656053623823,
          0.05562727967811884,
          0.07699291278627068,
          0.018307498952660234,
          0.05503816698211353,
          0.04366612550707499,
          0.03732292424965061,
          0.06474654377880179,
          0.03689200157307693,
          0.04809384164222874,
          0.09788044772564905,
          0.09920402178466697,
          0.050083255934600224,
          0.05837956338747061,
          0.19236304607944038,
          0.09800845353684126,
          0.06501073290401718,
          0.008546292417260126,
          0.015793883535819037,
          0.035316296606619196,
          0.0422949490898,
          0.08003770423125256,
          0.09380938597264005,
          0.08642647674905737,
          0.07379528754960091,
          0.07752408881441142,
          0.021323837452869726,
          0.06604524507750312,
          0.037850072378274785,
          0.11062366561796252,
          0.07474210651658911,
          0.07379528754960088,
          0.04773774612484297,
          0.07148760157229939,
          0.03966998853662007,
          0.054705982984440626,
          0.033023320202871964,
          0.02002513615416837,
          0.04809384164222871,
          0.08454811713733013,
          0.08858399664851274,
          0.04170506912442398,
          0.036232522432952885,
          0.06509017229011194,
          0.07882279011311263,
          0.01579388353581901,
          0.0741529938205838,
          0.0756039193044992,
          0.04389358672228452,
          0.033023320202871936,
          0.032858900017571635,
          0.0898845462169797,
          0.06501046661380927,
          0.09245915374947636,
          0.050610404063224285,
          0.06285841335363734,
          0.12906446511198652,
          0.05675536781940563,
          0.06430520215757307,
          0.04558022622538749,
          0.06284358761954964,
          0.02339757017176372,
          0.07752408881441136,
          0.06690406367825721,
          0.06811897779639714,
          0.0864264767490574,
          0.014149325166721127,
          0.09709148111889285,
          0.06941767909509838,
          0.02595158604647277,
          0.012154105196308246,
          0.045619231702521135,
          0.052690072406546246
         ],
         "xaxis": "x",
         "yaxis": "y"
        }
       ],
       "layout": {
        "annotations": [
         {
          "showarrow": false,
          "text": "obs",
          "x": 0.07061274694379596,
          "xanchor": "left",
          "xref": "x",
          "y": 1,
          "yanchor": "top",
          "yref": "y domain"
         }
        ],
        "barmode": "relative",
        "legend": {
         "title": {
          "text": "variable"
         },
         "tracegroupgap": 0
        },
        "margin": {
         "t": 60
        },
        "shapes": [
         {
          "line": {
           "color": "green"
          },
          "type": "line",
          "x0": 0.07061274694379596,
          "x1": 0.07061274694379596,
          "xref": "x",
          "y0": 0,
          "y1": 1,
          "yref": "y domain"
         }
        ],
        "showlegend": false,
        "template": {
         "data": {
          "bar": [
           {
            "error_x": {
             "color": "#2a3f5f"
            },
            "error_y": {
             "color": "#2a3f5f"
            },
            "marker": {
             "line": {
              "color": "#E5ECF6",
              "width": 0.5
             },
             "pattern": {
              "fillmode": "overlay",
              "size": 10,
              "solidity": 0.2
             }
            },
            "type": "bar"
           }
          ],
          "barpolar": [
           {
            "marker": {
             "line": {
              "color": "#E5ECF6",
              "width": 0.5
             },
             "pattern": {
              "fillmode": "overlay",
              "size": 10,
              "solidity": 0.2
             }
            },
            "type": "barpolar"
           }
          ],
          "carpet": [
           {
            "aaxis": {
             "endlinecolor": "#2a3f5f",
             "gridcolor": "white",
             "linecolor": "white",
             "minorgridcolor": "white",
             "startlinecolor": "#2a3f5f"
            },
            "baxis": {
             "endlinecolor": "#2a3f5f",
             "gridcolor": "white",
             "linecolor": "white",
             "minorgridcolor": "white",
             "startlinecolor": "#2a3f5f"
            },
            "type": "carpet"
           }
          ],
          "choropleth": [
           {
            "colorbar": {
             "outlinewidth": 0,
             "ticks": ""
            },
            "type": "choropleth"
           }
          ],
          "contour": [
           {
            "colorbar": {
             "outlinewidth": 0,
             "ticks": ""
            },
            "colorscale": [
             [
              0,
              "#0d0887"
             ],
             [
              0.1111111111111111,
              "#46039f"
             ],
             [
              0.2222222222222222,
              "#7201a8"
             ],
             [
              0.3333333333333333,
              "#9c179e"
             ],
             [
              0.4444444444444444,
              "#bd3786"
             ],
             [
              0.5555555555555556,
              "#d8576b"
             ],
             [
              0.6666666666666666,
              "#ed7953"
             ],
             [
              0.7777777777777778,
              "#fb9f3a"
             ],
             [
              0.8888888888888888,
              "#fdca26"
             ],
             [
              1,
              "#f0f921"
             ]
            ],
            "type": "contour"
           }
          ],
          "contourcarpet": [
           {
            "colorbar": {
             "outlinewidth": 0,
             "ticks": ""
            },
            "type": "contourcarpet"
           }
          ],
          "heatmap": [
           {
            "colorbar": {
             "outlinewidth": 0,
             "ticks": ""
            },
            "colorscale": [
             [
              0,
              "#0d0887"
             ],
             [
              0.1111111111111111,
              "#46039f"
             ],
             [
              0.2222222222222222,
              "#7201a8"
             ],
             [
              0.3333333333333333,
              "#9c179e"
             ],
             [
              0.4444444444444444,
              "#bd3786"
             ],
             [
              0.5555555555555556,
              "#d8576b"
             ],
             [
              0.6666666666666666,
              "#ed7953"
             ],
             [
              0.7777777777777778,
              "#fb9f3a"
             ],
             [
              0.8888888888888888,
              "#fdca26"
             ],
             [
              1,
              "#f0f921"
             ]
            ],
            "type": "heatmap"
           }
          ],
          "heatmapgl": [
           {
            "colorbar": {
             "outlinewidth": 0,
             "ticks": ""
            },
            "colorscale": [
             [
              0,
              "#0d0887"
             ],
             [
              0.1111111111111111,
              "#46039f"
             ],
             [
              0.2222222222222222,
              "#7201a8"
             ],
             [
              0.3333333333333333,
              "#9c179e"
             ],
             [
              0.4444444444444444,
              "#bd3786"
             ],
             [
              0.5555555555555556,
              "#d8576b"
             ],
             [
              0.6666666666666666,
              "#ed7953"
             ],
             [
              0.7777777777777778,
              "#fb9f3a"
             ],
             [
              0.8888888888888888,
              "#fdca26"
             ],
             [
              1,
              "#f0f921"
             ]
            ],
            "type": "heatmapgl"
           }
          ],
          "histogram": [
           {
            "marker": {
             "pattern": {
              "fillmode": "overlay",
              "size": 10,
              "solidity": 0.2
             }
            },
            "type": "histogram"
           }
          ],
          "histogram2d": [
           {
            "colorbar": {
             "outlinewidth": 0,
             "ticks": ""
            },
            "colorscale": [
             [
              0,
              "#0d0887"
             ],
             [
              0.1111111111111111,
              "#46039f"
             ],
             [
              0.2222222222222222,
              "#7201a8"
             ],
             [
              0.3333333333333333,
              "#9c179e"
             ],
             [
              0.4444444444444444,
              "#bd3786"
             ],
             [
              0.5555555555555556,
              "#d8576b"
             ],
             [
              0.6666666666666666,
              "#ed7953"
             ],
             [
              0.7777777777777778,
              "#fb9f3a"
             ],
             [
              0.8888888888888888,
              "#fdca26"
             ],
             [
              1,
              "#f0f921"
             ]
            ],
            "type": "histogram2d"
           }
          ],
          "histogram2dcontour": [
           {
            "colorbar": {
             "outlinewidth": 0,
             "ticks": ""
            },
            "colorscale": [
             [
              0,
              "#0d0887"
             ],
             [
              0.1111111111111111,
              "#46039f"
             ],
             [
              0.2222222222222222,
              "#7201a8"
             ],
             [
              0.3333333333333333,
              "#9c179e"
             ],
             [
              0.4444444444444444,
              "#bd3786"
             ],
             [
              0.5555555555555556,
              "#d8576b"
             ],
             [
              0.6666666666666666,
              "#ed7953"
             ],
             [
              0.7777777777777778,
              "#fb9f3a"
             ],
             [
              0.8888888888888888,
              "#fdca26"
             ],
             [
              1,
              "#f0f921"
             ]
            ],
            "type": "histogram2dcontour"
           }
          ],
          "mesh3d": [
           {
            "colorbar": {
             "outlinewidth": 0,
             "ticks": ""
            },
            "type": "mesh3d"
           }
          ],
          "parcoords": [
           {
            "line": {
             "colorbar": {
              "outlinewidth": 0,
              "ticks": ""
             }
            },
            "type": "parcoords"
           }
          ],
          "pie": [
           {
            "automargin": true,
            "type": "pie"
           }
          ],
          "scatter": [
           {
            "fillpattern": {
             "fillmode": "overlay",
             "size": 10,
             "solidity": 0.2
            },
            "type": "scatter"
           }
          ],
          "scatter3d": [
           {
            "line": {
             "colorbar": {
              "outlinewidth": 0,
              "ticks": ""
             }
            },
            "marker": {
             "colorbar": {
              "outlinewidth": 0,
              "ticks": ""
             }
            },
            "type": "scatter3d"
           }
          ],
          "scattercarpet": [
           {
            "marker": {
             "colorbar": {
              "outlinewidth": 0,
              "ticks": ""
             }
            },
            "type": "scattercarpet"
           }
          ],
          "scattergeo": [
           {
            "marker": {
             "colorbar": {
              "outlinewidth": 0,
              "ticks": ""
             }
            },
            "type": "scattergeo"
           }
          ],
          "scattergl": [
           {
            "marker": {
             "colorbar": {
              "outlinewidth": 0,
              "ticks": ""
             }
            },
            "type": "scattergl"
           }
          ],
          "scattermapbox": [
           {
            "marker": {
             "colorbar": {
              "outlinewidth": 0,
              "ticks": ""
             }
            },
            "type": "scattermapbox"
           }
          ],
          "scatterpolar": [
           {
            "marker": {
             "colorbar": {
              "outlinewidth": 0,
              "ticks": ""
             }
            },
            "type": "scatterpolar"
           }
          ],
          "scatterpolargl": [
           {
            "marker": {
             "colorbar": {
              "outlinewidth": 0,
              "ticks": ""
             }
            },
            "type": "scatterpolargl"
           }
          ],
          "scatterternary": [
           {
            "marker": {
             "colorbar": {
              "outlinewidth": 0,
              "ticks": ""
             }
            },
            "type": "scatterternary"
           }
          ],
          "surface": [
           {
            "colorbar": {
             "outlinewidth": 0,
             "ticks": ""
            },
            "colorscale": [
             [
              0,
              "#0d0887"
             ],
             [
              0.1111111111111111,
              "#46039f"
             ],
             [
              0.2222222222222222,
              "#7201a8"
             ],
             [
              0.3333333333333333,
              "#9c179e"
             ],
             [
              0.4444444444444444,
              "#bd3786"
             ],
             [
              0.5555555555555556,
              "#d8576b"
             ],
             [
              0.6666666666666666,
              "#ed7953"
             ],
             [
              0.7777777777777778,
              "#fb9f3a"
             ],
             [
              0.8888888888888888,
              "#fdca26"
             ],
             [
              1,
              "#f0f921"
             ]
            ],
            "type": "surface"
           }
          ],
          "table": [
           {
            "cells": {
             "fill": {
              "color": "#EBF0F8"
             },
             "line": {
              "color": "white"
             }
            },
            "header": {
             "fill": {
              "color": "#C8D4E3"
             },
             "line": {
              "color": "white"
             }
            },
            "type": "table"
           }
          ]
         },
         "layout": {
          "annotationdefaults": {
           "arrowcolor": "#2a3f5f",
           "arrowhead": 0,
           "arrowwidth": 1
          },
          "autotypenumbers": "strict",
          "coloraxis": {
           "colorbar": {
            "outlinewidth": 0,
            "ticks": ""
           }
          },
          "colorscale": {
           "diverging": [
            [
             0,
             "#8e0152"
            ],
            [
             0.1,
             "#c51b7d"
            ],
            [
             0.2,
             "#de77ae"
            ],
            [
             0.3,
             "#f1b6da"
            ],
            [
             0.4,
             "#fde0ef"
            ],
            [
             0.5,
             "#f7f7f7"
            ],
            [
             0.6,
             "#e6f5d0"
            ],
            [
             0.7,
             "#b8e186"
            ],
            [
             0.8,
             "#7fbc41"
            ],
            [
             0.9,
             "#4d9221"
            ],
            [
             1,
             "#276419"
            ]
           ],
           "sequential": [
            [
             0,
             "#0d0887"
            ],
            [
             0.1111111111111111,
             "#46039f"
            ],
            [
             0.2222222222222222,
             "#7201a8"
            ],
            [
             0.3333333333333333,
             "#9c179e"
            ],
            [
             0.4444444444444444,
             "#bd3786"
            ],
            [
             0.5555555555555556,
             "#d8576b"
            ],
            [
             0.6666666666666666,
             "#ed7953"
            ],
            [
             0.7777777777777778,
             "#fb9f3a"
            ],
            [
             0.8888888888888888,
             "#fdca26"
            ],
            [
             1,
             "#f0f921"
            ]
           ],
           "sequentialminus": [
            [
             0,
             "#0d0887"
            ],
            [
             0.1111111111111111,
             "#46039f"
            ],
            [
             0.2222222222222222,
             "#7201a8"
            ],
            [
             0.3333333333333333,
             "#9c179e"
            ],
            [
             0.4444444444444444,
             "#bd3786"
            ],
            [
             0.5555555555555556,
             "#d8576b"
            ],
            [
             0.6666666666666666,
             "#ed7953"
            ],
            [
             0.7777777777777778,
             "#fb9f3a"
            ],
            [
             0.8888888888888888,
             "#fdca26"
            ],
            [
             1,
             "#f0f921"
            ]
           ]
          },
          "colorway": [
           "#636efa",
           "#EF553B",
           "#00cc96",
           "#ab63fa",
           "#FFA15A",
           "#19d3f3",
           "#FF6692",
           "#B6E880",
           "#FF97FF",
           "#FECB52"
          ],
          "font": {
           "color": "#2a3f5f"
          },
          "geo": {
           "bgcolor": "white",
           "lakecolor": "white",
           "landcolor": "#E5ECF6",
           "showlakes": true,
           "showland": true,
           "subunitcolor": "white"
          },
          "hoverlabel": {
           "align": "left"
          },
          "hovermode": "closest",
          "mapbox": {
           "style": "light"
          },
          "paper_bgcolor": "white",
          "plot_bgcolor": "#E5ECF6",
          "polar": {
           "angularaxis": {
            "gridcolor": "white",
            "linecolor": "white",
            "ticks": ""
           },
           "bgcolor": "#E5ECF6",
           "radialaxis": {
            "gridcolor": "white",
            "linecolor": "white",
            "ticks": ""
           }
          },
          "scene": {
           "xaxis": {
            "backgroundcolor": "#E5ECF6",
            "gridcolor": "white",
            "gridwidth": 2,
            "linecolor": "white",
            "showbackground": true,
            "ticks": "",
            "zerolinecolor": "white"
           },
           "yaxis": {
            "backgroundcolor": "#E5ECF6",
            "gridcolor": "white",
            "gridwidth": 2,
            "linecolor": "white",
            "showbackground": true,
            "ticks": "",
            "zerolinecolor": "white"
           },
           "zaxis": {
            "backgroundcolor": "#E5ECF6",
            "gridcolor": "white",
            "gridwidth": 2,
            "linecolor": "white",
            "showbackground": true,
            "ticks": "",
            "zerolinecolor": "white"
           }
          },
          "shapedefaults": {
           "line": {
            "color": "#2a3f5f"
           }
          },
          "ternary": {
           "aaxis": {
            "gridcolor": "white",
            "linecolor": "white",
            "ticks": ""
           },
           "baxis": {
            "gridcolor": "white",
            "linecolor": "white",
            "ticks": ""
           },
           "bgcolor": "#E5ECF6",
           "caxis": {
            "gridcolor": "white",
            "linecolor": "white",
            "ticks": ""
           }
          },
          "title": {
           "x": 0.05
          },
          "xaxis": {
           "automargin": true,
           "gridcolor": "white",
           "linecolor": "white",
           "ticks": "",
           "title": {
            "standoff": 15
           },
           "zerolinecolor": "white",
           "zerolinewidth": 2
          },
          "yaxis": {
           "automargin": true,
           "gridcolor": "white",
           "linecolor": "white",
           "ticks": "",
           "title": {
            "standoff": 15
           },
           "zerolinecolor": "white",
           "zerolinewidth": 2
          }
         }
        },
        "title": {
         "text": "Simulated Null Values"
        },
        "xaxis": {
         "anchor": "y",
         "domain": [
          0,
          1
         ],
         "title": {
          "text": "TVD of Missing and Non-Missing Values"
         }
        },
        "yaxis": {
         "anchor": "x",
         "domain": [
          0,
          1
         ],
         "title": {
          "text": "Frequency"
         }
        }
       }
      }
     },
     "metadata": {},
     "output_type": "display_data"
    }
   ],
   "source": [
    "graph, p_value = mar_permutation(data, 'CLIMATE.CATEGORY', 'CUSTOMERS.AFFECTED')\n",
    "# graph.write_html('../03-topic/mar-hist.html', include_plotlyjs='cdn')\n",
    "print(p_value)\n",
    "graph"
   ]
  },
  {
   "cell_type": "code",
   "execution_count": 27,
   "metadata": {},
   "outputs": [
    {
     "name": "stdout",
     "output_type": "stream",
     "text": [
      "0.0\n"
     ]
    },
    {
     "data": {
      "application/vnd.plotly.v1+json": {
       "config": {
        "plotlyServerURL": "https://plot.ly"
       },
       "data": [
        {
         "alignmentgroup": "True",
         "bingroup": "x",
         "hovertemplate": "variable=0<br>value=%{x}<br>count=%{y}<extra></extra>",
         "legendgroup": "0",
         "marker": {
          "color": "#636efa",
          "pattern": {
           "shape": ""
          }
         },
         "name": "0",
         "offsetgroup": "0",
         "orientation": "v",
         "showlegend": true,
         "type": "histogram",
         "x": [
          0.248224235640258,
          0.28721760018869763,
          0.27462948441279256,
          0.26595187797555625,
          0.33843906536757756,
          0.2548369276224724,
          0.2973890625743566,
          0.2478724967050338,
          0.2707479418099658,
          0.2678140252796842,
          0.24767800576438043,
          0.31087514716136333,
          0.3425854466981025,
          0.2583460407644736,
          0.28836799341213665,
          0.2431426425525488,
          0.3088929948087471,
          0.26759884381342947,
          0.28291810896872216,
          0.2825001603515734,
          0.31905618098416555,
          0.24036597401683796,
          0.2928743898881263,
          0.3090212760674759,
          0.304175554971623,
          0.3374169534028673,
          0.2792434716219096,
          0.28841765067358005,
          0.29793529245023415,
          0.2405397744318899,
          0.259066071055403,
          0.27005687825487834,
          0.26715192846043867,
          0.2903873887108354,
          0.320487965355784,
          0.272903894577634,
          0.2784034362824919,
          0.2594757434623112,
          0.3052100812516941,
          0.292708865683315,
          0.22332111902638663,
          0.29520414307084647,
          0.24392474442028253,
          0.21161028153598185,
          0.21757742911943195,
          0.2528754657954576,
          0.30790812579011945,
          0.2878134873260185,
          0.21092749419113493,
          0.31405321189374175,
          0.2572535810127185,
          0.24022941654786859,
          0.2391948902677975,
          0.24808767817128857,
          0.29123570026049367,
          0.2797690109721858,
          0.2829470757045641,
          0.2707686323355672,
          0.20953295276559913,
          0.3063604744751331,
          0.2829967329660075,
          0.2534216956713352,
          0.23508161377823483,
          0.28789211132330395,
          0.34551108701814354,
          0.2793014050935936,
          0.2862451454854308,
          0.269978254257593,
          0.2718321253514803,
          0.2584619077078415,
          0.26460699381146385,
          0.29523310980668843,
          0.3850299909168593,
          0.3041258977101795,
          0.2790075996300534,
          0.3088350613370631,
          0.27221283102254645,
          0.24053977443188987,
          0.2620124019010456,
          0.2860672069652586,
          0.2599350731306627,
          0.2554121242341919,
          0.26868302735494387,
          0.2602288785942029,
          0.3188699662537528,
          0.23861141744583736,
          0.29987606375164744,
          0.2300289874263676,
          0.21227237835522733,
          0.23960456267470562,
          0.302284440931653,
          0.3046141941143731,
          0.32338463893998304,
          0.24468615576241481,
          0.24822423564025803,
          0.18521330897368787,
          0.25653355072178896,
          0.328201393299994,
          0.26012956407131604,
          0.24064736516501734,
          0.231824925048571,
          0.3433923771965579,
          0.23063315077392912,
          0.24651933633070083,
          0.22975587248842883,
          0.2544355314258048,
          0.22034582144490217,
          0.16271856953982203,
          0.29370201091218323,
          0.2936730441763412,
          0.3498478211842015,
          0.2894521769536512,
          0.2733715004562261,
          0.3036293250957455,
          0.3068280803537253,
          0.25181197277954454,
          0.2738597968604197,
          0.281825649216967,
          0.32729514827865175,
          0.29432686478534614,
          0.2867210275742635,
          0.25314858073339636,
          0.24105703757192543,
          0.30355070109846005,
          0.2590288281093205,
          0.2144366073331361,
          0.29825806464961624,
          0.2531485807333964,
          0.2923571267480908,
          0.2572246142768765,
          0.22737646204426526,
          0.3181292454372219,
          0.240337007280996,
          0.31761198229718635,
          0.27760478199427707,
          0.2703093026672157,
          0.2682733549480358,
          0.2764916317169205,
          0.29241506021977476,
          0.25038018840792614,
          0.27861861774874663,
          0.2976332107764533,
          0.3048376517908685,
          0.2860382402294165,
          0.25071123681754887,
          0.3036293250957454,
          0.2439826778919665,
          0.29263024168602964,
          0.2453192858458183,
          0.23386087276775092,
          0.20989296791106385,
          0.26081235141616305,
          0.25342997188157573,
          0.24565033425544108,
          0.2887983563446461,
          0.2523209597093395,
          0.25974058219000945,
          0.27010653551632174,
          0.3007243753013058,
          0.303492767626776,
          0.2822932550955592,
          0.24775662976166585,
          0.2746294844127925,
          0.27487363261488934,
          0.2992222431426426,
          0.23251598860365852,
          0.29531173380397385,
          0.262558631776923,
          0.29788563518879074,
          0.3106020322234246,
          0.2509346944940442,
          0.2659518779755562,
          0.23739067643535353,
          0.28135804333837494,
          0.3145497845081759,
          0.25135264311119293,
          0.2594178099906272,
          0.30239203166478035,
          0.32406742628482993,
          0.23136559538021942,
          0.21194960615584518,
          0.2678429920155262,
          0.20939639529662973,
          0.24944497665074186,
          0.3343340650882554,
          0.2872879479757425,
          0.2766199129756493,
          0.1985835266173267,
          0.24168189144508842,
          0.2732846002487001,
          0.3406446753966892,
          0.304320388650833,
          0.2892369954873964,
          0.253098923471953,
          0.2670939949887547,
          0.2127399842338195,
          0.23760585790160826,
          0.215715281815304,
          0.252445102862948,
          0.35400247872496704,
          0.3177775065019976,
          0.2662332691237355,
          0.19651447405718442,
          0.26680018952521456,
          0.23757689116576627,
          0.36155865867460635,
          0.3295380012538459,
          0.2550686615092084,
          0.34858983722763515,
          0.2958786542054528,
          0.2557431726438147,
          0.2390293660629861,
          0.29640419355572895,
          0.2707686323355672,
          0.29528276706813184,
          0.3227225421207375,
          0.2513940241623958,
          0.23516851398576075,
          0.3263102792600241,
          0.2453192858458184,
          0.29462067024888633,
          0.30409693097433754,
          0.2717535013541949,
          0.27071069886388327,
          0.249912582529334,
          0.2728542373161906,
          0.24277435119684349,
          0.32020657420760457,
          0.2791151903631808,
          0.33711487172908655,
          0.25572248211821325,
          0.22728956183673935,
          0.2538230918680027,
          0.22163277213731059,
          0.2914508817267486,
          0.2357437105974803,
          0.23599613500981764,
          0.2590577948451625,
          0.32110454301870633,
          0.3373093626697399,
          0.2809773376673088,
          0.29892016146886186,
          0.2897542586274319,
          0.25369481060927396,
          0.2905032556542034,
          0.28910043801842705,
          0.3689410382091937,
          0.30351345815237746,
          0.251265742903667,
          0.28770589659289114,
          0.23344292415060225,
          0.3179057877607264,
          0.2723783552273578,
          0.2606178604755097,
          0.3022927171418936,
          0.2853761434101711,
          0.30321965268883727,
          0.2952248335964478,
          0.3036872585674294,
          0.23004967795196904,
          0.2981587501267295,
          0.282479469825972,
          0.22162449592707006,
          0.3093440482668582,
          0.2793096813038342,
          0.24958981032995184,
          0.31744645809237493,
          0.3212783434337583,
          0.28133735281277356,
          0.3042045217074649,
          0.256053530527836,
          0.2753329622832409,
          0.2671229617245967,
          0.3266909849310902,
          0.29408271658324936,
          0.27533296228324095,
          0.2792807145679922,
          0.315613277524089,
          0.24984223474228923,
          0.26562082956593347,
          0.3228880663255489,
          0.24716074262434493,
          0.25595835411006945,
          0.29607314514610616,
          0.2924647174812182,
          0.24020872602226712,
          0.2368361703492354,
          0.2257294962063921,
          0.272816994370108,
          0.25451415542309025,
          0.21891403707328383,
          0.28116355239772156,
          0.2698416967886235,
          0.24858425078572272,
          0.30907920953915996,
          0.25129470963950895,
          0.31065996569510856,
          0.29588693041569336,
          0.2557142059079727,
          0.23735343348927096,
          0.2583460407644736,
          0.23550783860562413,
          0.32166732531506503,
          0.27769168220180296,
          0.27533296228324083,
          0.28666309410257945,
          0.31556362026264556,
          0.26748297687006145,
          0.2521057782430848,
          0.2321352829325923,
          0.26852577936037314,
          0.29173227287492787,
          0.32633924599586595,
          0.27659922245004787,
          0.3139166544247724,
          0.29744699604604063,
          0.18907416105091318,
          0.209036380151165,
          0.3392791007069953,
          0.27821722155207906,
          0.26166066296582136,
          0.27434809326461324,
          0.32562749191517715,
          0.2388721180684153,
          0.3015147533792801,
          0.2033299331902928,
          0.25342169567133516,
          0.21337311431722303,
          0.3026734228129597,
          0.3022927171418936,
          0.27235766470175643,
          0.2286344460008318,
          0.2522216451864527,
          0.26253794125132157,
          0.25743979574313125,
          0.27774133946324636,
          0.2497843012706052,
          0.30341414362949065,
          0.3179140639709671,
          0.2980221926577601,
          0.2864686031619261,
          0.22368113417185137,
          0.24843941710651277,
          0.2754488292266089,
          0.303579667834302,
          0.2057507246856592,
          0.2742115357956439,
          0.3046928181116585,
          0.25266028432920284,
          0.28283120876119616,
          0.26715192846043867,
          0.2680581734817809,
          0.30549147239987345,
          0.27224179775838847,
          0.2702803359313737,
          0.2507402035533909,
          0.2753826195446843,
          0.3268854758717435,
          0.32346326293726846,
          0.26207033537272956,
          0.21605460643516733,
          0.24116462830505284,
          0.261379271817642,
          0.30992752108881827,
          0.282508436561814,
          0.33818664095524015,
          0.3016968300045726,
          0.30109266665701107,
          0.29583727315424996,
          0.26015025459691754,
          0.3148725567075581,
          0.3029961950123419,
          0.2896177011584626,
          0.24485995617746678,
          0.3216300823689824,
          0.23393949676503634,
          0.27503915681970065,
          0.29761252025085194,
          0.260841318152005,
          0.2709051898045366,
          0.2788503516354826,
          0.26329107638321336,
          0.29509655233771903,
          0.3469925286512053,
          0.3052473241977766,
          0.2954193245371012,
          0.2730901093080468,
          0.2682236976865923,
          0.27583781110791555,
          0.2718114348258789,
          0.24040321696292052,
          0.2669657137300259,
          0.2847719800626095,
          0.2698623873142249,
          0.33859631336214835,
          0.2845567985963548,
          0.27410394506251645,
          0.2267143652250198,
          0.2684181886272457,
          0.31728921009780414,
          0.2785110270156193,
          0.3241460502821153,
          0.2591157283168465,
          0.266369826592705,
          0.2927171418935556,
          0.27227076449423043,
          0.277037861592798,
          0.28860386540399285,
          0.25960402472104,
          0.28864110835007545,
          0.3103578840213278,
          0.26857543662181654,
          0.252925123056901,
          0.2646732034933883,
          0.2748239753534459,
          0.28278155149975276,
          0.30288860427921444,
          0.2429398754016548,
          0.25905779484516245,
          0.22506739938714665,
          0.29984709701580553,
          0.22762061024636207,
          0.25547833391611646,
          0.30043056983776556,
          0.24682141800448165,
          0.27675647044461876,
          0.25746876247897327,
          0.22715300436776997,
          0.2863692886390393,
          0.3029672282764999,
          0.3571226099856615,
          0.26010059733547414,
          0.20375201991256184,
          0.26567048682737693,
          0.2458365489858539,
          0.3075688011702561,
          0.25844535528736035,
          0.28138701007421685,
          0.27309838551828736,
          0.2731273522541294,
          0.32234183644967135,
          0.2817097822735991,
          0.23960456267470565,
          0.3131180001365575,
          0.20083465580276139,
          0.2864768793721667,
          0.30630254100344906,
          0.3193375721323449,
          0.3541100694580944,
          0.2730197615210019,
          0.2966193750219837,
          0.27024309298529114,
          0.2658153205065868,
          0.29567174894943854,
          0.23670788909050658,
          0.22068928416988579,
          0.3219114735171617,
          0.3127372944654913,
          0.28668378462818084,
          0.3036789823571888,
          0.25746876247897327,
          0.27240732196319983,
          0.24868356530860952,
          0.31115653830954265,
          0.24430545009134869,
          0.29747596278188254,
          0.24069702242646068,
          0.21314965664072769,
          0.2309559229733113,
          0.2681657642149083,
          0.2432129903395936,
          0.3156919015213744,
          0.3274317057476211,
          0.25462174615621763,
          0.28214842141634927,
          0.23074074150705648,
          0.30319068595299525,
          0.23943903846989423,
          0.2721714499713436,
          0.33796318327874486,
          0.27460051767695054,
          0.2905239461798048,
          0.3179637212324105,
          0.2605309602679837,
          0.2751757142886701,
          0.32094729502413555,
          0.2495111863326664,
          0.3047507515833425,
          0.25960402472104,
          0.24020872602226714,
          0.34284614732068047,
          0.2429978088733388,
          0.28177599195552366,
          0.2761895500431398,
          0.24067633190085927,
          0.25065330334586494,
          0.28270292750246734,
          0.2873169147115844,
          0.35425490313730434,
          0.2609778756209744,
          0.25370308681951453,
          0.2849375042674209,
          0.29815875012672943,
          0.23372431529878154,
          0.3425357894366591,
          0.26491735169548514,
          0.26184687769623416,
          0.23678651308779197,
          0.25429897395683543,
          0.25907848537076383,
          0.2414377432429916,
          0.22017202102985028,
          0.27687233738798667,
          0.24376749642571172,
          0.25273063211624763,
          0.2495980865401924,
          0.29900706167638785,
          0.25536246697274856,
          0.3078129493723529,
          0.32546196771036573,
          0.2848795707957369,
          0.258395698025917,
          0.2392942047906843,
          0.2194685431594019,
          0.2495898103299518,
          0.28472232280116605,
          0.25861087949217165,
          0.27437706000045525,
          0.28508233794663085,
          0.2408128893698287,
          0.31828649343179266,
          0.2416818914450884,
          0.2778282396707724,
          0.26223585957754086,
          0.2392155807933989,
          0.2719686828204497,
          0.27577160142599105,
          0.2907101609102176,
          0.27112037127079136,
          0.29090465185087094,
          0.24861321752156465,
          0.2878134873260185,
          0.27692199464943007,
          0.27634679803771056,
          0.26622499291349505,
          0.28198289721153785,
          0.2152766426725538,
          0.23041796930767433,
          0.2464696790692574,
          0.25296236600298355,
          0.299884339961888,
          0.28589340655020656,
          0.2504381218796102,
          0.2612137476128306,
          0.2964331602915709,
          0.20102087053317416,
          0.25957505798519803,
          0.2635228102699493,
          0.25268925106504486,
          0.2712858954756028,
          0.2875900296495232,
          0.2369520372926034,
          0.27225007396862905,
          0.27122796200391885,
          0.2171098232408398,
          0.24671382727135413,
          0.2831622571708189,
          0.24393302063052308,
          0.2971159476364179,
          0.2839526352487932,
          0.2834850293702011,
          0.24770697250022244,
          0.3329891809241631,
          0.25495279456584036,
          0.28764796312120716,
          0.29856842253363763,
          0.36004825030570253,
          0.280050402120365,
          0.24529859532021697,
          0.2733425337203841,
          0.2629186469223878,
          0.29965260607515215,
          0.31823683617034926,
          0.2511581521705396,
          0.2602578453300449,
          0.2573032382741619,
          0.23979905361535897,
          0.2635435007955507,
          0.32412535975651385,
          0.24729730009331427,
          0.27902829015565483,
          0.2908260278535856,
          0.26704433772731134,
          0.23300428500785203,
          0.28945217695365116,
          0.2473759240905997,
          0.28478025627285014,
          0.3064970319441025,
          0.29066050364877416,
          0.30141543885639327,
          0.26524840010510786,
          0.29047428891836147,
          0.30518939072609264,
          0.2981090928652861,
          0.30702257129437854,
          0.281825649216967,
          0.28723001450405844,
          0.2849457804776615,
          0.2923074694866474,
          0.23057521730224517,
          0.3055204391357154,
          0.269150633233536,
          0.2923571267480907,
          0.21754846238358994,
          0.29936707682185254,
          0.2538106775526419,
          0.32828829350752,
          0.3122200313254558,
          0.21601736348908473,
          0.26288968018654585,
          0.2706900083382819,
          0.2574397957431313,
          0.28650584610800867,
          0.2368651370850774,
          0.2607833846803211,
          0.23516851398576077,
          0.2500284494727019,
          0.22523292359195804,
          0.3250026380420141,
          0.34007775499521015,
          0.29284542315228435,
          0.2911488000529677,
          0.3292648863159071,
          0.2729907947851599,
          0.2929902568314943,
          0.28017868337909385,
          0.2680002400100969,
          0.277604781994277,
          0.2580729258265348,
          0.28707276650948765,
          0.3063977174212157,
          0.28529751941288567,
          0.2633200431190553,
          0.2224521169511269,
          0.2502146642031147,
          0.2830836331735335,
          0.2859306494962892,
          0.3051893907260927,
          0.2821194546805073,
          0.2460310399265072,
          0.21984097262022748,
          0.274708108410078,
          0.23202769219946495,
          0.29172399666468724,
          0.30545422945379086,
          0.29555588200607064,
          0.3772586295009652,
          0.2907101609102176,
          0.2859596162321312,
          0.3303283793318201,
          0.3059301115426235,
          0.3140325213681403,
          0.3007823087729898,
          0.23889280859401674,
          0.2741329117983584,
          0.26411869740727023,
          0.2297269057525868,
          0.2649380422210865,
          0.24779387270774844,
          0.2487414987802935,
          0.2598481729231368,
          0.2571749570154331,
          0.23182492504857102,
          0.3140821786295837,
          0.2738018633887357,
          0.2339684635008783,
          0.24989189200373257,
          0.24565861046568166,
          0.2945503224618415,
          0.30188304473498545,
          0.2679505827486536,
          0.2394183479442928,
          0.33096978562546425,
          0.32575577317390597,
          0.23554921965682696,
          0.2916164059315599,
          0.28907147128258504,
          0.25334307167404974,
          0.35427559366290584,
          0.20862670774425682,
          0.25237889318102347,
          0.25725358101271845,
          0.28554994382522303,
          0.2998760637516475,
          0.28690724230467624,
          0.27076863233556725,
          0.23355879109397013,
          0.2557142059079727,
          0.3061659835344797,
          0.28365882978525303,
          0.29794356866047467,
          0.2820615212088233,
          0.20895775615387957,
          0.30751086769857217,
          0.314843589971716,
          0.33068839447728493,
          0.28991978283224334,
          0.21724638070980917,
          0.27706682832864005,
          0.231940791991939,
          0.25856949844096894,
          0.2524078599168655,
          0.2793593385652775,
          0.20666524591724206,
          0.2903791125005947,
          0.2814449435459009,
          0.27547779596245087,
          0.29194745434118263,
          0.31780647323783967,
          0.29260127495018756,
          0.24474408923409885,
          0.24051080769604788,
          0.2718404015617209,
          0.2558383490615812,
          0.2680871402176229,
          0.2852395859412017,
          0.2942978980495042,
          0.28332778137563036,
          0.3028306708075305,
          0.20332165698005228,
          0.2829098327584816,
          0.30565699660468476,
          0.2765412889783639,
          0.33260847525309684,
          0.2662043023878935,
          0.32302462379451824,
          0.23063315077392912,
          0.30773432537506745,
          0.25014431641606993,
          0.2626951892458924,
          0.2761605833072978,
          0.2545431221589322,
          0.2945420462516009,
          0.3273448055400951,
          0.2556355819106873,
          0.23825967851061325,
          0.2634855673238668,
          0.29730216236683055,
          0.2857278823453952,
          0.26195446842936154,
          0.24749179103396762,
          0.29227022654056484,
          0.28570719181979376,
          0.30285963754337253,
          0.2706817321280413,
          0.2566990749266004,
          0.38032910350021626,
          0.31976793506485446,
          0.2796821107646598,
          0.29977674922876063,
          0.19144529528483614,
          0.35958064442711046,
          0.30278101354608716,
          0.32611578831937066,
          0.2862534216956714,
          0.24204190659055314,
          0.2726307796396952,
          0.26992032078590894,
          0.3021851264087662,
          0.26723882866796467,
          0.30349276762677607,
          0.31791406397096705,
          0.22797234918158626,
          0.2704375839259444,
          0.3481718886104863,
          0.26176825369894874,
          0.2532561714665238,
          0.3423206079704043,
          0.2997105395468361,
          0.24332058107272098,
          0.2698127300527815,
          0.3142477028343951,
          0.25309892347195295,
          0.22370182469745278,
          0.2342995119105011,
          0.2937516681736266,
          0.30365829183158743,
          0.24701590894513492,
          0.24630415486444598,
          0.25749772921481523,
          0.3102502932882004,
          0.26228551683898427,
          0.25168369152081566,
          0.2719397160846077,
          0.27279630384450665,
          0.3138297542172464,
          0.26887751829559725,
          0.28556235814058384,
          0.3015726868509641,
          0.33692038078843317,
          0.2422570880568079,
          0.2987836039998924,
          0.3427220041670719,
          0.26009232112523356,
          0.26712296172459665,
          0.27134382894728676,
          0.2107330032504816,
          0.21478834626836024,
          0.2864768793721667,
          0.2906315369129322,
          0.26229379304922484,
          0.27553572943413485,
          0.3370362477318012,
          0.26600981144724023,
          0.26682088005081595,
          0.31237727932002657,
          0.2609116659390498,
          0.274025321065231,
          0.21892231328352435,
          0.36930105335465835,
          0.32897108085236687,
          0.23750654337872146,
          0.2653559908382353,
          0.2912853575219371,
          0.2906605036487742,
          0.3077053586392255,
          0.28036489810950666,
          0.2201802972400908,
          0.3415881633641139,
          0.30102645697508656,
          0.2796117629776149,
          0.2668291562610565,
          0.3073536197040013,
          0.31038685075716976,
          0.3150960143840534,
          0.3198755257979819,
          0.23946800520573625,
          0.29555588200607064,
          0.3009478329778012,
          0.2883017837302121,
          0.28048076505287467,
          0.26175997748870816,
          0.345138657557318,
          0.2578205014141975,
          0.30761845843169955,
          0.26572842029906085,
          0.32149352490001304,
          0.2784324030183339,
          0.3126007369965219,
          0.24026665949395115,
          0.2576135961581832,
          0.24543515278918632,
          0.2618468776962341,
          0.25013604020582936,
          0.24906427097967568,
          0.3480849884029604,
          0.23596716827397568,
          0.2750888140811441,
          0.34439793674078706,
          0.2852685526770437,
          0.3075977679060982,
          0.26966789637357164,
          0.27197695903069025,
          0.24762007229269647,
          0.23979905361535897,
          0.2921047023357534,
          0.28460645585779815,
          0.2671602046706793,
          0.24746282429812563,
          0.27199764955629163,
          0.3271668670199229,
          0.25706736628230575,
          0.3903640084169058,
          0.2226176411559383,
          0.26089097541344847,
          0.2615447960224534,
          0.25273890832648827,
          0.2717824680900369,
          0.24646967906925737,
          0.27424050253148585,
          0.2594591910418301,
          0.34452621799951577,
          0.279524862770089,
          0.3036293250957454,
          0.29041635544667743,
          0.2010208705331742,
          0.255937663584468,
          0.2456503342554411,
          0.276979928121114,
          0.2509760755452471,
          0.24836079310922737,
          0.24542687657894574,
          0.27440602673629716,
          0.25407551628034003,
          0.3222342457165439,
          0.26010059733547414,
          0.2600923211252335,
          0.33514513369183124,
          0.3422626744987203,
          0.2650456329542139,
          0.38272920446998115,
          0.23276841301599582,
          0.22465772698023848,
          0.31690022821649744,
          0.2868782755688343,
          0.3267571946130148,
          0.2854547674074564,
          0.28179668248112505,
          0.27249422217072583,
          0.27388876359626163,
          0.2769592375955126,
          0.28710173324532967,
          0.26709399498875475,
          0.2619917113754441,
          0.30017814542542826,
          0.3107758326384765,
          0.25590869684862605,
          0.3098902781427357,
          0.30584321133509756,
          0.2736156486583229,
          0.3110406713661747,
          0.24901461371823233,
          0.20839083575240064,
          0.24565033425544108,
          0.27593712563080236,
          0.2110226706089015,
          0.24173982491677234,
          0.29011427377289667,
          0.23455193632283844,
          0.2879872877410705,
          0.31402424515789973,
          0.2660884354445256,
          0.2797400442363437,
          0.2740046305396296,
          0.2796614202390583,
          0.22056927912139754,
          0.23317808542290402,
          0.2767068131831753,
          0.2700361877292769,
          0.26663466532040314,
          0.26360143426723465,
          0.2569514993389377,
          0.2455427435223137,
          0.2693451241741894,
          0.24137980977130766,
          0.27167487735690954,
          0.27331356698454207,
          0.2915874391957179,
          0.275233647760354,
          0.25473761309958554,
          0.290846718379187,
          0.29317647156190707,
          0.22696678963735717,
          0.33301814766000504,
          0.24557171025815566,
          0.27260181290385316,
          0.2123137594064302,
          0.33695762373451565,
          0.29348682944592847,
          0.23120007117540808,
          0.30311206195570983,
          0.30338517689364863,
          0.3170078189496248,
          0.26956030564044425,
          0.28769762038265057,
          0.25568523917213065,
          0.2892949289590803,
          0.26849681262453107,
          0.24754144829541105,
          0.24534825258166038,
          0.2642552548762395,
          0.25013604020582936,
          0.2659229112397143,
          0.2608909754134484,
          0.25596663032031003,
          0.3006374750937798,
          0.23825967851061325,
          0.28631135516735534,
          0.24133015250986417,
          0.29193917813094206,
          0.306505308154343,
          0.28638997916464076,
          0.2551679760320952,
          0.28994874956808525,
          0.27722407632321083,
          0.27805169734726776,
          0.28926596222323836,
          0.29150881519843247,
          0.23649270762425179,
          0.27153831988794014,
          0.2297765630140302,
          0.24100738031048205,
          0.27390945412186307,
          0.29217091201767803,
          0.3235501631447944,
          0.2365423648856952,
          0.3083881459840725,
          0.27722407632321083,
          0.2755853866955782,
          0.2613296145561986
         ],
         "xaxis": "x",
         "yaxis": "y"
        }
       ],
       "layout": {
        "annotations": [
         {
          "showarrow": false,
          "text": "obs",
          "x": 0.7583739729740354,
          "xanchor": "left",
          "xref": "x",
          "y": 1,
          "yanchor": "top",
          "yref": "y domain"
         }
        ],
        "barmode": "relative",
        "legend": {
         "title": {
          "text": "variable"
         },
         "tracegroupgap": 0
        },
        "margin": {
         "t": 60
        },
        "shapes": [
         {
          "line": {
           "color": "green"
          },
          "type": "line",
          "x0": 0.7583739729740354,
          "x1": 0.7583739729740354,
          "xref": "x",
          "y0": 0,
          "y1": 1,
          "yref": "y domain"
         }
        ],
        "showlegend": false,
        "template": {
         "data": {
          "bar": [
           {
            "error_x": {
             "color": "#2a3f5f"
            },
            "error_y": {
             "color": "#2a3f5f"
            },
            "marker": {
             "line": {
              "color": "#E5ECF6",
              "width": 0.5
             },
             "pattern": {
              "fillmode": "overlay",
              "size": 10,
              "solidity": 0.2
             }
            },
            "type": "bar"
           }
          ],
          "barpolar": [
           {
            "marker": {
             "line": {
              "color": "#E5ECF6",
              "width": 0.5
             },
             "pattern": {
              "fillmode": "overlay",
              "size": 10,
              "solidity": 0.2
             }
            },
            "type": "barpolar"
           }
          ],
          "carpet": [
           {
            "aaxis": {
             "endlinecolor": "#2a3f5f",
             "gridcolor": "white",
             "linecolor": "white",
             "minorgridcolor": "white",
             "startlinecolor": "#2a3f5f"
            },
            "baxis": {
             "endlinecolor": "#2a3f5f",
             "gridcolor": "white",
             "linecolor": "white",
             "minorgridcolor": "white",
             "startlinecolor": "#2a3f5f"
            },
            "type": "carpet"
           }
          ],
          "choropleth": [
           {
            "colorbar": {
             "outlinewidth": 0,
             "ticks": ""
            },
            "type": "choropleth"
           }
          ],
          "contour": [
           {
            "colorbar": {
             "outlinewidth": 0,
             "ticks": ""
            },
            "colorscale": [
             [
              0,
              "#0d0887"
             ],
             [
              0.1111111111111111,
              "#46039f"
             ],
             [
              0.2222222222222222,
              "#7201a8"
             ],
             [
              0.3333333333333333,
              "#9c179e"
             ],
             [
              0.4444444444444444,
              "#bd3786"
             ],
             [
              0.5555555555555556,
              "#d8576b"
             ],
             [
              0.6666666666666666,
              "#ed7953"
             ],
             [
              0.7777777777777778,
              "#fb9f3a"
             ],
             [
              0.8888888888888888,
              "#fdca26"
             ],
             [
              1,
              "#f0f921"
             ]
            ],
            "type": "contour"
           }
          ],
          "contourcarpet": [
           {
            "colorbar": {
             "outlinewidth": 0,
             "ticks": ""
            },
            "type": "contourcarpet"
           }
          ],
          "heatmap": [
           {
            "colorbar": {
             "outlinewidth": 0,
             "ticks": ""
            },
            "colorscale": [
             [
              0,
              "#0d0887"
             ],
             [
              0.1111111111111111,
              "#46039f"
             ],
             [
              0.2222222222222222,
              "#7201a8"
             ],
             [
              0.3333333333333333,
              "#9c179e"
             ],
             [
              0.4444444444444444,
              "#bd3786"
             ],
             [
              0.5555555555555556,
              "#d8576b"
             ],
             [
              0.6666666666666666,
              "#ed7953"
             ],
             [
              0.7777777777777778,
              "#fb9f3a"
             ],
             [
              0.8888888888888888,
              "#fdca26"
             ],
             [
              1,
              "#f0f921"
             ]
            ],
            "type": "heatmap"
           }
          ],
          "heatmapgl": [
           {
            "colorbar": {
             "outlinewidth": 0,
             "ticks": ""
            },
            "colorscale": [
             [
              0,
              "#0d0887"
             ],
             [
              0.1111111111111111,
              "#46039f"
             ],
             [
              0.2222222222222222,
              "#7201a8"
             ],
             [
              0.3333333333333333,
              "#9c179e"
             ],
             [
              0.4444444444444444,
              "#bd3786"
             ],
             [
              0.5555555555555556,
              "#d8576b"
             ],
             [
              0.6666666666666666,
              "#ed7953"
             ],
             [
              0.7777777777777778,
              "#fb9f3a"
             ],
             [
              0.8888888888888888,
              "#fdca26"
             ],
             [
              1,
              "#f0f921"
             ]
            ],
            "type": "heatmapgl"
           }
          ],
          "histogram": [
           {
            "marker": {
             "pattern": {
              "fillmode": "overlay",
              "size": 10,
              "solidity": 0.2
             }
            },
            "type": "histogram"
           }
          ],
          "histogram2d": [
           {
            "colorbar": {
             "outlinewidth": 0,
             "ticks": ""
            },
            "colorscale": [
             [
              0,
              "#0d0887"
             ],
             [
              0.1111111111111111,
              "#46039f"
             ],
             [
              0.2222222222222222,
              "#7201a8"
             ],
             [
              0.3333333333333333,
              "#9c179e"
             ],
             [
              0.4444444444444444,
              "#bd3786"
             ],
             [
              0.5555555555555556,
              "#d8576b"
             ],
             [
              0.6666666666666666,
              "#ed7953"
             ],
             [
              0.7777777777777778,
              "#fb9f3a"
             ],
             [
              0.8888888888888888,
              "#fdca26"
             ],
             [
              1,
              "#f0f921"
             ]
            ],
            "type": "histogram2d"
           }
          ],
          "histogram2dcontour": [
           {
            "colorbar": {
             "outlinewidth": 0,
             "ticks": ""
            },
            "colorscale": [
             [
              0,
              "#0d0887"
             ],
             [
              0.1111111111111111,
              "#46039f"
             ],
             [
              0.2222222222222222,
              "#7201a8"
             ],
             [
              0.3333333333333333,
              "#9c179e"
             ],
             [
              0.4444444444444444,
              "#bd3786"
             ],
             [
              0.5555555555555556,
              "#d8576b"
             ],
             [
              0.6666666666666666,
              "#ed7953"
             ],
             [
              0.7777777777777778,
              "#fb9f3a"
             ],
             [
              0.8888888888888888,
              "#fdca26"
             ],
             [
              1,
              "#f0f921"
             ]
            ],
            "type": "histogram2dcontour"
           }
          ],
          "mesh3d": [
           {
            "colorbar": {
             "outlinewidth": 0,
             "ticks": ""
            },
            "type": "mesh3d"
           }
          ],
          "parcoords": [
           {
            "line": {
             "colorbar": {
              "outlinewidth": 0,
              "ticks": ""
             }
            },
            "type": "parcoords"
           }
          ],
          "pie": [
           {
            "automargin": true,
            "type": "pie"
           }
          ],
          "scatter": [
           {
            "fillpattern": {
             "fillmode": "overlay",
             "size": 10,
             "solidity": 0.2
            },
            "type": "scatter"
           }
          ],
          "scatter3d": [
           {
            "line": {
             "colorbar": {
              "outlinewidth": 0,
              "ticks": ""
             }
            },
            "marker": {
             "colorbar": {
              "outlinewidth": 0,
              "ticks": ""
             }
            },
            "type": "scatter3d"
           }
          ],
          "scattercarpet": [
           {
            "marker": {
             "colorbar": {
              "outlinewidth": 0,
              "ticks": ""
             }
            },
            "type": "scattercarpet"
           }
          ],
          "scattergeo": [
           {
            "marker": {
             "colorbar": {
              "outlinewidth": 0,
              "ticks": ""
             }
            },
            "type": "scattergeo"
           }
          ],
          "scattergl": [
           {
            "marker": {
             "colorbar": {
              "outlinewidth": 0,
              "ticks": ""
             }
            },
            "type": "scattergl"
           }
          ],
          "scattermapbox": [
           {
            "marker": {
             "colorbar": {
              "outlinewidth": 0,
              "ticks": ""
             }
            },
            "type": "scattermapbox"
           }
          ],
          "scatterpolar": [
           {
            "marker": {
             "colorbar": {
              "outlinewidth": 0,
              "ticks": ""
             }
            },
            "type": "scatterpolar"
           }
          ],
          "scatterpolargl": [
           {
            "marker": {
             "colorbar": {
              "outlinewidth": 0,
              "ticks": ""
             }
            },
            "type": "scatterpolargl"
           }
          ],
          "scatterternary": [
           {
            "marker": {
             "colorbar": {
              "outlinewidth": 0,
              "ticks": ""
             }
            },
            "type": "scatterternary"
           }
          ],
          "surface": [
           {
            "colorbar": {
             "outlinewidth": 0,
             "ticks": ""
            },
            "colorscale": [
             [
              0,
              "#0d0887"
             ],
             [
              0.1111111111111111,
              "#46039f"
             ],
             [
              0.2222222222222222,
              "#7201a8"
             ],
             [
              0.3333333333333333,
              "#9c179e"
             ],
             [
              0.4444444444444444,
              "#bd3786"
             ],
             [
              0.5555555555555556,
              "#d8576b"
             ],
             [
              0.6666666666666666,
              "#ed7953"
             ],
             [
              0.7777777777777778,
              "#fb9f3a"
             ],
             [
              0.8888888888888888,
              "#fdca26"
             ],
             [
              1,
              "#f0f921"
             ]
            ],
            "type": "surface"
           }
          ],
          "table": [
           {
            "cells": {
             "fill": {
              "color": "#EBF0F8"
             },
             "line": {
              "color": "white"
             }
            },
            "header": {
             "fill": {
              "color": "#C8D4E3"
             },
             "line": {
              "color": "white"
             }
            },
            "type": "table"
           }
          ]
         },
         "layout": {
          "annotationdefaults": {
           "arrowcolor": "#2a3f5f",
           "arrowhead": 0,
           "arrowwidth": 1
          },
          "autotypenumbers": "strict",
          "coloraxis": {
           "colorbar": {
            "outlinewidth": 0,
            "ticks": ""
           }
          },
          "colorscale": {
           "diverging": [
            [
             0,
             "#8e0152"
            ],
            [
             0.1,
             "#c51b7d"
            ],
            [
             0.2,
             "#de77ae"
            ],
            [
             0.3,
             "#f1b6da"
            ],
            [
             0.4,
             "#fde0ef"
            ],
            [
             0.5,
             "#f7f7f7"
            ],
            [
             0.6,
             "#e6f5d0"
            ],
            [
             0.7,
             "#b8e186"
            ],
            [
             0.8,
             "#7fbc41"
            ],
            [
             0.9,
             "#4d9221"
            ],
            [
             1,
             "#276419"
            ]
           ],
           "sequential": [
            [
             0,
             "#0d0887"
            ],
            [
             0.1111111111111111,
             "#46039f"
            ],
            [
             0.2222222222222222,
             "#7201a8"
            ],
            [
             0.3333333333333333,
             "#9c179e"
            ],
            [
             0.4444444444444444,
             "#bd3786"
            ],
            [
             0.5555555555555556,
             "#d8576b"
            ],
            [
             0.6666666666666666,
             "#ed7953"
            ],
            [
             0.7777777777777778,
             "#fb9f3a"
            ],
            [
             0.8888888888888888,
             "#fdca26"
            ],
            [
             1,
             "#f0f921"
            ]
           ],
           "sequentialminus": [
            [
             0,
             "#0d0887"
            ],
            [
             0.1111111111111111,
             "#46039f"
            ],
            [
             0.2222222222222222,
             "#7201a8"
            ],
            [
             0.3333333333333333,
             "#9c179e"
            ],
            [
             0.4444444444444444,
             "#bd3786"
            ],
            [
             0.5555555555555556,
             "#d8576b"
            ],
            [
             0.6666666666666666,
             "#ed7953"
            ],
            [
             0.7777777777777778,
             "#fb9f3a"
            ],
            [
             0.8888888888888888,
             "#fdca26"
            ],
            [
             1,
             "#f0f921"
            ]
           ]
          },
          "colorway": [
           "#636efa",
           "#EF553B",
           "#00cc96",
           "#ab63fa",
           "#FFA15A",
           "#19d3f3",
           "#FF6692",
           "#B6E880",
           "#FF97FF",
           "#FECB52"
          ],
          "font": {
           "color": "#2a3f5f"
          },
          "geo": {
           "bgcolor": "white",
           "lakecolor": "white",
           "landcolor": "#E5ECF6",
           "showlakes": true,
           "showland": true,
           "subunitcolor": "white"
          },
          "hoverlabel": {
           "align": "left"
          },
          "hovermode": "closest",
          "mapbox": {
           "style": "light"
          },
          "paper_bgcolor": "white",
          "plot_bgcolor": "#E5ECF6",
          "polar": {
           "angularaxis": {
            "gridcolor": "white",
            "linecolor": "white",
            "ticks": ""
           },
           "bgcolor": "#E5ECF6",
           "radialaxis": {
            "gridcolor": "white",
            "linecolor": "white",
            "ticks": ""
           }
          },
          "scene": {
           "xaxis": {
            "backgroundcolor": "#E5ECF6",
            "gridcolor": "white",
            "gridwidth": 2,
            "linecolor": "white",
            "showbackground": true,
            "ticks": "",
            "zerolinecolor": "white"
           },
           "yaxis": {
            "backgroundcolor": "#E5ECF6",
            "gridcolor": "white",
            "gridwidth": 2,
            "linecolor": "white",
            "showbackground": true,
            "ticks": "",
            "zerolinecolor": "white"
           },
           "zaxis": {
            "backgroundcolor": "#E5ECF6",
            "gridcolor": "white",
            "gridwidth": 2,
            "linecolor": "white",
            "showbackground": true,
            "ticks": "",
            "zerolinecolor": "white"
           }
          },
          "shapedefaults": {
           "line": {
            "color": "#2a3f5f"
           }
          },
          "ternary": {
           "aaxis": {
            "gridcolor": "white",
            "linecolor": "white",
            "ticks": ""
           },
           "baxis": {
            "gridcolor": "white",
            "linecolor": "white",
            "ticks": ""
           },
           "bgcolor": "#E5ECF6",
           "caxis": {
            "gridcolor": "white",
            "linecolor": "white",
            "ticks": ""
           }
          },
          "title": {
           "x": 0.05
          },
          "xaxis": {
           "automargin": true,
           "gridcolor": "white",
           "linecolor": "white",
           "ticks": "",
           "title": {
            "standoff": 15
           },
           "zerolinecolor": "white",
           "zerolinewidth": 2
          },
          "yaxis": {
           "automargin": true,
           "gridcolor": "white",
           "linecolor": "white",
           "ticks": "",
           "title": {
            "standoff": 15
           },
           "zerolinecolor": "white",
           "zerolinewidth": 2
          }
         }
        },
        "title": {
         "text": "Simulated Null Values"
        },
        "xaxis": {
         "anchor": "y",
         "domain": [
          0,
          1
         ],
         "title": {
          "text": "TVD of Missing and Non-Missing Values"
         }
        },
        "yaxis": {
         "anchor": "x",
         "domain": [
          0,
          1
         ],
         "title": {
          "text": "Frequency"
         }
        }
       }
      }
     },
     "metadata": {},
     "output_type": "display_data"
    }
   ],
   "source": [
    "graph, p_value = mar_permutation(data, 'U.S._STATE', 'CUSTOMERS.AFFECTED')\n",
    "print(p_value)\n",
    "graph"
   ]
  },
  {
   "cell_type": "markdown",
   "metadata": {},
   "source": [
    "### Hypothesis Testing"
   ]
  },
  {
   "cell_type": "markdown",
   "metadata": {},
   "source": [
    "1. Out of Nerc Regions/ **States** , what are the most likely to have the worst outages, what are the causes."
   ]
  },
  {
   "cell_type": "code",
   "execution_count": null,
   "metadata": {},
   "outputs": [],
   "source": []
  },
  {
   "cell_type": "code",
   "execution_count": 29,
   "metadata": {},
   "outputs": [
    {
     "data": {
      "text/html": [
       "<div>\n",
       "<style scoped>\n",
       "    .dataframe tbody tr th:only-of-type {\n",
       "        vertical-align: middle;\n",
       "    }\n",
       "\n",
       "    .dataframe tbody tr th {\n",
       "        vertical-align: top;\n",
       "    }\n",
       "\n",
       "    .dataframe thead th {\n",
       "        text-align: right;\n",
       "    }\n",
       "</style>\n",
       "<table border=\"1\" class=\"dataframe\">\n",
       "  <thead>\n",
       "    <tr style=\"text-align: right;\">\n",
       "      <th></th>\n",
       "      <th>CUSTOMERS.AFFECTED</th>\n",
       "    </tr>\n",
       "    <tr>\n",
       "      <th>U.S._STATE</th>\n",
       "      <th></th>\n",
       "    </tr>\n",
       "  </thead>\n",
       "  <tbody>\n",
       "    <tr>\n",
       "      <th>Alabama</th>\n",
       "      <td>94328.800000</td>\n",
       "    </tr>\n",
       "    <tr>\n",
       "      <th>Alaska</th>\n",
       "      <td>14273.000000</td>\n",
       "    </tr>\n",
       "    <tr>\n",
       "      <th>Arizona</th>\n",
       "      <td>64402.666667</td>\n",
       "    </tr>\n",
       "    <tr>\n",
       "      <th>Arkansas</th>\n",
       "      <td>47673.846154</td>\n",
       "    </tr>\n",
       "    <tr>\n",
       "      <th>California</th>\n",
       "      <td>201365.716535</td>\n",
       "    </tr>\n",
       "    <tr>\n",
       "      <th>Colorado</th>\n",
       "      <td>41060.636364</td>\n",
       "    </tr>\n",
       "    <tr>\n",
       "      <th>Connecticut</th>\n",
       "      <td>60339.230769</td>\n",
       "    </tr>\n",
       "    <tr>\n",
       "      <th>Delaware</th>\n",
       "      <td>3475.000000</td>\n",
       "    </tr>\n",
       "    <tr>\n",
       "      <th>District of Columbia</th>\n",
       "      <td>194709.222222</td>\n",
       "    </tr>\n",
       "    <tr>\n",
       "      <th>Florida</th>\n",
       "      <td>289369.090909</td>\n",
       "    </tr>\n",
       "    <tr>\n",
       "      <th>Georgia</th>\n",
       "      <td>120680.187500</td>\n",
       "    </tr>\n",
       "    <tr>\n",
       "      <th>Hawaii</th>\n",
       "      <td>147237.200000</td>\n",
       "    </tr>\n",
       "    <tr>\n",
       "      <th>Idaho</th>\n",
       "      <td>5833.333333</td>\n",
       "    </tr>\n",
       "    <tr>\n",
       "      <th>Illinois</th>\n",
       "      <td>207027.159091</td>\n",
       "    </tr>\n",
       "    <tr>\n",
       "      <th>Indiana</th>\n",
       "      <td>69551.441176</td>\n",
       "    </tr>\n",
       "    <tr>\n",
       "      <th>Iowa</th>\n",
       "      <td>94000.000000</td>\n",
       "    </tr>\n",
       "    <tr>\n",
       "      <th>Kansas</th>\n",
       "      <td>108000.000000</td>\n",
       "    </tr>\n",
       "    <tr>\n",
       "      <th>Kentucky</th>\n",
       "      <td>130531.000000</td>\n",
       "    </tr>\n",
       "    <tr>\n",
       "      <th>Louisiana</th>\n",
       "      <td>151003.100000</td>\n",
       "    </tr>\n",
       "    <tr>\n",
       "      <th>Maine</th>\n",
       "      <td>54839.352941</td>\n",
       "    </tr>\n",
       "    <tr>\n",
       "      <th>Maryland</th>\n",
       "      <td>120534.866667</td>\n",
       "    </tr>\n",
       "    <tr>\n",
       "      <th>Massachusetts</th>\n",
       "      <td>77983.400000</td>\n",
       "    </tr>\n",
       "    <tr>\n",
       "      <th>Michigan</th>\n",
       "      <td>152878.244444</td>\n",
       "    </tr>\n",
       "    <tr>\n",
       "      <th>Minnesota</th>\n",
       "      <td>124006.571429</td>\n",
       "    </tr>\n",
       "    <tr>\n",
       "      <th>Mississippi</th>\n",
       "      <td>5000.000000</td>\n",
       "    </tr>\n",
       "    <tr>\n",
       "      <th>Missouri</th>\n",
       "      <td>50611.076923</td>\n",
       "    </tr>\n",
       "    <tr>\n",
       "      <th>Montana</th>\n",
       "      <td>NaN</td>\n",
       "    </tr>\n",
       "    <tr>\n",
       "      <th>Nebraska</th>\n",
       "      <td>87070.666667</td>\n",
       "    </tr>\n",
       "    <tr>\n",
       "      <th>Nevada</th>\n",
       "      <td>22220.000000</td>\n",
       "    </tr>\n",
       "    <tr>\n",
       "      <th>New Hampshire</th>\n",
       "      <td>13869.818182</td>\n",
       "    </tr>\n",
       "    <tr>\n",
       "      <th>New Jersey</th>\n",
       "      <td>160216.806452</td>\n",
       "    </tr>\n",
       "    <tr>\n",
       "      <th>New Mexico</th>\n",
       "      <td>166666.666667</td>\n",
       "    </tr>\n",
       "    <tr>\n",
       "      <th>New York</th>\n",
       "      <td>190675.866667</td>\n",
       "    </tr>\n",
       "    <tr>\n",
       "      <th>North Carolina</th>\n",
       "      <td>99624.833333</td>\n",
       "    </tr>\n",
       "    <tr>\n",
       "      <th>North Dakota</th>\n",
       "      <td>34500.000000</td>\n",
       "    </tr>\n",
       "    <tr>\n",
       "      <th>Ohio</th>\n",
       "      <td>136782.611111</td>\n",
       "    </tr>\n",
       "    <tr>\n",
       "      <th>Oklahoma</th>\n",
       "      <td>160683.210526</td>\n",
       "    </tr>\n",
       "    <tr>\n",
       "      <th>Oregon</th>\n",
       "      <td>43958.583333</td>\n",
       "    </tr>\n",
       "    <tr>\n",
       "      <th>Pennsylvania</th>\n",
       "      <td>168536.823529</td>\n",
       "    </tr>\n",
       "    <tr>\n",
       "      <th>South Carolina</th>\n",
       "      <td>251913.125000</td>\n",
       "    </tr>\n",
       "    <tr>\n",
       "      <th>South Dakota</th>\n",
       "      <td>NaN</td>\n",
       "    </tr>\n",
       "    <tr>\n",
       "      <th>Tennessee</th>\n",
       "      <td>59317.352941</td>\n",
       "    </tr>\n",
       "    <tr>\n",
       "      <th>Texas</th>\n",
       "      <td>223232.095745</td>\n",
       "    </tr>\n",
       "    <tr>\n",
       "      <th>Utah</th>\n",
       "      <td>10227.727273</td>\n",
       "    </tr>\n",
       "    <tr>\n",
       "      <th>Vermont</th>\n",
       "      <td>0.000000</td>\n",
       "    </tr>\n",
       "    <tr>\n",
       "      <th>Virginia</th>\n",
       "      <td>149429.058824</td>\n",
       "    </tr>\n",
       "    <tr>\n",
       "      <th>Washington</th>\n",
       "      <td>101944.022727</td>\n",
       "    </tr>\n",
       "    <tr>\n",
       "      <th>West Virginia</th>\n",
       "      <td>179794.333333</td>\n",
       "    </tr>\n",
       "    <tr>\n",
       "      <th>Wisconsin</th>\n",
       "      <td>45876.000000</td>\n",
       "    </tr>\n",
       "    <tr>\n",
       "      <th>Wyoming</th>\n",
       "      <td>11833.333333</td>\n",
       "    </tr>\n",
       "  </tbody>\n",
       "</table>\n",
       "</div>"
      ],
      "text/plain": [
       "                      CUSTOMERS.AFFECTED\n",
       "U.S._STATE                              \n",
       "Alabama                     94328.800000\n",
       "Alaska                      14273.000000\n",
       "Arizona                     64402.666667\n",
       "Arkansas                    47673.846154\n",
       "California                 201365.716535\n",
       "Colorado                    41060.636364\n",
       "Connecticut                 60339.230769\n",
       "Delaware                     3475.000000\n",
       "District of Columbia       194709.222222\n",
       "Florida                    289369.090909\n",
       "Georgia                    120680.187500\n",
       "Hawaii                     147237.200000\n",
       "Idaho                        5833.333333\n",
       "Illinois                   207027.159091\n",
       "Indiana                     69551.441176\n",
       "Iowa                        94000.000000\n",
       "Kansas                     108000.000000\n",
       "Kentucky                   130531.000000\n",
       "Louisiana                  151003.100000\n",
       "Maine                       54839.352941\n",
       "Maryland                   120534.866667\n",
       "Massachusetts               77983.400000\n",
       "Michigan                   152878.244444\n",
       "Minnesota                  124006.571429\n",
       "Mississippi                  5000.000000\n",
       "Missouri                    50611.076923\n",
       "Montana                              NaN\n",
       "Nebraska                    87070.666667\n",
       "Nevada                      22220.000000\n",
       "New Hampshire               13869.818182\n",
       "New Jersey                 160216.806452\n",
       "New Mexico                 166666.666667\n",
       "New York                   190675.866667\n",
       "North Carolina              99624.833333\n",
       "North Dakota                34500.000000\n",
       "Ohio                       136782.611111\n",
       "Oklahoma                   160683.210526\n",
       "Oregon                      43958.583333\n",
       "Pennsylvania               168536.823529\n",
       "South Carolina             251913.125000\n",
       "South Dakota                         NaN\n",
       "Tennessee                   59317.352941\n",
       "Texas                      223232.095745\n",
       "Utah                        10227.727273\n",
       "Vermont                         0.000000\n",
       "Virginia                   149429.058824\n",
       "Washington                 101944.022727\n",
       "West Virginia              179794.333333\n",
       "Wisconsin                   45876.000000\n",
       "Wyoming                     11833.333333"
      ]
     },
     "execution_count": 29,
     "metadata": {},
     "output_type": "execute_result"
    }
   ],
   "source": [
    "data[['U.S._STATE', 'CUSTOMERS.AFFECTED']].groupby('U.S._STATE').mean()"
   ]
  },
  {
   "cell_type": "code",
   "execution_count": null,
   "metadata": {},
   "outputs": [],
   "source": []
  },
  {
   "cell_type": "code",
   "execution_count": 30,
   "metadata": {},
   "outputs": [],
   "source": [
    "def calculate_outage_severity(data, state, var):\n",
    "\n",
    "    output = data.groupby(state).mean()\n",
    "    \n",
    "    return output.loc[True,var]"
   ]
  },
  {
   "cell_type": "code",
   "execution_count": 31,
   "metadata": {},
   "outputs": [],
   "source": [
    "def perm_test(data, state, var, n=1000):\n",
    "    data = data.copy()[[\"U.S._STATE\", var]]\n",
    "    data[state] = data[\"U.S._STATE\"] == state\n",
    "    obs = calculate_outage_severity(data, state, var)\n",
    "    test_stats = []\n",
    "    for _ in range(n):\n",
    "        value = np.random.permutation(data[var])\n",
    "        shuffled = data.assign(**{var : value })\n",
    "        trial = calculate_outage_severity(shuffled, state, var)\n",
    "        test_stats.append(trial)\n",
    "    \n",
    "    return  (np.array(test_stats) >= obs).mean()"
   ]
  },
  {
   "cell_type": "markdown",
   "metadata": {},
   "source": [
    "**This** represents texas has a difference. "
   ]
  },
  {
   "cell_type": "code",
   "execution_count": 32,
   "metadata": {},
   "outputs": [
    {
     "data": {
      "text/plain": [
       "0.409"
      ]
     },
     "execution_count": 32,
     "metadata": {},
     "output_type": "execute_result"
    }
   ],
   "source": [
    "stat = perm_test(data, \"Texas\", 'OUTAGE.DURATION')\n",
    "stat"
   ]
  },
  {
   "cell_type": "code",
   "execution_count": 33,
   "metadata": {},
   "outputs": [],
   "source": [
    "all_p_values_duration = {}\n",
    "all_p_values_customers = {}\n",
    "for i in data['U.S._STATE'].unique():\n",
    "    all_p_values_duration[i] = perm_test(data, i, \"OUTAGE.DURATION\")\n",
    "    all_p_values_customers[i] = perm_test(data, i , \"CUSTOMERS.AFFECTED\")"
   ]
  },
  {
   "cell_type": "markdown",
   "metadata": {},
   "source": [
    "create dataframe to look p_value and how many outages to find how likely an outage is gonna happen and how severe it is. "
   ]
  },
  {
   "cell_type": "code",
   "execution_count": 34,
   "metadata": {},
   "outputs": [],
   "source": [
    "initial = pd.DataFrame({'duration_p_value' : pd.Series(all_p_values_duration),\n",
    "              'customer_p_value' : pd.Series(all_p_values_customers)})\n",
    "resulting_df = data.groupby('U.S._STATE')[['YEAR']].count().merge(initial, left_index = True, right_index = True).rename(columns = {'YEAR': 'Count of Outages'})\n",
    "graph_df = resulting_df[(resulting_df['duration_p_value'] < 0.05) | (resulting_df['customer_p_value'] < 0.05 )].sort_values('customer_p_value')"
   ]
  },
  {
   "cell_type": "code",
   "execution_count": 35,
   "metadata": {},
   "outputs": [
    {
     "data": {
      "text/html": [
       "<div>\n",
       "<style scoped>\n",
       "    .dataframe tbody tr th:only-of-type {\n",
       "        vertical-align: middle;\n",
       "    }\n",
       "\n",
       "    .dataframe tbody tr th {\n",
       "        vertical-align: top;\n",
       "    }\n",
       "\n",
       "    .dataframe thead th {\n",
       "        text-align: right;\n",
       "    }\n",
       "</style>\n",
       "<table border=\"1\" class=\"dataframe\">\n",
       "  <thead>\n",
       "    <tr style=\"text-align: right;\">\n",
       "      <th></th>\n",
       "      <th>Count of Outages</th>\n",
       "      <th>duration_p_value</th>\n",
       "      <th>customer_p_value</th>\n",
       "    </tr>\n",
       "  </thead>\n",
       "  <tbody>\n",
       "    <tr>\n",
       "      <th>Montana</th>\n",
       "      <td>3</td>\n",
       "      <td>0.980</td>\n",
       "      <td>0.000</td>\n",
       "    </tr>\n",
       "    <tr>\n",
       "      <th>South Dakota</th>\n",
       "      <td>2</td>\n",
       "      <td>0.853</td>\n",
       "      <td>0.000</td>\n",
       "    </tr>\n",
       "    <tr>\n",
       "      <th>Texas</th>\n",
       "      <td>127</td>\n",
       "      <td>0.409</td>\n",
       "      <td>0.003</td>\n",
       "    </tr>\n",
       "    <tr>\n",
       "      <th>California</th>\n",
       "      <td>210</td>\n",
       "      <td>1.000</td>\n",
       "      <td>0.006</td>\n",
       "    </tr>\n",
       "    <tr>\n",
       "      <th>Florida</th>\n",
       "      <td>45</td>\n",
       "      <td>0.065</td>\n",
       "      <td>0.012</td>\n",
       "    </tr>\n",
       "    <tr>\n",
       "      <th>New York</th>\n",
       "      <td>71</td>\n",
       "      <td>0.001</td>\n",
       "      <td>0.119</td>\n",
       "    </tr>\n",
       "    <tr>\n",
       "      <th>Michigan</th>\n",
       "      <td>95</td>\n",
       "      <td>0.000</td>\n",
       "      <td>0.359</td>\n",
       "    </tr>\n",
       "    <tr>\n",
       "      <th>Alaska</th>\n",
       "      <td>1</td>\n",
       "      <td>0.000</td>\n",
       "      <td>0.529</td>\n",
       "    </tr>\n",
       "    <tr>\n",
       "      <th>Wisconsin</th>\n",
       "      <td>20</td>\n",
       "      <td>0.010</td>\n",
       "      <td>0.992</td>\n",
       "    </tr>\n",
       "  </tbody>\n",
       "</table>\n",
       "</div>"
      ],
      "text/plain": [
       "              Count of Outages  duration_p_value  customer_p_value\n",
       "Montana                      3             0.980             0.000\n",
       "South Dakota                 2             0.853             0.000\n",
       "Texas                      127             0.409             0.003\n",
       "California                 210             1.000             0.006\n",
       "Florida                     45             0.065             0.012\n",
       "New York                    71             0.001             0.119\n",
       "Michigan                    95             0.000             0.359\n",
       "Alaska                       1             0.000             0.529\n",
       "Wisconsin                   20             0.010             0.992"
      ]
     },
     "execution_count": 35,
     "metadata": {},
     "output_type": "execute_result"
    }
   ],
   "source": [
    "graph_df"
   ]
  },
  {
   "cell_type": "code",
   "execution_count": 36,
   "metadata": {},
   "outputs": [
    {
     "data": {
      "application/vnd.plotly.v1+json": {
       "config": {
        "plotlyServerURL": "https://plot.ly"
       },
       "data": [
        {
         "alignmentgroup": "True",
         "hovertemplate": "variable=duration_p_value<br>U.S._STATES=%{x}<br>value=%{y}<extra></extra>",
         "legendgroup": "duration_p_value",
         "marker": {
          "color": "#636efa",
          "pattern": {
           "shape": ""
          }
         },
         "name": "duration_p_value",
         "offsetgroup": "duration_p_value",
         "orientation": "v",
         "showlegend": true,
         "textposition": "auto",
         "type": "bar",
         "x": [
          "Montana",
          "South Dakota",
          "Texas",
          "California",
          "Florida",
          "New York",
          "Michigan",
          "Alaska",
          "Wisconsin"
         ],
         "xaxis": "x",
         "y": [
          0.98,
          0.853,
          0.409,
          1,
          0.065,
          0.001,
          0,
          0,
          0.01
         ],
         "yaxis": "y"
        },
        {
         "alignmentgroup": "True",
         "hovertemplate": "variable=customer_p_value<br>U.S._STATES=%{x}<br>value=%{y}<extra></extra>",
         "legendgroup": "customer_p_value",
         "marker": {
          "color": "#EF553B",
          "pattern": {
           "shape": ""
          }
         },
         "name": "customer_p_value",
         "offsetgroup": "customer_p_value",
         "orientation": "v",
         "showlegend": true,
         "textposition": "auto",
         "type": "bar",
         "x": [
          "Montana",
          "South Dakota",
          "Texas",
          "California",
          "Florida",
          "New York",
          "Michigan",
          "Alaska",
          "Wisconsin"
         ],
         "xaxis": "x",
         "y": [
          0,
          0,
          0.003,
          0.006,
          0.012,
          0.119,
          0.359,
          0.529,
          0.992
         ],
         "yaxis": "y"
        }
       ],
       "layout": {
        "barmode": "group",
        "legend": {
         "title": {
          "text": "variable"
         },
         "tracegroupgap": 0
        },
        "template": {
         "data": {
          "bar": [
           {
            "error_x": {
             "color": "#2a3f5f"
            },
            "error_y": {
             "color": "#2a3f5f"
            },
            "marker": {
             "line": {
              "color": "#E5ECF6",
              "width": 0.5
             },
             "pattern": {
              "fillmode": "overlay",
              "size": 10,
              "solidity": 0.2
             }
            },
            "type": "bar"
           }
          ],
          "barpolar": [
           {
            "marker": {
             "line": {
              "color": "#E5ECF6",
              "width": 0.5
             },
             "pattern": {
              "fillmode": "overlay",
              "size": 10,
              "solidity": 0.2
             }
            },
            "type": "barpolar"
           }
          ],
          "carpet": [
           {
            "aaxis": {
             "endlinecolor": "#2a3f5f",
             "gridcolor": "white",
             "linecolor": "white",
             "minorgridcolor": "white",
             "startlinecolor": "#2a3f5f"
            },
            "baxis": {
             "endlinecolor": "#2a3f5f",
             "gridcolor": "white",
             "linecolor": "white",
             "minorgridcolor": "white",
             "startlinecolor": "#2a3f5f"
            },
            "type": "carpet"
           }
          ],
          "choropleth": [
           {
            "colorbar": {
             "outlinewidth": 0,
             "ticks": ""
            },
            "type": "choropleth"
           }
          ],
          "contour": [
           {
            "colorbar": {
             "outlinewidth": 0,
             "ticks": ""
            },
            "colorscale": [
             [
              0,
              "#0d0887"
             ],
             [
              0.1111111111111111,
              "#46039f"
             ],
             [
              0.2222222222222222,
              "#7201a8"
             ],
             [
              0.3333333333333333,
              "#9c179e"
             ],
             [
              0.4444444444444444,
              "#bd3786"
             ],
             [
              0.5555555555555556,
              "#d8576b"
             ],
             [
              0.6666666666666666,
              "#ed7953"
             ],
             [
              0.7777777777777778,
              "#fb9f3a"
             ],
             [
              0.8888888888888888,
              "#fdca26"
             ],
             [
              1,
              "#f0f921"
             ]
            ],
            "type": "contour"
           }
          ],
          "contourcarpet": [
           {
            "colorbar": {
             "outlinewidth": 0,
             "ticks": ""
            },
            "type": "contourcarpet"
           }
          ],
          "heatmap": [
           {
            "colorbar": {
             "outlinewidth": 0,
             "ticks": ""
            },
            "colorscale": [
             [
              0,
              "#0d0887"
             ],
             [
              0.1111111111111111,
              "#46039f"
             ],
             [
              0.2222222222222222,
              "#7201a8"
             ],
             [
              0.3333333333333333,
              "#9c179e"
             ],
             [
              0.4444444444444444,
              "#bd3786"
             ],
             [
              0.5555555555555556,
              "#d8576b"
             ],
             [
              0.6666666666666666,
              "#ed7953"
             ],
             [
              0.7777777777777778,
              "#fb9f3a"
             ],
             [
              0.8888888888888888,
              "#fdca26"
             ],
             [
              1,
              "#f0f921"
             ]
            ],
            "type": "heatmap"
           }
          ],
          "heatmapgl": [
           {
            "colorbar": {
             "outlinewidth": 0,
             "ticks": ""
            },
            "colorscale": [
             [
              0,
              "#0d0887"
             ],
             [
              0.1111111111111111,
              "#46039f"
             ],
             [
              0.2222222222222222,
              "#7201a8"
             ],
             [
              0.3333333333333333,
              "#9c179e"
             ],
             [
              0.4444444444444444,
              "#bd3786"
             ],
             [
              0.5555555555555556,
              "#d8576b"
             ],
             [
              0.6666666666666666,
              "#ed7953"
             ],
             [
              0.7777777777777778,
              "#fb9f3a"
             ],
             [
              0.8888888888888888,
              "#fdca26"
             ],
             [
              1,
              "#f0f921"
             ]
            ],
            "type": "heatmapgl"
           }
          ],
          "histogram": [
           {
            "marker": {
             "pattern": {
              "fillmode": "overlay",
              "size": 10,
              "solidity": 0.2
             }
            },
            "type": "histogram"
           }
          ],
          "histogram2d": [
           {
            "colorbar": {
             "outlinewidth": 0,
             "ticks": ""
            },
            "colorscale": [
             [
              0,
              "#0d0887"
             ],
             [
              0.1111111111111111,
              "#46039f"
             ],
             [
              0.2222222222222222,
              "#7201a8"
             ],
             [
              0.3333333333333333,
              "#9c179e"
             ],
             [
              0.4444444444444444,
              "#bd3786"
             ],
             [
              0.5555555555555556,
              "#d8576b"
             ],
             [
              0.6666666666666666,
              "#ed7953"
             ],
             [
              0.7777777777777778,
              "#fb9f3a"
             ],
             [
              0.8888888888888888,
              "#fdca26"
             ],
             [
              1,
              "#f0f921"
             ]
            ],
            "type": "histogram2d"
           }
          ],
          "histogram2dcontour": [
           {
            "colorbar": {
             "outlinewidth": 0,
             "ticks": ""
            },
            "colorscale": [
             [
              0,
              "#0d0887"
             ],
             [
              0.1111111111111111,
              "#46039f"
             ],
             [
              0.2222222222222222,
              "#7201a8"
             ],
             [
              0.3333333333333333,
              "#9c179e"
             ],
             [
              0.4444444444444444,
              "#bd3786"
             ],
             [
              0.5555555555555556,
              "#d8576b"
             ],
             [
              0.6666666666666666,
              "#ed7953"
             ],
             [
              0.7777777777777778,
              "#fb9f3a"
             ],
             [
              0.8888888888888888,
              "#fdca26"
             ],
             [
              1,
              "#f0f921"
             ]
            ],
            "type": "histogram2dcontour"
           }
          ],
          "mesh3d": [
           {
            "colorbar": {
             "outlinewidth": 0,
             "ticks": ""
            },
            "type": "mesh3d"
           }
          ],
          "parcoords": [
           {
            "line": {
             "colorbar": {
              "outlinewidth": 0,
              "ticks": ""
             }
            },
            "type": "parcoords"
           }
          ],
          "pie": [
           {
            "automargin": true,
            "type": "pie"
           }
          ],
          "scatter": [
           {
            "fillpattern": {
             "fillmode": "overlay",
             "size": 10,
             "solidity": 0.2
            },
            "type": "scatter"
           }
          ],
          "scatter3d": [
           {
            "line": {
             "colorbar": {
              "outlinewidth": 0,
              "ticks": ""
             }
            },
            "marker": {
             "colorbar": {
              "outlinewidth": 0,
              "ticks": ""
             }
            },
            "type": "scatter3d"
           }
          ],
          "scattercarpet": [
           {
            "marker": {
             "colorbar": {
              "outlinewidth": 0,
              "ticks": ""
             }
            },
            "type": "scattercarpet"
           }
          ],
          "scattergeo": [
           {
            "marker": {
             "colorbar": {
              "outlinewidth": 0,
              "ticks": ""
             }
            },
            "type": "scattergeo"
           }
          ],
          "scattergl": [
           {
            "marker": {
             "colorbar": {
              "outlinewidth": 0,
              "ticks": ""
             }
            },
            "type": "scattergl"
           }
          ],
          "scattermapbox": [
           {
            "marker": {
             "colorbar": {
              "outlinewidth": 0,
              "ticks": ""
             }
            },
            "type": "scattermapbox"
           }
          ],
          "scatterpolar": [
           {
            "marker": {
             "colorbar": {
              "outlinewidth": 0,
              "ticks": ""
             }
            },
            "type": "scatterpolar"
           }
          ],
          "scatterpolargl": [
           {
            "marker": {
             "colorbar": {
              "outlinewidth": 0,
              "ticks": ""
             }
            },
            "type": "scatterpolargl"
           }
          ],
          "scatterternary": [
           {
            "marker": {
             "colorbar": {
              "outlinewidth": 0,
              "ticks": ""
             }
            },
            "type": "scatterternary"
           }
          ],
          "surface": [
           {
            "colorbar": {
             "outlinewidth": 0,
             "ticks": ""
            },
            "colorscale": [
             [
              0,
              "#0d0887"
             ],
             [
              0.1111111111111111,
              "#46039f"
             ],
             [
              0.2222222222222222,
              "#7201a8"
             ],
             [
              0.3333333333333333,
              "#9c179e"
             ],
             [
              0.4444444444444444,
              "#bd3786"
             ],
             [
              0.5555555555555556,
              "#d8576b"
             ],
             [
              0.6666666666666666,
              "#ed7953"
             ],
             [
              0.7777777777777778,
              "#fb9f3a"
             ],
             [
              0.8888888888888888,
              "#fdca26"
             ],
             [
              1,
              "#f0f921"
             ]
            ],
            "type": "surface"
           }
          ],
          "table": [
           {
            "cells": {
             "fill": {
              "color": "#EBF0F8"
             },
             "line": {
              "color": "white"
             }
            },
            "header": {
             "fill": {
              "color": "#C8D4E3"
             },
             "line": {
              "color": "white"
             }
            },
            "type": "table"
           }
          ]
         },
         "layout": {
          "annotationdefaults": {
           "arrowcolor": "#2a3f5f",
           "arrowhead": 0,
           "arrowwidth": 1
          },
          "autotypenumbers": "strict",
          "coloraxis": {
           "colorbar": {
            "outlinewidth": 0,
            "ticks": ""
           }
          },
          "colorscale": {
           "diverging": [
            [
             0,
             "#8e0152"
            ],
            [
             0.1,
             "#c51b7d"
            ],
            [
             0.2,
             "#de77ae"
            ],
            [
             0.3,
             "#f1b6da"
            ],
            [
             0.4,
             "#fde0ef"
            ],
            [
             0.5,
             "#f7f7f7"
            ],
            [
             0.6,
             "#e6f5d0"
            ],
            [
             0.7,
             "#b8e186"
            ],
            [
             0.8,
             "#7fbc41"
            ],
            [
             0.9,
             "#4d9221"
            ],
            [
             1,
             "#276419"
            ]
           ],
           "sequential": [
            [
             0,
             "#0d0887"
            ],
            [
             0.1111111111111111,
             "#46039f"
            ],
            [
             0.2222222222222222,
             "#7201a8"
            ],
            [
             0.3333333333333333,
             "#9c179e"
            ],
            [
             0.4444444444444444,
             "#bd3786"
            ],
            [
             0.5555555555555556,
             "#d8576b"
            ],
            [
             0.6666666666666666,
             "#ed7953"
            ],
            [
             0.7777777777777778,
             "#fb9f3a"
            ],
            [
             0.8888888888888888,
             "#fdca26"
            ],
            [
             1,
             "#f0f921"
            ]
           ],
           "sequentialminus": [
            [
             0,
             "#0d0887"
            ],
            [
             0.1111111111111111,
             "#46039f"
            ],
            [
             0.2222222222222222,
             "#7201a8"
            ],
            [
             0.3333333333333333,
             "#9c179e"
            ],
            [
             0.4444444444444444,
             "#bd3786"
            ],
            [
             0.5555555555555556,
             "#d8576b"
            ],
            [
             0.6666666666666666,
             "#ed7953"
            ],
            [
             0.7777777777777778,
             "#fb9f3a"
            ],
            [
             0.8888888888888888,
             "#fdca26"
            ],
            [
             1,
             "#f0f921"
            ]
           ]
          },
          "colorway": [
           "#636efa",
           "#EF553B",
           "#00cc96",
           "#ab63fa",
           "#FFA15A",
           "#19d3f3",
           "#FF6692",
           "#B6E880",
           "#FF97FF",
           "#FECB52"
          ],
          "font": {
           "color": "#2a3f5f"
          },
          "geo": {
           "bgcolor": "white",
           "lakecolor": "white",
           "landcolor": "#E5ECF6",
           "showlakes": true,
           "showland": true,
           "subunitcolor": "white"
          },
          "hoverlabel": {
           "align": "left"
          },
          "hovermode": "closest",
          "mapbox": {
           "style": "light"
          },
          "paper_bgcolor": "white",
          "plot_bgcolor": "#E5ECF6",
          "polar": {
           "angularaxis": {
            "gridcolor": "white",
            "linecolor": "white",
            "ticks": ""
           },
           "bgcolor": "#E5ECF6",
           "radialaxis": {
            "gridcolor": "white",
            "linecolor": "white",
            "ticks": ""
           }
          },
          "scene": {
           "xaxis": {
            "backgroundcolor": "#E5ECF6",
            "gridcolor": "white",
            "gridwidth": 2,
            "linecolor": "white",
            "showbackground": true,
            "ticks": "",
            "zerolinecolor": "white"
           },
           "yaxis": {
            "backgroundcolor": "#E5ECF6",
            "gridcolor": "white",
            "gridwidth": 2,
            "linecolor": "white",
            "showbackground": true,
            "ticks": "",
            "zerolinecolor": "white"
           },
           "zaxis": {
            "backgroundcolor": "#E5ECF6",
            "gridcolor": "white",
            "gridwidth": 2,
            "linecolor": "white",
            "showbackground": true,
            "ticks": "",
            "zerolinecolor": "white"
           }
          },
          "shapedefaults": {
           "line": {
            "color": "#2a3f5f"
           }
          },
          "ternary": {
           "aaxis": {
            "gridcolor": "white",
            "linecolor": "white",
            "ticks": ""
           },
           "baxis": {
            "gridcolor": "white",
            "linecolor": "white",
            "ticks": ""
           },
           "bgcolor": "#E5ECF6",
           "caxis": {
            "gridcolor": "white",
            "linecolor": "white",
            "ticks": ""
           }
          },
          "title": {
           "x": 0.05
          },
          "xaxis": {
           "automargin": true,
           "gridcolor": "white",
           "linecolor": "white",
           "ticks": "",
           "title": {
            "standoff": 15
           },
           "zerolinecolor": "white",
           "zerolinewidth": 2
          },
          "yaxis": {
           "automargin": true,
           "gridcolor": "white",
           "linecolor": "white",
           "ticks": "",
           "title": {
            "standoff": 15
           },
           "zerolinecolor": "white",
           "zerolinewidth": 2
          }
         }
        },
        "title": {
         "text": "Grouped Bar Chart of Duration P-Value and Customer P-Value by U.S. States with a P-Value less than 0.05"
        },
        "xaxis": {
         "anchor": "y",
         "domain": [
          0,
          1
         ],
         "tickangle": -45,
         "title": {
          "text": "U.S._STATES"
         }
        },
        "yaxis": {
         "anchor": "x",
         "domain": [
          0,
          1
         ],
         "title": {
          "text": "value"
         }
        }
       }
      }
     },
     "metadata": {},
     "output_type": "display_data"
    }
   ],
   "source": [
    "fig = px.bar(graph_df.reset_index().rename(columns = {'index': 'U.S._STATES'}), x='U.S._STATES', y=['duration_p_value', 'customer_p_value'], title='Grouped Bar Chart of Duration P-Value and Customer P-Value by U.S. States with a P-Value less than 0.05')\n",
    "fig.update_layout(barmode='group', xaxis_tickangle=-45)\n",
    "fig"
   ]
  },
  {
   "cell_type": "code",
   "execution_count": 37,
   "metadata": {},
   "outputs": [],
   "source": [
    "fig.write_html('../p_value_bar.html', include_plotlyjs='cdn')"
   ]
  },
  {
   "cell_type": "code",
   "execution_count": 38,
   "metadata": {},
   "outputs": [],
   "source": [
    "compare_df = pd.DataFrame(all_p_values_duration, index = np.arange(0,50)).melt().groupby('variable').max().sort_values('value')"
   ]
  },
  {
   "cell_type": "code",
   "execution_count": 39,
   "metadata": {},
   "outputs": [
    {
     "data": {
      "text/html": [
       "<div>\n",
       "<style scoped>\n",
       "    .dataframe tbody tr th:only-of-type {\n",
       "        vertical-align: middle;\n",
       "    }\n",
       "\n",
       "    .dataframe tbody tr th {\n",
       "        vertical-align: top;\n",
       "    }\n",
       "\n",
       "    .dataframe thead th {\n",
       "        text-align: right;\n",
       "    }\n",
       "</style>\n",
       "<table border=\"1\" class=\"dataframe\">\n",
       "  <thead>\n",
       "    <tr style=\"text-align: right;\">\n",
       "      <th></th>\n",
       "      <th>value</th>\n",
       "    </tr>\n",
       "    <tr>\n",
       "      <th>variable</th>\n",
       "      <th></th>\n",
       "    </tr>\n",
       "  </thead>\n",
       "  <tbody>\n",
       "    <tr>\n",
       "      <th>Alaska</th>\n",
       "      <td>0.000</td>\n",
       "    </tr>\n",
       "    <tr>\n",
       "      <th>Michigan</th>\n",
       "      <td>0.000</td>\n",
       "    </tr>\n",
       "    <tr>\n",
       "      <th>New York</th>\n",
       "      <td>0.001</td>\n",
       "    </tr>\n",
       "    <tr>\n",
       "      <th>Wisconsin</th>\n",
       "      <td>0.010</td>\n",
       "    </tr>\n",
       "    <tr>\n",
       "      <th>New Jersey</th>\n",
       "      <td>0.050</td>\n",
       "    </tr>\n",
       "    <tr>\n",
       "      <th>West Virginia</th>\n",
       "      <td>0.059</td>\n",
       "    </tr>\n",
       "    <tr>\n",
       "      <th>Arizona</th>\n",
       "      <td>0.062</td>\n",
       "    </tr>\n",
       "    <tr>\n",
       "      <th>Florida</th>\n",
       "      <td>0.065</td>\n",
       "    </tr>\n",
       "    <tr>\n",
       "      <th>Louisiana</th>\n",
       "      <td>0.071</td>\n",
       "    </tr>\n",
       "    <tr>\n",
       "      <th>Kentucky</th>\n",
       "      <td>0.074</td>\n",
       "    </tr>\n",
       "    <tr>\n",
       "      <th>Pennsylvania</th>\n",
       "      <td>0.096</td>\n",
       "    </tr>\n",
       "    <tr>\n",
       "      <th>Iowa</th>\n",
       "      <td>0.105</td>\n",
       "    </tr>\n",
       "    <tr>\n",
       "      <th>Kansas</th>\n",
       "      <td>0.113</td>\n",
       "    </tr>\n",
       "    <tr>\n",
       "      <th>District of Columbia</th>\n",
       "      <td>0.129</td>\n",
       "    </tr>\n",
       "    <tr>\n",
       "      <th>Indiana</th>\n",
       "      <td>0.135</td>\n",
       "    </tr>\n",
       "    <tr>\n",
       "      <th>Missouri</th>\n",
       "      <td>0.196</td>\n",
       "    </tr>\n",
       "    <tr>\n",
       "      <th>South Carolina</th>\n",
       "      <td>0.261</td>\n",
       "    </tr>\n",
       "    <tr>\n",
       "      <th>Oklahoma</th>\n",
       "      <td>0.267</td>\n",
       "    </tr>\n",
       "    <tr>\n",
       "      <th>Ohio</th>\n",
       "      <td>0.294</td>\n",
       "    </tr>\n",
       "    <tr>\n",
       "      <th>Nebraska</th>\n",
       "      <td>0.375</td>\n",
       "    </tr>\n",
       "    <tr>\n",
       "      <th>Minnesota</th>\n",
       "      <td>0.383</td>\n",
       "    </tr>\n",
       "    <tr>\n",
       "      <th>Texas</th>\n",
       "      <td>0.409</td>\n",
       "    </tr>\n",
       "    <tr>\n",
       "      <th>Maryland</th>\n",
       "      <td>0.617</td>\n",
       "    </tr>\n",
       "    <tr>\n",
       "      <th>North Dakota</th>\n",
       "      <td>0.636</td>\n",
       "    </tr>\n",
       "    <tr>\n",
       "      <th>Alabama</th>\n",
       "      <td>0.754</td>\n",
       "    </tr>\n",
       "    <tr>\n",
       "      <th>Hawaii</th>\n",
       "      <td>0.809</td>\n",
       "    </tr>\n",
       "    <tr>\n",
       "      <th>South Dakota</th>\n",
       "      <td>0.853</td>\n",
       "    </tr>\n",
       "    <tr>\n",
       "      <th>Arkansas</th>\n",
       "      <td>0.868</td>\n",
       "    </tr>\n",
       "    <tr>\n",
       "      <th>Georgia</th>\n",
       "      <td>0.869</td>\n",
       "    </tr>\n",
       "    <tr>\n",
       "      <th>Connecticut</th>\n",
       "      <td>0.877</td>\n",
       "    </tr>\n",
       "    <tr>\n",
       "      <th>Maine</th>\n",
       "      <td>0.935</td>\n",
       "    </tr>\n",
       "    <tr>\n",
       "      <th>Illinois</th>\n",
       "      <td>0.941</td>\n",
       "    </tr>\n",
       "    <tr>\n",
       "      <th>Nevada</th>\n",
       "      <td>0.943</td>\n",
       "    </tr>\n",
       "    <tr>\n",
       "      <th>North Carolina</th>\n",
       "      <td>0.952</td>\n",
       "    </tr>\n",
       "    <tr>\n",
       "      <th>Massachusetts</th>\n",
       "      <td>0.967</td>\n",
       "    </tr>\n",
       "    <tr>\n",
       "      <th>Colorado</th>\n",
       "      <td>0.967</td>\n",
       "    </tr>\n",
       "    <tr>\n",
       "      <th>Mississippi</th>\n",
       "      <td>0.979</td>\n",
       "    </tr>\n",
       "    <tr>\n",
       "      <th>Montana</th>\n",
       "      <td>0.980</td>\n",
       "    </tr>\n",
       "    <tr>\n",
       "      <th>Idaho</th>\n",
       "      <td>0.985</td>\n",
       "    </tr>\n",
       "    <tr>\n",
       "      <th>Tennessee</th>\n",
       "      <td>0.987</td>\n",
       "    </tr>\n",
       "    <tr>\n",
       "      <th>Virginia</th>\n",
       "      <td>0.989</td>\n",
       "    </tr>\n",
       "    <tr>\n",
       "      <th>Oregon</th>\n",
       "      <td>0.997</td>\n",
       "    </tr>\n",
       "    <tr>\n",
       "      <th>Washington</th>\n",
       "      <td>0.997</td>\n",
       "    </tr>\n",
       "    <tr>\n",
       "      <th>New Mexico</th>\n",
       "      <td>0.997</td>\n",
       "    </tr>\n",
       "    <tr>\n",
       "      <th>New Hampshire</th>\n",
       "      <td>0.999</td>\n",
       "    </tr>\n",
       "    <tr>\n",
       "      <th>Delaware</th>\n",
       "      <td>1.000</td>\n",
       "    </tr>\n",
       "    <tr>\n",
       "      <th>Utah</th>\n",
       "      <td>1.000</td>\n",
       "    </tr>\n",
       "    <tr>\n",
       "      <th>Vermont</th>\n",
       "      <td>1.000</td>\n",
       "    </tr>\n",
       "    <tr>\n",
       "      <th>California</th>\n",
       "      <td>1.000</td>\n",
       "    </tr>\n",
       "    <tr>\n",
       "      <th>Wyoming</th>\n",
       "      <td>1.000</td>\n",
       "    </tr>\n",
       "  </tbody>\n",
       "</table>\n",
       "</div>"
      ],
      "text/plain": [
       "                      value\n",
       "variable                   \n",
       "Alaska                0.000\n",
       "Michigan              0.000\n",
       "New York              0.001\n",
       "Wisconsin             0.010\n",
       "New Jersey            0.050\n",
       "West Virginia         0.059\n",
       "Arizona               0.062\n",
       "Florida               0.065\n",
       "Louisiana             0.071\n",
       "Kentucky              0.074\n",
       "Pennsylvania          0.096\n",
       "Iowa                  0.105\n",
       "Kansas                0.113\n",
       "District of Columbia  0.129\n",
       "Indiana               0.135\n",
       "Missouri              0.196\n",
       "South Carolina        0.261\n",
       "Oklahoma              0.267\n",
       "Ohio                  0.294\n",
       "Nebraska              0.375\n",
       "Minnesota             0.383\n",
       "Texas                 0.409\n",
       "Maryland              0.617\n",
       "North Dakota          0.636\n",
       "Alabama               0.754\n",
       "Hawaii                0.809\n",
       "South Dakota          0.853\n",
       "Arkansas              0.868\n",
       "Georgia               0.869\n",
       "Connecticut           0.877\n",
       "Maine                 0.935\n",
       "Illinois              0.941\n",
       "Nevada                0.943\n",
       "North Carolina        0.952\n",
       "Massachusetts         0.967\n",
       "Colorado              0.967\n",
       "Mississippi           0.979\n",
       "Montana               0.980\n",
       "Idaho                 0.985\n",
       "Tennessee             0.987\n",
       "Virginia              0.989\n",
       "Oregon                0.997\n",
       "Washington            0.997\n",
       "New Mexico            0.997\n",
       "New Hampshire         0.999\n",
       "Delaware              1.000\n",
       "Utah                  1.000\n",
       "Vermont               1.000\n",
       "California            1.000\n",
       "Wyoming               1.000"
      ]
     },
     "execution_count": 39,
     "metadata": {},
     "output_type": "execute_result"
    }
   ],
   "source": [
    "compare_df#.merge(pd.DataFrame(all_p_values_customers, index = np.arange(0,50)).melt().groupby('variable').max().sort_values('value'))"
   ]
  },
  {
   "cell_type": "code",
   "execution_count": null,
   "metadata": {},
   "outputs": [],
   "source": [
    "compare_df = compare_df.merge(data.groupby('U.S._STATE')['YEAR'].count().sort_values(ascending= False),left_index = True, right_index = True)"
   ]
  },
  {
   "cell_type": "code",
   "execution_count": null,
   "metadata": {},
   "outputs": [],
   "source": [
    "customer_df =pd.DataFrame(all_p_values_customers, index = np.arange(0,50)).T[[0]].rename(columns = {0: 'customer_p_value'})"
   ]
  },
  {
   "cell_type": "code",
   "execution_count": null,
   "metadata": {},
   "outputs": [],
   "source": [
    "customer_df"
   ]
  },
  {
   "cell_type": "code",
   "execution_count": null,
   "metadata": {},
   "outputs": [],
   "source": [
    "customer_duration_df = compare_df.merge(customer_df, left_index= True, right_index= True)"
   ]
  },
  {
   "cell_type": "code",
   "execution_count": null,
   "metadata": {},
   "outputs": [],
   "source": [
    "avg_dur = data['OUTAGE.DURATION'].mean()\n",
    "avg_cus = data['CUSTOMERS.AFFECTED'].mean()\n",
    "\n",
    "\n",
    "dir_duration = data.groupby(\"U.S._STATE\")['OUTAGE.DURATION'].agg(lambda ser: ser.mean() - avg_dur)\n",
    "dir_customer = data.groupby(\"U.S._STATE\")['CUSTOMERS.AFFECTED'].agg(lambda ser: ser.mean() - avg_cus)"
   ]
  },
  {
   "cell_type": "code",
   "execution_count": null,
   "metadata": {},
   "outputs": [],
   "source": [
    "amount_outages = customer_duration_df.rename(columns = {\"YEAR\": 'amount_outage'}).sort_values(by=\"value\", ascending=True)\n",
    "item = amount_outages#[amount_outages[\"amount_outage\"] > 10]\n",
    "\n",
    "item[\"dir_duration\"] = dir_duration\n",
    "item['dir_customer'] = dir_customer\n",
    "item = item.reset_index().rename(columns = {\"index\" : 'U.S._STATE'}).fillna(0).sort_values(by = 'customer_p_value')"
   ]
  },
  {
   "cell_type": "code",
   "execution_count": null,
   "metadata": {},
   "outputs": [],
   "source": [
    "resulting_df = item.set_index('U.S._STATE')[['value','customer_p_value']].rename(columns= {'value':'duration_p_value'}).sort_index()"
   ]
  },
  {
   "cell_type": "code",
   "execution_count": null,
   "metadata": {},
   "outputs": [],
   "source": [
    "graph_df = resulting_df[(resulting_df['duration_p_value'] < 0.05) | (resulting_df['customer_p_value'] < 0.05 )].sort_values('customer_p_value')"
   ]
  },
  {
   "cell_type": "code",
   "execution_count": null,
   "metadata": {},
   "outputs": [],
   "source": [
    "graph_df"
   ]
  },
  {
   "cell_type": "code",
   "execution_count": null,
   "metadata": {},
   "outputs": [],
   "source": [
    "fig = px.bar(graph_df.reset_index(), x='U.S._STATE', y=['duration_p_value', 'customer_p_value'], title='Grouped Bar Chart of Duration P-Value and Customer P-Value by U.S. States with a P-Value less than 0.05')\n",
    "fig.update_layout(barmode='group', xaxis_tickangle=-45)\n",
    "fig"
   ]
  },
  {
   "cell_type": "code",
   "execution_count": null,
   "metadata": {},
   "outputs": [],
   "source": [
    "# fig = px.bar(item, x='U.S._STATE', y=['value', 'customer_p_value'], title='Grouped Bar Chart of Value and Amount_Outage by U.S. States')\n",
    "# fig.update_layout(barmode='group', xaxis_tickangle=-45)\n",
    "# fig.show()"
   ]
  },
  {
   "cell_type": "code",
   "execution_count": null,
   "metadata": {},
   "outputs": [],
   "source": [
    "demand_loss_mean = data.groupby('U.S._STATE')['DEMAND.LOSS.MW'].mean().fillna(0)\n",
    "item = item.merge(demand_loss_mean, left_on= 'U.S._STATE', right_index = True)"
   ]
  },
  {
   "cell_type": "code",
   "execution_count": null,
   "metadata": {},
   "outputs": [],
   "source": []
  },
  {
   "cell_type": "code",
   "execution_count": null,
   "metadata": {},
   "outputs": [],
   "source": [
    "fig = px.bar(item, x='U.S._STATE', y=['value', 'customer_p_value'], title='Grouped Bar Chart of Value and Amount_Outage by U.S. States')\n",
    "fig.update_layout(barmode='group', xaxis_tickangle=-45)\n",
    "fig.show()"
   ]
  },
  {
   "cell_type": "code",
   "execution_count": null,
   "metadata": {},
   "outputs": [],
   "source": [
    "item"
   ]
  },
  {
   "cell_type": "code",
   "execution_count": null,
   "metadata": {},
   "outputs": [],
   "source": [
    "# # Example weights for components\n",
    "# weight_outage_duration = 0.4\n",
    "# weight_amount_duration = 0.3\n",
    "# weight_customer_pvalue = 0.3\n",
    "\n",
    "\n",
    "\n",
    "\n",
    "# # Calculate the weighted mean composite score\n",
    "# item['Composite_Score'] =  (item['DEMAND.LOSS.MW'] * amount_outages)\n",
    "# item"
   ]
  },
  {
   "cell_type": "code",
   "execution_count": null,
   "metadata": {},
   "outputs": [],
   "source": [
    "item#.sort_values(by = 'Composite_Score').plot(kind = 'bar', x= 'U.S._STATE', y = \"Composite_Score\")"
   ]
  },
  {
   "cell_type": "code",
   "execution_count": null,
   "metadata": {},
   "outputs": [],
   "source": [
    "df_both = item[(item['value'] < 0.05) | (item['customer_p_value'] < 0.05 )]\n",
    "df_both"
   ]
  },
  {
   "cell_type": "code",
   "execution_count": null,
   "metadata": {},
   "outputs": [],
   "source": [
    "fig = px.bar(df_both, x='U.S._STATE', y=['value', 'customer_p_value'], title='Grouped Bar Chart of Value and Amount_Outage by U.S. States')\n",
    "fig.update_layout(barmode='group', xaxis_tickangle=-45)\n",
    "fig"
   ]
  },
  {
   "cell_type": "code",
   "execution_count": null,
   "metadata": {},
   "outputs": [],
   "source": [
    "fig.write_html('../p_value_bar.html', include_plotlyjs='cdn')"
   ]
  },
  {
   "cell_type": "code",
   "execution_count": null,
   "metadata": {},
   "outputs": [],
   "source": []
  }
 ],
 "metadata": {
  "kernelspec": {
   "display_name": "Python 3 (ipykernel)",
   "language": "python",
   "name": "python3"
  },
  "language_info": {
   "codemirror_mode": {
    "name": "ipython",
    "version": 3
   },
   "file_extension": ".py",
   "mimetype": "text/x-python",
   "name": "python",
   "nbconvert_exporter": "python",
   "pygments_lexer": "ipython3",
   "version": "3.8.18"
  }
 },
 "nbformat": 4,
 "nbformat_minor": 2
}
